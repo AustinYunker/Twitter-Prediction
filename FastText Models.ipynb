{
 "cells": [
  {
   "cell_type": "markdown",
   "id": "c9f8c8ba",
   "metadata": {},
   "source": [
    "# Setup and Imports"
   ]
  },
  {
   "cell_type": "code",
   "execution_count": 13,
   "id": "c165b9c5",
   "metadata": {},
   "outputs": [],
   "source": [
    "import pandas as pd\n",
    "import numpy as np\n",
    "from matplotlib import pyplot as plt\n",
    "%matplotlib inline\n",
    "import seaborn as sns\n",
    "import re\n",
    "sns.set\n",
    "import spacy\n",
    "import nltk\n",
    "from nltk.corpus import brown\n",
    "from nltk.corpus import wordnet\n",
    "from collections import Counter\n",
    "import Tweet_Normalizer as tn\n",
    "from bs4 import BeautifulSoup\n",
    "import requests\n",
    "import spacy\n",
    "import scipy\n",
    "import gensim\n",
    "from sklearn.model_selection import train_test_split\n",
    "from nltk.tokenize.toktok import ToktokTokenizer\n",
    "from sklearn.linear_model import LogisticRegression\n",
    "from sklearn.model_selection import cross_val_score\n",
    "from sklearn.model_selection import cross_val_predict\n",
    "from sklearn.svm import LinearSVC\n",
    "from sklearn.ensemble import RandomForestClassifier\n",
    "from sklearn.naive_bayes import GaussianNB\n",
    "import xgboost\n",
    "from sklearn.metrics import accuracy_score\n",
    "from sklearn.metrics import confusion_matrix\n",
    "from sklearn.metrics import f1_score\n",
    "import csv\n",
    "import math\n",
    "from scipy.stats import uniform\n",
    "from scipy.stats import reciprocal\n",
    "from sklearn.model_selection import RandomizedSearchCV\n",
    "from sklearn.model_selection import ParameterSampler\n",
    "import tensorflow as tf\n",
    "from tensorflow import keras\n",
    "import pickle\n",
    "from gensim.models.fasttext import FastText\n",
    "import prepare_embeddings as pe"
   ]
  },
  {
   "cell_type": "markdown",
   "id": "408b36b9",
   "metadata": {},
   "source": [
    "# Load the Data"
   ]
  },
  {
   "cell_type": "code",
   "execution_count": 2,
   "id": "1932ad6f",
   "metadata": {},
   "outputs": [],
   "source": [
    "tweets = pd.read_csv(\"data/train.csv\")"
   ]
  },
  {
   "cell_type": "markdown",
   "id": "4dfeab1d",
   "metadata": {},
   "source": [
    "# Clean the Data"
   ]
  },
  {
   "cell_type": "code",
   "execution_count": 3,
   "id": "38fb411b",
   "metadata": {},
   "outputs": [
    {
     "name": "stdout",
     "output_type": "stream",
     "text": [
      "Running tweet scrubber...\n",
      "\n",
      "Dropping unnecessary columns\n",
      "Successfully dropped columns!\n",
      "\n",
      "Normalizing the tweets\n",
      "Successfully normalized tweets!\n",
      "\n",
      "Removing invalid and mispelled words\n",
      "Successfully removed invalid and mispelled words!\n",
      "\n",
      "Successfully scrubbed tweets!\n",
      "\n",
      "Wall time: 2min 15s\n"
     ]
    }
   ],
   "source": [
    "%%time\n",
    "#USe tweet scrubber function to clean the data\n",
    "tweets = tn.tweet_scrubber(tweets, verbose = True)"
   ]
  },
  {
   "cell_type": "code",
   "execution_count": 4,
   "id": "a6b25afb",
   "metadata": {},
   "outputs": [],
   "source": [
    "#Check for blank rows after cleaning. We expect 5\n",
    "tweets = tweets.replace(r'^(\\s)+$', np.nan, regex = True)\n",
    "#Drop the empty rows\n",
    "tweets.dropna(subset=[\"Clean Tweets\"], inplace = True)\n",
    "#Reset the index in place\n",
    "tweets.reset_index(drop = True, inplace = True)"
   ]
  },
  {
   "cell_type": "code",
   "execution_count": 5,
   "id": "6a4e386b",
   "metadata": {},
   "outputs": [
    {
     "data": {
      "text/html": [
       "<div>\n",
       "<style scoped>\n",
       "    .dataframe tbody tr th:only-of-type {\n",
       "        vertical-align: middle;\n",
       "    }\n",
       "\n",
       "    .dataframe tbody tr th {\n",
       "        vertical-align: top;\n",
       "    }\n",
       "\n",
       "    .dataframe thead th {\n",
       "        text-align: right;\n",
       "    }\n",
       "</style>\n",
       "<table border=\"1\" class=\"dataframe\">\n",
       "  <thead>\n",
       "    <tr style=\"text-align: right;\">\n",
       "      <th></th>\n",
       "      <th>text</th>\n",
       "      <th>target</th>\n",
       "      <th>Clean Tweets</th>\n",
       "    </tr>\n",
       "  </thead>\n",
       "  <tbody>\n",
       "    <tr>\n",
       "      <th>7593</th>\n",
       "      <td>Father-of-three Lost Control of Car After Overtaking and Collided #BathAndNorthEastSomerset http://t.co/fa3FcnlN86</td>\n",
       "      <td>1</td>\n",
       "      <td>father three lose control car overtake collide</td>\n",
       "    </tr>\n",
       "    <tr>\n",
       "      <th>7594</th>\n",
       "      <td>1.3 #Earthquake in 9Km Ssw Of Anza California #iPhone users download the Earthquake app for more information http://t.co/V3aZWOAmzK</td>\n",
       "      <td>1</td>\n",
       "      <td>earthquake km ssw  california  user download earthquake  information</td>\n",
       "    </tr>\n",
       "    <tr>\n",
       "      <th>7595</th>\n",
       "      <td>Evacuation order lifted for town of Roosevelt: http://t.co/EDyfo6E2PU http://t.co/M5KxLPKFA1</td>\n",
       "      <td>1</td>\n",
       "      <td>evacuation order lift town roosevelt</td>\n",
       "    </tr>\n",
       "    <tr>\n",
       "      <th>7596</th>\n",
       "      <td>#breaking #LA Refugio oil spill may have been costlier bigger than projected http://t.co/5ueCmcv2Pk</td>\n",
       "      <td>1</td>\n",
       "      <td>break la  oil spill may costlier big project</td>\n",
       "    </tr>\n",
       "    <tr>\n",
       "      <th>7597</th>\n",
       "      <td>a siren just went off and it wasn't the Forney tornado warning ??</td>\n",
       "      <td>1</td>\n",
       "      <td>siren go not  tornado warning</td>\n",
       "    </tr>\n",
       "    <tr>\n",
       "      <th>7598</th>\n",
       "      <td>Officials say a quarantine is in place at an Alabama home over a possible Ebola case after developing symptoms... http://t.co/rqKK15uhEY</td>\n",
       "      <td>1</td>\n",
       "      <td>official say quarantine place alabama home possible ebola case develop symptom</td>\n",
       "    </tr>\n",
       "    <tr>\n",
       "      <th>7599</th>\n",
       "      <td>#WorldNews Fallen powerlines on G:link tram: UPDATE: FIRE crews have evacuated up to 30 passengers who were tr... http://t.co/EYSVvzA7Qm</td>\n",
       "      <td>1</td>\n",
       "      <td>fall  g link tram update fire crew evacuate passenger</td>\n",
       "    </tr>\n",
       "    <tr>\n",
       "      <th>7600</th>\n",
       "      <td>on the flip side I'm at Walmart and there is a bomb and everyone had to evacuate so stay tuned if I blow up or not</td>\n",
       "      <td>1</td>\n",
       "      <td>flip side I  bomb  evacuate stay tune I blow not</td>\n",
       "    </tr>\n",
       "    <tr>\n",
       "      <th>7601</th>\n",
       "      <td>Suicide bomber kills 15 in Saudi security site mosque - Reuters via World - Google News - Wall ... http://t.co/nF4IculOje</td>\n",
       "      <td>1</td>\n",
       "      <td>suicide bomber kill saudi security site mosque   world google news wall</td>\n",
       "    </tr>\n",
       "    <tr>\n",
       "      <th>7602</th>\n",
       "      <td>#stormchase Violent Record Breaking EF-5 El Reno Oklahoma Tornado Nearly Runs Over ... - http://t.co/3SICroAaNz http://t.co/I27Oa0HISp</td>\n",
       "      <td>1</td>\n",
       "      <td>violent record break  el reno oklahoma tornado nearly run</td>\n",
       "    </tr>\n",
       "    <tr>\n",
       "      <th>7603</th>\n",
       "      <td>Two giant cranes holding a bridge collapse into nearby homes http://t.co/STfMbbZFB5</td>\n",
       "      <td>1</td>\n",
       "      <td>two giant crane hold bridge collapse nearby home</td>\n",
       "    </tr>\n",
       "    <tr>\n",
       "      <th>7604</th>\n",
       "      <td>@aria_ahrary @TheTawniest The out of control wild fires in California even in the Northern part of the state. Very troubling.</td>\n",
       "      <td>1</td>\n",
       "      <td>control wild fire california even northern part state troubling</td>\n",
       "    </tr>\n",
       "    <tr>\n",
       "      <th>7605</th>\n",
       "      <td>M1.94 [01:04 UTC]?5km S of Volcano Hawaii. http://t.co/zDtoyd8EbJ</td>\n",
       "      <td>1</td>\n",
       "      <td>[ utc ] km volcano hawaii</td>\n",
       "    </tr>\n",
       "    <tr>\n",
       "      <th>7606</th>\n",
       "      <td>Police investigating after an e-bike collided with a car in Little Portugal. E-bike rider suffered serious non-life threatening injuries.</td>\n",
       "      <td>1</td>\n",
       "      <td>police investigate e bike collide car little portugal e bike rider suffer serious non life threaten injury</td>\n",
       "    </tr>\n",
       "    <tr>\n",
       "      <th>7607</th>\n",
       "      <td>The Latest: More Homes Razed by Northern California Wildfire - ABC News http://t.co/YmY4rSkQ3d</td>\n",
       "      <td>1</td>\n",
       "      <td>late home raze northern california wildfire abc news</td>\n",
       "    </tr>\n",
       "  </tbody>\n",
       "</table>\n",
       "</div>"
      ],
      "text/plain": [
       "                                                                                                                                           text  \\\n",
       "7593  Father-of-three Lost Control of Car After Overtaking and Collided #BathAndNorthEastSomerset http://t.co/fa3FcnlN86                          \n",
       "7594  1.3 #Earthquake in 9Km Ssw Of Anza California #iPhone users download the Earthquake app for more information http://t.co/V3aZWOAmzK         \n",
       "7595  Evacuation order lifted for town of Roosevelt: http://t.co/EDyfo6E2PU http://t.co/M5KxLPKFA1                                                \n",
       "7596  #breaking #LA Refugio oil spill may have been costlier bigger than projected http://t.co/5ueCmcv2Pk                                         \n",
       "7597  a siren just went off and it wasn't the Forney tornado warning ??                                                                           \n",
       "7598  Officials say a quarantine is in place at an Alabama home over a possible Ebola case after developing symptoms... http://t.co/rqKK15uhEY    \n",
       "7599  #WorldNews Fallen powerlines on G:link tram: UPDATE: FIRE crews have evacuated up to 30 passengers who were tr... http://t.co/EYSVvzA7Qm    \n",
       "7600  on the flip side I'm at Walmart and there is a bomb and everyone had to evacuate so stay tuned if I blow up or not                          \n",
       "7601  Suicide bomber kills 15 in Saudi security site mosque - Reuters via World - Google News - Wall ... http://t.co/nF4IculOje                   \n",
       "7602  #stormchase Violent Record Breaking EF-5 El Reno Oklahoma Tornado Nearly Runs Over ... - http://t.co/3SICroAaNz http://t.co/I27Oa0HISp      \n",
       "7603  Two giant cranes holding a bridge collapse into nearby homes http://t.co/STfMbbZFB5                                                         \n",
       "7604  @aria_ahrary @TheTawniest The out of control wild fires in California even in the Northern part of the state. Very troubling.               \n",
       "7605  M1.94 [01:04 UTC]?5km S of Volcano Hawaii. http://t.co/zDtoyd8EbJ                                                                           \n",
       "7606  Police investigating after an e-bike collided with a car in Little Portugal. E-bike rider suffered serious non-life threatening injuries.   \n",
       "7607  The Latest: More Homes Razed by Northern California Wildfire - ABC News http://t.co/YmY4rSkQ3d                                              \n",
       "\n",
       "      target  \\\n",
       "7593  1        \n",
       "7594  1        \n",
       "7595  1        \n",
       "7596  1        \n",
       "7597  1        \n",
       "7598  1        \n",
       "7599  1        \n",
       "7600  1        \n",
       "7601  1        \n",
       "7602  1        \n",
       "7603  1        \n",
       "7604  1        \n",
       "7605  1        \n",
       "7606  1        \n",
       "7607  1        \n",
       "\n",
       "                                                                                                    Clean Tweets  \n",
       "7593  father three lose control car overtake collide                                                              \n",
       "7594  earthquake km ssw  california  user download earthquake  information                                        \n",
       "7595  evacuation order lift town roosevelt                                                                        \n",
       "7596  break la  oil spill may costlier big project                                                                \n",
       "7597  siren go not  tornado warning                                                                               \n",
       "7598  official say quarantine place alabama home possible ebola case develop symptom                              \n",
       "7599   fall  g link tram update fire crew evacuate passenger                                                      \n",
       "7600  flip side I  bomb  evacuate stay tune I blow not                                                            \n",
       "7601  suicide bomber kill saudi security site mosque   world google news wall                                     \n",
       "7602   violent record break  el reno oklahoma tornado nearly run                                                  \n",
       "7603  two giant crane hold bridge collapse nearby home                                                            \n",
       "7604    control wild fire california even northern part state troubling                                           \n",
       "7605  [ utc ] km volcano hawaii                                                                                   \n",
       "7606  police investigate e bike collide car little portugal e bike rider suffer serious non life threaten injury  \n",
       "7607  late home raze northern california wildfire abc news                                                        "
      ]
     },
     "execution_count": 5,
     "metadata": {},
     "output_type": "execute_result"
    }
   ],
   "source": [
    "#Take a look at the last few rows of the data\n",
    "pd.set_option('display.max_colwidth', 2)\n",
    "tweets.tail(n=15)"
   ]
  },
  {
   "cell_type": "markdown",
   "id": "873afa0f",
   "metadata": {},
   "source": [
    "# Split the Data intro Training and Validation Sets"
   ]
  },
  {
   "cell_type": "code",
   "execution_count": 10,
   "id": "ae119f97",
   "metadata": {},
   "outputs": [],
   "source": [
    "train_corpus, val_corpus, y_train, y_val = train_test_split(tweets[\"Clean Tweets\"], np.array(tweets[\"target\"]), \n",
    "                                                  test_size=.15, random_state=42, stratify=np.array(tweets[\"target\"]))"
   ]
  },
  {
   "cell_type": "markdown",
   "id": "9b6e45b2",
   "metadata": {},
   "source": [
    "# Prepare Dense Word Embeddings"
   ]
  },
  {
   "cell_type": "code",
   "execution_count": 11,
   "id": "552b5146",
   "metadata": {},
   "outputs": [],
   "source": [
    "#Tokenize the training and validation set\n",
    "tokenizer = ToktokTokenizer()\n",
    "tokenized_train = [tokenizer.tokenize(text) for text in train_corpus]\n",
    "tokenized_val = [tokenizer.tokenize(text) for text in val_corpus]"
   ]
  },
  {
   "cell_type": "code",
   "execution_count": 15,
   "id": "a63ba928",
   "metadata": {},
   "outputs": [
    {
     "name": "stdout",
     "output_type": "stream",
     "text": [
      "Wall time: 1min 24s\n"
     ]
    }
   ],
   "source": [
    "%%time\n",
    "#Number of Features\n",
    "ft_num_features = 300\n",
    "\n",
    "\n",
    "ft_model = FastText(tokenized_train, vector_size = ft_num_features, window = 250, min_count = 0, \n",
    "                    sample=1e-3, sg=1, epochs=100, workers=10)\n",
    "\n",
    "\n",
    "#Create the training and validation set\n",
    "X_train = pe.document_vectorizer(corpus=tokenized_train, model=ft_model, num_features=ft_num_features)\n",
    "\n",
    "X_val = pe.document_vectorizer(corpus=tokenized_val, model=ft_model, num_features=ft_num_features)"
   ]
  },
  {
   "cell_type": "code",
   "execution_count": 16,
   "id": "eaaf35bf",
   "metadata": {},
   "outputs": [
    {
     "name": "stdout",
     "output_type": "stream",
     "text": [
      "(6466, 300)\n",
      "(1142, 300)\n",
      "(6466,)\n",
      "(1142,)\n"
     ]
    }
   ],
   "source": [
    "#Check the shapes\n",
    "print(X_train.shape)\n",
    "print(X_val.shape)\n",
    "print(y_train.shape)\n",
    "print(y_val.shape)"
   ]
  },
  {
   "cell_type": "markdown",
   "id": "a68111c6",
   "metadata": {},
   "source": [
    "# Baseline Scores"
   ]
  },
  {
   "cell_type": "markdown",
   "id": "c0df3ecc",
   "metadata": {},
   "source": [
    "### Logistic Regression"
   ]
  },
  {
   "cell_type": "code",
   "execution_count": 17,
   "id": "bcfb3028",
   "metadata": {},
   "outputs": [],
   "source": [
    "lr_clf = LogisticRegression(max_iter=10000)"
   ]
  },
  {
   "cell_type": "code",
   "execution_count": 18,
   "id": "a07554af",
   "metadata": {},
   "outputs": [
    {
     "name": "stdout",
     "output_type": "stream",
     "text": [
      "Logistic Regression Baseline Accuracy: 78.13\n",
      "Logistic Regression Baseline F1-Score: 73.34\n",
      "Wall time: 2.28 s\n"
     ]
    }
   ],
   "source": [
    "%%time\n",
    "y_train_pred = cross_val_predict(lr_clf, X_train, y_train, cv = 5)\n",
    "lr_base_acc = accuracy_score(y_train, y_train_pred) * 100\n",
    "lr_base_f1 = f1_score(y_train, y_train_pred) * 100\n",
    "print(f\"Logistic Regression Baseline Accuracy: {lr_base_acc:.2f}\")\n",
    "print(f\"Logistic Regression Baseline F1-Score: {lr_base_f1:.2f}\")"
   ]
  },
  {
   "cell_type": "code",
   "execution_count": 19,
   "id": "39859b49",
   "metadata": {},
   "outputs": [
    {
     "data": {
      "text/plain": [
       "array([[3107,  579],\n",
       "       [ 835, 1945]], dtype=int64)"
      ]
     },
     "execution_count": 19,
     "metadata": {},
     "output_type": "execute_result"
    }
   ],
   "source": [
    "confusion_matrix(y_train, y_train_pred)"
   ]
  },
  {
   "cell_type": "markdown",
   "id": "739520af",
   "metadata": {},
   "source": [
    "### Naive Bayes"
   ]
  },
  {
   "cell_type": "code",
   "execution_count": 20,
   "id": "7b1462de",
   "metadata": {},
   "outputs": [],
   "source": [
    "nb_clf = GaussianNB()"
   ]
  },
  {
   "cell_type": "code",
   "execution_count": 21,
   "id": "3be18d6b",
   "metadata": {},
   "outputs": [
    {
     "name": "stdout",
     "output_type": "stream",
     "text": [
      "Naive Bayes Baseline Accuracy: 76.46\n",
      "Naive Bayes Baseline F1-Score: 72.31\n",
      "Wall time: 287 ms\n"
     ]
    }
   ],
   "source": [
    "%%time\n",
    "y_train_pred = cross_val_predict(nb_clf, X_train, y_train, cv = 5)\n",
    "nb_base_acc = accuracy_score(y_train, y_train_pred) * 100\n",
    "nb_base_f1 = f1_score(y_train, y_train_pred) * 100\n",
    "print(f\"Naive Bayes Baseline Accuracy: {nb_base_acc:.2f}\")\n",
    "print(f\"Naive Bayes Baseline F1-Score: {nb_base_f1:.2f}\")"
   ]
  },
  {
   "cell_type": "code",
   "execution_count": 22,
   "id": "91e3b633",
   "metadata": {},
   "outputs": [
    {
     "data": {
      "text/plain": [
       "array([[2957,  729],\n",
       "       [ 793, 1987]], dtype=int64)"
      ]
     },
     "execution_count": 22,
     "metadata": {},
     "output_type": "execute_result"
    }
   ],
   "source": [
    "confusion_matrix(y_train, y_train_pred)"
   ]
  },
  {
   "cell_type": "markdown",
   "id": "603dfff5",
   "metadata": {},
   "source": [
    "### Random Forest"
   ]
  },
  {
   "cell_type": "code",
   "execution_count": 23,
   "id": "a44b1c35",
   "metadata": {},
   "outputs": [],
   "source": [
    "rf_clf = RandomForestClassifier()"
   ]
  },
  {
   "cell_type": "code",
   "execution_count": 24,
   "id": "1e748478",
   "metadata": {},
   "outputs": [
    {
     "name": "stdout",
     "output_type": "stream",
     "text": [
      "Random Forest Baseline Accuracy: 77.84\n",
      "Random Forest Baseline F1-Score: 71.04\n",
      "Wall time: 39.6 s\n"
     ]
    }
   ],
   "source": [
    "%%time\n",
    "y_train_pred = cross_val_predict(rf_clf, X_train, y_train, cv = 5)\n",
    "rf_base_acc = accuracy_score(y_train, y_train_pred) * 100\n",
    "rf_base_f1 = f1_score(y_train, y_train_pred) * 100\n",
    "print(f\"Random Forest Baseline Accuracy: {rf_base_acc:.2f}\")\n",
    "print(f\"Random Forest Baseline F1-Score: {rf_base_f1:.2f}\")"
   ]
  },
  {
   "cell_type": "code",
   "execution_count": 25,
   "id": "8fd9b1f3",
   "metadata": {},
   "outputs": [
    {
     "data": {
      "text/plain": [
       "array([[3275,  411],\n",
       "       [1022, 1758]], dtype=int64)"
      ]
     },
     "execution_count": 25,
     "metadata": {},
     "output_type": "execute_result"
    }
   ],
   "source": [
    "confusion_matrix(y_train, y_train_pred)"
   ]
  },
  {
   "cell_type": "markdown",
   "id": "84f433be",
   "metadata": {},
   "source": [
    "### XGBoost"
   ]
  },
  {
   "cell_type": "code",
   "execution_count": 26,
   "id": "7a73d109",
   "metadata": {},
   "outputs": [],
   "source": [
    "xgb_clf = xgboost.XGBClassifier(use_label_encoder=False, objective = \"binary:logistic\")"
   ]
  },
  {
   "cell_type": "code",
   "execution_count": 27,
   "id": "7ee05f69",
   "metadata": {},
   "outputs": [
    {
     "name": "stdout",
     "output_type": "stream",
     "text": [
      "[15:40:37] WARNING: C:/Users/Administrator/workspace/xgboost-win64_release_1.5.1/src/learner.cc:1115: Starting in XGBoost 1.3.0, the default evaluation metric used with the objective 'binary:logistic' was changed from 'error' to 'logloss'. Explicitly set eval_metric if you'd like to restore the old behavior.\n",
      "[15:40:46] WARNING: C:/Users/Administrator/workspace/xgboost-win64_release_1.5.1/src/learner.cc:1115: Starting in XGBoost 1.3.0, the default evaluation metric used with the objective 'binary:logistic' was changed from 'error' to 'logloss'. Explicitly set eval_metric if you'd like to restore the old behavior.\n",
      "[15:40:57] WARNING: C:/Users/Administrator/workspace/xgboost-win64_release_1.5.1/src/learner.cc:1115: Starting in XGBoost 1.3.0, the default evaluation metric used with the objective 'binary:logistic' was changed from 'error' to 'logloss'. Explicitly set eval_metric if you'd like to restore the old behavior.\n",
      "[15:41:08] WARNING: C:/Users/Administrator/workspace/xgboost-win64_release_1.5.1/src/learner.cc:1115: Starting in XGBoost 1.3.0, the default evaluation metric used with the objective 'binary:logistic' was changed from 'error' to 'logloss'. Explicitly set eval_metric if you'd like to restore the old behavior.\n",
      "[15:41:20] WARNING: C:/Users/Administrator/workspace/xgboost-win64_release_1.5.1/src/learner.cc:1115: Starting in XGBoost 1.3.0, the default evaluation metric used with the objective 'binary:logistic' was changed from 'error' to 'logloss'. Explicitly set eval_metric if you'd like to restore the old behavior.\n",
      "\n",
      "XGBoost Baseline Accuracy: 78.27\n",
      "XGBoost Baseline F1-Score: 73.21\n",
      "Wall time: 55.6 s\n"
     ]
    }
   ],
   "source": [
    "%%time\n",
    "y_train_pred = cross_val_predict(xgb_clf, X_train, y_train, cv = 5)\n",
    "xgb_base_acc = accuracy_score(y_train, y_train_pred) * 100\n",
    "xgb_base_f1 = f1_score(y_train, y_train_pred) * 100\n",
    "print(f\"\\nXGBoost Baseline Accuracy: {xgb_base_acc:.2f}\")\n",
    "print(f\"XGBoost Baseline F1-Score: {xgb_base_f1:.2f}\")"
   ]
  },
  {
   "cell_type": "code",
   "execution_count": 28,
   "id": "3547670f",
   "metadata": {},
   "outputs": [
    {
     "data": {
      "text/plain": [
       "array([[3141,  545],\n",
       "       [ 860, 1920]], dtype=int64)"
      ]
     },
     "execution_count": 28,
     "metadata": {},
     "output_type": "execute_result"
    }
   ],
   "source": [
    "confusion_matrix(y_train, y_train_pred)"
   ]
  },
  {
   "cell_type": "markdown",
   "id": "4012e4ca",
   "metadata": {},
   "source": [
    "### Deep Learning"
   ]
  },
  {
   "cell_type": "code",
   "execution_count": 33,
   "id": "b20bb294",
   "metadata": {},
   "outputs": [],
   "source": [
    "input_ = keras.layers.Input(X_train.shape[1:])\n",
    "hidden1 = keras.layers.Dense(25, activation = \"relu\")(input_)\n",
    "hidden2 = keras.layers.Dense(25, activation = \"relu\")(hidden1)\n",
    "output = keras.layers.Dense(1, activation=\"sigmoid\")(hidden2)\n",
    "baseline_model = keras.Model(inputs=input_, outputs = output)\n",
    "baseline_model.compile(loss = \"binary_crossentropy\", optimizer=\"adam\", metrics = [\"accuracy\"])"
   ]
  },
  {
   "cell_type": "code",
   "execution_count": 34,
   "id": "9fdf3213",
   "metadata": {},
   "outputs": [
    {
     "name": "stdout",
     "output_type": "stream",
     "text": [
      "Model: \"model_1\"\n",
      "_________________________________________________________________\n",
      "Layer (type)                 Output Shape              Param #   \n",
      "=================================================================\n",
      "input_2 (InputLayer)         [(None, 300)]             0         \n",
      "_________________________________________________________________\n",
      "dense_3 (Dense)              (None, 25)                7525      \n",
      "_________________________________________________________________\n",
      "dense_4 (Dense)              (None, 25)                650       \n",
      "_________________________________________________________________\n",
      "dense_5 (Dense)              (None, 1)                 26        \n",
      "=================================================================\n",
      "Total params: 8,201\n",
      "Trainable params: 8,201\n",
      "Non-trainable params: 0\n",
      "_________________________________________________________________\n",
      "None\n"
     ]
    }
   ],
   "source": [
    "#Model architecture\n",
    "print(baseline_model.summary())"
   ]
  },
  {
   "cell_type": "code",
   "execution_count": 35,
   "id": "4fe271d5",
   "metadata": {},
   "outputs": [
    {
     "name": "stdout",
     "output_type": "stream",
     "text": [
      "Restoring model weights from the end of the best epoch.\n",
      "Epoch 00061: early stopping\n",
      "Wall time: 10.5 s\n"
     ]
    }
   ],
   "source": [
    "%%time\n",
    "early = keras.callbacks.EarlyStopping(monitor='val_loss', mode='min', verbose=1, patience = 50, restore_best_weights=True)\n",
    "\n",
    "history = baseline_model.fit(X_train, y_train, validation_split=.2, epochs=500, batch_size=32, verbose=0, callbacks = [early])"
   ]
  },
  {
   "cell_type": "code",
   "execution_count": 36,
   "id": "a790ae65",
   "metadata": {},
   "outputs": [
    {
     "data": {
      "image/png": "[encoded data removed]",
      "text/plain": [
       "<Figure size 864x576 with 1 Axes>"
      ]
     },
     "metadata": {
      "needs_background": "light"
     },
     "output_type": "display_data"
    }
   ],
   "source": [
    "plt.figure(figsize = (12,8))\n",
    "plt.plot(history.history['loss'], label='train')\n",
    "plt.plot(history.history['val_loss'], label='val')\n",
    "plt.grid(True)\n",
    "plt.xlabel(\"Epoch\")\n",
    "plt.ylabel(\"Loss\")\n",
    "plt.title(\"Train and Validation Loss During Training with Early Stoppping\")\n",
    "plt.legend()\n",
    "plt.show()"
   ]
  },
  {
   "cell_type": "code",
   "execution_count": 37,
   "id": "36514ac5",
   "metadata": {},
   "outputs": [
    {
     "name": "stdout",
     "output_type": "stream",
     "text": [
      "Model Baseline Accuracy Score: 79.25%\n",
      "Model Baseline F1-Score: 75.99%\n"
     ]
    }
   ],
   "source": [
    "#Baseline Accuracy and F1 Scores\n",
    "y_pred = baseline_model.predict(X_val)\n",
    "#Change the prediction to form expected for accuracy and f1-score functions\n",
    "y_pred = np.round(y_pred.reshape((y_pred.shape[0])))\n",
    "#Change the validation targets \n",
    "y_val = y_val.astype(np.int)\n",
    "model_base_acc = np.round(accuracy_score(y_pred, y_val), 4) * 100\n",
    "model_base_f1 = np.round(f1_score(y_pred, y_val), 4) * 100\n",
    "print(f\"Model Baseline Accuracy Score: {model_base_acc:.2f}%\")\n",
    "print(f\"Model Baseline F1-Score: {model_base_f1:.2f}%\")"
   ]
  },
  {
   "cell_type": "code",
   "execution_count": 38,
   "id": "3db86859",
   "metadata": {},
   "outputs": [
    {
     "data": {
      "text/plain": [
       "array([[530, 116],\n",
       "       [121, 375]], dtype=int64)"
      ]
     },
     "execution_count": 38,
     "metadata": {},
     "output_type": "execute_result"
    }
   ],
   "source": [
    "#Confusion matrix\n",
    "confusion_matrix(y_pred, y_val)"
   ]
  },
  {
   "cell_type": "markdown",
   "id": "ff101987",
   "metadata": {},
   "source": [
    "# Baseline Results"
   ]
  },
  {
   "cell_type": "markdown",
   "id": "251be31d",
   "metadata": {},
   "source": [
    "### F1-Score"
   ]
  },
  {
   "cell_type": "code",
   "execution_count": 43,
   "id": "64f7a7f2",
   "metadata": {},
   "outputs": [],
   "source": [
    "Models = [\"Logistic Regression\", \"Naive Bayes\", \"Random Forest\", \"XGBoost\", \"Deep Learning\"]\n",
    "F1_Base_Scores = [lr_base_f1, nb_base_f1, rf_base_f1, xgb_base_f1, model_base_f1]\n",
    "Accuracy_Base_Scores = [lr_base_acc, nb_base_acc, rf_base_acc, xgb_base_acc, model_base_acc]\n",
    "\n",
    "#Create a data frame with the results\n",
    "base_results = pd.DataFrame({\"Model\": Models, \"F1\": F1_Base_Scores, \"Accuracy\" : Accuracy_Base_Scores})"
   ]
  },
  {
   "cell_type": "code",
   "execution_count": 44,
   "id": "5f6b421e",
   "metadata": {},
   "outputs": [
    {
     "data": {
      "text/html": [
       "<div>\n",
       "<style scoped>\n",
       "    .dataframe tbody tr th:only-of-type {\n",
       "        vertical-align: middle;\n",
       "    }\n",
       "\n",
       "    .dataframe tbody tr th {\n",
       "        vertical-align: top;\n",
       "    }\n",
       "\n",
       "    .dataframe thead th {\n",
       "        text-align: right;\n",
       "    }\n",
       "</style>\n",
       "<table border=\"1\" class=\"dataframe\">\n",
       "  <thead>\n",
       "    <tr style=\"text-align: right;\">\n",
       "      <th></th>\n",
       "      <th>Model</th>\n",
       "      <th>F1</th>\n",
       "      <th>Accuracy</th>\n",
       "    </tr>\n",
       "  </thead>\n",
       "  <tbody>\n",
       "    <tr>\n",
       "      <th>4</th>\n",
       "      <td>Deep Learning</td>\n",
       "      <td>75.990000</td>\n",
       "      <td>79.250000</td>\n",
       "    </tr>\n",
       "    <tr>\n",
       "      <th>0</th>\n",
       "      <td>Logistic Regression</td>\n",
       "      <td>73.340875</td>\n",
       "      <td>78.131766</td>\n",
       "    </tr>\n",
       "    <tr>\n",
       "      <th>3</th>\n",
       "      <td>XGBoost</td>\n",
       "      <td>73.212583</td>\n",
       "      <td>78.270956</td>\n",
       "    </tr>\n",
       "    <tr>\n",
       "      <th>1</th>\n",
       "      <td>Naive Bayes</td>\n",
       "      <td>72.307132</td>\n",
       "      <td>76.461491</td>\n",
       "    </tr>\n",
       "    <tr>\n",
       "      <th>2</th>\n",
       "      <td>Random Forest</td>\n",
       "      <td>71.044655</td>\n",
       "      <td>77.837921</td>\n",
       "    </tr>\n",
       "  </tbody>\n",
       "</table>\n",
       "</div>"
      ],
      "text/plain": [
       "                 Model         F1   Accuracy\n",
       "4  Deep Learning        75.990000  79.250000\n",
       "0  Logistic Regression  73.340875  78.131766\n",
       "3  XGBoost              73.212583  78.270956\n",
       "1  Naive Bayes          72.307132  76.461491\n",
       "2  Random Forest        71.044655  77.837921"
      ]
     },
     "execution_count": 44,
     "metadata": {},
     "output_type": "execute_result"
    }
   ],
   "source": [
    "base_results.sort_values(by=\"F1\", ascending = False, inplace = True)\n",
    "base_results"
   ]
  },
  {
   "cell_type": "code",
   "execution_count": 45,
   "id": "94319fa1",
   "metadata": {},
   "outputs": [
    {
     "data": {
      "text/plain": [
       "Text(0.5, 0, 'Models')"
      ]
     },
     "execution_count": 45,
     "metadata": {},
     "output_type": "execute_result"
    },
    {
     "data": {
      "image/png": "[encoded data removed]",
      "text/plain": [
       "<Figure size 1080x720 with 1 Axes>"
      ]
     },
     "metadata": {},
     "output_type": "display_data"
    }
   ],
   "source": [
    "#Bar chart of the results\n",
    "sns.set(rc = {'figure.figsize':(15,10)})\n",
    "sns.barplot(x=\"Model\", y = \"F1\", order = base_results[\"Model\"] \\\n",
    "                                            , data = base_results, color = \"blue\")\n",
    "plt.title(\"Baseline F1-Scores\")\n",
    "plt.ylabel(\"F1-Score\")\n",
    "plt.xlabel(\"Models\")"
   ]
  },
  {
   "cell_type": "markdown",
   "id": "4f407da2",
   "metadata": {},
   "source": [
    "### Accuracy"
   ]
  },
  {
   "cell_type": "code",
   "execution_count": 46,
   "id": "cb8e2f3b",
   "metadata": {},
   "outputs": [
    {
     "data": {
      "text/html": [
       "<div>\n",
       "<style scoped>\n",
       "    .dataframe tbody tr th:only-of-type {\n",
       "        vertical-align: middle;\n",
       "    }\n",
       "\n",
       "    .dataframe tbody tr th {\n",
       "        vertical-align: top;\n",
       "    }\n",
       "\n",
       "    .dataframe thead th {\n",
       "        text-align: right;\n",
       "    }\n",
       "</style>\n",
       "<table border=\"1\" class=\"dataframe\">\n",
       "  <thead>\n",
       "    <tr style=\"text-align: right;\">\n",
       "      <th></th>\n",
       "      <th>Model</th>\n",
       "      <th>F1</th>\n",
       "      <th>Accuracy</th>\n",
       "    </tr>\n",
       "  </thead>\n",
       "  <tbody>\n",
       "    <tr>\n",
       "      <th>4</th>\n",
       "      <td>Deep Learning</td>\n",
       "      <td>75.990000</td>\n",
       "      <td>79.250000</td>\n",
       "    </tr>\n",
       "    <tr>\n",
       "      <th>3</th>\n",
       "      <td>XGBoost</td>\n",
       "      <td>73.212583</td>\n",
       "      <td>78.270956</td>\n",
       "    </tr>\n",
       "    <tr>\n",
       "      <th>0</th>\n",
       "      <td>Logistic Regression</td>\n",
       "      <td>73.340875</td>\n",
       "      <td>78.131766</td>\n",
       "    </tr>\n",
       "    <tr>\n",
       "      <th>2</th>\n",
       "      <td>Random Forest</td>\n",
       "      <td>71.044655</td>\n",
       "      <td>77.837921</td>\n",
       "    </tr>\n",
       "    <tr>\n",
       "      <th>1</th>\n",
       "      <td>Naive Bayes</td>\n",
       "      <td>72.307132</td>\n",
       "      <td>76.461491</td>\n",
       "    </tr>\n",
       "  </tbody>\n",
       "</table>\n",
       "</div>"
      ],
      "text/plain": [
       "                 Model         F1   Accuracy\n",
       "4  Deep Learning        75.990000  79.250000\n",
       "3  XGBoost              73.212583  78.270956\n",
       "0  Logistic Regression  73.340875  78.131766\n",
       "2  Random Forest        71.044655  77.837921\n",
       "1  Naive Bayes          72.307132  76.461491"
      ]
     },
     "execution_count": 46,
     "metadata": {},
     "output_type": "execute_result"
    }
   ],
   "source": [
    "base_results.sort_values(by=\"Accuracy\", ascending = False, inplace = True)\n",
    "base_results"
   ]
  },
  {
   "cell_type": "code",
   "execution_count": 48,
   "id": "b1b8cf18",
   "metadata": {},
   "outputs": [
    {
     "data": {
      "text/plain": [
       "Text(0.5, 0, 'Models')"
      ]
     },
     "execution_count": 48,
     "metadata": {},
     "output_type": "execute_result"
    },
    {
     "data": {
      "image/png": "[encoded data removed]",
      "text/plain": [
       "<Figure size 1080x720 with 1 Axes>"
      ]
     },
     "metadata": {},
     "output_type": "display_data"
    }
   ],
   "source": [
    "#Bar chart of the results\n",
    "sns.set(rc = {'figure.figsize':(15,10)})\n",
    "sns.barplot(x=\"Model\", y = \"Accuracy\", order = base_results[\"Model\"] \\\n",
    "                                            , data = base_results, color = \"blue\")\n",
    "plt.title(\"Baseline Accuracy Score\")\n",
    "plt.ylabel(\"Accuracy\")\n",
    "plt.xlabel(\"Models\")"
   ]
  },
  {
   "cell_type": "markdown",
   "id": "d478313a",
   "metadata": {},
   "source": [
    "# Hyperparameter Tuning"
   ]
  },
  {
   "cell_type": "markdown",
   "id": "6ed4e2ab",
   "metadata": {},
   "source": [
    "### Logistic Regression"
   ]
  },
  {
   "cell_type": "code",
   "execution_count": 51,
   "id": "14c6b3e0",
   "metadata": {},
   "outputs": [
    {
     "name": "stdout",
     "output_type": "stream",
     "text": [
      "{'C': 0.567056705670567}\n",
      "0.723345630683078\n",
      "Wall time: 44.3 s\n"
     ]
    }
   ],
   "source": [
    "%%time\n",
    "#Randomly search through the hyperparameter space\n",
    "param_distribs = {\n",
    "    \"C\" : np.linspace(0, 30, 10000),\n",
    "    }\n",
    "lr_clf = LogisticRegression(penalty = \"l2\", solver = \"lbfgs\", max_iter=10000)\n",
    "\n",
    "lr_rnd_search_cv = RandomizedSearchCV(lr_clf, param_distribs, n_iter = 50,\n",
    "                                   cv=2, scoring = 'f1', random_state=42, n_jobs = -1)\n",
    "\n",
    "lr_rnd_search_cv.fit(X_train, y_train)\n",
    "\n",
    "print(lr_rnd_search_cv.best_params_)\n",
    "print(lr_rnd_search_cv.best_score_)"
   ]
  },
  {
   "cell_type": "code",
   "execution_count": 52,
   "id": "b27a7a8a",
   "metadata": {},
   "outputs": [
    {
     "data": {
      "text/html": [
       "<div>\n",
       "<style scoped>\n",
       "    .dataframe tbody tr th:only-of-type {\n",
       "        vertical-align: middle;\n",
       "    }\n",
       "\n",
       "    .dataframe tbody tr th {\n",
       "        vertical-align: top;\n",
       "    }\n",
       "\n",
       "    .dataframe thead th {\n",
       "        text-align: right;\n",
       "    }\n",
       "</style>\n",
       "<table border=\"1\" class=\"dataframe\">\n",
       "  <thead>\n",
       "    <tr style=\"text-align: right;\">\n",
       "      <th></th>\n",
       "      <th>param_C</th>\n",
       "      <th>mean_test_score</th>\n",
       "    </tr>\n",
       "  </thead>\n",
       "  <tbody>\n",
       "    <tr>\n",
       "      <th>29</th>\n",
       "      <td>0.567057</td>\n",
       "      <td>0.723346</td>\n",
       "    </tr>\n",
       "    <tr>\n",
       "      <th>20</th>\n",
       "      <td>19.189919</td>\n",
       "      <td>0.718689</td>\n",
       "    </tr>\n",
       "    <tr>\n",
       "      <th>1</th>\n",
       "      <td>2.580258</td>\n",
       "      <td>0.718547</td>\n",
       "    </tr>\n",
       "    <tr>\n",
       "      <th>6</th>\n",
       "      <td>1.39814</td>\n",
       "      <td>0.718528</td>\n",
       "    </tr>\n",
       "    <tr>\n",
       "      <th>16</th>\n",
       "      <td>19.261926</td>\n",
       "      <td>0.718450</td>\n",
       "    </tr>\n",
       "  </tbody>\n",
       "</table>\n",
       "</div>"
      ],
      "text/plain": [
       "      param_C  mean_test_score\n",
       "29  0.567057   0.723346       \n",
       "20  19.189919  0.718689       \n",
       "1   2.580258   0.718547       \n",
       "6   1.39814    0.718528       \n",
       "16  19.261926  0.718450       "
      ]
     },
     "execution_count": 52,
     "metadata": {},
     "output_type": "execute_result"
    }
   ],
   "source": [
    "#Save the results in a dataframe\n",
    "lr_rnd_search_df = pd.DataFrame(lr_rnd_search_cv.cv_results_)\n",
    "#Rank the results by score\n",
    "lr_rnd_search_df[[\"param_C\", \"mean_test_score\"]].sort_values(by = \"mean_test_score\", ascending = False).head()"
   ]
  },
  {
   "cell_type": "markdown",
   "id": "f1edadbf",
   "metadata": {},
   "source": [
    "### Random Forest"
   ]
  },
  {
   "cell_type": "code",
   "execution_count": 53,
   "id": "c8f69f93",
   "metadata": {},
   "outputs": [
    {
     "name": "stdout",
     "output_type": "stream",
     "text": [
      "{'n_estimators': 286}\n",
      "0.7167545487573768\n",
      "Wall time: 7min 24s\n"
     ]
    }
   ],
   "source": [
    "%%time\n",
    "#Randomly search through the hyperparameter space\n",
    "param_distribs = {\n",
    "    \"n_estimators\": np.arange(50, 300)\n",
    "    }\n",
    "rf_clf = RandomForestClassifier()\n",
    "\n",
    "rf_rnd_search_cv = RandomizedSearchCV(rf_clf, param_distribs, n_iter = 30,\n",
    "                                   cv=2 ,scoring = 'f1', random_state=42)\n",
    "\n",
    "rf_rnd_search_cv.fit(X_train, y_train)\n",
    "\n",
    "print(rf_rnd_search_cv.best_params_)\n",
    "print(rf_rnd_search_cv.best_score_)"
   ]
  },
  {
   "cell_type": "code",
   "execution_count": 54,
   "id": "a6b77c90",
   "metadata": {},
   "outputs": [
    {
     "data": {
      "text/html": [
       "<div>\n",
       "<style scoped>\n",
       "    .dataframe tbody tr th:only-of-type {\n",
       "        vertical-align: middle;\n",
       "    }\n",
       "\n",
       "    .dataframe tbody tr th {\n",
       "        vertical-align: top;\n",
       "    }\n",
       "\n",
       "    .dataframe thead th {\n",
       "        text-align: right;\n",
       "    }\n",
       "</style>\n",
       "<table border=\"1\" class=\"dataframe\">\n",
       "  <thead>\n",
       "    <tr style=\"text-align: right;\">\n",
       "      <th></th>\n",
       "      <th>param_n_estimators</th>\n",
       "      <th>mean_test_score</th>\n",
       "    </tr>\n",
       "  </thead>\n",
       "  <tbody>\n",
       "    <tr>\n",
       "      <th>12</th>\n",
       "      <td>286</td>\n",
       "      <td>0.716755</td>\n",
       "    </tr>\n",
       "    <tr>\n",
       "      <th>7</th>\n",
       "      <td>234</td>\n",
       "      <td>0.715196</td>\n",
       "    </tr>\n",
       "    <tr>\n",
       "      <th>10</th>\n",
       "      <td>250</td>\n",
       "      <td>0.715181</td>\n",
       "    </tr>\n",
       "    <tr>\n",
       "      <th>15</th>\n",
       "      <td>274</td>\n",
       "      <td>0.714989</td>\n",
       "    </tr>\n",
       "    <tr>\n",
       "      <th>13</th>\n",
       "      <td>290</td>\n",
       "      <td>0.713418</td>\n",
       "    </tr>\n",
       "  </tbody>\n",
       "</table>\n",
       "</div>"
      ],
      "text/plain": [
       "   param_n_estimators  mean_test_score\n",
       "12  286                0.716755       \n",
       "7   234                0.715196       \n",
       "10  250                0.715181       \n",
       "15  274                0.714989       \n",
       "13  290                0.713418       "
      ]
     },
     "execution_count": 54,
     "metadata": {},
     "output_type": "execute_result"
    }
   ],
   "source": [
    "#Save the results\n",
    "rf_rnd_search_df = pd.DataFrame(rf_rnd_search_cv.cv_results_)\n",
    "tuned_params = [\"param_n_estimators\", \"mean_test_score\"]\n",
    "#Rank by score\n",
    "rf_rnd_search_df[tuned_params].sort_values(by = \"mean_test_score\", ascending = False).head()"
   ]
  },
  {
   "cell_type": "markdown",
   "id": "8fa51ae6",
   "metadata": {},
   "source": [
    "### XGBoost"
   ]
  },
  {
   "cell_type": "code",
   "execution_count": 55,
   "id": "5578b0da",
   "metadata": {},
   "outputs": [],
   "source": [
    "#Randomly search through the hyperparameter space\n",
    "param_distribs = {\n",
    "    \"max_depth\": [2,3,4,5,6,7],\n",
    "    \"gamma\": uniform(loc = 0.0, scale = 3),\n",
    "    \"min_child_weight\": list(range(20,51)),\n",
    "    \"colsample_bytree\": uniform(loc = 0.1, scale = 0.9),\n",
    "    \"learning_rate\": uniform(loc = 0.01, scale = 0.5),\n",
    "    \"subsample\": uniform(loc = 0.5, scale = 0.5),\n",
    "    \"reg_lambda\": uniform(loc = 0.01, scale = 3)\n",
    "    }\n",
    "rng = np.random.RandomState(42)\n",
    "n_iter = 100\n",
    "param_list = list(ParameterSampler(param_distribs, n_iter = n_iter, random_state=rng))"
   ]
  },
  {
   "cell_type": "code",
   "execution_count": 56,
   "id": "3c97f720",
   "metadata": {},
   "outputs": [
    {
     "name": "stdout",
     "output_type": "stream",
     "text": [
      "Done with 10 of 100\n",
      "Done with 20 of 100\n",
      "Done with 30 of 100\n",
      "Done with 40 of 100\n",
      "Done with 50 of 100\n",
      "Done with 60 of 100\n",
      "Done with 70 of 100\n",
      "Done with 80 of 100\n",
      "Done with 90 of 100\n",
      "Done with 100 of 100\n",
      "Wall time: 11min 48s\n"
     ]
    }
   ],
   "source": [
    "%%time\n",
    "#Create an evaluation set\n",
    "eval_set = [(X_train, y_train), (X_val, y_val)]\n",
    "val_f1_score = []\n",
    "n_est = []\n",
    "counter = 1\n",
    "xgb_cf = xgboost.XGBClassifier(n_estimators = 1000, use_label_encoder=False, objective = \"binary:logistic\")\n",
    "\n",
    "for params in param_list:\n",
    "    xgb_cf.set_params(**params)\n",
    "    xgb_cf.fit(X_train, y_train, eval_set=eval_set, eval_metric = \"auc\", verbose = False, early_stopping_rounds = 30)\n",
    "    val_set_preds = xgb_cf.predict(X_val)\n",
    "    val_f1_score.append(f1_score(y_val, val_set_preds))\n",
    "    n_est.append(int(xgb_cf.get_booster().attributes()[\"best_ntree_limit\"]))\n",
    "    if counter % 10 == 0:\n",
    "        print(f'Done with {counter} of {n_iter}')\n",
    "    counter += 1"
   ]
  },
  {
   "cell_type": "code",
   "execution_count": 57,
   "id": "77a6b7fa",
   "metadata": {},
   "outputs": [
    {
     "data": {
      "text/html": [
       "<div>\n",
       "<style scoped>\n",
       "    .dataframe tbody tr th:only-of-type {\n",
       "        vertical-align: middle;\n",
       "    }\n",
       "\n",
       "    .dataframe tbody tr th {\n",
       "        vertical-align: top;\n",
       "    }\n",
       "\n",
       "    .dataframe thead th {\n",
       "        text-align: right;\n",
       "    }\n",
       "</style>\n",
       "<table border=\"1\" class=\"dataframe\">\n",
       "  <thead>\n",
       "    <tr style=\"text-align: right;\">\n",
       "      <th></th>\n",
       "      <th>colsample_bytree</th>\n",
       "      <th>gamma</th>\n",
       "      <th>learning_rate</th>\n",
       "      <th>max_depth</th>\n",
       "      <th>min_child_weight</th>\n",
       "      <th>reg_lambda</th>\n",
       "      <th>subsample</th>\n",
       "      <th>Validation F1-Score</th>\n",
       "      <th>N Estimators</th>\n",
       "    </tr>\n",
       "  </thead>\n",
       "  <tbody>\n",
       "    <tr>\n",
       "      <th>57</th>\n",
       "      <td>0.163512</td>\n",
       "      <td>1.927258</td>\n",
       "      <td>0.023256</td>\n",
       "      <td>4</td>\n",
       "      <td>39</td>\n",
       "      <td>1.736423</td>\n",
       "      <td>0.694085</td>\n",
       "      <td>0.773305</td>\n",
       "      <td>698</td>\n",
       "    </tr>\n",
       "    <tr>\n",
       "      <th>25</th>\n",
       "      <td>0.540507</td>\n",
       "      <td>2.956951</td>\n",
       "      <td>0.131028</td>\n",
       "      <td>5</td>\n",
       "      <td>42</td>\n",
       "      <td>2.294859</td>\n",
       "      <td>0.618819</td>\n",
       "      <td>0.772074</td>\n",
       "      <td>157</td>\n",
       "    </tr>\n",
       "    <tr>\n",
       "      <th>40</th>\n",
       "      <td>0.615063</td>\n",
       "      <td>2.940995</td>\n",
       "      <td>0.047673</td>\n",
       "      <td>6</td>\n",
       "      <td>40</td>\n",
       "      <td>0.582733</td>\n",
       "      <td>0.634237</td>\n",
       "      <td>0.771338</td>\n",
       "      <td>195</td>\n",
       "    </tr>\n",
       "    <tr>\n",
       "      <th>3</th>\n",
       "      <td>0.120756</td>\n",
       "      <td>1.574324</td>\n",
       "      <td>0.209930</td>\n",
       "      <td>5</td>\n",
       "      <td>47</td>\n",
       "      <td>1.109086</td>\n",
       "      <td>0.728035</td>\n",
       "      <td>0.768912</td>\n",
       "      <td>111</td>\n",
       "    </tr>\n",
       "    <tr>\n",
       "      <th>38</th>\n",
       "      <td>0.307167</td>\n",
       "      <td>1.497580</td>\n",
       "      <td>0.296002</td>\n",
       "      <td>2</td>\n",
       "      <td>36</td>\n",
       "      <td>2.993652</td>\n",
       "      <td>0.734972</td>\n",
       "      <td>0.766600</td>\n",
       "      <td>159</td>\n",
       "    </tr>\n",
       "  </tbody>\n",
       "</table>\n",
       "</div>"
      ],
      "text/plain": [
       "    colsample_bytree     gamma  learning_rate  max_depth  min_child_weight  \\\n",
       "57  0.163512          1.927258  0.023256       4          39                 \n",
       "25  0.540507          2.956951  0.131028       5          42                 \n",
       "40  0.615063          2.940995  0.047673       6          40                 \n",
       "3   0.120756          1.574324  0.209930       5          47                 \n",
       "38  0.307167          1.497580  0.296002       2          36                 \n",
       "\n",
       "    reg_lambda  subsample  Validation F1-Score  N Estimators  \n",
       "57  1.736423    0.694085   0.773305             698           \n",
       "25  2.294859    0.618819   0.772074             157           \n",
       "40  0.582733    0.634237   0.771338             195           \n",
       "3   1.109086    0.728035   0.768912             111           \n",
       "38  2.993652    0.734972   0.766600             159           "
      ]
     },
     "execution_count": 57,
     "metadata": {},
     "output_type": "execute_result"
    }
   ],
   "source": [
    "#Save the results\n",
    "xgb_param_search_df = pd.DataFrame(param_list)\n",
    "xgb_param_search_df[\"Validation F1-Score\"] = val_f1_score\n",
    "xgb_param_search_df[\"N Estimators\"] = n_est\n",
    "#Rank by score\n",
    "xgb_param_search_df.sort_values(by=\"Validation F1-Score\", ascending = False).head()"
   ]
  },
  {
   "cell_type": "markdown",
   "id": "aebbee68",
   "metadata": {},
   "source": [
    "### Deep Learning"
   ]
  },
  {
   "cell_type": "code",
   "execution_count": 58,
   "id": "051bb89e",
   "metadata": {},
   "outputs": [],
   "source": [
    "def build_model(n_hidden=1, n_neurons=5, lr_rate=3e-2, activation = \"relu\",\n",
    "                drop_rate=.2, kernel = True, kernel_initializer = \"he_normal\", optimizer=\"Adam\", \n",
    "                momentum = .9, nesterov = False):\n",
    "    \"\"\"\n",
    "    This function creates a deep learning model with default parameters. This function is used to tune the hyperparameters. \n",
    "    \n",
    "    returns: functional style keras model\n",
    "    \n",
    "    \"\"\"\n",
    "    input_ = keras.layers.Input(X_train.shape[1:])\n",
    "    \n",
    "    for layer in range(n_hidden):\n",
    "        if layer == 0:\n",
    "            hidden = keras.layers.Dense(n_neurons, activation = activation, kernel_initializer=kernel_initializer)(input_)\n",
    "            hidden = keras.layers.Dropout(rate = drop_rate)(hidden)\n",
    "                \n",
    "        else:       \n",
    "            hidden = keras.layers.Dense(n_neurons, activation = activation, kernel_initializer=kernel_initializer)(hidden)\n",
    "            hidden = keras.layers.Dropout(rate = drop_rate)(hidden)\n",
    "    \n",
    "    output = keras.layers.Dense(1, activation = \"sigmoid\")(hidden)    \n",
    "    model = keras.Model(inputs = input_, outputs = output)\n",
    "\n",
    "    if optimizer == \"SGD\":\n",
    "        optimizer = keras.optimizers.SGD(learning_rate=lr_rate, momentum=momentum, nesterov=nesterov)\n",
    "    elif optimizer == \"Adam\":\n",
    "        optimizer = keras.optimizers.Adam(learning_rate=lr_rate)\n",
    "    else:\n",
    "        optimizer = keras.optimizers.RMSprop(learning_rate=lr_rate, momentum = momentum)\n",
    "\n",
    "    model.compile(loss=\"binary_crossentropy\", optimizer=optimizer, metrics = [\"accuracy\"])\n",
    "\n",
    "    return model"
   ]
  },
  {
   "cell_type": "code",
   "execution_count": 62,
   "id": "3809827e",
   "metadata": {},
   "outputs": [],
   "source": [
    "#Grid of hyperparameters to search through\n",
    "param_distribs = {\n",
    "    \"n_hidden\": np.arange(5, 20),\n",
    "    \"n_neurons\": np.arange(50, 100),\n",
    "    \"drop_rate\" : [0.20, 0.225, 0.25, 0.275, 0.30],\n",
    "    \"lr_rate\" : [.005, .0075, 0.09, .01, 0.02, .025, .05, .075, .1 ],\n",
    "    \"activation\": [\"relu\", \"elu\", \"selu\"],\n",
    "    \"kernel_initializer\" : [\"glorot_normal\", \"he_normal\", \"lecun_normal\"],\n",
    "    \"optimizer\" : [\"SGD\", \"Adam\",\"RMSprop\"],\n",
    "    \"momentum\" : [0.95, 0.99, 0.999, 0.9999],\n",
    "    \"nesterov\" : [True, False]\n",
    "    }\n",
    "\n",
    "#Number of models to consider\n",
    "num_models = 100\n",
    "param_list = list(ParameterSampler(param_distribs, n_iter = num_models))"
   ]
  },
  {
   "cell_type": "code",
   "execution_count": 63,
   "id": "cd2eff3f",
   "metadata": {},
   "outputs": [
    {
     "name": "stdout",
     "output_type": "stream",
     "text": [
      "Done with 10 of 100\n",
      "Done with 20 of 100\n",
      "Done with 30 of 100\n",
      "Done with 40 of 100\n",
      "Done with 50 of 100\n",
      "Done with 60 of 100\n",
      "Done with 70 of 100\n",
      "Done with 80 of 100\n",
      "Done with 90 of 100\n",
      "Done with 100 of 100\n",
      "Wall time: 19min 21s\n"
     ]
    }
   ],
   "source": [
    "%%time\n",
    "\n",
    "val_acc_score = []\n",
    "batch = []\n",
    "count = 1\n",
    "early = keras.callbacks.EarlyStopping(monitor='val_loss', mode='min', verbose=0, patience = 10)\n",
    "\n",
    "for params in param_list:\n",
    "    model = build_model(**params)\n",
    "    batch_size = np.random.choice([32, 64])\n",
    "    history = model.fit(X_train, y_train, validation_split=.2, epochs=100, batch_size=batch_size, verbose=0, callbacks = [early])\n",
    "    batch.append(batch_size)\n",
    "    min_val_index = np.argmax(history.history[\"val_accuracy\"])\n",
    "    min_val = history.history[\"val_accuracy\"][min_val_index]\n",
    "    val_acc_score.append(min_val)\n",
    "    if count % 10 == 0:\n",
    "        print(f\"Done with {count} of {num_models}\")\n",
    "    count += 1\n",
    "    "
   ]
  },
  {
   "cell_type": "code",
   "execution_count": 65,
   "id": "37bb52c9",
   "metadata": {},
   "outputs": [
    {
     "data": {
      "text/html": [
       "<div>\n",
       "<style scoped>\n",
       "    .dataframe tbody tr th:only-of-type {\n",
       "        vertical-align: middle;\n",
       "    }\n",
       "\n",
       "    .dataframe tbody tr th {\n",
       "        vertical-align: top;\n",
       "    }\n",
       "\n",
       "    .dataframe thead th {\n",
       "        text-align: right;\n",
       "    }\n",
       "</style>\n",
       "<table border=\"1\" class=\"dataframe\">\n",
       "  <thead>\n",
       "    <tr style=\"text-align: right;\">\n",
       "      <th></th>\n",
       "      <th>optimizer</th>\n",
       "      <th>nesterov</th>\n",
       "      <th>n_neurons</th>\n",
       "      <th>n_hidden</th>\n",
       "      <th>momentum</th>\n",
       "      <th>lr_rate</th>\n",
       "      <th>kernel_initializer</th>\n",
       "      <th>drop_rate</th>\n",
       "      <th>activation</th>\n",
       "      <th>Batch Size</th>\n",
       "      <th>Validation Accuracy</th>\n",
       "    </tr>\n",
       "  </thead>\n",
       "  <tbody>\n",
       "    <tr>\n",
       "      <th>32</th>\n",
       "      <td>Adam</td>\n",
       "      <td>True</td>\n",
       "      <td>72</td>\n",
       "      <td>5</td>\n",
       "      <td>0.9990</td>\n",
       "      <td>0.0050</td>\n",
       "      <td>lecun_normal</td>\n",
       "      <td>0.225</td>\n",
       "      <td>selu</td>\n",
       "      <td>32</td>\n",
       "      <td>0.806028</td>\n",
       "    </tr>\n",
       "    <tr>\n",
       "      <th>14</th>\n",
       "      <td>SGD</td>\n",
       "      <td>True</td>\n",
       "      <td>55</td>\n",
       "      <td>10</td>\n",
       "      <td>0.9500</td>\n",
       "      <td>0.0050</td>\n",
       "      <td>lecun_normal</td>\n",
       "      <td>0.200</td>\n",
       "      <td>elu</td>\n",
       "      <td>64</td>\n",
       "      <td>0.805255</td>\n",
       "    </tr>\n",
       "    <tr>\n",
       "      <th>26</th>\n",
       "      <td>SGD</td>\n",
       "      <td>False</td>\n",
       "      <td>53</td>\n",
       "      <td>8</td>\n",
       "      <td>0.9500</td>\n",
       "      <td>0.0075</td>\n",
       "      <td>glorot_normal</td>\n",
       "      <td>0.200</td>\n",
       "      <td>elu</td>\n",
       "      <td>64</td>\n",
       "      <td>0.805255</td>\n",
       "    </tr>\n",
       "    <tr>\n",
       "      <th>0</th>\n",
       "      <td>Adam</td>\n",
       "      <td>False</td>\n",
       "      <td>63</td>\n",
       "      <td>7</td>\n",
       "      <td>0.9990</td>\n",
       "      <td>0.0100</td>\n",
       "      <td>glorot_normal</td>\n",
       "      <td>0.225</td>\n",
       "      <td>elu</td>\n",
       "      <td>64</td>\n",
       "      <td>0.802164</td>\n",
       "    </tr>\n",
       "    <tr>\n",
       "      <th>47</th>\n",
       "      <td>SGD</td>\n",
       "      <td>True</td>\n",
       "      <td>61</td>\n",
       "      <td>14</td>\n",
       "      <td>0.9500</td>\n",
       "      <td>0.0075</td>\n",
       "      <td>he_normal</td>\n",
       "      <td>0.225</td>\n",
       "      <td>relu</td>\n",
       "      <td>64</td>\n",
       "      <td>0.802164</td>\n",
       "    </tr>\n",
       "    <tr>\n",
       "      <th>...</th>\n",
       "      <td>...</td>\n",
       "      <td>...</td>\n",
       "      <td>...</td>\n",
       "      <td>...</td>\n",
       "      <td>...</td>\n",
       "      <td>...</td>\n",
       "      <td>...</td>\n",
       "      <td>...</td>\n",
       "      <td>...</td>\n",
       "      <td>...</td>\n",
       "      <td>...</td>\n",
       "    </tr>\n",
       "    <tr>\n",
       "      <th>35</th>\n",
       "      <td>RMSprop</td>\n",
       "      <td>True</td>\n",
       "      <td>58</td>\n",
       "      <td>16</td>\n",
       "      <td>0.9999</td>\n",
       "      <td>0.0050</td>\n",
       "      <td>lecun_normal</td>\n",
       "      <td>0.200</td>\n",
       "      <td>elu</td>\n",
       "      <td>64</td>\n",
       "      <td>0.566461</td>\n",
       "    </tr>\n",
       "    <tr>\n",
       "      <th>34</th>\n",
       "      <td>Adam</td>\n",
       "      <td>True</td>\n",
       "      <td>51</td>\n",
       "      <td>8</td>\n",
       "      <td>0.9990</td>\n",
       "      <td>0.0900</td>\n",
       "      <td>glorot_normal</td>\n",
       "      <td>0.250</td>\n",
       "      <td>selu</td>\n",
       "      <td>64</td>\n",
       "      <td>0.566461</td>\n",
       "    </tr>\n",
       "    <tr>\n",
       "      <th>33</th>\n",
       "      <td>SGD</td>\n",
       "      <td>True</td>\n",
       "      <td>84</td>\n",
       "      <td>11</td>\n",
       "      <td>0.9900</td>\n",
       "      <td>0.0075</td>\n",
       "      <td>lecun_normal</td>\n",
       "      <td>0.275</td>\n",
       "      <td>selu</td>\n",
       "      <td>32</td>\n",
       "      <td>0.566461</td>\n",
       "    </tr>\n",
       "    <tr>\n",
       "      <th>31</th>\n",
       "      <td>RMSprop</td>\n",
       "      <td>True</td>\n",
       "      <td>90</td>\n",
       "      <td>15</td>\n",
       "      <td>0.9900</td>\n",
       "      <td>0.0200</td>\n",
       "      <td>glorot_normal</td>\n",
       "      <td>0.250</td>\n",
       "      <td>elu</td>\n",
       "      <td>32</td>\n",
       "      <td>0.566461</td>\n",
       "    </tr>\n",
       "    <tr>\n",
       "      <th>99</th>\n",
       "      <td>SGD</td>\n",
       "      <td>False</td>\n",
       "      <td>85</td>\n",
       "      <td>15</td>\n",
       "      <td>0.9500</td>\n",
       "      <td>0.0750</td>\n",
       "      <td>lecun_normal</td>\n",
       "      <td>0.250</td>\n",
       "      <td>elu</td>\n",
       "      <td>64</td>\n",
       "      <td>0.566461</td>\n",
       "    </tr>\n",
       "  </tbody>\n",
       "</table>\n",
       "<p>100 rows × 11 columns</p>\n",
       "</div>"
      ],
      "text/plain": [
       "   optimizer  nesterov  n_neurons  n_hidden  momentum  lr_rate  \\\n",
       "32  Adam      True      72         5         0.9990    0.0050    \n",
       "14  SGD       True      55         10        0.9500    0.0050    \n",
       "26  SGD       False     53         8         0.9500    0.0075    \n",
       "0   Adam      False     63         7         0.9990    0.0100    \n",
       "47  SGD       True      61         14        0.9500    0.0075    \n",
       "..  ...        ...      ..         ..           ...       ...    \n",
       "35  RMSprop   True      58         16        0.9999    0.0050    \n",
       "34  Adam      True      51         8         0.9990    0.0900    \n",
       "33  SGD       True      84         11        0.9900    0.0075    \n",
       "31  RMSprop   True      90         15        0.9900    0.0200    \n",
       "99  SGD       False     85         15        0.9500    0.0750    \n",
       "\n",
       "   kernel_initializer  drop_rate activation  Batch Size  Validation Accuracy  \n",
       "32  lecun_normal       0.225      selu       32          0.806028             \n",
       "14  lecun_normal       0.200      elu        64          0.805255             \n",
       "26  glorot_normal      0.200      elu        64          0.805255             \n",
       "0   glorot_normal      0.225      elu        64          0.802164             \n",
       "47  he_normal          0.225      relu       64          0.802164             \n",
       "..        ...            ...       ...       ..               ...             \n",
       "35  lecun_normal       0.200      elu        64          0.566461             \n",
       "34  glorot_normal      0.250      selu       64          0.566461             \n",
       "33  lecun_normal       0.275      selu       32          0.566461             \n",
       "31  glorot_normal      0.250      elu        32          0.566461             \n",
       "99  lecun_normal       0.250      elu        64          0.566461             \n",
       "\n",
       "[100 rows x 11 columns]"
      ]
     },
     "execution_count": 65,
     "metadata": {},
     "output_type": "execute_result"
    }
   ],
   "source": [
    "#Save the results in a dataframe\n",
    "model_param_df = pd.DataFrame(param_list)\n",
    "model_param_df[\"Batch Size\"] = batch\n",
    "model_param_df[\"Validation Accuracy\"] = val_acc_score\n",
    "#Rank the results by the validation accuracy\n",
    "model_param_df.sort_values(by=\"Validation Accuracy\", ascending = False)"
   ]
  },
  {
   "cell_type": "markdown",
   "id": "68cfe247",
   "metadata": {},
   "source": [
    "# Validation Scores"
   ]
  },
  {
   "cell_type": "markdown",
   "id": "f6d2aa84",
   "metadata": {},
   "source": [
    "### Logistic Regression"
   ]
  },
  {
   "cell_type": "code",
   "execution_count": 66,
   "id": "62ac2dc5",
   "metadata": {},
   "outputs": [],
   "source": [
    "#Get the best hyperparameters\n",
    "max_lr_f1 = lr_rnd_search_df[\"mean_test_score\"].argmax()\n",
    "best_C = lr_rnd_search_df.loc[max_lr_f1, \"param_C\"]\n",
    "\n",
    "lr_clf = LogisticRegression(penalty=\"l2\", C = best_C, random_state = 42, max_iter=10000)"
   ]
  },
  {
   "cell_type": "code",
   "execution_count": 67,
   "id": "ea1c84ae",
   "metadata": {},
   "outputs": [
    {
     "name": "stdout",
     "output_type": "stream",
     "text": [
      "Wall time: 426 ms\n"
     ]
    },
    {
     "data": {
      "text/plain": [
       "LogisticRegression(C=0.567056705670567, max_iter=10000, random_state=42)"
      ]
     },
     "execution_count": 67,
     "metadata": {},
     "output_type": "execute_result"
    }
   ],
   "source": [
    "%%time\n",
    "lr_clf.fit(X_train, y_train)"
   ]
  },
  {
   "cell_type": "code",
   "execution_count": 68,
   "id": "7141f41d",
   "metadata": {},
   "outputs": [
    {
     "name": "stdout",
     "output_type": "stream",
     "text": [
      "Logistic Regression Validation Accuracy Score: 77.85%\n",
      "Logistic Regression Validation F1-Score: 73.45%\n"
     ]
    }
   ],
   "source": [
    "#Validation results\n",
    "y_pred = lr_clf.predict(X_val)\n",
    "lr_val_f1 = np.round(f1_score(y_pred, y_val), 5) * 100\n",
    "lr_val_acc = np.round(accuracy_score(y_pred, y_val), 5) * 100\n",
    "print(f'Logistic Regression Validation Accuracy Score: {lr_val_acc:.2f}%')\n",
    "print(f'Logistic Regression Validation F1-Score: {lr_val_f1:.2f}%')"
   ]
  },
  {
   "cell_type": "code",
   "execution_count": 69,
   "id": "ec8017ae",
   "metadata": {},
   "outputs": [
    {
     "data": {
      "text/plain": [
       "array([[539, 141],\n",
       "       [112, 350]], dtype=int64)"
      ]
     },
     "execution_count": 69,
     "metadata": {},
     "output_type": "execute_result"
    }
   ],
   "source": [
    "confusion_matrix(y_pred, y_val)"
   ]
  },
  {
   "cell_type": "markdown",
   "id": "eba287e1",
   "metadata": {},
   "source": [
    "### Naive Bayes"
   ]
  },
  {
   "cell_type": "code",
   "execution_count": 70,
   "id": "b9c33b8a",
   "metadata": {},
   "outputs": [],
   "source": [
    "nb_clf = GaussianNB()"
   ]
  },
  {
   "cell_type": "code",
   "execution_count": 71,
   "id": "2c7cb1ec",
   "metadata": {},
   "outputs": [
    {
     "name": "stdout",
     "output_type": "stream",
     "text": [
      "Wall time: 93.7 ms\n"
     ]
    },
    {
     "data": {
      "text/plain": [
       "GaussianNB()"
      ]
     },
     "execution_count": 71,
     "metadata": {},
     "output_type": "execute_result"
    }
   ],
   "source": [
    "%%time\n",
    "nb_clf.fit(X_train, y_train)"
   ]
  },
  {
   "cell_type": "code",
   "execution_count": 72,
   "id": "0daeaebf",
   "metadata": {},
   "outputs": [
    {
     "name": "stdout",
     "output_type": "stream",
     "text": [
      "Naive Bayes Validation Accuracy Score: 76.36%\n",
      "Naive Bayes Validation F1-Score: 72.56%\n"
     ]
    }
   ],
   "source": [
    "#Validation Results\n",
    "y_pred = nb_clf.predict(X_val)\n",
    "nb_val_f1 = np.round(f1_score(y_pred, y_val), 5) * 100\n",
    "nb_val_acc = np.round(accuracy_score(y_pred, y_val), 5) * 100\n",
    "print(f'Naive Bayes Validation Accuracy Score: {nb_val_acc:.2f}%')\n",
    "print(f'Naive Bayes Validation F1-Score: {nb_val_f1:.2f}%')"
   ]
  },
  {
   "cell_type": "code",
   "execution_count": 73,
   "id": "bb064c32",
   "metadata": {},
   "outputs": [
    {
     "data": {
      "text/plain": [
       "array([[515, 134],\n",
       "       [136, 357]], dtype=int64)"
      ]
     },
     "execution_count": 73,
     "metadata": {},
     "output_type": "execute_result"
    }
   ],
   "source": [
    "confusion_matrix(y_pred, y_val)"
   ]
  },
  {
   "cell_type": "markdown",
   "id": "da6777f3",
   "metadata": {},
   "source": [
    "### Random Forest"
   ]
  },
  {
   "cell_type": "code",
   "execution_count": 74,
   "id": "422a3976",
   "metadata": {},
   "outputs": [],
   "source": [
    "#Get the best hyperparameters\n",
    "max_rf_f1 = rf_rnd_search_df[\"mean_test_score\"].argmax()\n",
    "best_n_est = rf_rnd_search_df.loc[max_rf_f1, \"param_n_estimators\"]"
   ]
  },
  {
   "cell_type": "code",
   "execution_count": 75,
   "id": "29f2b6b4",
   "metadata": {},
   "outputs": [],
   "source": [
    "rf_clf = RandomForestClassifier(n_estimators=best_n_est, random_state=42)"
   ]
  },
  {
   "cell_type": "code",
   "execution_count": 76,
   "id": "ef77d559",
   "metadata": {},
   "outputs": [
    {
     "name": "stdout",
     "output_type": "stream",
     "text": [
      "Wall time: 35.2 s\n"
     ]
    },
    {
     "data": {
      "text/plain": [
       "RandomForestClassifier(n_estimators=286, random_state=42)"
      ]
     },
     "execution_count": 76,
     "metadata": {},
     "output_type": "execute_result"
    }
   ],
   "source": [
    "%%time\n",
    "rf_clf.fit(X_train, y_train)"
   ]
  },
  {
   "cell_type": "code",
   "execution_count": 77,
   "id": "a7945e01",
   "metadata": {},
   "outputs": [
    {
     "name": "stdout",
     "output_type": "stream",
     "text": [
      "Random Forest Validation Accuracy Score: 79.07%\n",
      "Random Forest Validation F1-Score: 72.37%\n"
     ]
    }
   ],
   "source": [
    "#Validation Results\n",
    "y_pred = rf_clf.predict(X_val)\n",
    "rf_val_f1 = np.round(f1_score(y_pred, y_val), 5) * 100\n",
    "rf_val_acc = np.round(accuracy_score(y_pred, y_val), 5) * 100\n",
    "print(f'Random Forest Validation Accuracy Score: {rf_val_acc:.2f}%')\n",
    "print(f'Random Forest Validation F1-Score: {rf_val_f1:.2f}%')"
   ]
  },
  {
   "cell_type": "code",
   "execution_count": 78,
   "id": "5042bfbc",
   "metadata": {},
   "outputs": [
    {
     "data": {
      "text/plain": [
       "array([[590, 178],\n",
       "       [ 61, 313]], dtype=int64)"
      ]
     },
     "execution_count": 78,
     "metadata": {},
     "output_type": "execute_result"
    }
   ],
   "source": [
    "confusion_matrix(y_pred, y_val)"
   ]
  },
  {
   "cell_type": "markdown",
   "id": "fdf28ce9",
   "metadata": {},
   "source": [
    "### XGBoost"
   ]
  },
  {
   "cell_type": "code",
   "execution_count": 79,
   "id": "096efbc3",
   "metadata": {},
   "outputs": [],
   "source": [
    "#Get the best hyperparameters\n",
    "max_xgb_f1 = xgb_param_search_df[\"Validation F1-Score\"].argmax()\n",
    "best_colsample = xgb_param_search_df.loc[max_xgb_f1, \"colsample_bytree\"]\n",
    "best_gamma = xgb_param_search_df.loc[max_xgb_f1, \"gamma\"]\n",
    "best_lr = xgb_param_search_df.loc[max_xgb_f1, \"learning_rate\"]\n",
    "best_max_depth = xgb_param_search_df.loc[max_xgb_f1, \"max_depth\"]\n",
    "best_min_child = xgb_param_search_df.loc[max_xgb_f1, \"min_child_weight\"]\n",
    "best_reg_lambda = xgb_param_search_df.loc[max_xgb_f1, \"reg_lambda\"]\n",
    "best_subsample = xgb_param_search_df.loc[max_xgb_f1, \"subsample\"]\n",
    "best_n_est = xgb_param_search_df.loc[max_xgb_f1, \"N Estimators\"]\n",
    "\n",
    "xgb_clf = xgboost.XGBClassifier(n_estimators=best_n_est, colsample_bytree = best_colsample, gamma = best_gamma, \n",
    "                                learning_rate=best_lr, max_depth = best_max_depth, min_child_weight=best_min_child,\n",
    "                                reg_lambda=best_reg_lambda, subsample=best_subsample,\n",
    "                                use_label_encoder=False, objective = \"binary:logistic\")"
   ]
  },
  {
   "cell_type": "code",
   "execution_count": 80,
   "id": "840cf344",
   "metadata": {},
   "outputs": [
    {
     "name": "stdout",
     "output_type": "stream",
     "text": [
      "[17:13:16] WARNING: C:/Users/Administrator/workspace/xgboost-win64_release_1.5.1/src/learner.cc:1115: Starting in XGBoost 1.3.0, the default evaluation metric used with the objective 'binary:logistic' was changed from 'error' to 'logloss'. Explicitly set eval_metric if you'd like to restore the old behavior.\n",
      "Wall time: 11.6 s\n"
     ]
    },
    {
     "data": {
      "text/plain": [
       "XGBClassifier(base_score=0.5, booster='gbtree', colsample_bylevel=1,\n",
       "              colsample_bynode=1, colsample_bytree=0.16351187266038686,\n",
       "              enable_categorical=False, gamma=1.9272578346189468, gpu_id=-1,\n",
       "              importance_type=None, interaction_constraints='',\n",
       "              learning_rate=0.02325565527081091, max_delta_step=0, max_depth=4,\n",
       "              min_child_weight=39, missing=nan, monotone_constraints='()',\n",
       "              n_estimators=698, n_jobs=8, num_parallel_tree=1, predictor='auto',\n",
       "              random_state=0, reg_alpha=0, reg_lambda=1.7364225336276369,\n",
       "              scale_pos_weight=1, subsample=0.694084963103261,\n",
       "              tree_method='exact', use_label_encoder=False,\n",
       "              validate_parameters=1, verbosity=None)"
      ]
     },
     "execution_count": 80,
     "metadata": {},
     "output_type": "execute_result"
    }
   ],
   "source": [
    "%%time\n",
    "xgb_clf.fit(X_train, y_train)"
   ]
  },
  {
   "cell_type": "code",
   "execution_count": 81,
   "id": "05649468",
   "metadata": {},
   "outputs": [
    {
     "name": "stdout",
     "output_type": "stream",
     "text": [
      "XGBoost Validation Accuracy Score: 81.26%\n",
      "XGBoost Validation F1-Score: 77.33%\n"
     ]
    }
   ],
   "source": [
    "#Validation Results\n",
    "y_pred = xgb_clf.predict(X_val)\n",
    "xgb_val_f1 = np.round(f1_score(y_pred, y_val), 5) * 100\n",
    "xgb_val_acc = np.round(accuracy_score(y_pred, y_val), 5) * 100\n",
    "print(f'XGBoost Validation Accuracy Score: {xgb_val_acc:.2f}%')\n",
    "print(f'XGBoost Validation F1-Score: {xgb_val_f1:.2f}%')"
   ]
  },
  {
   "cell_type": "code",
   "execution_count": 82,
   "id": "1d2ecd3e",
   "metadata": {},
   "outputs": [
    {
     "data": {
      "text/plain": [
       "array([[563, 126],\n",
       "       [ 88, 365]], dtype=int64)"
      ]
     },
     "execution_count": 82,
     "metadata": {},
     "output_type": "execute_result"
    }
   ],
   "source": [
    "confusion_matrix(y_pred, y_val)"
   ]
  },
  {
   "cell_type": "markdown",
   "id": "bd1d2321",
   "metadata": {},
   "source": [
    "### Deep Learning"
   ]
  },
  {
   "cell_type": "code",
   "execution_count": 91,
   "id": "f21b12c5",
   "metadata": {},
   "outputs": [],
   "source": [
    "#Get the best hyperparameters\n",
    "max_f1 = model_param_df[\"Validation Accuracy\"].argmax()\n",
    "best_n_neurons = model_param_df.loc[max_f1, \"n_neurons\"]\n",
    "best_n_hidden = model_param_df.loc[max_f1, \"n_hidden\"]\n",
    "best_lr_rate = model_param_df.loc[max_f1, \"lr_rate\"]\n",
    "best_momentum = model_param_df.loc[max_f1, \"momentum\"]\n",
    "best_init = model_param_df.loc[max_f1, \"kernel_initializer\"]\n",
    "best_drop_rate = model_param_df.loc[max_f1, \"drop_rate\"]\n",
    "best_act_func = model_param_df.loc[max_f1, \"activation\"]\n",
    "best_opt = model_param_df.loc[max_f1, \"optimizer\"]\n",
    "use_nesterov = model_param_df.loc[max_f1, \"nesterov\"]\n",
    "best_batch_size = model_param_df.loc[max_f1, \"Batch Size\"]\n",
    "\n",
    "#Initialize the model\n",
    "model = build_model(n_hidden=best_n_hidden, n_neurons=best_n_neurons, lr_rate=best_lr_rate, \n",
    "                    activation = best_act_func, drop_rate=best_drop_rate, kernel = True, kernel_initializer = best_init, \n",
    "                    optimizer=best_opt, momentum = best_momentum, nesterov = use_nesterov)"
   ]
  },
  {
   "cell_type": "code",
   "execution_count": 92,
   "id": "14473cf4",
   "metadata": {},
   "outputs": [
    {
     "name": "stdout",
     "output_type": "stream",
     "text": [
      "Restoring model weights from the end of the best epoch.\n",
      "Epoch 00106: early stopping\n",
      "Wall time: 52 s\n"
     ]
    }
   ],
   "source": [
    "%%time\n",
    "early = keras.callbacks.EarlyStopping(monitor = 'val_loss', mode = 'min', verbose = 1, patience = 50, restore_best_weights=True)\n",
    "\n",
    "history = model.fit(X_train, y_train, validation_split = .1, epochs = 1000, batch_size = best_batch_size, verbose = 0, callbacks=[early])"
   ]
  },
  {
   "cell_type": "code",
   "execution_count": 93,
   "id": "64cebd3d",
   "metadata": {},
   "outputs": [
    {
     "data": {
      "image/png": "[encoded data removed]",
      "text/plain": [
       "<Figure size 864x576 with 1 Axes>"
      ]
     },
     "metadata": {},
     "output_type": "display_data"
    }
   ],
   "source": [
    "plt.figure(figsize = (12,8))\n",
    "plt.plot(history.history['loss'], label='train')\n",
    "plt.plot(history.history['val_loss'], label='val')\n",
    "plt.grid(True)\n",
    "plt.xlabel(\"Epoch\")\n",
    "plt.ylabel(\"Loss\")\n",
    "plt.title(\"Tuned Model Train and Validation Loss During Training with Early Stoppping\")\n",
    "plt.legend()\n",
    "plt.show()"
   ]
  },
  {
   "cell_type": "code",
   "execution_count": 94,
   "id": "508b88a8",
   "metadata": {},
   "outputs": [
    {
     "name": "stdout",
     "output_type": "stream",
     "text": [
      "Deep Learning Validation Accuracy Score: 79.51%\n",
      "Deep Learning Validation F1-Score: 76.32%\n"
     ]
    }
   ],
   "source": [
    "# Validation Results\n",
    "y_pred = model.predict(X_val)\n",
    "#Change the prediction to form expected for accuracy and f1-score functions\n",
    "y_pred = np.round(y_pred.reshape((y_pred.shape[0])))\n",
    "#Change the validation targets \n",
    "y_val = y_val.astype(np.int)\n",
    "model_val_acc = np.round(accuracy_score(y_pred, y_val), 4) * 100\n",
    "model_val_f1 = np.round(f1_score(y_pred, y_val), 4) * 100\n",
    "print(f\"Deep Learning Validation Accuracy Score: {model_val_acc:.2f}%\")\n",
    "print(f\"Deep Learning Validation F1-Score: {model_val_f1:.2f}%\")"
   ]
  },
  {
   "cell_type": "code",
   "execution_count": 95,
   "id": "5a104725",
   "metadata": {},
   "outputs": [
    {
     "data": {
      "text/plain": [
       "array([[531, 114],\n",
       "       [120, 377]], dtype=int64)"
      ]
     },
     "execution_count": 95,
     "metadata": {},
     "output_type": "execute_result"
    }
   ],
   "source": [
    "confusion_matrix(y_pred, y_val)"
   ]
  },
  {
   "cell_type": "markdown",
   "id": "06ba508a",
   "metadata": {},
   "source": [
    "# Results"
   ]
  },
  {
   "cell_type": "markdown",
   "id": "251be31d",
   "metadata": {},
   "source": [
    "### F1-Score"
   ]
  },
  {
   "cell_type": "code",
   "execution_count": 96,
   "id": "cdea65b6",
   "metadata": {},
   "outputs": [],
   "source": [
    "Models = [\"Logistic Regression\", \"Naive Bayes\", \"Random Forest\", \"XGBoost\", \"Deep Learning\"]\n",
    "F1_Val_Scores = [lr_val_f1, nb_val_f1, rf_val_f1, xgb_val_f1, model_val_f1]\n",
    "Accuracy_Val_Scores = [lr_val_acc, nb_val_acc, rf_val_acc, xgb_val_acc, model_val_acc]\n",
    "\n",
    "#Create a data frame with the results\n",
    "val_results = pd.DataFrame({\"Model\": Models, \"F1\": F1_Val_Scores, \"Accuracy\" : Accuracy_Val_Scores})"
   ]
  },
  {
   "cell_type": "code",
   "execution_count": 97,
   "id": "be179b43",
   "metadata": {},
   "outputs": [
    {
     "data": {
      "text/html": [
       "<div>\n",
       "<style scoped>\n",
       "    .dataframe tbody tr th:only-of-type {\n",
       "        vertical-align: middle;\n",
       "    }\n",
       "\n",
       "    .dataframe tbody tr th {\n",
       "        vertical-align: top;\n",
       "    }\n",
       "\n",
       "    .dataframe thead th {\n",
       "        text-align: right;\n",
       "    }\n",
       "</style>\n",
       "<table border=\"1\" class=\"dataframe\">\n",
       "  <thead>\n",
       "    <tr style=\"text-align: right;\">\n",
       "      <th></th>\n",
       "      <th>Model</th>\n",
       "      <th>F1</th>\n",
       "      <th>Accuracy</th>\n",
       "    </tr>\n",
       "  </thead>\n",
       "  <tbody>\n",
       "    <tr>\n",
       "      <th>3</th>\n",
       "      <td>XGBoost</td>\n",
       "      <td>77.331</td>\n",
       "      <td>81.261</td>\n",
       "    </tr>\n",
       "    <tr>\n",
       "      <th>4</th>\n",
       "      <td>Deep Learning</td>\n",
       "      <td>76.320</td>\n",
       "      <td>79.510</td>\n",
       "    </tr>\n",
       "    <tr>\n",
       "      <th>0</th>\n",
       "      <td>Logistic Regression</td>\n",
       "      <td>73.452</td>\n",
       "      <td>77.846</td>\n",
       "    </tr>\n",
       "    <tr>\n",
       "      <th>1</th>\n",
       "      <td>Naive Bayes</td>\n",
       "      <td>72.561</td>\n",
       "      <td>76.357</td>\n",
       "    </tr>\n",
       "    <tr>\n",
       "      <th>2</th>\n",
       "      <td>Random Forest</td>\n",
       "      <td>72.370</td>\n",
       "      <td>79.072</td>\n",
       "    </tr>\n",
       "  </tbody>\n",
       "</table>\n",
       "</div>"
      ],
      "text/plain": [
       "                 Model      F1  Accuracy\n",
       "3  XGBoost              77.331  81.261  \n",
       "4  Deep Learning        76.320  79.510  \n",
       "0  Logistic Regression  73.452  77.846  \n",
       "1  Naive Bayes          72.561  76.357  \n",
       "2  Random Forest        72.370  79.072  "
      ]
     },
     "execution_count": 97,
     "metadata": {},
     "output_type": "execute_result"
    }
   ],
   "source": [
    "val_results.sort_values(by=\"F1\", ascending = False, inplace = True)\n",
    "val_results"
   ]
  },
  {
   "cell_type": "code",
   "execution_count": 98,
   "id": "be2f61d6",
   "metadata": {},
   "outputs": [
    {
     "data": {
      "text/plain": [
       "Text(0.5, 0, 'Models')"
      ]
     },
     "execution_count": 98,
     "metadata": {},
     "output_type": "execute_result"
    },
    {
     "data": {
      "image/png": "[encoded data removed]",
      "text/plain": [
       "<Figure size 1080x720 with 1 Axes>"
      ]
     },
     "metadata": {},
     "output_type": "display_data"
    }
   ],
   "source": [
    "#Bar chart of the results\n",
    "sns.set(rc = {'figure.figsize':(15,10)})\n",
    "sns.barplot(x=\"Model\", y = \"F1\", order = val_results[\"Model\"] \\\n",
    "                                            , data = val_results, color = \"blue\")\n",
    "plt.title(\"Validation F1-Scores\")\n",
    "plt.ylabel(\"F1-Score\")\n",
    "plt.xlabel(\"Models\")"
   ]
  },
  {
   "cell_type": "markdown",
   "id": "8c3e671b",
   "metadata": {},
   "source": [
    "### Accuracy"
   ]
  },
  {
   "cell_type": "code",
   "execution_count": 99,
   "id": "b9afc44b",
   "metadata": {},
   "outputs": [
    {
     "data": {
      "text/html": [
       "<div>\n",
       "<style scoped>\n",
       "    .dataframe tbody tr th:only-of-type {\n",
       "        vertical-align: middle;\n",
       "    }\n",
       "\n",
       "    .dataframe tbody tr th {\n",
       "        vertical-align: top;\n",
       "    }\n",
       "\n",
       "    .dataframe thead th {\n",
       "        text-align: right;\n",
       "    }\n",
       "</style>\n",
       "<table border=\"1\" class=\"dataframe\">\n",
       "  <thead>\n",
       "    <tr style=\"text-align: right;\">\n",
       "      <th></th>\n",
       "      <th>Model</th>\n",
       "      <th>F1</th>\n",
       "      <th>Accuracy</th>\n",
       "    </tr>\n",
       "  </thead>\n",
       "  <tbody>\n",
       "    <tr>\n",
       "      <th>3</th>\n",
       "      <td>XGBoost</td>\n",
       "      <td>77.331</td>\n",
       "      <td>81.261</td>\n",
       "    </tr>\n",
       "    <tr>\n",
       "      <th>4</th>\n",
       "      <td>Deep Learning</td>\n",
       "      <td>76.320</td>\n",
       "      <td>79.510</td>\n",
       "    </tr>\n",
       "    <tr>\n",
       "      <th>2</th>\n",
       "      <td>Random Forest</td>\n",
       "      <td>72.370</td>\n",
       "      <td>79.072</td>\n",
       "    </tr>\n",
       "    <tr>\n",
       "      <th>0</th>\n",
       "      <td>Logistic Regression</td>\n",
       "      <td>73.452</td>\n",
       "      <td>77.846</td>\n",
       "    </tr>\n",
       "    <tr>\n",
       "      <th>1</th>\n",
       "      <td>Naive Bayes</td>\n",
       "      <td>72.561</td>\n",
       "      <td>76.357</td>\n",
       "    </tr>\n",
       "  </tbody>\n",
       "</table>\n",
       "</div>"
      ],
      "text/plain": [
       "                 Model      F1  Accuracy\n",
       "3  XGBoost              77.331  81.261  \n",
       "4  Deep Learning        76.320  79.510  \n",
       "2  Random Forest        72.370  79.072  \n",
       "0  Logistic Regression  73.452  77.846  \n",
       "1  Naive Bayes          72.561  76.357  "
      ]
     },
     "execution_count": 99,
     "metadata": {},
     "output_type": "execute_result"
    }
   ],
   "source": [
    "val_results.sort_values(by=\"Accuracy\", ascending = False, inplace = True)\n",
    "val_results"
   ]
  },
  {
   "cell_type": "code",
   "execution_count": 100,
   "id": "89d076e7",
   "metadata": {
    "scrolled": false
   },
   "outputs": [
    {
     "data": {
      "text/plain": [
       "Text(0.5, 0, 'Models')"
      ]
     },
     "execution_count": 100,
     "metadata": {},
     "output_type": "execute_result"
    },
    {
     "data": {
      "image/png": "[encoded data removed]",
      "text/plain": [
       "<Figure size 1080x720 with 1 Axes>"
      ]
     },
     "metadata": {},
     "output_type": "display_data"
    }
   ],
   "source": [
    "#Bar chart of the results\n",
    "sns.set(rc = {'figure.figsize':(15,10)})\n",
    "sns.barplot(x=\"Model\", y = \"Accuracy\", order = val_results[\"Model\"] \\\n",
    "                                            , data = val_results, color = \"blue\")\n",
    "plt.title(\"Validation F1-Scores\")\n",
    "plt.ylabel(\"Accuracy\")\n",
    "plt.xlabel(\"Models\")"
   ]
  },
  {
   "cell_type": "markdown",
   "id": "9eda690f",
   "metadata": {},
   "source": [
    "# Save the Best Model"
   ]
  },
  {
   "cell_type": "markdown",
   "id": "6e111411",
   "metadata": {},
   "source": [
    "### Create the dense embedding with all the training tweets"
   ]
  },
  {
   "cell_type": "code",
   "execution_count": 103,
   "id": "009f2f9d",
   "metadata": {},
   "outputs": [],
   "source": [
    "tokenized_corpus = [tokenizer.tokenize(text) for text in tweets[\"Clean Tweets\"]]\n",
    "\n",
    "#Number of Features\n",
    "ft_num_features = 300\n",
    "\n",
    "\n",
    "ft_model = FastText(tokenized_corpus, vector_size = ft_num_features, window = 250, min_count = 0, \n",
    "                    sample=1e-3, sg=1, epochs=100, workers=10)\n",
    "\n",
    "X = pe.document_vectorizer(corpus=tokenized_corpus, model=ft_model, num_features=ft_num_features)\n",
    "\n",
    "y = tweets[\"target\"]"
   ]
  },
  {
   "cell_type": "code",
   "execution_count": 105,
   "id": "225fc5c3",
   "metadata": {},
   "outputs": [
    {
     "name": "stdout",
     "output_type": "stream",
     "text": [
      "(7608, 300)\n",
      "(7608,)\n"
     ]
    }
   ],
   "source": [
    "#Check the shape\n",
    "print(X.shape)\n",
    "print(y.shape)"
   ]
  },
  {
   "cell_type": "code",
   "execution_count": 106,
   "id": "70db5f29",
   "metadata": {},
   "outputs": [],
   "source": [
    "#Reinitialize XGBoost model\n",
    "xgb_clf = xgboost.XGBClassifier(n_estimators=best_n_est, colsample_bytree = best_colsample, gamma = best_gamma, \n",
    "                                learning_rate=best_lr, max_depth = best_max_depth, min_child_weight=best_min_child,\n",
    "                                reg_lambda=best_reg_lambda, subsample=best_subsample,\n",
    "                                use_label_encoder=False, objective = \"binary:logistic\")"
   ]
  },
  {
   "cell_type": "code",
   "execution_count": 107,
   "id": "e91f5ef5",
   "metadata": {},
   "outputs": [
    {
     "name": "stdout",
     "output_type": "stream",
     "text": [
      "[17:31:10] WARNING: C:/Users/Administrator/workspace/xgboost-win64_release_1.5.1/src/learner.cc:1115: Starting in XGBoost 1.3.0, the default evaluation metric used with the objective 'binary:logistic' was changed from 'error' to 'logloss'. Explicitly set eval_metric if you'd like to restore the old behavior.\n",
      "Wall time: 16.7 s\n"
     ]
    },
    {
     "data": {
      "text/plain": [
       "XGBClassifier(base_score=0.5, booster='gbtree', colsample_bylevel=1,\n",
       "              colsample_bynode=1, colsample_bytree=0.16351187266038686,\n",
       "              enable_categorical=False, gamma=1.9272578346189468, gpu_id=-1,\n",
       "              importance_type=None, interaction_constraints='',\n",
       "              learning_rate=0.02325565527081091, max_delta_step=0, max_depth=4,\n",
       "              min_child_weight=39, missing=nan, monotone_constraints='()',\n",
       "              n_estimators=698, n_jobs=8, num_parallel_tree=1, predictor='auto',\n",
       "              random_state=0, reg_alpha=0, reg_lambda=1.7364225336276369,\n",
       "              scale_pos_weight=1, subsample=0.694084963103261,\n",
       "              tree_method='exact', use_label_encoder=False,\n",
       "              validate_parameters=1, verbosity=None)"
      ]
     },
     "execution_count": 107,
     "metadata": {},
     "output_type": "execute_result"
    }
   ],
   "source": [
    "%%time\n",
    "#Fit on all training instances\n",
    "xgb_clf.fit(X, y)"
   ]
  },
  {
   "cell_type": "code",
   "execution_count": 108,
   "id": "48eaaa9a",
   "metadata": {},
   "outputs": [],
   "source": [
    "#Save the model\n",
    "pickle.dump(xgb_clf, open(\"best_ft_model.sav\",'wb'))"
   ]
  }
 ],
 "metadata": {
  "kernelspec": {
   "display_name": "Python 3",
   "language": "python",
   "name": "python3"
  },
  "language_info": {
   "codemirror_mode": {
    "name": "ipython",
    "version": 3
   },
   "file_extension": ".py",
   "mimetype": "text/x-python",
   "name": "python",
   "nbconvert_exporter": "python",
   "pygments_lexer": "ipython3",
   "version": "3.8.8"
  }
 },
 "nbformat": 4,
 "nbformat_minor": 5
}
