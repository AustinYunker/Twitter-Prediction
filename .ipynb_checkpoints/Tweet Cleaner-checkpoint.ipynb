{
 "cells": [
  {
   "cell_type": "markdown",
   "id": "20161cdf",
   "metadata": {},
   "source": [
    "# Setup and Imports"
   ]
  },
  {
   "cell_type": "code",
   "execution_count": 54,
   "id": "e0d88fb8",
   "metadata": {},
   "outputs": [],
   "source": [
    "import pandas as pd\n",
    "import numpy as np\n",
    "from matplotlib import pyplot as plt\n",
    "import seaborn as sns\n",
    "from kaggle.api.kaggle_api_extended import KaggleApi\n",
    "from zipfile import ZipFile\n",
    "import re\n",
    "from bs4 import BeautifulSoup\n",
    "import requests\n",
    "import nltk\n",
    "from nltk.corpus import wordnet\n",
    "from nltk.corpus import words\n",
    "import enchant\n",
    "from collections import Counter\n",
    "import spacy\n",
    "import unicodedata\n",
    "from nltk.tokenize.toktok import ToktokTokenizer"
   ]
  },
  {
   "cell_type": "markdown",
   "id": "ae169f22",
   "metadata": {},
   "source": [
    "# Download the Data from Kaggle"
   ]
  },
  {
   "cell_type": "code",
   "execution_count": 2,
   "id": "eab67080",
   "metadata": {},
   "outputs": [],
   "source": [
    "#Create the API to interact with Kaggle\n",
    "api = KaggleApi()\n",
    "#Authenticate using API credentials\n",
    "api.authenticate()"
   ]
  },
  {
   "cell_type": "code",
   "execution_count": 5,
   "id": "5ef189ed",
   "metadata": {},
   "outputs": [],
   "source": [
    "#Download the competition files\n",
    "api.competition_download_files('nlp-getting-started')\n",
    "#Open the zip file\n",
    "zf = ZipFile('nlp-getting-started.zip')\n",
    "#Extract the files and specify the location\n",
    "zf.extractall(\"data\\\\\") \n",
    "#Close the zip file\n",
    "zf.close()"
   ]
  },
  {
   "cell_type": "markdown",
   "id": "6420a3fa",
   "metadata": {},
   "source": [
    "# Read in the Training Data"
   ]
  },
  {
   "cell_type": "code",
   "execution_count": 2,
   "id": "4034ff64",
   "metadata": {},
   "outputs": [],
   "source": [
    "tweets = pd.read_csv(\"data/train.csv\")"
   ]
  },
  {
   "cell_type": "code",
   "execution_count": 3,
   "id": "5e4f904a",
   "metadata": {},
   "outputs": [
    {
     "data": {
      "text/html": [
       "<div>\n",
       "<style scoped>\n",
       "    .dataframe tbody tr th:only-of-type {\n",
       "        vertical-align: middle;\n",
       "    }\n",
       "\n",
       "    .dataframe tbody tr th {\n",
       "        vertical-align: top;\n",
       "    }\n",
       "\n",
       "    .dataframe thead th {\n",
       "        text-align: right;\n",
       "    }\n",
       "</style>\n",
       "<table border=\"1\" class=\"dataframe\">\n",
       "  <thead>\n",
       "    <tr style=\"text-align: right;\">\n",
       "      <th></th>\n",
       "      <th>id</th>\n",
       "      <th>keyword</th>\n",
       "      <th>location</th>\n",
       "      <th>text</th>\n",
       "      <th>target</th>\n",
       "    </tr>\n",
       "  </thead>\n",
       "  <tbody>\n",
       "    <tr>\n",
       "      <th>0</th>\n",
       "      <td>1</td>\n",
       "      <td>NaN</td>\n",
       "      <td>NaN</td>\n",
       "      <td>Our Deeds are the Reason of this #earthquake M...</td>\n",
       "      <td>1</td>\n",
       "    </tr>\n",
       "    <tr>\n",
       "      <th>1</th>\n",
       "      <td>4</td>\n",
       "      <td>NaN</td>\n",
       "      <td>NaN</td>\n",
       "      <td>Forest fire near La Ronge Sask. Canada</td>\n",
       "      <td>1</td>\n",
       "    </tr>\n",
       "    <tr>\n",
       "      <th>2</th>\n",
       "      <td>5</td>\n",
       "      <td>NaN</td>\n",
       "      <td>NaN</td>\n",
       "      <td>All residents asked to 'shelter in place' are ...</td>\n",
       "      <td>1</td>\n",
       "    </tr>\n",
       "    <tr>\n",
       "      <th>3</th>\n",
       "      <td>6</td>\n",
       "      <td>NaN</td>\n",
       "      <td>NaN</td>\n",
       "      <td>13,000 people receive #wildfires evacuation or...</td>\n",
       "      <td>1</td>\n",
       "    </tr>\n",
       "    <tr>\n",
       "      <th>4</th>\n",
       "      <td>7</td>\n",
       "      <td>NaN</td>\n",
       "      <td>NaN</td>\n",
       "      <td>Just got sent this photo from Ruby #Alaska as ...</td>\n",
       "      <td>1</td>\n",
       "    </tr>\n",
       "  </tbody>\n",
       "</table>\n",
       "</div>"
      ],
      "text/plain": [
       "   id keyword location                                               text  \\\n",
       "0   1     NaN      NaN  Our Deeds are the Reason of this #earthquake M...   \n",
       "1   4     NaN      NaN             Forest fire near La Ronge Sask. Canada   \n",
       "2   5     NaN      NaN  All residents asked to 'shelter in place' are ...   \n",
       "3   6     NaN      NaN  13,000 people receive #wildfires evacuation or...   \n",
       "4   7     NaN      NaN  Just got sent this photo from Ruby #Alaska as ...   \n",
       "\n",
       "   target  \n",
       "0       1  \n",
       "1       1  \n",
       "2       1  \n",
       "3       1  \n",
       "4       1  "
      ]
     },
     "execution_count": 3,
     "metadata": {},
     "output_type": "execute_result"
    }
   ],
   "source": [
    "tweets.head()"
   ]
  },
  {
   "cell_type": "code",
   "execution_count": 4,
   "id": "1d05f975",
   "metadata": {},
   "outputs": [],
   "source": [
    "tweets.drop([\"id\", \"keyword\", \"location\"], axis = 1, inplace=True)"
   ]
  },
  {
   "cell_type": "code",
   "execution_count": 5,
   "id": "727c64e6",
   "metadata": {},
   "outputs": [
    {
     "data": {
      "text/plain": [
       "text      0\n",
       "target    0\n",
       "dtype: int64"
      ]
     },
     "execution_count": 5,
     "metadata": {},
     "output_type": "execute_result"
    }
   ],
   "source": [
    "tweets.isnull().sum()"
   ]
  },
  {
   "cell_type": "markdown",
   "id": "05dc9c48",
   "metadata": {},
   "source": [
    "# Data Preprocessing and Normalization"
   ]
  },
  {
   "cell_type": "code",
   "execution_count": 6,
   "id": "89dc0eb1",
   "metadata": {},
   "outputs": [],
   "source": [
    "def strip_html_tags(text):\n",
    "    \"\"\"\n",
    "    This function removes unnecessary HTML tags in the corpus. \n",
    "    \n",
    "    test: corpus of text data\n",
    "    \n",
    "    returns: text with no HTML\n",
    "\n",
    "    \"\"\"\n",
    "    soup = BeautifulSoup(text, \"html.parser\")\n",
    "    [s.extract() for s in soup([\"iframe\", \"script\"])]\n",
    "    stripped_text = soup.get_text()\n",
    "    stripped_text = re.sub(r'[\\r|\\n|\\r\\n]+', '\\n', stripped_text)\n",
    "    \n",
    "    return stripped_text"
   ]
  },
  {
   "cell_type": "code",
   "execution_count": 7,
   "id": "1012001d",
   "metadata": {},
   "outputs": [],
   "source": [
    "def text_tokenizer(text):\n",
    "    \"\"\"\n",
    "    This function takes a corpus and tokenizes it into sentences\n",
    "    Parameters\n",
    "    \n",
    "    test: String containing the corpus\n",
    "    \n",
    "    returns: Corpus of tokenized sentences\n",
    "\n",
    "    \"\"\"\n",
    "    tokenizer = nltk.sent_tokenize\n",
    "    sentence_tokens = tokenizer(text=text)\n",
    "    return sentence_tokens \n"
   ]
  },
  {
   "cell_type": "code",
   "execution_count": 8,
   "id": "0b0ea3da",
   "metadata": {},
   "outputs": [],
   "source": [
    "def word_tokenizer(text):\n",
    "    \"\"\"\n",
    "    This function takes a corpus and splits the sentences into words\n",
    "    \n",
    "    test: String of tokenized sentences\n",
    "    \n",
    "    returns: Array of tokenized words\n",
    "\n",
    "    \"\"\"\n",
    "    tokenizer = nltk.word_tokenize\n",
    "    word_tokens = tokenizer(text)\n",
    "    return np.array(word_tokens)\n"
   ]
  },
  {
   "cell_type": "code",
   "execution_count": 9,
   "id": "44065fa7",
   "metadata": {},
   "outputs": [],
   "source": [
    "def remove_accented_chars(text):\n",
    "    \"\"\"\n",
    "    This function removes accented characters from the corpus using ASCII\n",
    "    characters\n",
    "    \n",
    "    text: String corpus of text data\n",
    "    \n",
    "    returns: Corpus with all characters converted and standardized into ASCII characters\n",
    "\n",
    "    \"\"\"\n",
    "    \n",
    "    text = unicodedata.normalize('NFKD', text).encode('ascii', 'ignore').decode('utf-8', 'ignore')\n",
    "    return text"
   ]
  },
  {
   "cell_type": "code",
   "execution_count": 10,
   "id": "f6b276c9",
   "metadata": {},
   "outputs": [],
   "source": [
    "#This map was gotten from the internet\n",
    "\n",
    "CONTRACTION_MAP = {\n",
    "\"ain't\": \"is not\",\n",
    "\"aren't\": \"are not\",\n",
    "\"can't\": \"cannot\",\n",
    "\"can't've\": \"cannot have\",\n",
    "\"'cause\": \"because\",\n",
    "\"could've\": \"could have\",\n",
    "\"couldn't\": \"could not\",\n",
    "\"couldn't've\": \"could not have\",\n",
    "\"didn't\": \"did not\",\n",
    "\"doesn't\": \"does not\",\n",
    "\"don't\": \"do not\",\n",
    "\"hadn't\": \"had not\",\n",
    "\"hadn't've\": \"had not have\",\n",
    "\"hasn't\": \"has not\",\n",
    "\"haven't\": \"have not\",\n",
    "\"he'd\": \"he would\",\n",
    "\"he'd've\": \"he would have\",\n",
    "\"he'll\": \"he will\",\n",
    "\"he'll've\": \"he he will have\",\n",
    "\"he's\": \"he is\",\n",
    "\"how'd\": \"how did\",\n",
    "\"how'd'y\": \"how do you\",\n",
    "\"how'll\": \"how will\",\n",
    "\"how's\": \"how is\",\n",
    "\"I'd\": \"I would\",\n",
    "\"I'd've\": \"I would have\",\n",
    "\"I'll\": \"I will\",\n",
    "\"I'll've\": \"I will have\",\n",
    "\"I'm\": \"I am\",\n",
    "\"I've\": \"I have\",\n",
    "\"i'd\": \"i would\",\n",
    "\"i'd've\": \"i would have\",\n",
    "\"i'll\": \"i will\",\n",
    "\"i'll've\": \"i will have\",\n",
    "\"i'm\": \"i am\",\n",
    "\"i've\": \"i have\",\n",
    "\"isn't\": \"is not\",\n",
    "\"it'd\": \"it would\",\n",
    "\"it'd've\": \"it would have\",\n",
    "\"it'll\": \"it will\",\n",
    "\"it'll've\": \"it will have\",\n",
    "\"it's\": \"it is\",\n",
    "\"let's\": \"let us\",\n",
    "\"ma'am\": \"madam\",\n",
    "\"mayn't\": \"may not\",\n",
    "\"might've\": \"might have\",\n",
    "\"mightn't\": \"might not\",\n",
    "\"mightn't've\": \"might not have\",\n",
    "\"must've\": \"must have\",\n",
    "\"mustn't\": \"must not\",\n",
    "\"mustn't've\": \"must not have\",\n",
    "\"needn't\": \"need not\",\n",
    "\"needn't've\": \"need not have\",\n",
    "\"o'clock\": \"of the clock\",\n",
    "\"oughtn't\": \"ought not\",\n",
    "\"oughtn't've\": \"ought not have\",\n",
    "\"shan't\": \"shall not\",\n",
    "\"sha'n't\": \"shall not\",\n",
    "\"shan't've\": \"shall not have\",\n",
    "\"she'd\": \"she would\",\n",
    "\"she'd've\": \"she would have\",\n",
    "\"she'll\": \"she will\",\n",
    "\"she'll've\": \"she will have\",\n",
    "\"she's\": \"she is\",\n",
    "\"should've\": \"should have\",\n",
    "\"shouldn't\": \"should not\",\n",
    "\"shouldn't've\": \"should not have\",\n",
    "\"so've\": \"so have\",\n",
    "\"so's\": \"so as\",\n",
    "\"that'd\": \"that would\",\n",
    "\"that'd've\": \"that would have\",\n",
    "\"that's\": \"that is\",\n",
    "\"there'd\": \"there would\",\n",
    "\"there'd've\": \"there would have\",\n",
    "\"there's\": \"there is\",\n",
    "\"they'd\": \"they would\",\n",
    "\"they'd've\": \"they would have\",\n",
    "\"they'll\": \"they will\",\n",
    "\"they'll've\": \"they will have\",\n",
    "\"they're\": \"they are\",\n",
    "\"they've\": \"they have\",\n",
    "\"to've\": \"to have\",\n",
    "\"wasn't\": \"was not\",\n",
    "\"we'd\": \"we would\",\n",
    "\"we'd've\": \"we would have\",\n",
    "\"we'll\": \"we will\",\n",
    "\"we'll've\": \"we will have\",\n",
    "\"we're\": \"we are\",\n",
    "\"we've\": \"we have\",\n",
    "\"weren't\": \"were not\",\n",
    "\"what'll\": \"what will\",\n",
    "\"what'll've\": \"what will have\",\n",
    "\"what're\": \"what are\",\n",
    "\"what's\": \"what is\",\n",
    "\"what've\": \"what have\",\n",
    "\"when's\": \"when is\",\n",
    "\"when've\": \"when have\",\n",
    "\"where'd\": \"where did\",\n",
    "\"where's\": \"where is\",\n",
    "\"where've\": \"where have\",\n",
    "\"who'll\": \"who will\",\n",
    "\"who'll've\": \"who will have\",\n",
    "\"who's\": \"who is\",\n",
    "\"who've\": \"who have\",\n",
    "\"why's\": \"why is\",\n",
    "\"why've\": \"why have\",\n",
    "\"will've\": \"will have\",\n",
    "\"won't\": \"will not\",\n",
    "\"won't've\": \"will not have\",\n",
    "\"would've\": \"would have\",\n",
    "\"wouldn't\": \"would not\",\n",
    "\"wouldn't've\": \"would not have\",\n",
    "\"y'all\": \"you all\",\n",
    "\"y'all'd\": \"you all would\",\n",
    "\"y'all'd've\": \"you all would have\",\n",
    "\"y'all're\": \"you all are\",\n",
    "\"y'all've\": \"you all have\",\n",
    "\"you'd\": \"you would\",\n",
    "\"you'd've\": \"you would have\",\n",
    "\"you'll\": \"you will\",\n",
    "\"you'll've\": \"you will have\",\n",
    "\"you're\": \"you are\",\n",
    "\"you've\": \"you have\"}\n",
    "\n",
    "def expand_contractions(text, contraction_mapping = CONTRACTION_MAP):\n",
    "    \"\"\"\n",
    "    This function takes a corpus of text data and expands all contractions\n",
    "    bassed on the contraction mapping\n",
    "    \n",
    "    text: String corpus of text data\n",
    "    \n",
    "    returns: Text corpus with all contractions expanded\n",
    "\n",
    "    \"\"\"\n",
    "    contractions_pattern = re.compile('({})'.format('|'.join(contraction_mapping.keys())),\n",
    "                                      flags=re.IGNORECASE|re.DOTALL)\n",
    "    def expand_match(contraction):\n",
    "        match = contraction.group(0)\n",
    "        first_char = match[0]\n",
    "        expanded_contraction = contraction_mapping.get(match)\\\n",
    "                                if contraction_mapping.get(match)\\\n",
    "                                    else contraction_mapping.get(match.lower())\n",
    "        expanded_contraction = first_char + expanded_contraction[1:]\n",
    "        return expanded_contraction\n",
    "    \n",
    "    expanded_text = contractions_pattern.sub(expand_match, text)\n",
    "    expanded_text = re.sub(\"'\", \"\", expanded_text)\n",
    "    return expanded_text"
   ]
  },
  {
   "cell_type": "code",
   "execution_count": 11,
   "id": "6c0c7878",
   "metadata": {},
   "outputs": [],
   "source": [
    "def remove_special_characters(text, remove_digits = False):\n",
    "    \"\"\"\n",
    "    This function returns the text corpus with all special characters removed with the option\n",
    "    to remove digits\n",
    "    \n",
    "    text: String corpus\n",
    "    \n",
    "    returns: Text corpus with special characters removed\n",
    "\n",
    "    \"\"\"\n",
    "    pattern = r'[^a-zA-z0-9\\s]' if not remove_digits else r'[^a-zA-z\\s]'\n",
    "    text = re.sub(pattern, '', text)\n",
    "    return text"
   ]
  },
  {
   "cell_type": "code",
   "execution_count": 12,
   "id": "9570e702",
   "metadata": {},
   "outputs": [],
   "source": [
    "def case_conversation(text, text_lower = True):\n",
    "    \"\"\"\n",
    "    This function returns the corpus with all tokens lowercase or uppercase\n",
    "    \n",
    "    text: String corpus\n",
    "    text_lower: Boolen, default is True\n",
    "    \n",
    "    returns: Text corpus with all tokens converted\n",
    "\n",
    "    \"\"\"\n",
    "    if text_lower:\n",
    "        return text.lower()\n",
    "    else:\n",
    "        return text.upper()"
   ]
  },
  {
   "cell_type": "code",
   "execution_count": 13,
   "id": "62a7bc17",
   "metadata": {},
   "outputs": [],
   "source": [
    "nlp = spacy.load('en_core_web_sm')\n",
    "def lemmatize(text):\n",
    "    \"\"\"\n",
    "    This function returns the lemmatized text corpus. Gives correct spelling. \n",
    "\n",
    "    text: String corpus\n",
    "    \n",
    "    returns: String of lemmatized text corpus\n",
    "    \"\"\"\n",
    "    text = nlp(text)\n",
    "    text = ' '.join([word.lemma_ if word.lemma_ != '-PRON-' else word.text for word in text])\n",
    "    return text"
   ]
  },
  {
   "cell_type": "code",
   "execution_count": 14,
   "id": "f2dae80c",
   "metadata": {},
   "outputs": [],
   "source": [
    "def remove_stopwords(text, is_lower_case=False):\n",
    "    \"\"\"\n",
    "    This function removes all the stopwords from the text corpus based on the pre-existing \n",
    "    list of stopwords from nltk. \n",
    "    \n",
    "    text: String corpus\n",
    "    is_lower_case: Boolean to make the corpus lower case\n",
    "    \n",
    "    returns: String corpus with stopwords removed\n",
    "\n",
    "    \"\"\"\n",
    "    tokens = tokenizer.tokenize(text)\n",
    "    tokens = [token.strip() for token in tokens]\n",
    "    \n",
    "    if is_lower_case:\n",
    "        filtered_tokens = [token for token in tokens if token not in stopword_list]\n",
    "    else:\n",
    "        filtered_tokens = [token for token in tokens if token.lower() not in stopword_list]\n",
    "        \n",
    "    filtered_text = ' '.join(filtered_tokens)\n",
    "    \n",
    "    return filtered_text"
   ]
  },
  {
   "cell_type": "code",
   "execution_count": 15,
   "id": "ab1a5354",
   "metadata": {},
   "outputs": [],
   "source": [
    "tokenizer = ToktokTokenizer()\n",
    "stopword_list = nltk.corpus.stopwords.words('english')\n",
    "\n",
    "def normalize_corpus(corpus, html_stripping = True, contraction_expansion = True, accented_char_removal = True, \n",
    "                     text_lower_case = True, text_lemmatization = True, special_char_removal = True, stopword_removal=True, \n",
    "                     remove_digits = True):\n",
    "    \"\"\"\n",
    "    This function normalizes the text corpus based on all the functions above. \n",
    "\n",
    "    corpus : Text corpus\n",
    "    html_stripping : boolean, optional\n",
    "        Controls if the text corpus is stripped of htmls\n",
    "    contraction_expansion : boolean, optional\n",
    "        Controls if the text corpus has its contractions extraction\n",
    "    accented_char_removal : boolean, optional\n",
    "        Controls if the text corpus has its accented characters removed\n",
    "    text_lower_case : boolean, optional\n",
    "        Controls if the text corpus has its text changed to lower case\n",
    "    correct_spelling : boolean, optional\n",
    "        Controls if the text corpus has its spelling corrected\n",
    "    text_lemmatization : boolean, optional\n",
    "        Controls if the text corpus his its words lemmatized\n",
    "    special_char_removal : boolean, optional\n",
    "        Controls if the text corpus has its special characters removed\n",
    "    stopword_removal : boolean, optional\n",
    "        Controls if the text corpus has its stopwords removed\n",
    "    remove_digits : boolean, optional\n",
    "        Controls if the text corpus has its digits removed\n",
    "\n",
    "    returns: String of normalized text corpus\n",
    "    \"\"\"\n",
    "    \n",
    "    normalized_corpus = []\n",
    "\n",
    "    for doc in corpus:\n",
    "        \n",
    "        if html_stripping:\n",
    "            doc = strip_html_tags(doc)\n",
    "            \n",
    "        if accented_char_removal:\n",
    "            doc = remove_accented_chars(doc)\n",
    "            \n",
    "        if contraction_expansion:\n",
    "            doc = expand_contractions(doc)\n",
    "            \n",
    "        if text_lower_case:\n",
    "            doc = case_conversation(doc)\n",
    "            \n",
    "        #Remove extra newlines\n",
    "        doc = re.sub(r'[\\r|\\n|\\r\\n]+', ' ', doc)\n",
    "            \n",
    "        if text_lemmatization:\n",
    "            doc = lemmatize(doc)\n",
    "            \n",
    "        if special_char_removal:\n",
    "            special_char_pattern = re.compile(r'([{.(-)!}])')\n",
    "            doc = special_char_pattern.sub(\" \\\\1 \", doc)\n",
    "            doc = remove_special_characters(doc, remove_digits=remove_digits)\n",
    "            \n",
    "        #Removes extra whitespace\n",
    "        doc = re.sub(' +', ' ', doc)\n",
    "        \n",
    "        if stopword_removal:\n",
    "            doc = remove_stopwords(doc, is_lower_case=text_lower_case)\n",
    "            \n",
    "        normalized_corpus.append(doc)\n",
    "        \n",
    "    return normalized_corpus"
   ]
  },
  {
   "cell_type": "markdown",
   "id": "76f3dffa",
   "metadata": {},
   "source": [
    "### Normalize the Corpus of Tweets"
   ]
  },
  {
   "cell_type": "code",
   "execution_count": 16,
   "id": "e2d9b5c2",
   "metadata": {},
   "outputs": [
    {
     "name": "stdout",
     "output_type": "stream",
     "text": [
      "Wall time: 1min 27s\n"
     ]
    }
   ],
   "source": [
    "%%time\n",
    "stopword_list.remove(\"no\")\n",
    "stopword_list.remove(\"not\")\n",
    "\n",
    "corpus = tweets[\"text\"]\n",
    "norm_corpus = np.array(normalize_corpus(corpus))\n",
    "\n",
    "tweets[\"Clean Tweets\"] = norm_corpus"
   ]
  },
  {
   "cell_type": "code",
   "execution_count": 18,
   "id": "6074dcd5",
   "metadata": {},
   "outputs": [
    {
     "data": {
      "text/html": [
       "<div>\n",
       "<style scoped>\n",
       "    .dataframe tbody tr th:only-of-type {\n",
       "        vertical-align: middle;\n",
       "    }\n",
       "\n",
       "    .dataframe tbody tr th {\n",
       "        vertical-align: top;\n",
       "    }\n",
       "\n",
       "    .dataframe thead th {\n",
       "        text-align: right;\n",
       "    }\n",
       "</style>\n",
       "<table border=\"1\" class=\"dataframe\">\n",
       "  <thead>\n",
       "    <tr style=\"text-align: right;\">\n",
       "      <th></th>\n",
       "      <th>text</th>\n",
       "      <th>target</th>\n",
       "      <th>Clean Tweets</th>\n",
       "    </tr>\n",
       "  </thead>\n",
       "  <tbody>\n",
       "    <tr>\n",
       "      <th>0</th>\n",
       "      <td>Our Deeds are the Reason of this #earthquake May ALLAH Forgive us all</td>\n",
       "      <td>1</td>\n",
       "      <td>deed reason earthquake may allah forgive</td>\n",
       "    </tr>\n",
       "    <tr>\n",
       "      <th>1</th>\n",
       "      <td>Forest fire near La Ronge Sask. Canada</td>\n",
       "      <td>1</td>\n",
       "      <td>forest fire near la ronge sask canada</td>\n",
       "    </tr>\n",
       "    <tr>\n",
       "      <th>2</th>\n",
       "      <td>All residents asked to 'shelter in place' are being notified by officers. No other evacuation or shelter in place orders are expected</td>\n",
       "      <td>1</td>\n",
       "      <td>resident ask shelter place notify officer no evacuation shelter place order expect</td>\n",
       "    </tr>\n",
       "    <tr>\n",
       "      <th>3</th>\n",
       "      <td>13,000 people receive #wildfires evacuation orders in California</td>\n",
       "      <td>1</td>\n",
       "      <td>people receive wildfire evacuation order california</td>\n",
       "    </tr>\n",
       "    <tr>\n",
       "      <th>4</th>\n",
       "      <td>Just got sent this photo from Ruby #Alaska as smoke from #wildfires pours into a school</td>\n",
       "      <td>1</td>\n",
       "      <td>got send photo ruby alaska smoke wildfire pour school</td>\n",
       "    </tr>\n",
       "    <tr>\n",
       "      <th>5</th>\n",
       "      <td>#RockyFire Update =&gt; California Hwy. 20 closed in both directions due to Lake County fire - #CAfire #wildfires</td>\n",
       "      <td>1</td>\n",
       "      <td>rockyfire update california hwy close direction due lake county fire cafire wildfire</td>\n",
       "    </tr>\n",
       "    <tr>\n",
       "      <th>6</th>\n",
       "      <td>#flood #disaster Heavy rain causes flash flooding of streets in Manitou, Colorado Springs areas</td>\n",
       "      <td>1</td>\n",
       "      <td>flood disaster heavy rain cause flash flooding street manitou colorado spring area</td>\n",
       "    </tr>\n",
       "    <tr>\n",
       "      <th>7</th>\n",
       "      <td>I'm on top of the hill and I can see a fire in the woods...</td>\n",
       "      <td>1</td>\n",
       "      <td>I top hill I see fire wood</td>\n",
       "    </tr>\n",
       "    <tr>\n",
       "      <th>8</th>\n",
       "      <td>There's an emergency evacuation happening now in the building across the street</td>\n",
       "      <td>1</td>\n",
       "      <td>emergency evacuation happen building across street</td>\n",
       "    </tr>\n",
       "    <tr>\n",
       "      <th>9</th>\n",
       "      <td>I'm afraid that the tornado is coming to our area...</td>\n",
       "      <td>1</td>\n",
       "      <td>I afraid tornado come area</td>\n",
       "    </tr>\n",
       "  </tbody>\n",
       "</table>\n",
       "</div>"
      ],
      "text/plain": [
       "                                                                                                                                    text  \\\n",
       "0  Our Deeds are the Reason of this #earthquake May ALLAH Forgive us all                                                                   \n",
       "1  Forest fire near La Ronge Sask. Canada                                                                                                  \n",
       "2  All residents asked to 'shelter in place' are being notified by officers. No other evacuation or shelter in place orders are expected   \n",
       "3  13,000 people receive #wildfires evacuation orders in California                                                                        \n",
       "4  Just got sent this photo from Ruby #Alaska as smoke from #wildfires pours into a school                                                 \n",
       "5  #RockyFire Update => California Hwy. 20 closed in both directions due to Lake County fire - #CAfire #wildfires                          \n",
       "6  #flood #disaster Heavy rain causes flash flooding of streets in Manitou, Colorado Springs areas                                         \n",
       "7  I'm on top of the hill and I can see a fire in the woods...                                                                             \n",
       "8  There's an emergency evacuation happening now in the building across the street                                                         \n",
       "9  I'm afraid that the tornado is coming to our area...                                                                                    \n",
       "\n",
       "   target  \\\n",
       "0  1        \n",
       "1  1        \n",
       "2  1        \n",
       "3  1        \n",
       "4  1        \n",
       "5  1        \n",
       "6  1        \n",
       "7  1        \n",
       "8  1        \n",
       "9  1        \n",
       "\n",
       "                                                                           Clean Tweets  \n",
       "0  deed reason earthquake may allah forgive                                              \n",
       "1  forest fire near la ronge sask canada                                                 \n",
       "2  resident ask shelter place notify officer no evacuation shelter place order expect    \n",
       "3  people receive wildfire evacuation order california                                   \n",
       "4  got send photo ruby alaska smoke wildfire pour school                                 \n",
       "5  rockyfire update california hwy close direction due lake county fire cafire wildfire  \n",
       "6  flood disaster heavy rain cause flash flooding street manitou colorado spring area    \n",
       "7  I top hill I see fire wood                                                            \n",
       "8  emergency evacuation happen building across street                                    \n",
       "9  I afraid tornado come area                                                            "
      ]
     },
     "execution_count": 18,
     "metadata": {},
     "output_type": "execute_result"
    }
   ],
   "source": [
    "pd.set_option('display.max_colwidth', 2)\n",
    "tweets.head(n=10)"
   ]
  },
  {
   "cell_type": "markdown",
   "id": "1c47aa32",
   "metadata": {},
   "source": [
    "Check if normalizing resulted in any rows having a missing value"
   ]
  },
  {
   "cell_type": "code",
   "execution_count": 20,
   "id": "208772c2",
   "metadata": {},
   "outputs": [
    {
     "data": {
      "text/plain": [
       "text          0\n",
       "target        0\n",
       "Clean Text    0\n",
       "dtype: int64"
      ]
     },
     "execution_count": 20,
     "metadata": {},
     "output_type": "execute_result"
    }
   ],
   "source": [
    "tweets = tweets.replace(r'^(\\s)+$', np.nan, regex = True)\n",
    "tweets.isnull().sum()"
   ]
  },
  {
   "cell_type": "markdown",
   "id": "9153bcb5",
   "metadata": {},
   "source": [
    "## Analyze Word Occurence in Safe Tweets"
   ]
  },
  {
   "cell_type": "markdown",
   "id": "1f8772d2",
   "metadata": {},
   "source": [
    "### Analyze the most common words"
   ]
  },
  {
   "cell_type": "code",
   "execution_count": 77,
   "id": "afec5c07",
   "metadata": {},
   "outputs": [
    {
     "data": {
      "text/html": [
       "<div>\n",
       "<style scoped>\n",
       "    .dataframe tbody tr th:only-of-type {\n",
       "        vertical-align: middle;\n",
       "    }\n",
       "\n",
       "    .dataframe tbody tr th {\n",
       "        vertical-align: top;\n",
       "    }\n",
       "\n",
       "    .dataframe thead th {\n",
       "        text-align: right;\n",
       "    }\n",
       "</style>\n",
       "<table border=\"1\" class=\"dataframe\">\n",
       "  <thead>\n",
       "    <tr style=\"text-align: right;\">\n",
       "      <th></th>\n",
       "      <th>Word</th>\n",
       "      <th>Count</th>\n",
       "      <th>Percentage</th>\n",
       "    </tr>\n",
       "  </thead>\n",
       "  <tbody>\n",
       "    <tr>\n",
       "      <th>0</th>\n",
       "      <td>httpt</td>\n",
       "      <td>4307</td>\n",
       "      <td>5.244764</td>\n",
       "    </tr>\n",
       "    <tr>\n",
       "      <th>1</th>\n",
       "      <td>I</td>\n",
       "      <td>2104</td>\n",
       "      <td>2.562104</td>\n",
       "    </tr>\n",
       "    <tr>\n",
       "      <th>2</th>\n",
       "      <td>not</td>\n",
       "      <td>754</td>\n",
       "      <td>0.918169</td>\n",
       "    </tr>\n",
       "    <tr>\n",
       "      <th>3</th>\n",
       "      <td>_</td>\n",
       "      <td>423</td>\n",
       "      <td>0.515100</td>\n",
       "    </tr>\n",
       "    <tr>\n",
       "      <th>4</th>\n",
       "      <td>httpst</td>\n",
       "      <td>409</td>\n",
       "      <td>0.498052</td>\n",
       "    </tr>\n",
       "    <tr>\n",
       "      <th>5</th>\n",
       "      <td>like</td>\n",
       "      <td>395</td>\n",
       "      <td>0.481003</td>\n",
       "    </tr>\n",
       "    <tr>\n",
       "      <th>6</th>\n",
       "      <td>get</td>\n",
       "      <td>375</td>\n",
       "      <td>0.456649</td>\n",
       "    </tr>\n",
       "    <tr>\n",
       "      <th>7</th>\n",
       "      <td>fire</td>\n",
       "      <td>359</td>\n",
       "      <td>0.437165</td>\n",
       "    </tr>\n",
       "    <tr>\n",
       "      <th>8</th>\n",
       "      <td>go</td>\n",
       "      <td>276</td>\n",
       "      <td>0.336094</td>\n",
       "    </tr>\n",
       "    <tr>\n",
       "      <th>9</th>\n",
       "      <td>no</td>\n",
       "      <td>266</td>\n",
       "      <td>0.323916</td>\n",
       "    </tr>\n",
       "  </tbody>\n",
       "</table>\n",
       "</div>"
      ],
      "text/plain": [
       "     Word  Count  Percentage\n",
       "0  httpt   4307   5.244764  \n",
       "1  I       2104   2.562104  \n",
       "2  not     754    0.918169  \n",
       "3  _       423    0.515100  \n",
       "4  httpst  409    0.498052  \n",
       "5  like    395    0.481003  \n",
       "6  get     375    0.456649  \n",
       "7  fire    359    0.437165  \n",
       "8  go      276    0.336094  \n",
       "9  no      266    0.323916  "
      ]
     },
     "execution_count": 77,
     "metadata": {},
     "output_type": "execute_result"
    }
   ],
   "source": [
    "# Create a list of all words used in safe tweets\n",
    "words = [word for row in tweets[\"Clean Tweets\"] for word in row.split()]\n",
    "# Create a counter to count the words\n",
    "word_cnt = Counter(words)\n",
    "# Create a dictionary of the words\n",
    "word_dict = dict(word_cnt.most_common())\n",
    "# Create a dataframe with words and their count\n",
    "word_df = pd.DataFrame({\"Word\": word_dict.keys(), \"Count\": word_dict.values()})\n",
    "# Create a new column with the word percentage\n",
    "word_df[\"Percentage\"] = (word_df[\"Count\"] / len(words)) * 100\n",
    "word_df.head(n=10)"
   ]
  },
  {
   "cell_type": "code",
   "execution_count": 30,
   "id": "cb97c900",
   "metadata": {},
   "outputs": [
    {
     "data": {
      "text/plain": [
       "18954"
      ]
     },
     "execution_count": 30,
     "metadata": {},
     "output_type": "execute_result"
    }
   ],
   "source": [
    "#How many unique \"words\" are in the data\n",
    "word_df.shape[0]"
   ]
  },
  {
   "cell_type": "code",
   "execution_count": 22,
   "id": "09917a6b",
   "metadata": {},
   "outputs": [
    {
     "data": {
      "text/plain": [
       "Text(0.5, 1.0, 'Top 30 Words By Percentage')"
      ]
     },
     "execution_count": 22,
     "metadata": {},
     "output_type": "execute_result"
    },
    {
     "data": {
      "image/png": "[encoded data removed]",
      "text/plain": [
       "<Figure size 864x720 with 1 Axes>"
      ]
     },
     "metadata": {},
     "output_type": "display_data"
    }
   ],
   "source": [
    "#Plot the top 30 words ranked by their percentage\n",
    "sns.set(rc = {'figure.figsize':(12,10)})\n",
    "sns.barplot(x=\"Percentage\", y=\"Word\", data = word_df[:30], color = \"teal\")\n",
    "plt.title(\"Top 30 Words By Percentage\")"
   ]
  },
  {
   "cell_type": "code",
   "execution_count": 72,
   "id": "7b0d932a",
   "metadata": {},
   "outputs": [
    {
     "data": {
      "text/html": [
       "<div>\n",
       "<style scoped>\n",
       "    .dataframe tbody tr th:only-of-type {\n",
       "        vertical-align: middle;\n",
       "    }\n",
       "\n",
       "    .dataframe tbody tr th {\n",
       "        vertical-align: top;\n",
       "    }\n",
       "\n",
       "    .dataframe thead th {\n",
       "        text-align: right;\n",
       "    }\n",
       "</style>\n",
       "<table border=\"1\" class=\"dataframe\">\n",
       "  <thead>\n",
       "    <tr style=\"text-align: right;\">\n",
       "      <th></th>\n",
       "      <th>Number of Words</th>\n",
       "      <th>Word Occurrence</th>\n",
       "    </tr>\n",
       "  </thead>\n",
       "  <tbody>\n",
       "    <tr>\n",
       "      <th>0</th>\n",
       "      <td>13456</td>\n",
       "      <td>1</td>\n",
       "    </tr>\n",
       "    <tr>\n",
       "      <th>1</th>\n",
       "      <td>1785</td>\n",
       "      <td>2</td>\n",
       "    </tr>\n",
       "    <tr>\n",
       "      <th>2</th>\n",
       "      <td>793</td>\n",
       "      <td>3</td>\n",
       "    </tr>\n",
       "    <tr>\n",
       "      <th>3</th>\n",
       "      <td>512</td>\n",
       "      <td>4</td>\n",
       "    </tr>\n",
       "    <tr>\n",
       "      <th>4</th>\n",
       "      <td>371</td>\n",
       "      <td>5</td>\n",
       "    </tr>\n",
       "    <tr>\n",
       "      <th>...</th>\n",
       "      <td>...</td>\n",
       "      <td>...</td>\n",
       "    </tr>\n",
       "    <tr>\n",
       "      <th>137</th>\n",
       "      <td>1</td>\n",
       "      <td>409</td>\n",
       "    </tr>\n",
       "    <tr>\n",
       "      <th>144</th>\n",
       "      <td>1</td>\n",
       "      <td>423</td>\n",
       "    </tr>\n",
       "    <tr>\n",
       "      <th>120</th>\n",
       "      <td>1</td>\n",
       "      <td>754</td>\n",
       "    </tr>\n",
       "    <tr>\n",
       "      <th>134</th>\n",
       "      <td>1</td>\n",
       "      <td>2104</td>\n",
       "    </tr>\n",
       "    <tr>\n",
       "      <th>114</th>\n",
       "      <td>1</td>\n",
       "      <td>4307</td>\n",
       "    </tr>\n",
       "  </tbody>\n",
       "</table>\n",
       "<p>152 rows × 2 columns</p>\n",
       "</div>"
      ],
      "text/plain": [
       "     Number of Words  Word Occurrence\n",
       "0    13456            1              \n",
       "1    1785             2              \n",
       "2    793              3              \n",
       "3    512              4              \n",
       "4    371              5              \n",
       "..   ...             ..              \n",
       "137  1                409            \n",
       "144  1                423            \n",
       "120  1                754            \n",
       "134  1                2104           \n",
       "114  1                4307           \n",
       "\n",
       "[152 rows x 2 columns]"
      ]
     },
     "execution_count": 72,
     "metadata": {},
     "output_type": "execute_result"
    }
   ],
   "source": [
    "word_grp_df = pd.DataFrame(word_df[\"Count\"]\\\n",
    "                                           .value_counts()\\\n",
    "                                           .reset_index()\\\n",
    "                                           .rename(columns={\"index\": \"Word Occurrence\", \"Count\" :\"Number of Words\"}))\\\n",
    "                                            .sort_values(by=\"Word Occurrence\")\n",
    "word_grp_df[[\"Number of Words\", \"Word Occurrence\"]]"
   ]
  },
  {
   "cell_type": "code",
   "execution_count": 24,
   "id": "2f0e0a71",
   "metadata": {},
   "outputs": [
    {
     "data": {
      "text/html": [
       "<div>\n",
       "<style scoped>\n",
       "    .dataframe tbody tr th:only-of-type {\n",
       "        vertical-align: middle;\n",
       "    }\n",
       "\n",
       "    .dataframe tbody tr th {\n",
       "        vertical-align: top;\n",
       "    }\n",
       "\n",
       "    .dataframe thead th {\n",
       "        text-align: right;\n",
       "    }\n",
       "</style>\n",
       "<table border=\"1\" class=\"dataframe\">\n",
       "  <thead>\n",
       "    <tr style=\"text-align: right;\">\n",
       "      <th></th>\n",
       "      <th>Word</th>\n",
       "      <th>Count</th>\n",
       "      <th>Percentage</th>\n",
       "    </tr>\n",
       "  </thead>\n",
       "  <tbody>\n",
       "    <tr>\n",
       "      <th>5498</th>\n",
       "      <td>ronge</td>\n",
       "      <td>1</td>\n",
       "      <td>0.001218</td>\n",
       "    </tr>\n",
       "    <tr>\n",
       "      <th>5499</th>\n",
       "      <td>sask</td>\n",
       "      <td>1</td>\n",
       "      <td>0.001218</td>\n",
       "    </tr>\n",
       "    <tr>\n",
       "      <th>5500</th>\n",
       "      <td>notify</td>\n",
       "      <td>1</td>\n",
       "      <td>0.001218</td>\n",
       "    </tr>\n",
       "    <tr>\n",
       "      <th>5501</th>\n",
       "      <td>ruby</td>\n",
       "      <td>1</td>\n",
       "      <td>0.001218</td>\n",
       "    </tr>\n",
       "    <tr>\n",
       "      <th>5502</th>\n",
       "      <td>manitou</td>\n",
       "      <td>1</td>\n",
       "      <td>0.001218</td>\n",
       "    </tr>\n",
       "    <tr>\n",
       "      <th>5503</th>\n",
       "      <td>fvck</td>\n",
       "      <td>1</td>\n",
       "      <td>0.001218</td>\n",
       "    </tr>\n",
       "    <tr>\n",
       "      <th>5504</th>\n",
       "      <td>tampabay</td>\n",
       "      <td>1</td>\n",
       "      <td>0.001218</td>\n",
       "    </tr>\n",
       "    <tr>\n",
       "      <th>5505</th>\n",
       "      <td>goooooooaaaaaal</td>\n",
       "      <td>1</td>\n",
       "      <td>0.001218</td>\n",
       "    </tr>\n",
       "    <tr>\n",
       "      <th>5506</th>\n",
       "      <td>skiing</td>\n",
       "      <td>1</td>\n",
       "      <td>0.001218</td>\n",
       "    </tr>\n",
       "    <tr>\n",
       "      <th>5507</th>\n",
       "      <td>looooool</td>\n",
       "      <td>1</td>\n",
       "      <td>0.001218</td>\n",
       "    </tr>\n",
       "    <tr>\n",
       "      <th>5508</th>\n",
       "      <td>cooool</td>\n",
       "      <td>1</td>\n",
       "      <td>0.001218</td>\n",
       "    </tr>\n",
       "    <tr>\n",
       "      <th>5509</th>\n",
       "      <td>bbcmtd</td>\n",
       "      <td>1</td>\n",
       "      <td>0.001218</td>\n",
       "    </tr>\n",
       "    <tr>\n",
       "      <th>5510</th>\n",
       "      <td>colhyxeohyc</td>\n",
       "      <td>1</td>\n",
       "      <td>0.001218</td>\n",
       "    </tr>\n",
       "    <tr>\n",
       "      <th>5511</th>\n",
       "      <td>coyaoexngw</td>\n",
       "      <td>1</td>\n",
       "      <td>0.001218</td>\n",
       "    </tr>\n",
       "    <tr>\n",
       "      <th>5512</th>\n",
       "      <td>africanbaze</td>\n",
       "      <td>1</td>\n",
       "      <td>0.001218</td>\n",
       "    </tr>\n",
       "    <tr>\n",
       "      <th>5513</th>\n",
       "      <td>conndbgwyei</td>\n",
       "      <td>1</td>\n",
       "      <td>0.001218</td>\n",
       "    </tr>\n",
       "    <tr>\n",
       "      <th>5514</th>\n",
       "      <td>coqqsmshajn</td>\n",
       "      <td>1</td>\n",
       "      <td>0.001218</td>\n",
       "    </tr>\n",
       "    <tr>\n",
       "      <th>5515</th>\n",
       "      <td>phdsquare</td>\n",
       "      <td>1</td>\n",
       "      <td>0.001218</td>\n",
       "    </tr>\n",
       "    <tr>\n",
       "      <th>5516</th>\n",
       "      <td>epl</td>\n",
       "      <td>1</td>\n",
       "      <td>0.001218</td>\n",
       "    </tr>\n",
       "    <tr>\n",
       "      <th>5517</th>\n",
       "      <td>coimaomknna</td>\n",
       "      <td>1</td>\n",
       "      <td>0.001218</td>\n",
       "    </tr>\n",
       "  </tbody>\n",
       "</table>\n",
       "</div>"
      ],
      "text/plain": [
       "                 Word  Count  Percentage\n",
       "5498  ronge            1      0.001218  \n",
       "5499  sask             1      0.001218  \n",
       "5500  notify           1      0.001218  \n",
       "5501  ruby             1      0.001218  \n",
       "5502  manitou          1      0.001218  \n",
       "5503  fvck             1      0.001218  \n",
       "5504  tampabay         1      0.001218  \n",
       "5505  goooooooaaaaaal  1      0.001218  \n",
       "5506  skiing           1      0.001218  \n",
       "5507  looooool         1      0.001218  \n",
       "5508  cooool           1      0.001218  \n",
       "5509  bbcmtd           1      0.001218  \n",
       "5510  colhyxeohyc      1      0.001218  \n",
       "5511  coyaoexngw       1      0.001218  \n",
       "5512  africanbaze      1      0.001218  \n",
       "5513  conndbgwyei      1      0.001218  \n",
       "5514  coqqsmshajn      1      0.001218  \n",
       "5515  phdsquare        1      0.001218  \n",
       "5516  epl              1      0.001218  \n",
       "5517  coimaomknna      1      0.001218  "
      ]
     },
     "execution_count": 24,
     "metadata": {},
     "output_type": "execute_result"
    }
   ],
   "source": [
    "word_df.loc[word_df[\"Count\"] == 1].head(n=20)"
   ]
  },
  {
   "cell_type": "markdown",
   "id": "e51ef82a",
   "metadata": {},
   "source": [
    "We see some of these words are either mispellings such as \"cooool\" and \"fvck\" while some are giberish. We'll go ahead and remove all words that are giberish. We'll do this by removing words that don't appear in nltk's wordnet corpus and those words that are not spelled correctly determine by PyEnchant."
   ]
  },
  {
   "cell_type": "code",
   "execution_count": 78,
   "id": "81a7f9ca",
   "metadata": {},
   "outputs": [],
   "source": [
    "spell_checker = enchant.Dict(\"en_US\")\n",
    "spell_checker.check(\"would\")\n",
    "\n",
    "def valid_word(text):\n",
    "    correct_word = (len(wordnet.synsets(text)) != 0 & spell_checker.check(text))\n",
    "    return correct_word"
   ]
  },
  {
   "cell_type": "code",
   "execution_count": 79,
   "id": "9cd58126",
   "metadata": {},
   "outputs": [],
   "source": [
    "word_df[\"Valid Word\"] = word_df[\"Word\"].apply(valid_word)"
   ]
  },
  {
   "cell_type": "code",
   "execution_count": 80,
   "id": "66abe982",
   "metadata": {},
   "outputs": [
    {
     "data": {
      "text/plain": [
       "False    11473\n",
       "True     7481 \n",
       "Name: Valid Word, dtype: int64"
      ]
     },
     "execution_count": 80,
     "metadata": {},
     "output_type": "execute_result"
    }
   ],
   "source": [
    "word_df[\"Valid Word\"].value_counts()"
   ]
  },
  {
   "cell_type": "code",
   "execution_count": 92,
   "id": "7f9d6deb",
   "metadata": {},
   "outputs": [
    {
     "data": {
      "text/html": [
       "<div>\n",
       "<style scoped>\n",
       "    .dataframe tbody tr th:only-of-type {\n",
       "        vertical-align: middle;\n",
       "    }\n",
       "\n",
       "    .dataframe tbody tr th {\n",
       "        vertical-align: top;\n",
       "    }\n",
       "\n",
       "    .dataframe thead th {\n",
       "        text-align: right;\n",
       "    }\n",
       "</style>\n",
       "<table border=\"1\" class=\"dataframe\">\n",
       "  <thead>\n",
       "    <tr style=\"text-align: right;\">\n",
       "      <th></th>\n",
       "      <th>Word</th>\n",
       "      <th>Count</th>\n",
       "      <th>Percentage</th>\n",
       "      <th>Valid Word</th>\n",
       "    </tr>\n",
       "  </thead>\n",
       "  <tbody>\n",
       "    <tr>\n",
       "      <th>0</th>\n",
       "      <td>httpt</td>\n",
       "      <td>4307</td>\n",
       "      <td>5.244764</td>\n",
       "      <td>False</td>\n",
       "    </tr>\n",
       "    <tr>\n",
       "      <th>3</th>\n",
       "      <td>_</td>\n",
       "      <td>423</td>\n",
       "      <td>0.515100</td>\n",
       "      <td>False</td>\n",
       "    </tr>\n",
       "    <tr>\n",
       "      <th>4</th>\n",
       "      <td>httpst</td>\n",
       "      <td>409</td>\n",
       "      <td>0.498052</td>\n",
       "      <td>False</td>\n",
       "    </tr>\n",
       "    <tr>\n",
       "      <th>11</th>\n",
       "      <td>via</td>\n",
       "      <td>220</td>\n",
       "      <td>0.267901</td>\n",
       "      <td>False</td>\n",
       "    </tr>\n",
       "    <tr>\n",
       "      <th>17</th>\n",
       "      <td>would</td>\n",
       "      <td>187</td>\n",
       "      <td>0.227716</td>\n",
       "      <td>False</td>\n",
       "    </tr>\n",
       "    <tr>\n",
       "      <th>...</th>\n",
       "      <td>...</td>\n",
       "      <td>...</td>\n",
       "      <td>...</td>\n",
       "      <td>...</td>\n",
       "    </tr>\n",
       "    <tr>\n",
       "      <th>18948</th>\n",
       "      <td>forney</td>\n",
       "      <td>1</td>\n",
       "      <td>0.001218</td>\n",
       "      <td>False</td>\n",
       "    </tr>\n",
       "    <tr>\n",
       "      <th>18950</th>\n",
       "      <td>corqkkuhey</td>\n",
       "      <td>1</td>\n",
       "      <td>0.001218</td>\n",
       "      <td>False</td>\n",
       "    </tr>\n",
       "    <tr>\n",
       "      <th>18951</th>\n",
       "      <td>conficuloje</td>\n",
       "      <td>1</td>\n",
       "      <td>0.001218</td>\n",
       "      <td>False</td>\n",
       "    </tr>\n",
       "    <tr>\n",
       "      <th>18952</th>\n",
       "      <td>costfmbbzfb</td>\n",
       "      <td>1</td>\n",
       "      <td>0.001218</td>\n",
       "      <td>False</td>\n",
       "    </tr>\n",
       "    <tr>\n",
       "      <th>18953</th>\n",
       "      <td>coymyrskqd</td>\n",
       "      <td>1</td>\n",
       "      <td>0.001218</td>\n",
       "      <td>False</td>\n",
       "    </tr>\n",
       "  </tbody>\n",
       "</table>\n",
       "<p>11473 rows × 4 columns</p>\n",
       "</div>"
      ],
      "text/plain": [
       "              Word  Count  Percentage  Valid Word\n",
       "0      httpt        4307   5.244764    False     \n",
       "3      _            423    0.515100    False     \n",
       "4      httpst       409    0.498052    False     \n",
       "11     via          220    0.267901    False     \n",
       "17     would        187    0.227716    False     \n",
       "...      ...        ...         ...      ...     \n",
       "18948  forney       1      0.001218    False     \n",
       "18950  corqkkuhey   1      0.001218    False     \n",
       "18951  conficuloje  1      0.001218    False     \n",
       "18952  costfmbbzfb  1      0.001218    False     \n",
       "18953  coymyrskqd   1      0.001218    False     \n",
       "\n",
       "[11473 rows x 4 columns]"
      ]
     },
     "execution_count": 92,
     "metadata": {},
     "output_type": "execute_result"
    }
   ],
   "source": [
    "#Words that don't appear in wordnet or don't appear to be spelled correctly\n",
    "word_df.loc[(word_df[\"Valid Word\"] == False)]"
   ]
  },
  {
   "cell_type": "code",
   "execution_count": 90,
   "id": "b0e878ff",
   "metadata": {},
   "outputs": [
    {
     "data": {
      "text/html": [
       "<div>\n",
       "<style scoped>\n",
       "    .dataframe tbody tr th:only-of-type {\n",
       "        vertical-align: middle;\n",
       "    }\n",
       "\n",
       "    .dataframe tbody tr th {\n",
       "        vertical-align: top;\n",
       "    }\n",
       "\n",
       "    .dataframe thead th {\n",
       "        text-align: right;\n",
       "    }\n",
       "</style>\n",
       "<table border=\"1\" class=\"dataframe\">\n",
       "  <thead>\n",
       "    <tr style=\"text-align: right;\">\n",
       "      <th></th>\n",
       "      <th>Word</th>\n",
       "      <th>Count</th>\n",
       "      <th>Percentage</th>\n",
       "      <th>Valid Word</th>\n",
       "    </tr>\n",
       "  </thead>\n",
       "  <tbody>\n",
       "    <tr>\n",
       "      <th>1242</th>\n",
       "      <td>perfect</td>\n",
       "      <td>10</td>\n",
       "      <td>0.012177</td>\n",
       "      <td>True</td>\n",
       "    </tr>\n",
       "    <tr>\n",
       "      <th>1243</th>\n",
       "      <td>quite</td>\n",
       "      <td>10</td>\n",
       "      <td>0.012177</td>\n",
       "      <td>True</td>\n",
       "    </tr>\n",
       "    <tr>\n",
       "      <th>1244</th>\n",
       "      <td>weird</td>\n",
       "      <td>10</td>\n",
       "      <td>0.012177</td>\n",
       "      <td>True</td>\n",
       "    </tr>\n",
       "    <tr>\n",
       "      <th>1245</th>\n",
       "      <td>church</td>\n",
       "      <td>10</td>\n",
       "      <td>0.012177</td>\n",
       "      <td>True</td>\n",
       "    </tr>\n",
       "    <tr>\n",
       "      <th>1246</th>\n",
       "      <td>able</td>\n",
       "      <td>10</td>\n",
       "      <td>0.012177</td>\n",
       "      <td>True</td>\n",
       "    </tr>\n",
       "    <tr>\n",
       "      <th>...</th>\n",
       "      <td>...</td>\n",
       "      <td>...</td>\n",
       "      <td>...</td>\n",
       "      <td>...</td>\n",
       "    </tr>\n",
       "    <tr>\n",
       "      <th>1321</th>\n",
       "      <td>municipal</td>\n",
       "      <td>10</td>\n",
       "      <td>0.012177</td>\n",
       "      <td>True</td>\n",
       "    </tr>\n",
       "    <tr>\n",
       "      <th>1323</th>\n",
       "      <td>veteran</td>\n",
       "      <td>10</td>\n",
       "      <td>0.012177</td>\n",
       "      <td>True</td>\n",
       "    </tr>\n",
       "    <tr>\n",
       "      <th>1325</th>\n",
       "      <td>combo</td>\n",
       "      <td>10</td>\n",
       "      <td>0.012177</td>\n",
       "      <td>True</td>\n",
       "    </tr>\n",
       "    <tr>\n",
       "      <th>1327</th>\n",
       "      <td>sinking</td>\n",
       "      <td>10</td>\n",
       "      <td>0.012177</td>\n",
       "      <td>True</td>\n",
       "    </tr>\n",
       "    <tr>\n",
       "      <th>1328</th>\n",
       "      <td>spaceship</td>\n",
       "      <td>10</td>\n",
       "      <td>0.012177</td>\n",
       "      <td>True</td>\n",
       "    </tr>\n",
       "  </tbody>\n",
       "</table>\n",
       "<p>78 rows × 4 columns</p>\n",
       "</div>"
      ],
      "text/plain": [
       "           Word  Count  Percentage  Valid Word\n",
       "1242  perfect    10     0.012177    True      \n",
       "1243  quite      10     0.012177    True      \n",
       "1244  weird      10     0.012177    True      \n",
       "1245  church     10     0.012177    True      \n",
       "1246  able       10     0.012177    True      \n",
       "...    ...       ..          ...     ...      \n",
       "1321  municipal  10     0.012177    True      \n",
       "1323  veteran    10     0.012177    True      \n",
       "1325  combo      10     0.012177    True      \n",
       "1327  sinking    10     0.012177    True      \n",
       "1328  spaceship  10     0.012177    True      \n",
       "\n",
       "[78 rows x 4 columns]"
      ]
     },
     "execution_count": 90,
     "metadata": {},
     "output_type": "execute_result"
    }
   ],
   "source": [
    "word_df.loc[(word_df[\"Valid Word\"] == True) & (word_df[\"Count\"] == 10)]"
   ]
  },
  {
   "cell_type": "code",
   "execution_count": 100,
   "id": "e11d7a4f",
   "metadata": {},
   "outputs": [],
   "source": [
    "def remove_words(text):\n",
    "    new_string = re.sub(r'(httpst )|(_ )|(httpt )', '', text)\n",
    "    return new_string"
   ]
  },
  {
   "cell_type": "code",
   "execution_count": 94,
   "id": "fd09b848",
   "metadata": {},
   "outputs": [
    {
     "data": {
      "text/plain": [
       "['This', 'is', 'a', 'test']"
      ]
     },
     "execution_count": 94,
     "metadata": {},
     "output_type": "execute_result"
    }
   ],
   "source": [
    "string = \"This is a test\"\n",
    "string_lst = list(string.split())\n",
    "string_lst"
   ]
  },
  {
   "cell_type": "code",
   "execution_count": 95,
   "id": "2c07f961",
   "metadata": {},
   "outputs": [],
   "source": [
    "string2 = ' '.join(string_lst)"
   ]
  },
  {
   "cell_type": "code",
   "execution_count": 96,
   "id": "a63a7ada",
   "metadata": {},
   "outputs": [
    {
     "data": {
      "text/plain": [
       "'This is a test'"
      ]
     },
     "execution_count": 96,
     "metadata": {},
     "output_type": "execute_result"
    }
   ],
   "source": [
    "string2"
   ]
  },
  {
   "cell_type": "code",
   "execution_count": 98,
   "id": "4dbc3f7b",
   "metadata": {},
   "outputs": [
    {
     "data": {
      "text/plain": [
       "['httpt', '_', 'httpst', 'via', 'would']"
      ]
     },
     "execution_count": 98,
     "metadata": {},
     "output_type": "execute_result"
    }
   ],
   "source": [
    "bad_words = list(word_df.loc[(word_df[\"Valid Word\"] == False), \"Word\"])\n",
    "bad_words[:5]"
   ]
  },
  {
   "cell_type": "code",
   "execution_count": 99,
   "id": "62c3bba2",
   "metadata": {},
   "outputs": [
    {
     "data": {
      "text/plain": [
       "11473"
      ]
     },
     "execution_count": 99,
     "metadata": {},
     "output_type": "execute_result"
    }
   ],
   "source": [
    "len(bad_words)"
   ]
  },
  {
   "cell_type": "code",
   "execution_count": 105,
   "id": "762a17d9",
   "metadata": {},
   "outputs": [
    {
     "data": {
      "text/plain": [
       "'This is  '"
      ]
     },
     "execution_count": 105,
     "metadata": {},
     "output_type": "execute_result"
    }
   ],
   "source": [
    "new_string = re.sub(\"a|test\", '', string2)\n",
    "new_string"
   ]
  },
  {
   "cell_type": "code",
   "execution_count": 326,
   "id": "059b64a9",
   "metadata": {},
   "outputs": [],
   "source": [
    "def make_pattern(word_list):\n",
    "    string = [word if word != \"[\" and word != \"]\" else \"\\\\\" + word for word in word_list]\n",
    "    string = '|'.join(string)\n",
    "    return string"
   ]
  },
  {
   "cell_type": "code",
   "execution_count": null,
   "id": "ea3230c1",
   "metadata": {},
   "outputs": [],
   "source": [
    "[unicode(x.strip()) if x is not None else '' for x in row]"
   ]
  },
  {
   "cell_type": "code",
   "execution_count": 327,
   "id": "418b0598",
   "metadata": {},
   "outputs": [
    {
     "data": {
      "text/plain": [
       "'work|well|does|all|is|si|\\\\]'"
      ]
     },
     "execution_count": 327,
     "metadata": {},
     "output_type": "execute_result"
    }
   ],
   "source": [
    "long_str = \"\"\"It won't work well with WordNet, because WordNet does not contain all english words. \n",
    "Another possibility based on NLTK without enchant is NLTK's words corpus\"\"\"\n",
    "\n",
    "temp = [\"work\", \"well\", \"does\", \"all\", \"is\", \"si\", \"]\"]\n",
    "\n",
    "pat = make_pattern(temp)\n",
    "pat"
   ]
  },
  {
   "cell_type": "code",
   "execution_count": 328,
   "id": "85caeb01",
   "metadata": {},
   "outputs": [],
   "source": [
    "def remove_words(text, pattern):\n",
    "    re.compile(pattern)\n",
    "    #new_string = re.sub(pattern, ' ', text)\n",
    "    new_string = re.sub(pattern, '', text)\n",
    "    return new_string"
   ]
  },
  {
   "cell_type": "code",
   "execution_count": 329,
   "id": "cac1a5f1",
   "metadata": {},
   "outputs": [
    {
     "data": {
      "text/plain": [
       "\"It won't   with WordNet, because WordNet  not contain  englh words. \\nAnother posbility based on NLTK without enchant  NLTK's words corpus\""
      ]
     },
     "execution_count": 329,
     "metadata": {},
     "output_type": "execute_result"
    }
   ],
   "source": [
    "remove_words(long_str, pat)"
   ]
  },
  {
   "cell_type": "code",
   "execution_count": 154,
   "id": "1603851b",
   "metadata": {},
   "outputs": [
    {
     "data": {
      "text/html": [
       "<div>\n",
       "<style scoped>\n",
       "    .dataframe tbody tr th:only-of-type {\n",
       "        vertical-align: middle;\n",
       "    }\n",
       "\n",
       "    .dataframe tbody tr th {\n",
       "        vertical-align: top;\n",
       "    }\n",
       "\n",
       "    .dataframe thead th {\n",
       "        text-align: right;\n",
       "    }\n",
       "</style>\n",
       "<table border=\"1\" class=\"dataframe\">\n",
       "  <thead>\n",
       "    <tr style=\"text-align: right;\">\n",
       "      <th></th>\n",
       "      <th>Word</th>\n",
       "      <th>Count</th>\n",
       "      <th>Percentage</th>\n",
       "      <th>Valid Word</th>\n",
       "    </tr>\n",
       "  </thead>\n",
       "  <tbody>\n",
       "    <tr>\n",
       "      <th>0</th>\n",
       "      <td>httpt</td>\n",
       "      <td>4307</td>\n",
       "      <td>5.244764</td>\n",
       "      <td>False</td>\n",
       "    </tr>\n",
       "    <tr>\n",
       "      <th>1</th>\n",
       "      <td>I</td>\n",
       "      <td>2104</td>\n",
       "      <td>2.562104</td>\n",
       "      <td>True</td>\n",
       "    </tr>\n",
       "    <tr>\n",
       "      <th>2</th>\n",
       "      <td>not</td>\n",
       "      <td>754</td>\n",
       "      <td>0.918169</td>\n",
       "      <td>True</td>\n",
       "    </tr>\n",
       "    <tr>\n",
       "      <th>3</th>\n",
       "      <td>_</td>\n",
       "      <td>423</td>\n",
       "      <td>0.515100</td>\n",
       "      <td>False</td>\n",
       "    </tr>\n",
       "    <tr>\n",
       "      <th>4</th>\n",
       "      <td>httpst</td>\n",
       "      <td>409</td>\n",
       "      <td>0.498052</td>\n",
       "      <td>False</td>\n",
       "    </tr>\n",
       "  </tbody>\n",
       "</table>\n",
       "</div>"
      ],
      "text/plain": [
       "     Word  Count  Percentage  Valid Word\n",
       "0  httpt   4307   5.244764    False     \n",
       "1  I       2104   2.562104    True      \n",
       "2  not     754    0.918169    True      \n",
       "3  _       423    0.515100    False     \n",
       "4  httpst  409    0.498052    False     "
      ]
     },
     "execution_count": 154,
     "metadata": {},
     "output_type": "execute_result"
    }
   ],
   "source": [
    "word_df.head()"
   ]
  },
  {
   "cell_type": "code",
   "execution_count": 330,
   "id": "b0da43e1",
   "metadata": {},
   "outputs": [],
   "source": [
    "bad_words_list = list(word_df.loc[(word_df[\"Valid Word\"] == False), \"Word\"])\n",
    "bad_words_list.index(\"famine[\")\n",
    "bad_words_list[bad_words_list.index(\"famine[\")] = \"famine\\[\""
   ]
  },
  {
   "cell_type": "code",
   "execution_count": 331,
   "id": "59ac35ed",
   "metadata": {},
   "outputs": [],
   "source": [
    "bad_words = make_pattern(bad_words_list)"
   ]
  },
  {
   "cell_type": "code",
   "execution_count": 332,
   "id": "d746bc07",
   "metadata": {},
   "outputs": [
    {
     "data": {
      "text/plain": [
       "'httpt|_|httpst|via|would|\\\\[|\\\\]|rt|youtub'"
      ]
     },
     "execution_count": 332,
     "metadata": {},
     "output_type": "execute_result"
    }
   ],
   "source": [
    "bad_words[:40]"
   ]
  },
  {
   "cell_type": "code",
   "execution_count": 333,
   "id": "cf18e8cf",
   "metadata": {},
   "outputs": [
    {
     "data": {
      "text/plain": [
       "''"
      ]
     },
     "execution_count": 333,
     "metadata": {},
     "output_type": "execute_result"
    }
   ],
   "source": [
    "#tester = \"This httpt is a test to make would sure the function actually works\"\n",
    "tester = \"httpt\"\n",
    "remove_words(tester, bad_words[:40])"
   ]
  },
  {
   "cell_type": "code",
   "execution_count": 224,
   "id": "9c4920ea",
   "metadata": {},
   "outputs": [
    {
     "data": {
      "text/plain": [
       "''"
      ]
     },
     "execution_count": 224,
     "metadata": {},
     "output_type": "execute_result"
    }
   ],
   "source": [
    "test = \"word\"\n",
    "re.sub(\"word\", '', test)"
   ]
  },
  {
   "cell_type": "code",
   "execution_count": 334,
   "id": "ab664500",
   "metadata": {},
   "outputs": [],
   "source": [
    "word_df[\"Correct Words\"] = word_df[\"Word\"].apply(remove_words, pattern = bad_words)"
   ]
  },
  {
   "cell_type": "code",
   "execution_count": 338,
   "id": "6c83af2a",
   "metadata": {},
   "outputs": [
    {
     "data": {
      "text/html": [
       "<div>\n",
       "<style scoped>\n",
       "    .dataframe tbody tr th:only-of-type {\n",
       "        vertical-align: middle;\n",
       "    }\n",
       "\n",
       "    .dataframe tbody tr th {\n",
       "        vertical-align: top;\n",
       "    }\n",
       "\n",
       "    .dataframe thead th {\n",
       "        text-align: right;\n",
       "    }\n",
       "</style>\n",
       "<table border=\"1\" class=\"dataframe\">\n",
       "  <thead>\n",
       "    <tr style=\"text-align: right;\">\n",
       "      <th></th>\n",
       "      <th>Word</th>\n",
       "      <th>Count</th>\n",
       "      <th>Percentage</th>\n",
       "      <th>Valid Word</th>\n",
       "      <th>Correct Words</th>\n",
       "    </tr>\n",
       "  </thead>\n",
       "  <tbody>\n",
       "    <tr>\n",
       "      <th>624</th>\n",
       "      <td>reuter</td>\n",
       "      <td>23</td>\n",
       "      <td>0.028008</td>\n",
       "      <td>False</td>\n",
       "      <td>ter</td>\n",
       "    </tr>\n",
       "    <tr>\n",
       "      <th>1386</th>\n",
       "      <td>app</td>\n",
       "      <td>9</td>\n",
       "      <td>0.010960</td>\n",
       "      <td>False</td>\n",
       "      <td>p</td>\n",
       "    </tr>\n",
       "    <tr>\n",
       "      <th>1463</th>\n",
       "      <td>steve</td>\n",
       "      <td>8</td>\n",
       "      <td>0.009742</td>\n",
       "      <td>False</td>\n",
       "      <td>eve</td>\n",
       "    </tr>\n",
       "    <tr>\n",
       "      <th>1631</th>\n",
       "      <td>worldnew</td>\n",
       "      <td>7</td>\n",
       "      <td>0.008524</td>\n",
       "      <td>False</td>\n",
       "      <td>dnew</td>\n",
       "    </tr>\n",
       "    <tr>\n",
       "      <th>1743</th>\n",
       "      <td>mhtwfnet</td>\n",
       "      <td>7</td>\n",
       "      <td>0.008524</td>\n",
       "      <td>False</td>\n",
       "      <td>tw</td>\n",
       "    </tr>\n",
       "    <tr>\n",
       "      <th>1964</th>\n",
       "      <td>gta</td>\n",
       "      <td>6</td>\n",
       "      <td>0.007306</td>\n",
       "      <td>False</td>\n",
       "      <td>a</td>\n",
       "    </tr>\n",
       "    <tr>\n",
       "      <th>2022</th>\n",
       "      <td>yazidi</td>\n",
       "      <td>6</td>\n",
       "      <td>0.007306</td>\n",
       "      <td>False</td>\n",
       "      <td>z</td>\n",
       "    </tr>\n",
       "    <tr>\n",
       "      <th>2283</th>\n",
       "      <td>summerfate</td>\n",
       "      <td>5</td>\n",
       "      <td>0.006089</td>\n",
       "      <td>False</td>\n",
       "      <td>mmerfate</td>\n",
       "    </tr>\n",
       "    <tr>\n",
       "      <th>2319</th>\n",
       "      <td>strategicpatience</td>\n",
       "      <td>5</td>\n",
       "      <td>0.006089</td>\n",
       "      <td>False</td>\n",
       "      <td>rategicpatience</td>\n",
       "    </tr>\n",
       "    <tr>\n",
       "      <th>2346</th>\n",
       "      <td>worldnews</td>\n",
       "      <td>5</td>\n",
       "      <td>0.006089</td>\n",
       "      <td>False</td>\n",
       "      <td>dnews</td>\n",
       "    </tr>\n",
       "    <tr>\n",
       "      <th>2381</th>\n",
       "      <td>youngheroesid</td>\n",
       "      <td>5</td>\n",
       "      <td>0.006089</td>\n",
       "      <td>False</td>\n",
       "      <td>unroesid</td>\n",
       "    </tr>\n",
       "    <tr>\n",
       "      <th>2393</th>\n",
       "      <td>yobe</td>\n",
       "      <td>5</td>\n",
       "      <td>0.006089</td>\n",
       "      <td>False</td>\n",
       "      <td>be</td>\n",
       "    </tr>\n",
       "    <tr>\n",
       "      <th>2416</th>\n",
       "      <td>stat</td>\n",
       "      <td>4</td>\n",
       "      <td>0.004871</td>\n",
       "      <td>False</td>\n",
       "      <td>at</td>\n",
       "    </tr>\n",
       "    <tr>\n",
       "      <th>2652</th>\n",
       "      <td>yorker</td>\n",
       "      <td>4</td>\n",
       "      <td>0.004871</td>\n",
       "      <td>False</td>\n",
       "      <td>rr</td>\n",
       "    </tr>\n",
       "    <tr>\n",
       "      <th>2686</th>\n",
       "      <td>worstsummerjob</td>\n",
       "      <td>4</td>\n",
       "      <td>0.004871</td>\n",
       "      <td>False</td>\n",
       "      <td>rmmerjob</td>\n",
       "    </tr>\n",
       "    <tr>\n",
       "      <th>2877</th>\n",
       "      <td>diamondkesawn</td>\n",
       "      <td>4</td>\n",
       "      <td>0.004871</td>\n",
       "      <td>False</td>\n",
       "      <td>nesn</td>\n",
       "    </tr>\n",
       "    <tr>\n",
       "      <th>2890</th>\n",
       "      <td>specif</td>\n",
       "      <td>4</td>\n",
       "      <td>0.004871</td>\n",
       "      <td>False</td>\n",
       "      <td>ecif</td>\n",
       "    </tr>\n",
       "    <tr>\n",
       "      <th>2893</th>\n",
       "      <td>sandiego</td>\n",
       "      <td>4</td>\n",
       "      <td>0.004871</td>\n",
       "      <td>False</td>\n",
       "      <td>ego</td>\n",
       "    </tr>\n",
       "    <tr>\n",
       "      <th>2985</th>\n",
       "      <td>prepper</td>\n",
       "      <td>3</td>\n",
       "      <td>0.003653</td>\n",
       "      <td>False</td>\n",
       "      <td>er</td>\n",
       "    </tr>\n",
       "    <tr>\n",
       "      <th>2996</th>\n",
       "      <td>wwi</td>\n",
       "      <td>3</td>\n",
       "      <td>0.003653</td>\n",
       "      <td>False</td>\n",
       "      <td>i</td>\n",
       "    </tr>\n",
       "    <tr>\n",
       "      <th>3013</th>\n",
       "      <td>stan</td>\n",
       "      <td>3</td>\n",
       "      <td>0.003653</td>\n",
       "      <td>False</td>\n",
       "      <td>an</td>\n",
       "    </tr>\n",
       "    <tr>\n",
       "      <th>3034</th>\n",
       "      <td>droid</td>\n",
       "      <td>3</td>\n",
       "      <td>0.003653</td>\n",
       "      <td>False</td>\n",
       "      <td>d</td>\n",
       "    </tr>\n",
       "    <tr>\n",
       "      <th>3045</th>\n",
       "      <td>blkswht</td>\n",
       "      <td>3</td>\n",
       "      <td>0.003653</td>\n",
       "      <td>False</td>\n",
       "      <td>s</td>\n",
       "    </tr>\n",
       "    <tr>\n",
       "      <th>3047</th>\n",
       "      <td>bioterrorismuse</td>\n",
       "      <td>3</td>\n",
       "      <td>0.003653</td>\n",
       "      <td>False</td>\n",
       "      <td>ismuse</td>\n",
       "    </tr>\n",
       "    <tr>\n",
       "      <th>3129</th>\n",
       "      <td>stacey</td>\n",
       "      <td>3</td>\n",
       "      <td>0.003653</td>\n",
       "      <td>False</td>\n",
       "      <td>ac</td>\n",
       "    </tr>\n",
       "    <tr>\n",
       "      <th>3141</th>\n",
       "      <td>ahh</td>\n",
       "      <td>3</td>\n",
       "      <td>0.003653</td>\n",
       "      <td>False</td>\n",
       "      <td>h</td>\n",
       "    </tr>\n",
       "    <tr>\n",
       "      <th>3201</th>\n",
       "      <td>chris</td>\n",
       "      <td>3</td>\n",
       "      <td>0.003653</td>\n",
       "      <td>False</td>\n",
       "      <td>ris</td>\n",
       "    </tr>\n",
       "    <tr>\n",
       "      <th>3232</th>\n",
       "      <td>sharethis</td>\n",
       "      <td>3</td>\n",
       "      <td>0.003653</td>\n",
       "      <td>False</td>\n",
       "      <td>arhis</td>\n",
       "    </tr>\n",
       "    <tr>\n",
       "      <th>3307</th>\n",
       "      <td>oper</td>\n",
       "      <td>3</td>\n",
       "      <td>0.003653</td>\n",
       "      <td>False</td>\n",
       "      <td>er</td>\n",
       "    </tr>\n",
       "    <tr>\n",
       "      <th>3395</th>\n",
       "      <td>yahoonew</td>\n",
       "      <td>3</td>\n",
       "      <td>0.003653</td>\n",
       "      <td>False</td>\n",
       "      <td>new</td>\n",
       "    </tr>\n",
       "  </tbody>\n",
       "</table>\n",
       "</div>"
      ],
      "text/plain": [
       "                   Word  Count  Percentage  Valid Word    Correct Words\n",
       "624   reuter             23     0.028008    False       ter            \n",
       "1386  app                9      0.010960    False       p              \n",
       "1463  steve              8      0.009742    False       eve            \n",
       "1631  worldnew           7      0.008524    False       dnew           \n",
       "1743  mhtwfnet           7      0.008524    False       tw             \n",
       "1964  gta                6      0.007306    False       a              \n",
       "2022  yazidi             6      0.007306    False       z              \n",
       "2283  summerfate         5      0.006089    False       mmerfate       \n",
       "2319  strategicpatience  5      0.006089    False       rategicpatience\n",
       "2346  worldnews          5      0.006089    False       dnews          \n",
       "2381  youngheroesid      5      0.006089    False       unroesid       \n",
       "2393  yobe               5      0.006089    False       be             \n",
       "2416  stat               4      0.004871    False       at             \n",
       "2652  yorker             4      0.004871    False       rr             \n",
       "2686  worstsummerjob     4      0.004871    False       rmmerjob       \n",
       "2877  diamondkesawn      4      0.004871    False       nesn           \n",
       "2890  specif             4      0.004871    False       ecif           \n",
       "2893  sandiego           4      0.004871    False       ego            \n",
       "2985  prepper            3      0.003653    False       er             \n",
       "2996  wwi                3      0.003653    False       i              \n",
       "3013  stan               3      0.003653    False       an             \n",
       "3034  droid              3      0.003653    False       d              \n",
       "3045  blkswht            3      0.003653    False       s              \n",
       "3047  bioterrorismuse    3      0.003653    False       ismuse         \n",
       "3129  stacey             3      0.003653    False       ac             \n",
       "3141  ahh                3      0.003653    False       h              \n",
       "3201  chris              3      0.003653    False       ris            \n",
       "3232  sharethis          3      0.003653    False       arhis          \n",
       "3307  oper               3      0.003653    False       er             \n",
       "3395  yahoonew           3      0.003653    False       new            "
      ]
     },
     "execution_count": 338,
     "metadata": {},
     "output_type": "execute_result"
    }
   ],
   "source": [
    "word_df.loc[(word_df[\"Valid Word\"] == False) & (word_df[\"Correct Words\"] != '')].head(30)"
   ]
  },
  {
   "cell_type": "code",
   "execution_count": 344,
   "id": "fabd41b6",
   "metadata": {},
   "outputs": [
    {
     "data": {
      "text/plain": [
       "['soudelor', 'hey', 'anyone', 'bestnaijamade', 'reuter', 'everything']"
      ]
     },
     "execution_count": 344,
     "metadata": {},
     "output_type": "execute_result"
    }
   ],
   "source": [
    "bad_words_list.index(\"reuter\")\n",
    "bad_words_list[30:36]"
   ]
  },
  {
   "cell_type": "code",
   "execution_count": 346,
   "id": "873490dd",
   "metadata": {},
   "outputs": [
    {
     "data": {
      "text/plain": [
       "'tnaijamade|reuter|everything|amid|nowpla'"
      ]
     },
     "execution_count": 346,
     "metadata": {},
     "output_type": "execute_result"
    }
   ],
   "source": [
    "bad_words[190:230]"
   ]
  },
  {
   "cell_type": "code",
   "execution_count": 357,
   "id": "15b8fdd2",
   "metadata": {},
   "outputs": [
    {
     "ename": "AttributeError",
     "evalue": "'str' object has no attribute 'isin'",
     "output_type": "error",
     "traceback": [
      "\u001b[1;31m---------------------------------------------------------------------------\u001b[0m",
      "\u001b[1;31mAttributeError\u001b[0m                            Traceback (most recent call last)",
      "\u001b[1;32m<ipython-input-357-1f67a0a73bf6>\u001b[0m in \u001b[0;36m<module>\u001b[1;34m\u001b[0m\n\u001b[1;32m----> 1\u001b[1;33m \u001b[0mtweets\u001b[0m\u001b[1;33m.\u001b[0m\u001b[0mloc\u001b[0m\u001b[1;33m[\u001b[0m\u001b[1;34m\"httpt\"\u001b[0m\u001b[1;33m.\u001b[0m\u001b[0misin\u001b[0m\u001b[1;33m(\u001b[0m\u001b[0mtweets\u001b[0m\u001b[1;33m[\u001b[0m\u001b[1;34m\"Clean Tweets\"\u001b[0m\u001b[1;33m]\u001b[0m\u001b[1;33m)\u001b[0m\u001b[1;33m]\u001b[0m\u001b[1;33m\u001b[0m\u001b[1;33m\u001b[0m\u001b[0m\n\u001b[0m",
      "\u001b[1;31mAttributeError\u001b[0m: 'str' object has no attribute 'isin'"
     ]
    }
   ],
   "source": [
    "tweets.loc[tweets[\"Clean Tweets\"]]"
   ]
  },
  {
   "cell_type": "code",
   "execution_count": 354,
   "id": "eb38290f",
   "metadata": {},
   "outputs": [
    {
     "data": {
      "text/plain": [
       "True"
      ]
     },
     "execution_count": 354,
     "metadata": {},
     "output_type": "execute_result"
    }
   ],
   "source": [
    "\"work\" in temp"
   ]
  },
  {
   "cell_type": "code",
   "execution_count": null,
   "id": "2f4761e3",
   "metadata": {},
   "outputs": [],
   "source": []
  }
 ],
 "metadata": {
  "kernelspec": {
   "display_name": "Python 3",
   "language": "python",
   "name": "python3"
  },
  "language_info": {
   "codemirror_mode": {
    "name": "ipython",
    "version": 3
   },
   "file_extension": ".py",
   "mimetype": "text/x-python",
   "name": "python",
   "nbconvert_exporter": "python",
   "pygments_lexer": "ipython3",
   "version": "3.8.8"
  }
 },
 "nbformat": 4,
 "nbformat_minor": 5
}
