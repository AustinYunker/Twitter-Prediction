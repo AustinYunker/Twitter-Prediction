{
 "cells": [
  {
   "cell_type": "markdown",
   "id": "ab556e0e",
   "metadata": {},
   "source": [
    "# Setup and Imports"
   ]
  },
  {
   "cell_type": "code",
   "execution_count": 1,
   "id": "1fe5b57d",
   "metadata": {},
   "outputs": [
    {
     "name": "stderr",
     "output_type": "stream",
     "text": [
      "C:\\Users\\ay887\\anaconda3\\lib\\site-packages\\gensim\\similarities\\__init__.py:15: UserWarning: The gensim.similarities.levenshtein submodule is disabled, because the optional Levenshtein package <https://pypi.org/project/python-Levenshtein/> is unavailable. Install Levenhstein (e.g. `pip install python-Levenshtein`) to suppress this warning.\n",
      "  warnings.warn(msg)\n"
     ]
    }
   ],
   "source": [
    "import pandas as pd\n",
    "import numpy as np\n",
    "from matplotlib import pyplot as plt\n",
    "%matplotlib inline\n",
    "import seaborn as sns\n",
    "import re\n",
    "sns.set\n",
    "import spacy\n",
    "import nltk\n",
    "from nltk.corpus import brown\n",
    "from nltk.corpus import wordnet\n",
    "from collections import Counter\n",
    "import Tweet_Normalizer as tn\n",
    "from bs4 import BeautifulSoup\n",
    "import requests\n",
    "import spacy\n",
    "import scipy\n",
    "import gensim\n",
    "import gensim.downloader\n",
    "from sklearn.model_selection import train_test_split\n",
    "from nltk.tokenize.toktok import ToktokTokenizer\n",
    "from sklearn.linear_model import LogisticRegression\n",
    "from sklearn.model_selection import cross_val_score\n",
    "from sklearn.model_selection import cross_val_predict\n",
    "from sklearn.svm import LinearSVC\n",
    "from sklearn.ensemble import RandomForestClassifier\n",
    "from sklearn.naive_bayes import GaussianNB\n",
    "import xgboost\n",
    "from sklearn.metrics import accuracy_score\n",
    "from sklearn.metrics import confusion_matrix\n",
    "from sklearn.metrics import f1_score\n",
    "import csv\n",
    "import math\n",
    "from scipy.stats import uniform\n",
    "from scipy.stats import reciprocal\n",
    "from sklearn.model_selection import RandomizedSearchCV\n",
    "from sklearn.model_selection import ParameterSampler\n",
    "import tensorflow as tf\n",
    "from tensorflow import keras\n",
    "import pickle\n",
    "import prepare_embeddings as pe"
   ]
  },
  {
   "cell_type": "markdown",
   "id": "d419eb77",
   "metadata": {},
   "source": [
    "# Load the Data"
   ]
  },
  {
   "cell_type": "code",
   "execution_count": 2,
   "id": "2eed2668",
   "metadata": {},
   "outputs": [],
   "source": [
    "tweets = pd.read_csv(\"data/train.csv\")"
   ]
  },
  {
   "cell_type": "markdown",
   "id": "1c923999",
   "metadata": {},
   "source": [
    "# Clean the Data"
   ]
  },
  {
   "cell_type": "code",
   "execution_count": 3,
   "id": "fdf84d54",
   "metadata": {},
   "outputs": [
    {
     "name": "stdout",
     "output_type": "stream",
     "text": [
      "Running tweet scrubber...\n",
      "\n",
      "Dropping unnecessary columns\n",
      "Successfully dropped columns!\n",
      "\n",
      "Normalizing the tweets\n",
      "Successfully normalized tweets!\n",
      "\n",
      "Removing invalid and mispelled words\n",
      "Successfully removed invalid and mispelled words!\n",
      "\n",
      "Successfully scrubbed tweets!\n",
      "\n",
      "Wall time: 3min 24s\n"
     ]
    }
   ],
   "source": [
    "%%time\n",
    "#USe tweet scrubber function to clean the data\n",
    "tweets = tn.tweet_scrubber(tweets, verbose = True)"
   ]
  },
  {
   "cell_type": "code",
   "execution_count": 4,
   "id": "73fef354",
   "metadata": {},
   "outputs": [],
   "source": [
    "#Check for blank rows after cleaning. We expect 5\n",
    "tweets = tweets.replace(r'^(\\s)+$', np.nan, regex = True)\n",
    "#Drop the empty rows\n",
    "tweets.dropna(subset=[\"Clean Tweets\"], inplace = True)\n",
    "#Reset the index in place\n",
    "tweets.reset_index(drop = True, inplace = True)"
   ]
  },
  {
   "cell_type": "code",
   "execution_count": 5,
   "id": "e9803827",
   "metadata": {},
   "outputs": [
    {
     "data": {
      "text/html": [
       "<div>\n",
       "<style scoped>\n",
       "    .dataframe tbody tr th:only-of-type {\n",
       "        vertical-align: middle;\n",
       "    }\n",
       "\n",
       "    .dataframe tbody tr th {\n",
       "        vertical-align: top;\n",
       "    }\n",
       "\n",
       "    .dataframe thead th {\n",
       "        text-align: right;\n",
       "    }\n",
       "</style>\n",
       "<table border=\"1\" class=\"dataframe\">\n",
       "  <thead>\n",
       "    <tr style=\"text-align: right;\">\n",
       "      <th></th>\n",
       "      <th>text</th>\n",
       "      <th>target</th>\n",
       "      <th>Clean Tweets</th>\n",
       "    </tr>\n",
       "  </thead>\n",
       "  <tbody>\n",
       "    <tr>\n",
       "      <th>7593</th>\n",
       "      <td>Father-of-three Lost Control of Car After Overtaking and Collided #BathAndNorthEastSomerset http://t.co/fa3FcnlN86</td>\n",
       "      <td>1</td>\n",
       "      <td>father three lose control car overtake collide</td>\n",
       "    </tr>\n",
       "    <tr>\n",
       "      <th>7594</th>\n",
       "      <td>1.3 #Earthquake in 9Km Ssw Of Anza California #iPhone users download the Earthquake app for more information http://t.co/V3aZWOAmzK</td>\n",
       "      <td>1</td>\n",
       "      <td>earthquake km ssw  california  user download earthquake  information</td>\n",
       "    </tr>\n",
       "    <tr>\n",
       "      <th>7595</th>\n",
       "      <td>Evacuation order lifted for town of Roosevelt: http://t.co/EDyfo6E2PU http://t.co/M5KxLPKFA1</td>\n",
       "      <td>1</td>\n",
       "      <td>evacuation order lift town roosevelt</td>\n",
       "    </tr>\n",
       "    <tr>\n",
       "      <th>7596</th>\n",
       "      <td>#breaking #LA Refugio oil spill may have been costlier bigger than projected http://t.co/5ueCmcv2Pk</td>\n",
       "      <td>1</td>\n",
       "      <td>break la  oil spill may costlier big project</td>\n",
       "    </tr>\n",
       "    <tr>\n",
       "      <th>7597</th>\n",
       "      <td>a siren just went off and it wasn't the Forney tornado warning ??</td>\n",
       "      <td>1</td>\n",
       "      <td>siren go not  tornado warning</td>\n",
       "    </tr>\n",
       "    <tr>\n",
       "      <th>7598</th>\n",
       "      <td>Officials say a quarantine is in place at an Alabama home over a possible Ebola case after developing symptoms... http://t.co/rqKK15uhEY</td>\n",
       "      <td>1</td>\n",
       "      <td>official say quarantine place alabama home possible ebola case develop symptom</td>\n",
       "    </tr>\n",
       "    <tr>\n",
       "      <th>7599</th>\n",
       "      <td>#WorldNews Fallen powerlines on G:link tram: UPDATE: FIRE crews have evacuated up to 30 passengers who were tr... http://t.co/EYSVvzA7Qm</td>\n",
       "      <td>1</td>\n",
       "      <td>fall  g link tram update fire crew evacuate passenger</td>\n",
       "    </tr>\n",
       "    <tr>\n",
       "      <th>7600</th>\n",
       "      <td>on the flip side I'm at Walmart and there is a bomb and everyone had to evacuate so stay tuned if I blow up or not</td>\n",
       "      <td>1</td>\n",
       "      <td>flip side I  bomb  evacuate stay tune I blow not</td>\n",
       "    </tr>\n",
       "    <tr>\n",
       "      <th>7601</th>\n",
       "      <td>Suicide bomber kills 15 in Saudi security site mosque - Reuters via World - Google News - Wall ... http://t.co/nF4IculOje</td>\n",
       "      <td>1</td>\n",
       "      <td>suicide bomber kill saudi security site mosque   world google news wall</td>\n",
       "    </tr>\n",
       "    <tr>\n",
       "      <th>7602</th>\n",
       "      <td>#stormchase Violent Record Breaking EF-5 El Reno Oklahoma Tornado Nearly Runs Over ... - http://t.co/3SICroAaNz http://t.co/I27Oa0HISp</td>\n",
       "      <td>1</td>\n",
       "      <td>violent record break  el reno oklahoma tornado nearly run</td>\n",
       "    </tr>\n",
       "    <tr>\n",
       "      <th>7603</th>\n",
       "      <td>Two giant cranes holding a bridge collapse into nearby homes http://t.co/STfMbbZFB5</td>\n",
       "      <td>1</td>\n",
       "      <td>two giant crane hold bridge collapse nearby home</td>\n",
       "    </tr>\n",
       "    <tr>\n",
       "      <th>7604</th>\n",
       "      <td>@aria_ahrary @TheTawniest The out of control wild fires in California even in the Northern part of the state. Very troubling.</td>\n",
       "      <td>1</td>\n",
       "      <td>control wild fire california even northern part state troubling</td>\n",
       "    </tr>\n",
       "    <tr>\n",
       "      <th>7605</th>\n",
       "      <td>M1.94 [01:04 UTC]?5km S of Volcano Hawaii. http://t.co/zDtoyd8EbJ</td>\n",
       "      <td>1</td>\n",
       "      <td>[ utc ] km volcano hawaii</td>\n",
       "    </tr>\n",
       "    <tr>\n",
       "      <th>7606</th>\n",
       "      <td>Police investigating after an e-bike collided with a car in Little Portugal. E-bike rider suffered serious non-life threatening injuries.</td>\n",
       "      <td>1</td>\n",
       "      <td>police investigate e bike collide car little portugal e bike rider suffer serious non life threaten injury</td>\n",
       "    </tr>\n",
       "    <tr>\n",
       "      <th>7607</th>\n",
       "      <td>The Latest: More Homes Razed by Northern California Wildfire - ABC News http://t.co/YmY4rSkQ3d</td>\n",
       "      <td>1</td>\n",
       "      <td>late home raze northern california wildfire abc news</td>\n",
       "    </tr>\n",
       "  </tbody>\n",
       "</table>\n",
       "</div>"
      ],
      "text/plain": [
       "                                                                                                                                           text  \\\n",
       "7593  Father-of-three Lost Control of Car After Overtaking and Collided #BathAndNorthEastSomerset http://t.co/fa3FcnlN86                          \n",
       "7594  1.3 #Earthquake in 9Km Ssw Of Anza California #iPhone users download the Earthquake app for more information http://t.co/V3aZWOAmzK         \n",
       "7595  Evacuation order lifted for town of Roosevelt: http://t.co/EDyfo6E2PU http://t.co/M5KxLPKFA1                                                \n",
       "7596  #breaking #LA Refugio oil spill may have been costlier bigger than projected http://t.co/5ueCmcv2Pk                                         \n",
       "7597  a siren just went off and it wasn't the Forney tornado warning ??                                                                           \n",
       "7598  Officials say a quarantine is in place at an Alabama home over a possible Ebola case after developing symptoms... http://t.co/rqKK15uhEY    \n",
       "7599  #WorldNews Fallen powerlines on G:link tram: UPDATE: FIRE crews have evacuated up to 30 passengers who were tr... http://t.co/EYSVvzA7Qm    \n",
       "7600  on the flip side I'm at Walmart and there is a bomb and everyone had to evacuate so stay tuned if I blow up or not                          \n",
       "7601  Suicide bomber kills 15 in Saudi security site mosque - Reuters via World - Google News - Wall ... http://t.co/nF4IculOje                   \n",
       "7602  #stormchase Violent Record Breaking EF-5 El Reno Oklahoma Tornado Nearly Runs Over ... - http://t.co/3SICroAaNz http://t.co/I27Oa0HISp      \n",
       "7603  Two giant cranes holding a bridge collapse into nearby homes http://t.co/STfMbbZFB5                                                         \n",
       "7604  @aria_ahrary @TheTawniest The out of control wild fires in California even in the Northern part of the state. Very troubling.               \n",
       "7605  M1.94 [01:04 UTC]?5km S of Volcano Hawaii. http://t.co/zDtoyd8EbJ                                                                           \n",
       "7606  Police investigating after an e-bike collided with a car in Little Portugal. E-bike rider suffered serious non-life threatening injuries.   \n",
       "7607  The Latest: More Homes Razed by Northern California Wildfire - ABC News http://t.co/YmY4rSkQ3d                                              \n",
       "\n",
       "      target  \\\n",
       "7593  1        \n",
       "7594  1        \n",
       "7595  1        \n",
       "7596  1        \n",
       "7597  1        \n",
       "7598  1        \n",
       "7599  1        \n",
       "7600  1        \n",
       "7601  1        \n",
       "7602  1        \n",
       "7603  1        \n",
       "7604  1        \n",
       "7605  1        \n",
       "7606  1        \n",
       "7607  1        \n",
       "\n",
       "                                                                                                    Clean Tweets  \n",
       "7593  father three lose control car overtake collide                                                              \n",
       "7594  earthquake km ssw  california  user download earthquake  information                                        \n",
       "7595  evacuation order lift town roosevelt                                                                        \n",
       "7596  break la  oil spill may costlier big project                                                                \n",
       "7597  siren go not  tornado warning                                                                               \n",
       "7598  official say quarantine place alabama home possible ebola case develop symptom                              \n",
       "7599   fall  g link tram update fire crew evacuate passenger                                                      \n",
       "7600  flip side I  bomb  evacuate stay tune I blow not                                                            \n",
       "7601  suicide bomber kill saudi security site mosque   world google news wall                                     \n",
       "7602   violent record break  el reno oklahoma tornado nearly run                                                  \n",
       "7603  two giant crane hold bridge collapse nearby home                                                            \n",
       "7604    control wild fire california even northern part state troubling                                           \n",
       "7605  [ utc ] km volcano hawaii                                                                                   \n",
       "7606  police investigate e bike collide car little portugal e bike rider suffer serious non life threaten injury  \n",
       "7607  late home raze northern california wildfire abc news                                                        "
      ]
     },
     "execution_count": 5,
     "metadata": {},
     "output_type": "execute_result"
    }
   ],
   "source": [
    "#Take a look at the last few rows of the data\n",
    "pd.set_option('display.max_colwidth', 2)\n",
    "tweets.tail(n=15)"
   ]
  },
  {
   "cell_type": "markdown",
   "id": "873afa0f",
   "metadata": {},
   "source": [
    "# Split the Data intro Training and Validation Sets"
   ]
  },
  {
   "cell_type": "code",
   "execution_count": 6,
   "id": "b2758875",
   "metadata": {},
   "outputs": [],
   "source": [
    "train_corpus, val_corpus, y_train, y_val = train_test_split(tweets[\"Clean Tweets\"], np.array(tweets[\"target\"]), \n",
    "                                                  test_size=.15, random_state=42, stratify=np.array(tweets[\"target\"]))"
   ]
  },
  {
   "cell_type": "markdown",
   "id": "f605a48e",
   "metadata": {},
   "source": [
    "# Prepare Dense Word Embeddings"
   ]
  },
  {
   "cell_type": "code",
   "execution_count": 7,
   "id": "46433abe",
   "metadata": {},
   "outputs": [],
   "source": [
    "#Tokenize the training and validation set\n",
    "tokenizer = ToktokTokenizer()\n",
    "tokenized_train = [tokenizer.tokenize(text) for text in train_corpus]\n",
    "tokenized_val = [tokenizer.tokenize(text) for text in val_corpus]"
   ]
  },
  {
   "cell_type": "code",
   "execution_count": 8,
   "id": "df4d7560",
   "metadata": {},
   "outputs": [
    {
     "name": "stdout",
     "output_type": "stream",
     "text": [
      "Wall time: 2min 27s\n"
     ]
    }
   ],
   "source": [
    "%%time\n",
    "glove_vectors = gensim.downloader.load('glove-twitter-50')\n",
    "gv_num_features = glove_vectors.vector_size\n"
   ]
  },
  {
   "cell_type": "code",
   "execution_count": 9,
   "id": "5e6c437e",
   "metadata": {},
   "outputs": [],
   "source": [
    "#Create training data\n",
    "X_train = pe.document_vectorizer_glove(corpus=tokenized_train, model=glove_vectors, \n",
    "                                            num_features=gv_num_features)\n",
    "\n",
    "\n",
    "#Create validation data\n",
    "X_val = pe.document_vectorizer_glove(corpus=tokenized_val, model=glove_vectors, \n",
    "                                            num_features=gv_num_features)"
   ]
  },
  {
   "cell_type": "code",
   "execution_count": 10,
   "id": "4f7f60b3",
   "metadata": {},
   "outputs": [
    {
     "name": "stdout",
     "output_type": "stream",
     "text": [
      "(6466, 50)\n",
      "(1142, 50)\n",
      "(6466,)\n",
      "(1142,)\n"
     ]
    }
   ],
   "source": [
    "#Check the shapes\n",
    "print(X_train.shape)\n",
    "print(X_val.shape)\n",
    "print(y_train.shape)\n",
    "print(y_val.shape)"
   ]
  },
  {
   "cell_type": "markdown",
   "id": "a68111c6",
   "metadata": {},
   "source": [
    "# Baseline Scores"
   ]
  },
  {
   "cell_type": "markdown",
   "id": "c0df3ecc",
   "metadata": {},
   "source": [
    "### Logistic Regression"
   ]
  },
  {
   "cell_type": "code",
   "execution_count": 11,
   "id": "bcfb3028",
   "metadata": {},
   "outputs": [],
   "source": [
    "lr_clf = LogisticRegression(max_iter=10000)"
   ]
  },
  {
   "cell_type": "code",
   "execution_count": 12,
   "id": "a07554af",
   "metadata": {},
   "outputs": [
    {
     "name": "stdout",
     "output_type": "stream",
     "text": [
      "Logistic Regression Baseline Accuracy: 77.06\n",
      "Logistic Regression Baseline F1-Score: 71.57\n",
      "Wall time: 499 ms\n"
     ]
    }
   ],
   "source": [
    "%%time\n",
    "y_train_pred = cross_val_predict(lr_clf, X_train, y_train, cv = 5)\n",
    "lr_base_acc = accuracy_score(y_train, y_train_pred) * 100\n",
    "lr_base_f1 = f1_score(y_train, y_train_pred) * 100\n",
    "print(f\"Logistic Regression Baseline Accuracy: {lr_base_acc:.2f}\")\n",
    "print(f\"Logistic Regression Baseline F1-Score: {lr_base_f1:.2f}\")"
   ]
  },
  {
   "cell_type": "code",
   "execution_count": 13,
   "id": "39859b49",
   "metadata": {},
   "outputs": [
    {
     "data": {
      "text/plain": [
       "array([[3116,  570],\n",
       "       [ 913, 1867]], dtype=int64)"
      ]
     },
     "execution_count": 13,
     "metadata": {},
     "output_type": "execute_result"
    }
   ],
   "source": [
    "confusion_matrix(y_train, y_train_pred)"
   ]
  },
  {
   "cell_type": "markdown",
   "id": "739520af",
   "metadata": {},
   "source": [
    "### Naive Bayes"
   ]
  },
  {
   "cell_type": "code",
   "execution_count": 14,
   "id": "7b1462de",
   "metadata": {},
   "outputs": [],
   "source": [
    "nb_clf = GaussianNB()"
   ]
  },
  {
   "cell_type": "code",
   "execution_count": 15,
   "id": "3be18d6b",
   "metadata": {},
   "outputs": [
    {
     "name": "stdout",
     "output_type": "stream",
     "text": [
      "Naive Bayes Baseline Accuracy: 76.18\n",
      "Naive Bayes Baseline F1-Score: 73.10\n",
      "Wall time: 78.6 ms\n"
     ]
    }
   ],
   "source": [
    "%%time\n",
    "y_train_pred = cross_val_predict(nb_clf, X_train, y_train, cv = 5)\n",
    "nb_base_acc = accuracy_score(y_train, y_train_pred) * 100\n",
    "nb_base_f1 = f1_score(y_train, y_train_pred) * 100\n",
    "print(f\"Naive Bayes Baseline Accuracy: {nb_base_acc:.2f}\")\n",
    "print(f\"Naive Bayes Baseline F1-Score: {nb_base_f1:.2f}\")"
   ]
  },
  {
   "cell_type": "code",
   "execution_count": 16,
   "id": "91e3b633",
   "metadata": {},
   "outputs": [
    {
     "data": {
      "text/plain": [
       "array([[2834,  852],\n",
       "       [ 688, 2092]], dtype=int64)"
      ]
     },
     "execution_count": 16,
     "metadata": {},
     "output_type": "execute_result"
    }
   ],
   "source": [
    "confusion_matrix(y_train, y_train_pred)"
   ]
  },
  {
   "cell_type": "markdown",
   "id": "603dfff5",
   "metadata": {},
   "source": [
    "### Random Forest"
   ]
  },
  {
   "cell_type": "code",
   "execution_count": 17,
   "id": "a44b1c35",
   "metadata": {},
   "outputs": [],
   "source": [
    "rf_clf = RandomForestClassifier()"
   ]
  },
  {
   "cell_type": "code",
   "execution_count": 18,
   "id": "1e748478",
   "metadata": {},
   "outputs": [
    {
     "name": "stdout",
     "output_type": "stream",
     "text": [
      "Random Forest Baseline Accuracy: 79.93\n",
      "Random Forest Baseline F1-Score: 74.30\n",
      "Wall time: 19 s\n"
     ]
    }
   ],
   "source": [
    "%%time\n",
    "y_train_pred = cross_val_predict(rf_clf, X_train, y_train, cv = 5)\n",
    "rf_base_acc = accuracy_score(y_train, y_train_pred) * 100\n",
    "rf_base_f1 = f1_score(y_train, y_train_pred) * 100\n",
    "print(f\"Random Forest Baseline Accuracy: {rf_base_acc:.2f}\")\n",
    "print(f\"Random Forest Baseline F1-Score: {rf_base_f1:.2f}\")"
   ]
  },
  {
   "cell_type": "code",
   "execution_count": 19,
   "id": "8fd9b1f3",
   "metadata": {},
   "outputs": [
    {
     "data": {
      "text/plain": [
       "array([[3292,  394],\n",
       "       [ 904, 1876]], dtype=int64)"
      ]
     },
     "execution_count": 19,
     "metadata": {},
     "output_type": "execute_result"
    }
   ],
   "source": [
    "confusion_matrix(y_train, y_train_pred)"
   ]
  },
  {
   "cell_type": "markdown",
   "id": "84f433be",
   "metadata": {},
   "source": [
    "### XGBoost"
   ]
  },
  {
   "cell_type": "code",
   "execution_count": 20,
   "id": "7a73d109",
   "metadata": {},
   "outputs": [],
   "source": [
    "xgb_clf = xgboost.XGBClassifier(use_label_encoder=False, objective = \"binary:logistic\")"
   ]
  },
  {
   "cell_type": "code",
   "execution_count": 21,
   "id": "7ee05f69",
   "metadata": {},
   "outputs": [
    {
     "name": "stdout",
     "output_type": "stream",
     "text": [
      "[19:09:13] WARNING: C:/Users/Administrator/workspace/xgboost-win64_release_1.5.1/src/learner.cc:1115: Starting in XGBoost 1.3.0, the default evaluation metric used with the objective 'binary:logistic' was changed from 'error' to 'logloss'. Explicitly set eval_metric if you'd like to restore the old behavior.\n",
      "[19:09:17] WARNING: C:/Users/Administrator/workspace/xgboost-win64_release_1.5.1/src/learner.cc:1115: Starting in XGBoost 1.3.0, the default evaluation metric used with the objective 'binary:logistic' was changed from 'error' to 'logloss'. Explicitly set eval_metric if you'd like to restore the old behavior.\n",
      "[19:09:20] WARNING: C:/Users/Administrator/workspace/xgboost-win64_release_1.5.1/src/learner.cc:1115: Starting in XGBoost 1.3.0, the default evaluation metric used with the objective 'binary:logistic' was changed from 'error' to 'logloss'. Explicitly set eval_metric if you'd like to restore the old behavior.\n",
      "[19:09:22] WARNING: C:/Users/Administrator/workspace/xgboost-win64_release_1.5.1/src/learner.cc:1115: Starting in XGBoost 1.3.0, the default evaluation metric used with the objective 'binary:logistic' was changed from 'error' to 'logloss'. Explicitly set eval_metric if you'd like to restore the old behavior.\n",
      "[19:09:25] WARNING: C:/Users/Administrator/workspace/xgboost-win64_release_1.5.1/src/learner.cc:1115: Starting in XGBoost 1.3.0, the default evaluation metric used with the objective 'binary:logistic' was changed from 'error' to 'logloss'. Explicitly set eval_metric if you'd like to restore the old behavior.\n",
      "\n",
      "XGBoost Baseline Accuracy: 79.20\n",
      "XGBoost Baseline F1-Score: 74.54\n",
      "Wall time: 15 s\n"
     ]
    }
   ],
   "source": [
    "%%time\n",
    "y_train_pred = cross_val_predict(xgb_clf, X_train, y_train, cv = 5)\n",
    "xgb_base_acc = accuracy_score(y_train, y_train_pred) * 100\n",
    "xgb_base_f1 = f1_score(y_train, y_train_pred) * 100\n",
    "print(f\"\\nXGBoost Baseline Accuracy: {xgb_base_acc:.2f}\")\n",
    "print(f\"XGBoost Baseline F1-Score: {xgb_base_f1:.2f}\")"
   ]
  },
  {
   "cell_type": "code",
   "execution_count": 22,
   "id": "3547670f",
   "metadata": {},
   "outputs": [
    {
     "data": {
      "text/plain": [
       "array([[3152,  534],\n",
       "       [ 811, 1969]], dtype=int64)"
      ]
     },
     "execution_count": 22,
     "metadata": {},
     "output_type": "execute_result"
    }
   ],
   "source": [
    "confusion_matrix(y_train, y_train_pred)"
   ]
  },
  {
   "cell_type": "markdown",
   "id": "4012e4ca",
   "metadata": {},
   "source": [
    "### Deep Learning"
   ]
  },
  {
   "cell_type": "code",
   "execution_count": 23,
   "id": "b20bb294",
   "metadata": {},
   "outputs": [],
   "source": [
    "input_ = keras.layers.Input(X_train.shape[1:])\n",
    "hidden1 = keras.layers.Dense(25, activation = \"relu\")(input_)\n",
    "hidden2 = keras.layers.Dense(25, activation = \"relu\")(hidden1)\n",
    "output = keras.layers.Dense(1, activation=\"sigmoid\")(hidden2)\n",
    "baseline_model = keras.Model(inputs=input_, outputs = output)\n",
    "baseline_model.compile(loss = \"binary_crossentropy\", optimizer=\"adam\", metrics = [\"accuracy\"])"
   ]
  },
  {
   "cell_type": "code",
   "execution_count": 24,
   "id": "9fdf3213",
   "metadata": {},
   "outputs": [
    {
     "name": "stdout",
     "output_type": "stream",
     "text": [
      "Model: \"model\"\n",
      "_________________________________________________________________\n",
      "Layer (type)                 Output Shape              Param #   \n",
      "=================================================================\n",
      "input_1 (InputLayer)         [(None, 50)]              0         \n",
      "_________________________________________________________________\n",
      "dense (Dense)                (None, 25)                1275      \n",
      "_________________________________________________________________\n",
      "dense_1 (Dense)              (None, 25)                650       \n",
      "_________________________________________________________________\n",
      "dense_2 (Dense)              (None, 1)                 26        \n",
      "=================================================================\n",
      "Total params: 1,951\n",
      "Trainable params: 1,951\n",
      "Non-trainable params: 0\n",
      "_________________________________________________________________\n",
      "None\n"
     ]
    }
   ],
   "source": [
    "#Model architecture\n",
    "print(baseline_model.summary())"
   ]
  },
  {
   "cell_type": "code",
   "execution_count": 25,
   "id": "4fe271d5",
   "metadata": {},
   "outputs": [
    {
     "name": "stdout",
     "output_type": "stream",
     "text": [
      "Restoring model weights from the end of the best epoch.\n",
      "Epoch 00068: early stopping\n",
      "Wall time: 13.9 s\n"
     ]
    }
   ],
   "source": [
    "%%time\n",
    "early = keras.callbacks.EarlyStopping(monitor='val_loss', mode='min', verbose=1, patience = 50, restore_best_weights=True)\n",
    "\n",
    "history = baseline_model.fit(X_train, y_train, validation_split=.2, epochs=500, batch_size=32, verbose=0, callbacks = [early])"
   ]
  },
  {
   "cell_type": "code",
   "execution_count": 26,
   "id": "a790ae65",
   "metadata": {},
   "outputs": [
    {
     "data": {
      "image/png": "[encoded data removed]",
      "text/plain": [
       "<Figure size 864x576 with 1 Axes>"
      ]
     },
     "metadata": {
      "needs_background": "light"
     },
     "output_type": "display_data"
    }
   ],
   "source": [
    "plt.figure(figsize = (12,8))\n",
    "plt.plot(history.history['loss'], label='train')\n",
    "plt.plot(history.history['val_loss'], label='val')\n",
    "plt.grid(True)\n",
    "plt.xlabel(\"Epoch\")\n",
    "plt.ylabel(\"Loss\")\n",
    "plt.title(\"Train and Validation Loss During Training with Early Stoppping\")\n",
    "plt.legend()\n",
    "plt.show()"
   ]
  },
  {
   "cell_type": "code",
   "execution_count": 27,
   "id": "36514ac5",
   "metadata": {},
   "outputs": [
    {
     "name": "stdout",
     "output_type": "stream",
     "text": [
      "Model Baseline Accuracy Score: 82.75%\n",
      "Model Baseline F1-Score: 79.41%\n"
     ]
    }
   ],
   "source": [
    "#Baseline Accuracy and F1 Scores\n",
    "y_pred = baseline_model.predict(X_val)\n",
    "#Change the prediction to form expected for accuracy and f1-score functions\n",
    "y_pred = np.round(y_pred.reshape((y_pred.shape[0])))\n",
    "#Change the validation targets \n",
    "y_val = y_val.astype(np.int)\n",
    "model_base_acc = np.round(accuracy_score(y_pred, y_val), 4) * 100\n",
    "model_base_f1 = np.round(f1_score(y_pred, y_val), 4) * 100\n",
    "print(f\"Model Baseline Accuracy Score: {model_base_acc:.2f}%\")\n",
    "print(f\"Model Baseline F1-Score: {model_base_f1:.2f}%\")"
   ]
  },
  {
   "cell_type": "code",
   "execution_count": 28,
   "id": "3db86859",
   "metadata": {},
   "outputs": [
    {
     "data": {
      "text/plain": [
       "array([[565, 111],\n",
       "       [ 86, 380]], dtype=int64)"
      ]
     },
     "execution_count": 28,
     "metadata": {},
     "output_type": "execute_result"
    }
   ],
   "source": [
    "#Confusion matrix\n",
    "confusion_matrix(y_pred, y_val)"
   ]
  },
  {
   "cell_type": "markdown",
   "id": "ff101987",
   "metadata": {},
   "source": [
    "# Baseline Results"
   ]
  },
  {
   "cell_type": "markdown",
   "id": "251be31d",
   "metadata": {},
   "source": [
    "### F1-Score"
   ]
  },
  {
   "cell_type": "code",
   "execution_count": 29,
   "id": "64f7a7f2",
   "metadata": {},
   "outputs": [],
   "source": [
    "Models = [\"Logistic Regression\", \"Naive Bayes\", \"Random Forest\", \"XGBoost\", \"Deep Learning\"]\n",
    "F1_Base_Scores = [lr_base_f1, nb_base_f1, rf_base_f1, xgb_base_f1, model_base_f1]\n",
    "Accuracy_Base_Scores = [lr_base_acc, nb_base_acc, rf_base_acc, xgb_base_acc, model_base_acc]\n",
    "\n",
    "#Create a data frame with the results\n",
    "base_results = pd.DataFrame({\"Model\": Models, \"F1\": F1_Base_Scores, \"Accuracy\" : Accuracy_Base_Scores})"
   ]
  },
  {
   "cell_type": "code",
   "execution_count": 30,
   "id": "5f6b421e",
   "metadata": {},
   "outputs": [
    {
     "data": {
      "text/html": [
       "<div>\n",
       "<style scoped>\n",
       "    .dataframe tbody tr th:only-of-type {\n",
       "        vertical-align: middle;\n",
       "    }\n",
       "\n",
       "    .dataframe tbody tr th {\n",
       "        vertical-align: top;\n",
       "    }\n",
       "\n",
       "    .dataframe thead th {\n",
       "        text-align: right;\n",
       "    }\n",
       "</style>\n",
       "<table border=\"1\" class=\"dataframe\">\n",
       "  <thead>\n",
       "    <tr style=\"text-align: right;\">\n",
       "      <th></th>\n",
       "      <th>Model</th>\n",
       "      <th>F1</th>\n",
       "      <th>Accuracy</th>\n",
       "    </tr>\n",
       "  </thead>\n",
       "  <tbody>\n",
       "    <tr>\n",
       "      <th>4</th>\n",
       "      <td>Deep Learning</td>\n",
       "      <td>79.410000</td>\n",
       "      <td>82.750000</td>\n",
       "    </tr>\n",
       "    <tr>\n",
       "      <th>3</th>\n",
       "      <td>XGBoost</td>\n",
       "      <td>74.540981</td>\n",
       "      <td>79.198886</td>\n",
       "    </tr>\n",
       "    <tr>\n",
       "      <th>2</th>\n",
       "      <td>Random Forest</td>\n",
       "      <td>74.297030</td>\n",
       "      <td>79.925766</td>\n",
       "    </tr>\n",
       "    <tr>\n",
       "      <th>1</th>\n",
       "      <td>Naive Bayes</td>\n",
       "      <td>73.095737</td>\n",
       "      <td>76.183112</td>\n",
       "    </tr>\n",
       "    <tr>\n",
       "      <th>0</th>\n",
       "      <td>Logistic Regression</td>\n",
       "      <td>71.573701</td>\n",
       "      <td>77.064646</td>\n",
       "    </tr>\n",
       "  </tbody>\n",
       "</table>\n",
       "</div>"
      ],
      "text/plain": [
       "                 Model         F1   Accuracy\n",
       "4  Deep Learning        79.410000  82.750000\n",
       "3  XGBoost              74.540981  79.198886\n",
       "2  Random Forest        74.297030  79.925766\n",
       "1  Naive Bayes          73.095737  76.183112\n",
       "0  Logistic Regression  71.573701  77.064646"
      ]
     },
     "execution_count": 30,
     "metadata": {},
     "output_type": "execute_result"
    }
   ],
   "source": [
    "base_results.sort_values(by=\"F1\", ascending = False, inplace = True)\n",
    "base_results"
   ]
  },
  {
   "cell_type": "code",
   "execution_count": 31,
   "id": "94319fa1",
   "metadata": {},
   "outputs": [
    {
     "data": {
      "text/plain": [
       "Text(0.5, 0, 'Models')"
      ]
     },
     "execution_count": 31,
     "metadata": {},
     "output_type": "execute_result"
    },
    {
     "data": {
      "image/png": "[encoded data removed]",
      "text/plain": [
       "<Figure size 1080x720 with 1 Axes>"
      ]
     },
     "metadata": {},
     "output_type": "display_data"
    }
   ],
   "source": [
    "#Bar chart of the results\n",
    "sns.set(rc = {'figure.figsize':(15,10)})\n",
    "sns.barplot(x=\"Model\", y = \"F1\", order = base_results[\"Model\"] \\\n",
    "                                            , data = base_results, color = \"blue\")\n",
    "plt.title(\"Baseline F1-Scores\")\n",
    "plt.ylabel(\"F1-Score\")\n",
    "plt.xlabel(\"Models\")"
   ]
  },
  {
   "cell_type": "markdown",
   "id": "4f407da2",
   "metadata": {},
   "source": [
    "### Accuracy"
   ]
  },
  {
   "cell_type": "code",
   "execution_count": 32,
   "id": "cb8e2f3b",
   "metadata": {},
   "outputs": [
    {
     "data": {
      "text/html": [
       "<div>\n",
       "<style scoped>\n",
       "    .dataframe tbody tr th:only-of-type {\n",
       "        vertical-align: middle;\n",
       "    }\n",
       "\n",
       "    .dataframe tbody tr th {\n",
       "        vertical-align: top;\n",
       "    }\n",
       "\n",
       "    .dataframe thead th {\n",
       "        text-align: right;\n",
       "    }\n",
       "</style>\n",
       "<table border=\"1\" class=\"dataframe\">\n",
       "  <thead>\n",
       "    <tr style=\"text-align: right;\">\n",
       "      <th></th>\n",
       "      <th>Model</th>\n",
       "      <th>F1</th>\n",
       "      <th>Accuracy</th>\n",
       "    </tr>\n",
       "  </thead>\n",
       "  <tbody>\n",
       "    <tr>\n",
       "      <th>4</th>\n",
       "      <td>Deep Learning</td>\n",
       "      <td>79.410000</td>\n",
       "      <td>82.750000</td>\n",
       "    </tr>\n",
       "    <tr>\n",
       "      <th>2</th>\n",
       "      <td>Random Forest</td>\n",
       "      <td>74.297030</td>\n",
       "      <td>79.925766</td>\n",
       "    </tr>\n",
       "    <tr>\n",
       "      <th>3</th>\n",
       "      <td>XGBoost</td>\n",
       "      <td>74.540981</td>\n",
       "      <td>79.198886</td>\n",
       "    </tr>\n",
       "    <tr>\n",
       "      <th>0</th>\n",
       "      <td>Logistic Regression</td>\n",
       "      <td>71.573701</td>\n",
       "      <td>77.064646</td>\n",
       "    </tr>\n",
       "    <tr>\n",
       "      <th>1</th>\n",
       "      <td>Naive Bayes</td>\n",
       "      <td>73.095737</td>\n",
       "      <td>76.183112</td>\n",
       "    </tr>\n",
       "  </tbody>\n",
       "</table>\n",
       "</div>"
      ],
      "text/plain": [
       "                 Model         F1   Accuracy\n",
       "4  Deep Learning        79.410000  82.750000\n",
       "2  Random Forest        74.297030  79.925766\n",
       "3  XGBoost              74.540981  79.198886\n",
       "0  Logistic Regression  71.573701  77.064646\n",
       "1  Naive Bayes          73.095737  76.183112"
      ]
     },
     "execution_count": 32,
     "metadata": {},
     "output_type": "execute_result"
    }
   ],
   "source": [
    "base_results.sort_values(by=\"Accuracy\", ascending = False, inplace = True)\n",
    "base_results"
   ]
  },
  {
   "cell_type": "code",
   "execution_count": 33,
   "id": "b1b8cf18",
   "metadata": {},
   "outputs": [
    {
     "data": {
      "text/plain": [
       "Text(0.5, 0, 'Models')"
      ]
     },
     "execution_count": 33,
     "metadata": {},
     "output_type": "execute_result"
    },
    {
     "data": {
      "image/png": "[encoded data removed]",
      "text/plain": [
       "<Figure size 1080x720 with 1 Axes>"
      ]
     },
     "metadata": {},
     "output_type": "display_data"
    }
   ],
   "source": [
    "#Bar chart of the results\n",
    "sns.set(rc = {'figure.figsize':(15,10)})\n",
    "sns.barplot(x=\"Model\", y = \"Accuracy\", order = base_results[\"Model\"] \\\n",
    "                                            , data = base_results, color = \"blue\")\n",
    "plt.title(\"Baseline Accuracy Score\")\n",
    "plt.ylabel(\"Accuracy\")\n",
    "plt.xlabel(\"Models\")"
   ]
  },
  {
   "cell_type": "markdown",
   "id": "d478313a",
   "metadata": {},
   "source": [
    "# Hyperparameter Tuning"
   ]
  },
  {
   "cell_type": "markdown",
   "id": "6ed4e2ab",
   "metadata": {},
   "source": [
    "### Logistic Regression"
   ]
  },
  {
   "cell_type": "code",
   "execution_count": 34,
   "id": "14c6b3e0",
   "metadata": {},
   "outputs": [
    {
     "name": "stdout",
     "output_type": "stream",
     "text": [
      "{'C': 3.8013801380138013}\n",
      "0.7120212198188942\n",
      "Wall time: 11.6 s\n"
     ]
    }
   ],
   "source": [
    "%%time\n",
    "#Randomly search through the hyperparameter space\n",
    "param_distribs = {\n",
    "    \"C\" : np.linspace(0, 30, 10000),\n",
    "    }\n",
    "lr_clf = LogisticRegression(penalty = \"l2\", solver = \"lbfgs\", max_iter=10000)\n",
    "\n",
    "lr_rnd_search_cv = RandomizedSearchCV(lr_clf, param_distribs, n_iter = 100,\n",
    "                                   cv=2, scoring = 'f1', random_state=42, n_jobs = -1)\n",
    "\n",
    "lr_rnd_search_cv.fit(X_train, y_train)\n",
    "\n",
    "print(lr_rnd_search_cv.best_params_)\n",
    "print(lr_rnd_search_cv.best_score_)"
   ]
  },
  {
   "cell_type": "code",
   "execution_count": 37,
   "id": "b27a7a8a",
   "metadata": {},
   "outputs": [
    {
     "data": {
      "text/html": [
       "<div>\n",
       "<style scoped>\n",
       "    .dataframe tbody tr th:only-of-type {\n",
       "        vertical-align: middle;\n",
       "    }\n",
       "\n",
       "    .dataframe tbody tr th {\n",
       "        vertical-align: top;\n",
       "    }\n",
       "\n",
       "    .dataframe thead th {\n",
       "        text-align: right;\n",
       "    }\n",
       "</style>\n",
       "<table border=\"1\" class=\"dataframe\">\n",
       "  <thead>\n",
       "    <tr style=\"text-align: right;\">\n",
       "      <th></th>\n",
       "      <th>param_C</th>\n",
       "      <th>mean_test_score</th>\n",
       "    </tr>\n",
       "  </thead>\n",
       "  <tbody>\n",
       "    <tr>\n",
       "      <th>69</th>\n",
       "      <td>3.048305</td>\n",
       "      <td>0.712021</td>\n",
       "    </tr>\n",
       "    <tr>\n",
       "      <th>66</th>\n",
       "      <td>2.985299</td>\n",
       "      <td>0.712021</td>\n",
       "    </tr>\n",
       "    <tr>\n",
       "      <th>35</th>\n",
       "      <td>3.80138</td>\n",
       "      <td>0.712021</td>\n",
       "    </tr>\n",
       "    <tr>\n",
       "      <th>58</th>\n",
       "      <td>3.063306</td>\n",
       "      <td>0.712021</td>\n",
       "    </tr>\n",
       "    <tr>\n",
       "      <th>36</th>\n",
       "      <td>4.584458</td>\n",
       "      <td>0.712010</td>\n",
       "    </tr>\n",
       "  </tbody>\n",
       "</table>\n",
       "</div>"
      ],
      "text/plain": [
       "     param_C  mean_test_score\n",
       "69  3.048305  0.712021       \n",
       "66  2.985299  0.712021       \n",
       "35  3.80138   0.712021       \n",
       "58  3.063306  0.712021       \n",
       "36  4.584458  0.712010       "
      ]
     },
     "execution_count": 37,
     "metadata": {},
     "output_type": "execute_result"
    }
   ],
   "source": [
    "#Save the results in a dataframe\n",
    "lr_rnd_search_df = pd.DataFrame(lr_rnd_search_cv.cv_results_)\n",
    "#Rank the results by score\n",
    "lr_rnd_search_df[[\"param_C\", \"mean_test_score\"]].sort_values(by = \"mean_test_score\", ascending = False).head()"
   ]
  },
  {
   "cell_type": "markdown",
   "id": "f1edadbf",
   "metadata": {},
   "source": [
    "### Random Forest"
   ]
  },
  {
   "cell_type": "code",
   "execution_count": 38,
   "id": "c8f69f93",
   "metadata": {},
   "outputs": [
    {
     "name": "stdout",
     "output_type": "stream",
     "text": [
      "{'n_estimators': 244}\n",
      "0.7412731914791761\n",
      "Wall time: 4min 15s\n"
     ]
    }
   ],
   "source": [
    "%%time\n",
    "#Randomly search through the hyperparameter space\n",
    "param_distribs = {\n",
    "    \"n_estimators\": np.arange(50, 300)\n",
    "    }\n",
    "rf_clf = RandomForestClassifier()\n",
    "\n",
    "rf_rnd_search_cv = RandomizedSearchCV(rf_clf, param_distribs, n_iter = 30,\n",
    "                                   cv=2 ,scoring = 'f1', random_state=42)\n",
    "\n",
    "rf_rnd_search_cv.fit(X_train, y_train)\n",
    "\n",
    "print(rf_rnd_search_cv.best_params_)\n",
    "print(rf_rnd_search_cv.best_score_)"
   ]
  },
  {
   "cell_type": "code",
   "execution_count": 39,
   "id": "a6b77c90",
   "metadata": {},
   "outputs": [
    {
     "data": {
      "text/html": [
       "<div>\n",
       "<style scoped>\n",
       "    .dataframe tbody tr th:only-of-type {\n",
       "        vertical-align: middle;\n",
       "    }\n",
       "\n",
       "    .dataframe tbody tr th {\n",
       "        vertical-align: top;\n",
       "    }\n",
       "\n",
       "    .dataframe thead th {\n",
       "        text-align: right;\n",
       "    }\n",
       "</style>\n",
       "<table border=\"1\" class=\"dataframe\">\n",
       "  <thead>\n",
       "    <tr style=\"text-align: right;\">\n",
       "      <th></th>\n",
       "      <th>param_n_estimators</th>\n",
       "      <th>mean_test_score</th>\n",
       "    </tr>\n",
       "  </thead>\n",
       "  <tbody>\n",
       "    <tr>\n",
       "      <th>16</th>\n",
       "      <td>244</td>\n",
       "      <td>0.741273</td>\n",
       "    </tr>\n",
       "    <tr>\n",
       "      <th>26</th>\n",
       "      <td>105</td>\n",
       "      <td>0.741050</td>\n",
       "    </tr>\n",
       "    <tr>\n",
       "      <th>11</th>\n",
       "      <td>266</td>\n",
       "      <td>0.740655</td>\n",
       "    </tr>\n",
       "    <tr>\n",
       "      <th>3</th>\n",
       "      <td>110</td>\n",
       "      <td>0.738952</td>\n",
       "    </tr>\n",
       "    <tr>\n",
       "      <th>0</th>\n",
       "      <td>192</td>\n",
       "      <td>0.738883</td>\n",
       "    </tr>\n",
       "  </tbody>\n",
       "</table>\n",
       "</div>"
      ],
      "text/plain": [
       "   param_n_estimators  mean_test_score\n",
       "16  244                0.741273       \n",
       "26  105                0.741050       \n",
       "11  266                0.740655       \n",
       "3   110                0.738952       \n",
       "0   192                0.738883       "
      ]
     },
     "execution_count": 39,
     "metadata": {},
     "output_type": "execute_result"
    }
   ],
   "source": [
    "#Save the results\n",
    "rf_rnd_search_df = pd.DataFrame(rf_rnd_search_cv.cv_results_)\n",
    "tuned_params = [\"param_n_estimators\", \"mean_test_score\"]\n",
    "#Rank by score\n",
    "rf_rnd_search_df[tuned_params].sort_values(by = \"mean_test_score\", ascending = False).head()"
   ]
  },
  {
   "cell_type": "markdown",
   "id": "8fa51ae6",
   "metadata": {},
   "source": [
    "### XGBoost"
   ]
  },
  {
   "cell_type": "code",
   "execution_count": 40,
   "id": "5578b0da",
   "metadata": {},
   "outputs": [],
   "source": [
    "#Randomly search through the hyperparameter space\n",
    "param_distribs = {\n",
    "    \"max_depth\": [2,3,4,5,6,7],\n",
    "    \"gamma\": uniform(loc = 0.0, scale = 3),\n",
    "    \"min_child_weight\": list(range(20,51)),\n",
    "    \"colsample_bytree\": uniform(loc = 0.1, scale = 0.9),\n",
    "    \"learning_rate\": uniform(loc = 0.01, scale = 0.5),\n",
    "    \"subsample\": uniform(loc = 0.5, scale = 0.5),\n",
    "    \"reg_lambda\": uniform(loc = 0.01, scale = 3)\n",
    "    }\n",
    "rng = np.random.RandomState(42)\n",
    "n_iter = 100\n",
    "param_list = list(ParameterSampler(param_distribs, n_iter = n_iter, random_state=rng))"
   ]
  },
  {
   "cell_type": "code",
   "execution_count": 41,
   "id": "3c97f720",
   "metadata": {},
   "outputs": [
    {
     "name": "stdout",
     "output_type": "stream",
     "text": [
      "Done with 10 of 100\n",
      "Done with 20 of 100\n",
      "Done with 30 of 100\n",
      "Done with 40 of 100\n",
      "Done with 50 of 100\n",
      "Done with 60 of 100\n",
      "Done with 70 of 100\n",
      "Done with 80 of 100\n",
      "Done with 90 of 100\n",
      "Done with 100 of 100\n",
      "Wall time: 3min 5s\n"
     ]
    }
   ],
   "source": [
    "%%time\n",
    "#Create an evaluation set\n",
    "eval_set = [(X_train, y_train), (X_val, y_val)]\n",
    "val_f1_score = []\n",
    "n_est = []\n",
    "counter = 1\n",
    "xgb_cf = xgboost.XGBClassifier(n_estimators = 1000, use_label_encoder=False, objective = \"binary:logistic\")\n",
    "\n",
    "for params in param_list:\n",
    "    xgb_cf.set_params(**params)\n",
    "    xgb_cf.fit(X_train, y_train, eval_set=eval_set, eval_metric = \"auc\", verbose = False, early_stopping_rounds = 30)\n",
    "    val_set_preds = xgb_cf.predict(X_val)\n",
    "    val_f1_score.append(f1_score(y_val, val_set_preds))\n",
    "    n_est.append(int(xgb_cf.get_booster().attributes()[\"best_ntree_limit\"]))\n",
    "    if counter % 10 == 0:\n",
    "        print(f'Done with {counter} of {n_iter}')\n",
    "    counter += 1"
   ]
  },
  {
   "cell_type": "code",
   "execution_count": 44,
   "id": "77a6b7fa",
   "metadata": {},
   "outputs": [
    {
     "data": {
      "text/html": [
       "<div>\n",
       "<style scoped>\n",
       "    .dataframe tbody tr th:only-of-type {\n",
       "        vertical-align: middle;\n",
       "    }\n",
       "\n",
       "    .dataframe tbody tr th {\n",
       "        vertical-align: top;\n",
       "    }\n",
       "\n",
       "    .dataframe thead th {\n",
       "        text-align: right;\n",
       "    }\n",
       "</style>\n",
       "<table border=\"1\" class=\"dataframe\">\n",
       "  <thead>\n",
       "    <tr style=\"text-align: right;\">\n",
       "      <th></th>\n",
       "      <th>colsample_bytree</th>\n",
       "      <th>gamma</th>\n",
       "      <th>learning_rate</th>\n",
       "      <th>max_depth</th>\n",
       "      <th>min_child_weight</th>\n",
       "      <th>reg_lambda</th>\n",
       "      <th>subsample</th>\n",
       "      <th>Validation F1-Score</th>\n",
       "      <th>N Estimators</th>\n",
       "    </tr>\n",
       "  </thead>\n",
       "  <tbody>\n",
       "    <tr>\n",
       "      <th>46</th>\n",
       "      <td>0.132348</td>\n",
       "      <td>1.396794</td>\n",
       "      <td>0.281322</td>\n",
       "      <td>6</td>\n",
       "      <td>41</td>\n",
       "      <td>1.782500</td>\n",
       "      <td>0.515250</td>\n",
       "      <td>0.804550</td>\n",
       "      <td>70</td>\n",
       "    </tr>\n",
       "    <tr>\n",
       "      <th>4</th>\n",
       "      <td>0.806658</td>\n",
       "      <td>0.599021</td>\n",
       "      <td>0.267117</td>\n",
       "      <td>2</td>\n",
       "      <td>22</td>\n",
       "      <td>2.589821</td>\n",
       "      <td>0.840154</td>\n",
       "      <td>0.794268</td>\n",
       "      <td>135</td>\n",
       "    </tr>\n",
       "    <tr>\n",
       "      <th>93</th>\n",
       "      <td>0.159612</td>\n",
       "      <td>0.137584</td>\n",
       "      <td>0.320403</td>\n",
       "      <td>3</td>\n",
       "      <td>32</td>\n",
       "      <td>0.637392</td>\n",
       "      <td>0.789825</td>\n",
       "      <td>0.793750</td>\n",
       "      <td>61</td>\n",
       "    </tr>\n",
       "    <tr>\n",
       "      <th>70</th>\n",
       "      <td>0.456986</td>\n",
       "      <td>2.675691</td>\n",
       "      <td>0.083302</td>\n",
       "      <td>6</td>\n",
       "      <td>24</td>\n",
       "      <td>0.709684</td>\n",
       "      <td>0.790653</td>\n",
       "      <td>0.793717</td>\n",
       "      <td>108</td>\n",
       "    </tr>\n",
       "    <tr>\n",
       "      <th>1</th>\n",
       "      <td>0.152275</td>\n",
       "      <td>2.598528</td>\n",
       "      <td>0.310558</td>\n",
       "      <td>4</td>\n",
       "      <td>41</td>\n",
       "      <td>0.179235</td>\n",
       "      <td>0.860999</td>\n",
       "      <td>0.792531</td>\n",
       "      <td>54</td>\n",
       "    </tr>\n",
       "  </tbody>\n",
       "</table>\n",
       "</div>"
      ],
      "text/plain": [
       "    colsample_bytree     gamma  learning_rate  max_depth  min_child_weight  \\\n",
       "46  0.132348          1.396794  0.281322       6          41                 \n",
       "4   0.806658          0.599021  0.267117       2          22                 \n",
       "93  0.159612          0.137584  0.320403       3          32                 \n",
       "70  0.456986          2.675691  0.083302       6          24                 \n",
       "1   0.152275          2.598528  0.310558       4          41                 \n",
       "\n",
       "    reg_lambda  subsample  Validation F1-Score  N Estimators  \n",
       "46  1.782500    0.515250   0.804550             70            \n",
       "4   2.589821    0.840154   0.794268             135           \n",
       "93  0.637392    0.789825   0.793750             61            \n",
       "70  0.709684    0.790653   0.793717             108           \n",
       "1   0.179235    0.860999   0.792531             54            "
      ]
     },
     "execution_count": 44,
     "metadata": {},
     "output_type": "execute_result"
    }
   ],
   "source": [
    "#Save the results\n",
    "xgb_param_search_df = pd.DataFrame(param_list)\n",
    "xgb_param_search_df[\"Validation F1-Score\"] = val_f1_score\n",
    "xgb_param_search_df[\"N Estimators\"] = n_est\n",
    "#Rank by score\n",
    "xgb_param_search_df.sort_values(by=\"Validation F1-Score\", ascending = False).head()"
   ]
  },
  {
   "cell_type": "markdown",
   "id": "aebbee68",
   "metadata": {},
   "source": [
    "### Deep Learning"
   ]
  },
  {
   "cell_type": "code",
   "execution_count": 45,
   "id": "051bb89e",
   "metadata": {},
   "outputs": [],
   "source": [
    "def build_model(n_hidden=1, n_neurons=5, lr_rate=3e-2, activation = \"relu\",\n",
    "                drop_rate=.2, kernel = True, kernel_initializer = \"he_normal\", optimizer=\"Adam\", \n",
    "                momentum = .9, nesterov = False):\n",
    "    \"\"\"\n",
    "    This function creates a deep learning model with default parameters. This function is used to tune the hyperparameters. \n",
    "    \n",
    "    returns: functional style keras model\n",
    "    \n",
    "    \"\"\"\n",
    "    input_ = keras.layers.Input(X_train.shape[1:])\n",
    "    \n",
    "    for layer in range(n_hidden):\n",
    "        if layer == 0:\n",
    "            hidden = keras.layers.Dense(n_neurons, activation = activation, kernel_initializer=kernel_initializer)(input_)\n",
    "            hidden = keras.layers.Dropout(rate = drop_rate)(hidden)\n",
    "                \n",
    "        else:       \n",
    "            hidden = keras.layers.Dense(n_neurons, activation = activation, kernel_initializer=kernel_initializer)(hidden)\n",
    "            hidden = keras.layers.Dropout(rate = drop_rate)(hidden)\n",
    "    \n",
    "    output = keras.layers.Dense(1, activation = \"sigmoid\")(hidden)    \n",
    "    model = keras.Model(inputs = input_, outputs = output)\n",
    "\n",
    "    if optimizer == \"SGD\":\n",
    "        optimizer = keras.optimizers.SGD(learning_rate=lr_rate, momentum=momentum, nesterov=nesterov)\n",
    "    elif optimizer == \"Adam\":\n",
    "        optimizer = keras.optimizers.Adam(learning_rate=lr_rate)\n",
    "    else:\n",
    "        optimizer = keras.optimizers.RMSprop(learning_rate=lr_rate, momentum = momentum)\n",
    "\n",
    "    model.compile(loss=\"binary_crossentropy\", optimizer=optimizer, metrics = [\"accuracy\"])\n",
    "\n",
    "    return model"
   ]
  },
  {
   "cell_type": "code",
   "execution_count": 46,
   "id": "3809827e",
   "metadata": {},
   "outputs": [],
   "source": [
    "#Grid of hyperparameters to search through\n",
    "param_distribs = {\n",
    "    \"n_hidden\": np.arange(5, 20),\n",
    "    \"n_neurons\": np.arange(50, 100),\n",
    "    \"drop_rate\" : [0.20, 0.225, 0.25, 0.275, 0.30],\n",
    "    \"lr_rate\" : [.005, .0075, 0.09, .01, 0.02, .025, .05, .075, .1 ],\n",
    "    \"activation\": [\"relu\", \"elu\", \"selu\"],\n",
    "    \"kernel_initializer\" : [\"glorot_normal\", \"he_normal\", \"lecun_normal\"],\n",
    "    \"optimizer\" : [\"SGD\", \"Adam\",\"RMSprop\"],\n",
    "    \"momentum\" : [0.95, 0.99, 0.999, 0.9999],\n",
    "    \"nesterov\" : [True, False]\n",
    "    }\n",
    "\n",
    "#Number of models to consider\n",
    "num_models = 100\n",
    "param_list = list(ParameterSampler(param_distribs, n_iter = num_models))"
   ]
  },
  {
   "cell_type": "code",
   "execution_count": null,
   "id": "b6c79c1c",
   "metadata": {},
   "outputs": [],
   "source": [
    "%%time\n",
    "\n",
    "val_acc_score = []\n",
    "batch = []\n",
    "count = 1\n",
    "early = keras.callbacks.EarlyStopping(monitor='val_loss', mode='min', verbose=0, patience = 20)\n",
    "\n",
    "for params in param_list:\n",
    "    model = build_model(**params)\n",
    "    batch_size = np.random.choice([32, 64])\n",
    "    history = model.fit(X_train, y_train, validation_split=.2, epochs=200, batch_size=batch_size, verbose=0, callbacks = [early])\n",
    "    batch.append(batch_size)\n",
    "    min_val_index = np.argmax(history.history[\"val_accuracy\"])\n",
    "    min_val = history.history[\"val_accuracy\"][min_val_index]\n",
    "    val_acc_score.append(min_val)\n",
    "    if count % 10 == 0:\n",
    "        print(f\"Done with {count} of {num_models}\")\n",
    "    count += 1\n",
    "    "
   ]
  },
  {
   "cell_type": "code",
   "execution_count": null,
   "id": "af5e47c0",
   "metadata": {},
   "outputs": [],
   "source": [
    "#Save the results in a dataframe\n",
    "model_param_df = pd.DataFrame(param_list)\n",
    "model_param_df[\"Batch Size\"] = batch\n",
    "model_param_df[\"Validation Accuracy\"] = val_acc_score\n",
    "#Rank the results by the validation accuracy\n",
    "model_param_df.sort_values(by=\"Validation Accuracy\", ascending = False)"
   ]
  }
 ],
 "metadata": {
  "kernelspec": {
   "display_name": "Python 3",
   "language": "python",
   "name": "python3"
  },
  "language_info": {
   "codemirror_mode": {
    "name": "ipython",
    "version": 3
   },
   "file_extension": ".py",
   "mimetype": "text/x-python",
   "name": "python",
   "nbconvert_exporter": "python",
   "pygments_lexer": "ipython3",
   "version": "3.8.8"
  }
 },
 "nbformat": 4,
 "nbformat_minor": 5
}
