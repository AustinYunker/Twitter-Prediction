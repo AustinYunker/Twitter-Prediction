{
 "cells": [
  {
   "cell_type": "markdown",
   "id": "1faa065c",
   "metadata": {},
   "source": [
    "# Setup and Imports"
   ]
  },
  {
   "cell_type": "code",
   "execution_count": 1,
   "id": "c45e743e",
   "metadata": {},
   "outputs": [],
   "source": [
    "import pandas as pd\n",
    "import numpy as np\n",
    "from matplotlib import pyplot as plt\n",
    "%matplotlib inline\n",
    "import seaborn as sns\n",
    "import re\n",
    "sns.set\n",
    "import spacy\n",
    "import nltk\n",
    "from nltk.corpus import brown\n",
    "from nltk.corpus import wordnet\n",
    "from collections import Counter\n",
    "import Tweet_Normalizer as tn"
   ]
  },
  {
   "cell_type": "markdown",
   "id": "92508e1d",
   "metadata": {},
   "source": [
    "# Load the Data"
   ]
  },
  {
   "cell_type": "code",
   "execution_count": 2,
   "id": "736dce0b",
   "metadata": {},
   "outputs": [],
   "source": [
    "tweets = pd.read_csv(\"data/train.csv\")"
   ]
  },
  {
   "cell_type": "code",
   "execution_count": 3,
   "id": "f834fc1e",
   "metadata": {},
   "outputs": [
    {
     "data": {
      "text/html": [
       "<div>\n",
       "<style scoped>\n",
       "    .dataframe tbody tr th:only-of-type {\n",
       "        vertical-align: middle;\n",
       "    }\n",
       "\n",
       "    .dataframe tbody tr th {\n",
       "        vertical-align: top;\n",
       "    }\n",
       "\n",
       "    .dataframe thead th {\n",
       "        text-align: right;\n",
       "    }\n",
       "</style>\n",
       "<table border=\"1\" class=\"dataframe\">\n",
       "  <thead>\n",
       "    <tr style=\"text-align: right;\">\n",
       "      <th></th>\n",
       "      <th>id</th>\n",
       "      <th>keyword</th>\n",
       "      <th>location</th>\n",
       "      <th>text</th>\n",
       "      <th>target</th>\n",
       "    </tr>\n",
       "  </thead>\n",
       "  <tbody>\n",
       "    <tr>\n",
       "      <th>0</th>\n",
       "      <td>1</td>\n",
       "      <td>NaN</td>\n",
       "      <td>NaN</td>\n",
       "      <td>Our Deeds are the Reason of this #earthquake May ALLAH Forgive us all</td>\n",
       "      <td>1</td>\n",
       "    </tr>\n",
       "    <tr>\n",
       "      <th>1</th>\n",
       "      <td>4</td>\n",
       "      <td>NaN</td>\n",
       "      <td>NaN</td>\n",
       "      <td>Forest fire near La Ronge Sask. Canada</td>\n",
       "      <td>1</td>\n",
       "    </tr>\n",
       "    <tr>\n",
       "      <th>2</th>\n",
       "      <td>5</td>\n",
       "      <td>NaN</td>\n",
       "      <td>NaN</td>\n",
       "      <td>All residents asked to 'shelter in place' are being notified by officers. No other evacuation or shelter in place orders are expected</td>\n",
       "      <td>1</td>\n",
       "    </tr>\n",
       "    <tr>\n",
       "      <th>3</th>\n",
       "      <td>6</td>\n",
       "      <td>NaN</td>\n",
       "      <td>NaN</td>\n",
       "      <td>13,000 people receive #wildfires evacuation orders in California</td>\n",
       "      <td>1</td>\n",
       "    </tr>\n",
       "    <tr>\n",
       "      <th>4</th>\n",
       "      <td>7</td>\n",
       "      <td>NaN</td>\n",
       "      <td>NaN</td>\n",
       "      <td>Just got sent this photo from Ruby #Alaska as smoke from #wildfires pours into a school</td>\n",
       "      <td>1</td>\n",
       "    </tr>\n",
       "  </tbody>\n",
       "</table>\n",
       "</div>"
      ],
      "text/plain": [
       "   id keyword location  \\\n",
       "0  1   NaN     NaN       \n",
       "1  4   NaN     NaN       \n",
       "2  5   NaN     NaN       \n",
       "3  6   NaN     NaN       \n",
       "4  7   NaN     NaN       \n",
       "\n",
       "                                                                                                                                    text  \\\n",
       "0  Our Deeds are the Reason of this #earthquake May ALLAH Forgive us all                                                                   \n",
       "1  Forest fire near La Ronge Sask. Canada                                                                                                  \n",
       "2  All residents asked to 'shelter in place' are being notified by officers. No other evacuation or shelter in place orders are expected   \n",
       "3  13,000 people receive #wildfires evacuation orders in California                                                                        \n",
       "4  Just got sent this photo from Ruby #Alaska as smoke from #wildfires pours into a school                                                 \n",
       "\n",
       "   target  \n",
       "0  1       \n",
       "1  1       \n",
       "2  1       \n",
       "3  1       \n",
       "4  1       "
      ]
     },
     "execution_count": 3,
     "metadata": {},
     "output_type": "execute_result"
    }
   ],
   "source": [
    "#View first few rows\n",
    "pd.set_option('display.max_colwidth', 2)\n",
    "tweets.head()"
   ]
  },
  {
   "cell_type": "code",
   "execution_count": null,
   "id": "cf1c02f0",
   "metadata": {},
   "outputs": [],
   "source": [
    "#Check the dimensions\n",
    "tweets.shape"
   ]
  },
  {
   "cell_type": "markdown",
   "id": "482157dd",
   "metadata": {},
   "source": [
    "# Clean and Normalize Tweets"
   ]
  },
  {
   "cell_type": "code",
   "execution_count": 4,
   "id": "b6d658c0",
   "metadata": {},
   "outputs": [
    {
     "name": "stdout",
     "output_type": "stream",
     "text": [
      "Running tweet scrubber...\n",
      "\n",
      "Dropping unnecessary columns\n",
      "Successfully dropped columns!\n",
      "\n",
      "Normalizing the tweets\n",
      "Successfully normalized tweets!\n",
      "\n",
      "Removing invalid and mispelled words\n",
      "Successfully removed invalid and mispelled words!\n",
      "\n",
      "Successfully scrubbed tweets!\n",
      "\n",
      "Wall time: 2min 47s\n"
     ]
    }
   ],
   "source": [
    "%%time\n",
    "#USe tweet scrubber function to clean the data\n",
    "tweets = tn.tweet_scrubber(tweets, verbose = True)"
   ]
  },
  {
   "cell_type": "code",
   "execution_count": 5,
   "id": "15e93c0c",
   "metadata": {},
   "outputs": [
    {
     "data": {
      "text/plain": [
       "text            0\n",
       "target          0\n",
       "Clean Tweets    5\n",
       "dtype: int64"
      ]
     },
     "execution_count": 5,
     "metadata": {},
     "output_type": "execute_result"
    }
   ],
   "source": [
    "#Check for blank rows after cleaning. We expect 5\n",
    "tweets = tweets.replace(r'^(\\s)+$', np.nan, regex = True)\n",
    "tweets.isnull().sum()"
   ]
  },
  {
   "cell_type": "code",
   "execution_count": 6,
   "id": "c8f639e9",
   "metadata": {},
   "outputs": [
    {
     "data": {
      "text/html": [
       "<div>\n",
       "<style scoped>\n",
       "    .dataframe tbody tr th:only-of-type {\n",
       "        vertical-align: middle;\n",
       "    }\n",
       "\n",
       "    .dataframe tbody tr th {\n",
       "        vertical-align: top;\n",
       "    }\n",
       "\n",
       "    .dataframe thead th {\n",
       "        text-align: right;\n",
       "    }\n",
       "</style>\n",
       "<table border=\"1\" class=\"dataframe\">\n",
       "  <thead>\n",
       "    <tr style=\"text-align: right;\">\n",
       "      <th></th>\n",
       "      <th>text</th>\n",
       "      <th>target</th>\n",
       "      <th>Clean Tweets</th>\n",
       "    </tr>\n",
       "  </thead>\n",
       "  <tbody>\n",
       "    <tr>\n",
       "      <th>433</th>\n",
       "      <td>@local_arsonist LMFAO</td>\n",
       "      <td>0</td>\n",
       "      <td>NaN</td>\n",
       "    </tr>\n",
       "    <tr>\n",
       "      <th>820</th>\n",
       "      <td>Stats http://t.co/U7vavyrGv9</td>\n",
       "      <td>0</td>\n",
       "      <td>NaN</td>\n",
       "    </tr>\n",
       "    <tr>\n",
       "      <th>823</th>\n",
       "      <td>@Blizzard_Gamin ight</td>\n",
       "      <td>0</td>\n",
       "      <td>NaN</td>\n",
       "    </tr>\n",
       "    <tr>\n",
       "      <th>1858</th>\n",
       "      <td>@PYDisney que crush?#MTVHottest Justin Bieber</td>\n",
       "      <td>0</td>\n",
       "      <td>NaN</td>\n",
       "    </tr>\n",
       "    <tr>\n",
       "      <th>6957</th>\n",
       "      <td>@tsunami_esh ?? hey Esh</td>\n",
       "      <td>0</td>\n",
       "      <td>NaN</td>\n",
       "    </tr>\n",
       "  </tbody>\n",
       "</table>\n",
       "</div>"
      ],
      "text/plain": [
       "                                               text  target Clean Tweets\n",
       "433   @local_arsonist LMFAO                          0       NaN        \n",
       "820   Stats http://t.co/U7vavyrGv9                   0       NaN        \n",
       "823   @Blizzard_Gamin ight                           0       NaN        \n",
       "1858  @PYDisney que crush?#MTVHottest Justin Bieber  0       NaN        \n",
       "6957  @tsunami_esh ?? hey Esh                        0       NaN        "
      ]
     },
     "execution_count": 6,
     "metadata": {},
     "output_type": "execute_result"
    }
   ],
   "source": [
    "#Look at which rows are missing\n",
    "tweets.loc[tweets[\"Clean Tweets\"].isnull()]"
   ]
  },
  {
   "cell_type": "code",
   "execution_count": 7,
   "id": "8c89c6a0",
   "metadata": {},
   "outputs": [],
   "source": [
    "#Drop the empty rows\n",
    "tweets.dropna(subset=[\"Clean Tweets\"], inplace = True)"
   ]
  },
  {
   "cell_type": "code",
   "execution_count": 8,
   "id": "894a5e36",
   "metadata": {},
   "outputs": [
    {
     "data": {
      "text/plain": [
       "text            0\n",
       "target          0\n",
       "Clean Tweets    0\n",
       "dtype: int64"
      ]
     },
     "execution_count": 8,
     "metadata": {},
     "output_type": "execute_result"
    }
   ],
   "source": [
    "#Double check that the missing rows were actually dropped\n",
    "tweets = tweets.replace(r'^(\\s)+$', np.nan, regex = True)\n",
    "tweets.isnull().sum()"
   ]
  },
  {
   "cell_type": "code",
   "execution_count": 10,
   "id": "9adb1cdf",
   "metadata": {},
   "outputs": [],
   "source": [
    "#Reset the index in place\n",
    "tweets.reset_index(drop = True, inplace = True)"
   ]
  },
  {
   "cell_type": "code",
   "execution_count": 11,
   "id": "bb32007d",
   "metadata": {
    "scrolled": false
   },
   "outputs": [
    {
     "data": {
      "text/html": [
       "<div>\n",
       "<style scoped>\n",
       "    .dataframe tbody tr th:only-of-type {\n",
       "        vertical-align: middle;\n",
       "    }\n",
       "\n",
       "    .dataframe tbody tr th {\n",
       "        vertical-align: top;\n",
       "    }\n",
       "\n",
       "    .dataframe thead th {\n",
       "        text-align: right;\n",
       "    }\n",
       "</style>\n",
       "<table border=\"1\" class=\"dataframe\">\n",
       "  <thead>\n",
       "    <tr style=\"text-align: right;\">\n",
       "      <th></th>\n",
       "      <th>text</th>\n",
       "      <th>target</th>\n",
       "      <th>Clean Tweets</th>\n",
       "    </tr>\n",
       "  </thead>\n",
       "  <tbody>\n",
       "    <tr>\n",
       "      <th>7598</th>\n",
       "      <td>Officials say a quarantine is in place at an Alabama home over a possible Ebola case after developing symptoms... http://t.co/rqKK15uhEY</td>\n",
       "      <td>1</td>\n",
       "      <td>official say quarantine place alabama home possible ebola case develop symptom</td>\n",
       "    </tr>\n",
       "    <tr>\n",
       "      <th>7599</th>\n",
       "      <td>#WorldNews Fallen powerlines on G:link tram: UPDATE: FIRE crews have evacuated up to 30 passengers who were tr... http://t.co/EYSVvzA7Qm</td>\n",
       "      <td>1</td>\n",
       "      <td>fall  g link tram update fire crew evacuate passenger</td>\n",
       "    </tr>\n",
       "    <tr>\n",
       "      <th>7600</th>\n",
       "      <td>on the flip side I'm at Walmart and there is a bomb and everyone had to evacuate so stay tuned if I blow up or not</td>\n",
       "      <td>1</td>\n",
       "      <td>flip side I  bomb  evacuate stay tune I blow not</td>\n",
       "    </tr>\n",
       "    <tr>\n",
       "      <th>7601</th>\n",
       "      <td>Suicide bomber kills 15 in Saudi security site mosque - Reuters via World - Google News - Wall ... http://t.co/nF4IculOje</td>\n",
       "      <td>1</td>\n",
       "      <td>suicide bomber kill saudi security site mosque   world google news wall</td>\n",
       "    </tr>\n",
       "    <tr>\n",
       "      <th>7602</th>\n",
       "      <td>#stormchase Violent Record Breaking EF-5 El Reno Oklahoma Tornado Nearly Runs Over ... - http://t.co/3SICroAaNz http://t.co/I27Oa0HISp</td>\n",
       "      <td>1</td>\n",
       "      <td>violent record break  el reno oklahoma tornado nearly run</td>\n",
       "    </tr>\n",
       "    <tr>\n",
       "      <th>7603</th>\n",
       "      <td>Two giant cranes holding a bridge collapse into nearby homes http://t.co/STfMbbZFB5</td>\n",
       "      <td>1</td>\n",
       "      <td>two giant crane hold bridge collapse nearby home</td>\n",
       "    </tr>\n",
       "    <tr>\n",
       "      <th>7604</th>\n",
       "      <td>@aria_ahrary @TheTawniest The out of control wild fires in California even in the Northern part of the state. Very troubling.</td>\n",
       "      <td>1</td>\n",
       "      <td>control wild fire california even northern part state troubling</td>\n",
       "    </tr>\n",
       "    <tr>\n",
       "      <th>7605</th>\n",
       "      <td>M1.94 [01:04 UTC]?5km S of Volcano Hawaii. http://t.co/zDtoyd8EbJ</td>\n",
       "      <td>1</td>\n",
       "      <td>[ utc ] km volcano hawaii</td>\n",
       "    </tr>\n",
       "    <tr>\n",
       "      <th>7606</th>\n",
       "      <td>Police investigating after an e-bike collided with a car in Little Portugal. E-bike rider suffered serious non-life threatening injuries.</td>\n",
       "      <td>1</td>\n",
       "      <td>police investigate e bike collide car little portugal e bike rider suffer serious non life threaten injury</td>\n",
       "    </tr>\n",
       "    <tr>\n",
       "      <th>7607</th>\n",
       "      <td>The Latest: More Homes Razed by Northern California Wildfire - ABC News http://t.co/YmY4rSkQ3d</td>\n",
       "      <td>1</td>\n",
       "      <td>late home raze northern california wildfire abc news</td>\n",
       "    </tr>\n",
       "  </tbody>\n",
       "</table>\n",
       "</div>"
      ],
      "text/plain": [
       "                                                                                                                                           text  \\\n",
       "7598  Officials say a quarantine is in place at an Alabama home over a possible Ebola case after developing symptoms... http://t.co/rqKK15uhEY    \n",
       "7599  #WorldNews Fallen powerlines on G:link tram: UPDATE: FIRE crews have evacuated up to 30 passengers who were tr... http://t.co/EYSVvzA7Qm    \n",
       "7600  on the flip side I'm at Walmart and there is a bomb and everyone had to evacuate so stay tuned if I blow up or not                          \n",
       "7601  Suicide bomber kills 15 in Saudi security site mosque - Reuters via World - Google News - Wall ... http://t.co/nF4IculOje                   \n",
       "7602  #stormchase Violent Record Breaking EF-5 El Reno Oklahoma Tornado Nearly Runs Over ... - http://t.co/3SICroAaNz http://t.co/I27Oa0HISp      \n",
       "7603  Two giant cranes holding a bridge collapse into nearby homes http://t.co/STfMbbZFB5                                                         \n",
       "7604  @aria_ahrary @TheTawniest The out of control wild fires in California even in the Northern part of the state. Very troubling.               \n",
       "7605  M1.94 [01:04 UTC]?5km S of Volcano Hawaii. http://t.co/zDtoyd8EbJ                                                                           \n",
       "7606  Police investigating after an e-bike collided with a car in Little Portugal. E-bike rider suffered serious non-life threatening injuries.   \n",
       "7607  The Latest: More Homes Razed by Northern California Wildfire - ABC News http://t.co/YmY4rSkQ3d                                              \n",
       "\n",
       "      target  \\\n",
       "7598  1        \n",
       "7599  1        \n",
       "7600  1        \n",
       "7601  1        \n",
       "7602  1        \n",
       "7603  1        \n",
       "7604  1        \n",
       "7605  1        \n",
       "7606  1        \n",
       "7607  1        \n",
       "\n",
       "                                                                                                    Clean Tweets  \n",
       "7598  official say quarantine place alabama home possible ebola case develop symptom                              \n",
       "7599   fall  g link tram update fire crew evacuate passenger                                                      \n",
       "7600  flip side I  bomb  evacuate stay tune I blow not                                                            \n",
       "7601  suicide bomber kill saudi security site mosque   world google news wall                                     \n",
       "7602   violent record break  el reno oklahoma tornado nearly run                                                  \n",
       "7603  two giant crane hold bridge collapse nearby home                                                            \n",
       "7604    control wild fire california even northern part state troubling                                           \n",
       "7605  [ utc ] km volcano hawaii                                                                                   \n",
       "7606  police investigate e bike collide car little portugal e bike rider suffer serious non life threaten injury  \n",
       "7607  late home raze northern california wildfire abc news                                                        "
      ]
     },
     "execution_count": 11,
     "metadata": {},
     "output_type": "execute_result"
    }
   ],
   "source": [
    "#Take a look at the last few rows of the data\n",
    "tweets.tail(n=10)"
   ]
  },
  {
   "cell_type": "markdown",
   "id": "14fbc2e6",
   "metadata": {},
   "source": [
    "# Create Functions to Examine Tweet Details"
   ]
  },
  {
   "cell_type": "code",
   "execution_count": 12,
   "id": "4f5afd4c",
   "metadata": {},
   "outputs": [],
   "source": [
    "def word_count(text):\n",
    "    \"\"\"\n",
    "    This function counts the total words in the cleaned tweet\n",
    "    \n",
    "    test: String containing the text\n",
    "    \n",
    "    returns: Length of the text as an int\n",
    "\n",
    "    \"\"\"\n",
    "    \n",
    "    text = tn.word_tokenizer(text)\n",
    "    \n",
    "    return len(text)"
   ]
  },
  {
   "cell_type": "code",
   "execution_count": 13,
   "id": "62774dcf",
   "metadata": {},
   "outputs": [],
   "source": [
    "nlp = spacy.load('en_core_web_sm')\n",
    "def POS_counter(text, POS):\n",
    "    \"\"\"\n",
    "    This function counts the POS tags in the text corpus and returns the total count\n",
    "    \n",
    "    text: String corpus\n",
    "    \n",
    "    returns: Number of POS in the tweet as int\n",
    "\n",
    "    \"\"\"\n",
    "    text = nlp(text)\n",
    "    POS_Count = 0\n",
    "    \n",
    "    \n",
    "    for word in text:\n",
    "        if word.pos_ == POS:\n",
    "            POS_Count += 1\n",
    "            \n",
    "    return POS_Count"
   ]
  },
  {
   "cell_type": "code",
   "execution_count": 14,
   "id": "eeb5a279",
   "metadata": {},
   "outputs": [],
   "source": [
    "#Get the length of the clean tweets\n",
    "tweets[\"Count\"] = tweets[\"Clean Tweets\"].apply(word_count)"
   ]
  },
  {
   "cell_type": "code",
   "execution_count": 15,
   "id": "2069d7d1",
   "metadata": {},
   "outputs": [
    {
     "name": "stdout",
     "output_type": "stream",
     "text": [
      "Wall time: 4min 11s\n"
     ]
    }
   ],
   "source": [
    "%%time\n",
    "#Get the count and proportion of the four main parts of speech (POS)\n",
    "POS_lst = [\"NOUN\", \"VERB\", \"ADJ\", \"ADV\"]\n",
    "\n",
    "for pos in POS_lst:\n",
    "    tweets[pos] = tweets[\"Clean Tweets\"].apply(POS_counter, POS = pos)\n",
    "    pos_prop = pos + \"_prop\"\n",
    "    tweets[pos_prop] = tweets[pos] / tweets[\"Count\"]"
   ]
  },
  {
   "cell_type": "code",
   "execution_count": 16,
   "id": "018d72b2",
   "metadata": {},
   "outputs": [],
   "source": [
    "#Explicity label the tweet as disaster or non-disaster(safe)\n",
    "Tweet = [\"Safe\" if tweet == 0 else \"Disaster\" for tweet in tweets['target']]\n",
    "#Add a new column based on target\n",
    "tweets[\"Tweet\"] = Tweet"
   ]
  },
  {
   "cell_type": "code",
   "execution_count": 17,
   "id": "8dd28188",
   "metadata": {},
   "outputs": [
    {
     "data": {
      "text/html": [
       "<div>\n",
       "<style scoped>\n",
       "    .dataframe tbody tr th:only-of-type {\n",
       "        vertical-align: middle;\n",
       "    }\n",
       "\n",
       "    .dataframe tbody tr th {\n",
       "        vertical-align: top;\n",
       "    }\n",
       "\n",
       "    .dataframe thead th {\n",
       "        text-align: right;\n",
       "    }\n",
       "</style>\n",
       "<table border=\"1\" class=\"dataframe\">\n",
       "  <thead>\n",
       "    <tr style=\"text-align: right;\">\n",
       "      <th></th>\n",
       "      <th>text</th>\n",
       "      <th>target</th>\n",
       "      <th>Clean Tweets</th>\n",
       "      <th>Count</th>\n",
       "      <th>NOUN</th>\n",
       "      <th>NOUN_prop</th>\n",
       "      <th>VERB</th>\n",
       "      <th>VERB_prop</th>\n",
       "      <th>ADJ</th>\n",
       "      <th>ADJ_prop</th>\n",
       "      <th>ADV</th>\n",
       "      <th>ADV_prop</th>\n",
       "      <th>Tweet</th>\n",
       "    </tr>\n",
       "  </thead>\n",
       "  <tbody>\n",
       "    <tr>\n",
       "      <th>0</th>\n",
       "      <td>Our Deeds are the Reason of this #earthquake May ALLAH Forgive us all</td>\n",
       "      <td>1</td>\n",
       "      <td>deed reason earthquake may allah forgive</td>\n",
       "      <td>6</td>\n",
       "      <td>2</td>\n",
       "      <td>0.333333</td>\n",
       "      <td>3</td>\n",
       "      <td>0.500000</td>\n",
       "      <td>0</td>\n",
       "      <td>0.000000</td>\n",
       "      <td>0</td>\n",
       "      <td>0.0</td>\n",
       "      <td>Disaster</td>\n",
       "    </tr>\n",
       "    <tr>\n",
       "      <th>1</th>\n",
       "      <td>Forest fire near La Ronge Sask. Canada</td>\n",
       "      <td>1</td>\n",
       "      <td>forest fire near la   canada</td>\n",
       "      <td>5</td>\n",
       "      <td>3</td>\n",
       "      <td>0.600000</td>\n",
       "      <td>0</td>\n",
       "      <td>0.000000</td>\n",
       "      <td>0</td>\n",
       "      <td>0.000000</td>\n",
       "      <td>0</td>\n",
       "      <td>0.0</td>\n",
       "      <td>Disaster</td>\n",
       "    </tr>\n",
       "    <tr>\n",
       "      <th>2</th>\n",
       "      <td>All residents asked to 'shelter in place' are being notified by officers. No other evacuation or shelter in place orders are expected</td>\n",
       "      <td>1</td>\n",
       "      <td>resident ask shelter place notify officer no evacuation shelter place order expect</td>\n",
       "      <td>12</td>\n",
       "      <td>8</td>\n",
       "      <td>0.666667</td>\n",
       "      <td>2</td>\n",
       "      <td>0.166667</td>\n",
       "      <td>1</td>\n",
       "      <td>0.083333</td>\n",
       "      <td>0</td>\n",
       "      <td>0.0</td>\n",
       "      <td>Disaster</td>\n",
       "    </tr>\n",
       "    <tr>\n",
       "      <th>3</th>\n",
       "      <td>13,000 people receive #wildfires evacuation orders in California</td>\n",
       "      <td>1</td>\n",
       "      <td>people receive wildfire evacuation order california</td>\n",
       "      <td>6</td>\n",
       "      <td>5</td>\n",
       "      <td>0.833333</td>\n",
       "      <td>1</td>\n",
       "      <td>0.166667</td>\n",
       "      <td>0</td>\n",
       "      <td>0.000000</td>\n",
       "      <td>0</td>\n",
       "      <td>0.0</td>\n",
       "      <td>Disaster</td>\n",
       "    </tr>\n",
       "    <tr>\n",
       "      <th>4</th>\n",
       "      <td>Just got sent this photo from Ruby #Alaska as smoke from #wildfires pours into a school</td>\n",
       "      <td>1</td>\n",
       "      <td>got send photo ruby alaska smoke wildfire pour school</td>\n",
       "      <td>9</td>\n",
       "      <td>6</td>\n",
       "      <td>0.666667</td>\n",
       "      <td>2</td>\n",
       "      <td>0.222222</td>\n",
       "      <td>0</td>\n",
       "      <td>0.000000</td>\n",
       "      <td>0</td>\n",
       "      <td>0.0</td>\n",
       "      <td>Disaster</td>\n",
       "    </tr>\n",
       "  </tbody>\n",
       "</table>\n",
       "</div>"
      ],
      "text/plain": [
       "                                                                                                                                    text  \\\n",
       "0  Our Deeds are the Reason of this #earthquake May ALLAH Forgive us all                                                                   \n",
       "1  Forest fire near La Ronge Sask. Canada                                                                                                  \n",
       "2  All residents asked to 'shelter in place' are being notified by officers. No other evacuation or shelter in place orders are expected   \n",
       "3  13,000 people receive #wildfires evacuation orders in California                                                                        \n",
       "4  Just got sent this photo from Ruby #Alaska as smoke from #wildfires pours into a school                                                 \n",
       "\n",
       "   target  \\\n",
       "0  1        \n",
       "1  1        \n",
       "2  1        \n",
       "3  1        \n",
       "4  1        \n",
       "\n",
       "                                                                         Clean Tweets  \\\n",
       "0  deed reason earthquake may allah forgive                                             \n",
       "1  forest fire near la   canada                                                         \n",
       "2  resident ask shelter place notify officer no evacuation shelter place order expect   \n",
       "3  people receive wildfire evacuation order california                                  \n",
       "4  got send photo ruby alaska smoke wildfire pour school                                \n",
       "\n",
       "   Count  NOUN  NOUN_prop  VERB  VERB_prop  ADJ  ADJ_prop  ADV  ADV_prop  \\\n",
       "0  6      2     0.333333   3     0.500000   0    0.000000  0    0.0        \n",
       "1  5      3     0.600000   0     0.000000   0    0.000000  0    0.0        \n",
       "2  12     8     0.666667   2     0.166667   1    0.083333  0    0.0        \n",
       "3  6      5     0.833333   1     0.166667   0    0.000000  0    0.0        \n",
       "4  9      6     0.666667   2     0.222222   0    0.000000  0    0.0        \n",
       "\n",
       "      Tweet  \n",
       "0  Disaster  \n",
       "1  Disaster  \n",
       "2  Disaster  \n",
       "3  Disaster  \n",
       "4  Disaster  "
      ]
     },
     "execution_count": 17,
     "metadata": {},
     "output_type": "execute_result"
    }
   ],
   "source": [
    "tweets.head()"
   ]
  },
  {
   "cell_type": "markdown",
   "id": "327f00fa",
   "metadata": {},
   "source": [
    "# Data Visualizations"
   ]
  },
  {
   "cell_type": "markdown",
   "id": "4fe367d4",
   "metadata": {},
   "source": [
    "## Percentage of Disaster and Safe Tweets"
   ]
  },
  {
   "cell_type": "code",
   "execution_count": 27,
   "id": "49a591b7",
   "metadata": {},
   "outputs": [
    {
     "data": {
      "text/html": [
       "<div>\n",
       "<style scoped>\n",
       "    .dataframe tbody tr th:only-of-type {\n",
       "        vertical-align: middle;\n",
       "    }\n",
       "\n",
       "    .dataframe tbody tr th {\n",
       "        vertical-align: top;\n",
       "    }\n",
       "\n",
       "    .dataframe thead th {\n",
       "        text-align: right;\n",
       "    }\n",
       "</style>\n",
       "<table border=\"1\" class=\"dataframe\">\n",
       "  <thead>\n",
       "    <tr style=\"text-align: right;\">\n",
       "      <th></th>\n",
       "      <th>Tweet</th>\n",
       "      <th>Percentage</th>\n",
       "    </tr>\n",
       "  </thead>\n",
       "  <tbody>\n",
       "    <tr>\n",
       "      <th>0</th>\n",
       "      <td>Safe</td>\n",
       "      <td>0.570058</td>\n",
       "    </tr>\n",
       "    <tr>\n",
       "      <th>1</th>\n",
       "      <td>Disaster</td>\n",
       "      <td>0.429942</td>\n",
       "    </tr>\n",
       "  </tbody>\n",
       "</table>\n",
       "</div>"
      ],
      "text/plain": [
       "      Tweet  Percentage\n",
       "0  Safe      0.570058  \n",
       "1  Disaster  0.429942  "
      ]
     },
     "execution_count": 27,
     "metadata": {},
     "output_type": "execute_result"
    }
   ],
   "source": [
    "twt_df = pd.DataFrame(tweets[\"Tweet\"].value_counts() / tweets.shape[0]).reset_index().rename(columns={\"index\": \"Tweet\", \"Tweet\": \"Percentage\"})\n",
    "twt_df"
   ]
  },
  {
   "cell_type": "code",
   "execution_count": 28,
   "id": "786be0e4",
   "metadata": {},
   "outputs": [
    {
     "data": {
      "text/plain": [
       "Text(0.5, 0, 'Tweet Type')"
      ]
     },
     "execution_count": 28,
     "metadata": {},
     "output_type": "execute_result"
    },
    {
     "data": {
      "image/png": "[encoded data removed]",
      "text/plain": [
       "<Figure size 720x720 with 1 Axes>"
      ]
     },
     "metadata": {},
     "output_type": "display_data"
    }
   ],
   "source": [
    "sns.set(rc = {'figure.figsize':(10,10)})\n",
    "sns.barplot(x=\"Tweet\", y = \"Percentage\", data = twt_df, color = \"teal\")\n",
    "plt.title(\"Tweet Type Percentage\")\n",
    "plt.ylabel(\"Percentage\")\n",
    "plt.xlabel(\"Tweet Type\")"
   ]
  },
  {
   "cell_type": "markdown",
   "id": "9153bcb5",
   "metadata": {},
   "source": [
    "## Analyze Word Occurence"
   ]
  },
  {
   "cell_type": "code",
   "execution_count": 18,
   "id": "412e8df4",
   "metadata": {},
   "outputs": [
    {
     "data": {
      "text/html": [
       "<div>\n",
       "<style scoped>\n",
       "    .dataframe tbody tr th:only-of-type {\n",
       "        vertical-align: middle;\n",
       "    }\n",
       "\n",
       "    .dataframe tbody tr th {\n",
       "        vertical-align: top;\n",
       "    }\n",
       "\n",
       "    .dataframe thead th {\n",
       "        text-align: right;\n",
       "    }\n",
       "</style>\n",
       "<table border=\"1\" class=\"dataframe\">\n",
       "  <thead>\n",
       "    <tr style=\"text-align: right;\">\n",
       "      <th></th>\n",
       "      <th>Word</th>\n",
       "      <th>Count</th>\n",
       "      <th>Percentage</th>\n",
       "    </tr>\n",
       "  </thead>\n",
       "  <tbody>\n",
       "    <tr>\n",
       "      <th>0</th>\n",
       "      <td>I</td>\n",
       "      <td>2104</td>\n",
       "      <td>3.471833</td>\n",
       "    </tr>\n",
       "    <tr>\n",
       "      <th>1</th>\n",
       "      <td>not</td>\n",
       "      <td>754</td>\n",
       "      <td>1.244183</td>\n",
       "    </tr>\n",
       "    <tr>\n",
       "      <th>2</th>\n",
       "      <td>like</td>\n",
       "      <td>395</td>\n",
       "      <td>0.651794</td>\n",
       "    </tr>\n",
       "    <tr>\n",
       "      <th>3</th>\n",
       "      <td>get</td>\n",
       "      <td>375</td>\n",
       "      <td>0.618791</td>\n",
       "    </tr>\n",
       "    <tr>\n",
       "      <th>4</th>\n",
       "      <td>fire</td>\n",
       "      <td>359</td>\n",
       "      <td>0.592390</td>\n",
       "    </tr>\n",
       "    <tr>\n",
       "      <th>5</th>\n",
       "      <td>go</td>\n",
       "      <td>276</td>\n",
       "      <td>0.455431</td>\n",
       "    </tr>\n",
       "    <tr>\n",
       "      <th>6</th>\n",
       "      <td>no</td>\n",
       "      <td>266</td>\n",
       "      <td>0.438929</td>\n",
       "    </tr>\n",
       "    <tr>\n",
       "      <th>7</th>\n",
       "      <td>new</td>\n",
       "      <td>234</td>\n",
       "      <td>0.386126</td>\n",
       "    </tr>\n",
       "    <tr>\n",
       "      <th>8</th>\n",
       "      <td>u</td>\n",
       "      <td>218</td>\n",
       "      <td>0.359724</td>\n",
       "    </tr>\n",
       "    <tr>\n",
       "      <th>9</th>\n",
       "      <td>one</td>\n",
       "      <td>207</td>\n",
       "      <td>0.341573</td>\n",
       "    </tr>\n",
       "  </tbody>\n",
       "</table>\n",
       "</div>"
      ],
      "text/plain": [
       "   Word  Count  Percentage\n",
       "0  I     2104   3.471833  \n",
       "1  not   754    1.244183  \n",
       "2  like  395    0.651794  \n",
       "3  get   375    0.618791  \n",
       "4  fire  359    0.592390  \n",
       "5  go    276    0.455431  \n",
       "6  no    266    0.438929  \n",
       "7  new   234    0.386126  \n",
       "8  u     218    0.359724  \n",
       "9  one   207    0.341573  "
      ]
     },
     "execution_count": 18,
     "metadata": {},
     "output_type": "execute_result"
    }
   ],
   "source": [
    "# Create a list of all words used in safe tweets\n",
    "words = [word for row in tweets[\"Clean Tweets\"] for word in row.split()]\n",
    "# Create a counter to count the words\n",
    "word_cnt = Counter(words)\n",
    "# Create a dictionary of the words\n",
    "word_dict = dict(word_cnt.most_common())\n",
    "# Create a dataframe with words and their count\n",
    "word_df = pd.DataFrame({\"Word\": word_dict.keys(), \"Count\": word_dict.values()})\n",
    "# Create a new column with the word percentage\n",
    "word_df[\"Percentage\"] = (word_df[\"Count\"] / len(words)) * 100\n",
    "word_df.head(n=10)"
   ]
  },
  {
   "cell_type": "code",
   "execution_count": 19,
   "id": "7b0ec4f1",
   "metadata": {},
   "outputs": [
    {
     "data": {
      "text/plain": [
       "Text(0.5, 1.0, 'Top 30 Words By Percentage')"
      ]
     },
     "execution_count": 19,
     "metadata": {},
     "output_type": "execute_result"
    },
    {
     "data": {
      "image/png": "[encoded data removed]",
      "text/plain": [
       "<Figure size 864x720 with 1 Axes>"
      ]
     },
     "metadata": {},
     "output_type": "display_data"
    }
   ],
   "source": [
    "#Plot the top 30 words ranked by their percentage\n",
    "sns.set(rc = {'figure.figsize':(12,10)})\n",
    "sns.barplot(x=\"Percentage\", y=\"Word\", data = word_df[:30], color = \"teal\")\n",
    "plt.title(\"Top 30 Words By Percentage\")"
   ]
  },
  {
   "cell_type": "markdown",
   "id": "16dbbaff",
   "metadata": {},
   "source": [
    "### Analyze the distribution of word counts"
   ]
  },
  {
   "cell_type": "code",
   "execution_count": 20,
   "id": "75978f03",
   "metadata": {},
   "outputs": [
    {
     "data": {
      "text/html": [
       "<div>\n",
       "<style scoped>\n",
       "    .dataframe tbody tr th:only-of-type {\n",
       "        vertical-align: middle;\n",
       "    }\n",
       "\n",
       "    .dataframe tbody tr th {\n",
       "        vertical-align: top;\n",
       "    }\n",
       "\n",
       "    .dataframe thead th {\n",
       "        text-align: right;\n",
       "    }\n",
       "</style>\n",
       "<table border=\"1\" class=\"dataframe\">\n",
       "  <thead>\n",
       "    <tr style=\"text-align: right;\">\n",
       "      <th></th>\n",
       "      <th>Number of Words</th>\n",
       "      <th>Word Occurrence</th>\n",
       "    </tr>\n",
       "  </thead>\n",
       "  <tbody>\n",
       "    <tr>\n",
       "      <th>0</th>\n",
       "      <td>3257</td>\n",
       "      <td>1</td>\n",
       "    </tr>\n",
       "    <tr>\n",
       "      <th>1</th>\n",
       "      <td>1105</td>\n",
       "      <td>2</td>\n",
       "    </tr>\n",
       "    <tr>\n",
       "      <th>2</th>\n",
       "      <td>591</td>\n",
       "      <td>3</td>\n",
       "    </tr>\n",
       "    <tr>\n",
       "      <th>3</th>\n",
       "      <td>397</td>\n",
       "      <td>4</td>\n",
       "    </tr>\n",
       "    <tr>\n",
       "      <th>4</th>\n",
       "      <td>312</td>\n",
       "      <td>5</td>\n",
       "    </tr>\n",
       "    <tr>\n",
       "      <th>...</th>\n",
       "      <td>...</td>\n",
       "      <td>...</td>\n",
       "    </tr>\n",
       "    <tr>\n",
       "      <th>116</th>\n",
       "      <td>1</td>\n",
       "      <td>359</td>\n",
       "    </tr>\n",
       "    <tr>\n",
       "      <th>117</th>\n",
       "      <td>1</td>\n",
       "      <td>375</td>\n",
       "    </tr>\n",
       "    <tr>\n",
       "      <th>145</th>\n",
       "      <td>1</td>\n",
       "      <td>395</td>\n",
       "    </tr>\n",
       "    <tr>\n",
       "      <th>135</th>\n",
       "      <td>1</td>\n",
       "      <td>754</td>\n",
       "    </tr>\n",
       "    <tr>\n",
       "      <th>143</th>\n",
       "      <td>1</td>\n",
       "      <td>2104</td>\n",
       "    </tr>\n",
       "  </tbody>\n",
       "</table>\n",
       "<p>146 rows × 2 columns</p>\n",
       "</div>"
      ],
      "text/plain": [
       "     Number of Words  Word Occurrence\n",
       "0    3257             1              \n",
       "1    1105             2              \n",
       "2    591              3              \n",
       "3    397              4              \n",
       "4    312              5              \n",
       "..   ...             ..              \n",
       "116  1                359            \n",
       "117  1                375            \n",
       "145  1                395            \n",
       "135  1                754            \n",
       "143  1                2104           \n",
       "\n",
       "[146 rows x 2 columns]"
      ]
     },
     "execution_count": 20,
     "metadata": {},
     "output_type": "execute_result"
    }
   ],
   "source": [
    "word_grp_df = pd.DataFrame(word_df[\"Count\"]\\\n",
    "                                           .value_counts()\\\n",
    "                                           .reset_index()\\\n",
    "                                           .rename(columns={\"index\": \"Word Occurrence\", \"Count\" :\"Number of Words\"}))\\\n",
    "                                            .sort_values(by=\"Word Occurrence\")\n",
    "word_grp_df[[\"Number of Words\", \"Word Occurrence\"]]"
   ]
  },
  {
   "cell_type": "markdown",
   "id": "7cf69d20",
   "metadata": {},
   "source": [
    "We see that the majority of words, 3,257, occurr are seen only once in the tweets. Let's take a look at what kinds of words these are. "
   ]
  },
  {
   "cell_type": "code",
   "execution_count": 21,
   "id": "933f0c74",
   "metadata": {},
   "outputs": [
    {
     "data": {
      "text/html": [
       "<div>\n",
       "<style scoped>\n",
       "    .dataframe tbody tr th:only-of-type {\n",
       "        vertical-align: middle;\n",
       "    }\n",
       "\n",
       "    .dataframe tbody tr th {\n",
       "        vertical-align: top;\n",
       "    }\n",
       "\n",
       "    .dataframe thead th {\n",
       "        text-align: right;\n",
       "    }\n",
       "</style>\n",
       "<table border=\"1\" class=\"dataframe\">\n",
       "  <thead>\n",
       "    <tr style=\"text-align: right;\">\n",
       "      <th></th>\n",
       "      <th>Word</th>\n",
       "      <th>Count</th>\n",
       "      <th>Percentage</th>\n",
       "    </tr>\n",
       "  </thead>\n",
       "  <tbody>\n",
       "    <tr>\n",
       "      <th>4236</th>\n",
       "      <td>notify</td>\n",
       "      <td>1</td>\n",
       "      <td>0.00165</td>\n",
       "    </tr>\n",
       "    <tr>\n",
       "      <th>4237</th>\n",
       "      <td>ruby</td>\n",
       "      <td>1</td>\n",
       "      <td>0.00165</td>\n",
       "    </tr>\n",
       "    <tr>\n",
       "      <th>4238</th>\n",
       "      <td>skiing</td>\n",
       "      <td>1</td>\n",
       "      <td>0.00165</td>\n",
       "    </tr>\n",
       "    <tr>\n",
       "      <th>4239</th>\n",
       "      <td>bridgetown</td>\n",
       "      <td>1</td>\n",
       "      <td>0.00165</td>\n",
       "    </tr>\n",
       "    <tr>\n",
       "      <th>4240</th>\n",
       "      <td>preaching</td>\n",
       "      <td>1</td>\n",
       "      <td>0.00165</td>\n",
       "    </tr>\n",
       "    <tr>\n",
       "      <th>4241</th>\n",
       "      <td>retainer</td>\n",
       "      <td>1</td>\n",
       "      <td>0.00165</td>\n",
       "    </tr>\n",
       "    <tr>\n",
       "      <th>4242</th>\n",
       "      <td>superintendent</td>\n",
       "      <td>1</td>\n",
       "      <td>0.00165</td>\n",
       "    </tr>\n",
       "    <tr>\n",
       "      <th>4243</th>\n",
       "      <td>deliberately</td>\n",
       "      <td>1</td>\n",
       "      <td>0.00165</td>\n",
       "    </tr>\n",
       "    <tr>\n",
       "      <th>4244</th>\n",
       "      <td>teammate</td>\n",
       "      <td>1</td>\n",
       "      <td>0.00165</td>\n",
       "    </tr>\n",
       "    <tr>\n",
       "      <th>4245</th>\n",
       "      <td>gunner</td>\n",
       "      <td>1</td>\n",
       "      <td>0.00165</td>\n",
       "    </tr>\n",
       "    <tr>\n",
       "      <th>4246</th>\n",
       "      <td>trample</td>\n",
       "      <td>1</td>\n",
       "      <td>0.00165</td>\n",
       "    </tr>\n",
       "    <tr>\n",
       "      <th>4247</th>\n",
       "      <td>vandalize</td>\n",
       "      <td>1</td>\n",
       "      <td>0.00165</td>\n",
       "    </tr>\n",
       "    <tr>\n",
       "      <th>4248</th>\n",
       "      <td>revel</td>\n",
       "      <td>1</td>\n",
       "      <td>0.00165</td>\n",
       "    </tr>\n",
       "    <tr>\n",
       "      <th>4249</th>\n",
       "      <td>farewell</td>\n",
       "      <td>1</td>\n",
       "      <td>0.00165</td>\n",
       "    </tr>\n",
       "    <tr>\n",
       "      <th>4250</th>\n",
       "      <td>greeting</td>\n",
       "      <td>1</td>\n",
       "      <td>0.00165</td>\n",
       "    </tr>\n",
       "    <tr>\n",
       "      <th>4251</th>\n",
       "      <td>pen</td>\n",
       "      <td>1</td>\n",
       "      <td>0.00165</td>\n",
       "    </tr>\n",
       "    <tr>\n",
       "      <th>4252</th>\n",
       "      <td>publication</td>\n",
       "      <td>1</td>\n",
       "      <td>0.00165</td>\n",
       "    </tr>\n",
       "    <tr>\n",
       "      <th>4253</th>\n",
       "      <td>fallen</td>\n",
       "      <td>1</td>\n",
       "      <td>0.00165</td>\n",
       "    </tr>\n",
       "    <tr>\n",
       "      <th>4254</th>\n",
       "      <td>mar</td>\n",
       "      <td>1</td>\n",
       "      <td>0.00165</td>\n",
       "    </tr>\n",
       "    <tr>\n",
       "      <th>4255</th>\n",
       "      <td>tinderbox</td>\n",
       "      <td>1</td>\n",
       "      <td>0.00165</td>\n",
       "    </tr>\n",
       "  </tbody>\n",
       "</table>\n",
       "</div>"
      ],
      "text/plain": [
       "                Word  Count  Percentage\n",
       "4236  notify          1      0.00165   \n",
       "4237  ruby            1      0.00165   \n",
       "4238  skiing          1      0.00165   \n",
       "4239  bridgetown      1      0.00165   \n",
       "4240  preaching       1      0.00165   \n",
       "4241  retainer        1      0.00165   \n",
       "4242  superintendent  1      0.00165   \n",
       "4243  deliberately    1      0.00165   \n",
       "4244  teammate        1      0.00165   \n",
       "4245  gunner          1      0.00165   \n",
       "4246  trample         1      0.00165   \n",
       "4247  vandalize       1      0.00165   \n",
       "4248  revel           1      0.00165   \n",
       "4249  farewell        1      0.00165   \n",
       "4250  greeting        1      0.00165   \n",
       "4251  pen             1      0.00165   \n",
       "4252  publication     1      0.00165   \n",
       "4253  fallen          1      0.00165   \n",
       "4254  mar             1      0.00165   \n",
       "4255  tinderbox       1      0.00165   "
      ]
     },
     "execution_count": 21,
     "metadata": {},
     "output_type": "execute_result"
    }
   ],
   "source": [
    "word_df.loc[word_df[\"Count\"] == 1].head(n=20)"
   ]
  },
  {
   "cell_type": "markdown",
   "id": "63a8c42f",
   "metadata": {},
   "source": [
    "## Analyze Word Occurence in Safe Tweets"
   ]
  },
  {
   "cell_type": "markdown",
   "id": "1f8772d2",
   "metadata": {},
   "source": [
    "### Analyze the most common words"
   ]
  },
  {
   "cell_type": "code",
   "execution_count": 22,
   "id": "24aabcd2",
   "metadata": {},
   "outputs": [
    {
     "data": {
      "text/html": [
       "<div>\n",
       "<style scoped>\n",
       "    .dataframe tbody tr th:only-of-type {\n",
       "        vertical-align: middle;\n",
       "    }\n",
       "\n",
       "    .dataframe tbody tr th {\n",
       "        vertical-align: top;\n",
       "    }\n",
       "\n",
       "    .dataframe thead th {\n",
       "        text-align: right;\n",
       "    }\n",
       "</style>\n",
       "<table border=\"1\" class=\"dataframe\">\n",
       "  <thead>\n",
       "    <tr style=\"text-align: right;\">\n",
       "      <th></th>\n",
       "      <th>Word</th>\n",
       "      <th>Count</th>\n",
       "      <th>Percentage</th>\n",
       "    </tr>\n",
       "  </thead>\n",
       "  <tbody>\n",
       "    <tr>\n",
       "      <th>0</th>\n",
       "      <td>I</td>\n",
       "      <td>1669</td>\n",
       "      <td>5.026654</td>\n",
       "    </tr>\n",
       "    <tr>\n",
       "      <th>1</th>\n",
       "      <td>not</td>\n",
       "      <td>536</td>\n",
       "      <td>1.614312</td>\n",
       "    </tr>\n",
       "    <tr>\n",
       "      <th>2</th>\n",
       "      <td>like</td>\n",
       "      <td>294</td>\n",
       "      <td>0.885462</td>\n",
       "    </tr>\n",
       "    <tr>\n",
       "      <th>3</th>\n",
       "      <td>get</td>\n",
       "      <td>270</td>\n",
       "      <td>0.813180</td>\n",
       "    </tr>\n",
       "    <tr>\n",
       "      <th>4</th>\n",
       "      <td>go</td>\n",
       "      <td>195</td>\n",
       "      <td>0.587296</td>\n",
       "    </tr>\n",
       "    <tr>\n",
       "      <th>5</th>\n",
       "      <td>new</td>\n",
       "      <td>172</td>\n",
       "      <td>0.518025</td>\n",
       "    </tr>\n",
       "    <tr>\n",
       "      <th>6</th>\n",
       "      <td>no</td>\n",
       "      <td>151</td>\n",
       "      <td>0.454778</td>\n",
       "    </tr>\n",
       "    <tr>\n",
       "      <th>7</th>\n",
       "      <td>one</td>\n",
       "      <td>138</td>\n",
       "      <td>0.415625</td>\n",
       "    </tr>\n",
       "    <tr>\n",
       "      <th>8</th>\n",
       "      <td>make</td>\n",
       "      <td>130</td>\n",
       "      <td>0.391531</td>\n",
       "    </tr>\n",
       "    <tr>\n",
       "      <th>9</th>\n",
       "      <td>see</td>\n",
       "      <td>129</td>\n",
       "      <td>0.388519</td>\n",
       "    </tr>\n",
       "  </tbody>\n",
       "</table>\n",
       "</div>"
      ],
      "text/plain": [
       "   Word  Count  Percentage\n",
       "0  I     1669   5.026654  \n",
       "1  not   536    1.614312  \n",
       "2  like  294    0.885462  \n",
       "3  get   270    0.813180  \n",
       "4  go    195    0.587296  \n",
       "5  new   172    0.518025  \n",
       "6  no    151    0.454778  \n",
       "7  one   138    0.415625  \n",
       "8  make  130    0.391531  \n",
       "9  see   129    0.388519  "
      ]
     },
     "execution_count": 22,
     "metadata": {},
     "output_type": "execute_result"
    }
   ],
   "source": [
    "# Create a list of all words used in safe tweets\n",
    "safe_words = [word for row in tweets.loc[tweets[\"target\"] == 0, \"Clean Tweets\"] for word in row.split()]\n",
    "# Create a counter to count the words\n",
    "safe_cnt = Counter(safe_words)\n",
    "# Create a dictionary of the top 30 words\n",
    "safe_dict = dict(safe_cnt.most_common())\n",
    "# Create a dataframe with words and their count\n",
    "safe_df = pd.DataFrame({\"Word\": safe_dict.keys(), \"Count\": safe_dict.values()})\n",
    "# Create a new column with the word percentage\n",
    "safe_df[\"Percentage\"] = (safe_df[\"Count\"] / len(safe_words)) * 100\n",
    "safe_df.head(n=10)"
   ]
  },
  {
   "cell_type": "code",
   "execution_count": 23,
   "id": "35d66ad3",
   "metadata": {
    "scrolled": false
   },
   "outputs": [
    {
     "data": {
      "text/plain": [
       "Text(0.5, 1.0, 'Top 30 Words By Percentage in Safe Tweets')"
      ]
     },
     "execution_count": 23,
     "metadata": {},
     "output_type": "execute_result"
    },
    {
     "data": {
      "image/png": "[encoded data removed]",
      "text/plain": [
       "<Figure size 864x720 with 1 Axes>"
      ]
     },
     "metadata": {},
     "output_type": "display_data"
    }
   ],
   "source": [
    "#Plot the top 30 words ranked by their percentage\n",
    "sns.set(rc = {'figure.figsize':(12,10)})\n",
    "sns.barplot(x=\"Percentage\", y=\"Word\", data = safe_df[:30], color = \"teal\")\n",
    "plt.title(\"Top 30 Words By Percentage in Safe Tweets\")"
   ]
  },
  {
   "cell_type": "markdown",
   "id": "9805ad3b",
   "metadata": {},
   "source": [
    "## Analyze Word Occurence in Disaster Tweets"
   ]
  },
  {
   "cell_type": "markdown",
   "id": "5128e212",
   "metadata": {},
   "source": [
    "### Analyze the most common words"
   ]
  },
  {
   "cell_type": "code",
   "execution_count": 24,
   "id": "4cc86968",
   "metadata": {},
   "outputs": [
    {
     "data": {
      "text/html": [
       "<div>\n",
       "<style scoped>\n",
       "    .dataframe tbody tr th:only-of-type {\n",
       "        vertical-align: middle;\n",
       "    }\n",
       "\n",
       "    .dataframe tbody tr th {\n",
       "        vertical-align: top;\n",
       "    }\n",
       "\n",
       "    .dataframe thead th {\n",
       "        text-align: right;\n",
       "    }\n",
       "</style>\n",
       "<table border=\"1\" class=\"dataframe\">\n",
       "  <thead>\n",
       "    <tr style=\"text-align: right;\">\n",
       "      <th></th>\n",
       "      <th>Word</th>\n",
       "      <th>Count</th>\n",
       "      <th>Percentage</th>\n",
       "    </tr>\n",
       "  </thead>\n",
       "  <tbody>\n",
       "    <tr>\n",
       "      <th>0</th>\n",
       "      <td>I</td>\n",
       "      <td>435</td>\n",
       "      <td>1.587649</td>\n",
       "    </tr>\n",
       "    <tr>\n",
       "      <th>1</th>\n",
       "      <td>fire</td>\n",
       "      <td>269</td>\n",
       "      <td>0.981788</td>\n",
       "    </tr>\n",
       "    <tr>\n",
       "      <th>2</th>\n",
       "      <td>not</td>\n",
       "      <td>218</td>\n",
       "      <td>0.795649</td>\n",
       "    </tr>\n",
       "    <tr>\n",
       "      <th>3</th>\n",
       "      <td>kill</td>\n",
       "      <td>156</td>\n",
       "      <td>0.569364</td>\n",
       "    </tr>\n",
       "    <tr>\n",
       "      <th>4</th>\n",
       "      <td>news</td>\n",
       "      <td>139</td>\n",
       "      <td>0.507318</td>\n",
       "    </tr>\n",
       "    <tr>\n",
       "      <th>5</th>\n",
       "      <td>disaster</td>\n",
       "      <td>122</td>\n",
       "      <td>0.445272</td>\n",
       "    </tr>\n",
       "    <tr>\n",
       "      <th>6</th>\n",
       "      <td>no</td>\n",
       "      <td>115</td>\n",
       "      <td>0.419723</td>\n",
       "    </tr>\n",
       "    <tr>\n",
       "      <th>7</th>\n",
       "      <td>bomb</td>\n",
       "      <td>113</td>\n",
       "      <td>0.412424</td>\n",
       "    </tr>\n",
       "    <tr>\n",
       "      <th>8</th>\n",
       "      <td>crash</td>\n",
       "      <td>112</td>\n",
       "      <td>0.408774</td>\n",
       "    </tr>\n",
       "    <tr>\n",
       "      <th>9</th>\n",
       "      <td>year</td>\n",
       "      <td>112</td>\n",
       "      <td>0.408774</td>\n",
       "    </tr>\n",
       "  </tbody>\n",
       "</table>\n",
       "</div>"
      ],
      "text/plain": [
       "       Word  Count  Percentage\n",
       "0  I         435    1.587649  \n",
       "1  fire      269    0.981788  \n",
       "2  not       218    0.795649  \n",
       "3  kill      156    0.569364  \n",
       "4  news      139    0.507318  \n",
       "5  disaster  122    0.445272  \n",
       "6  no        115    0.419723  \n",
       "7  bomb      113    0.412424  \n",
       "8  crash     112    0.408774  \n",
       "9  year      112    0.408774  "
      ]
     },
     "execution_count": 24,
     "metadata": {},
     "output_type": "execute_result"
    }
   ],
   "source": [
    "disaster_words = [word for row in tweets.loc[tweets[\"target\"] == 1, \"Clean Tweets\"] for word in row.split()]\n",
    "disaster_cnt = Counter(disaster_words)\n",
    "disaster_dict = dict(disaster_cnt.most_common())\n",
    "disaster_df = pd.DataFrame({\"Word\": disaster_dict.keys(), \"Count\": disaster_dict.values()})\n",
    "disaster_df[\"Percentage\"] = (disaster_df[\"Count\"] / len(disaster_words)) * 100\n",
    "disaster_df.head(n = 10)"
   ]
  },
  {
   "cell_type": "code",
   "execution_count": 26,
   "id": "881a7857",
   "metadata": {
    "scrolled": false
   },
   "outputs": [
    {
     "data": {
      "text/plain": [
       "Text(0.5, 1.0, 'Top 30 Words By Percentage in Disaster Tweets')"
      ]
     },
     "execution_count": 26,
     "metadata": {},
     "output_type": "execute_result"
    },
    {
     "data": {
      "image/png": "[encoded data removed]",
      "text/plain": [
       "<Figure size 864x720 with 1 Axes>"
      ]
     },
     "metadata": {},
     "output_type": "display_data"
    }
   ],
   "source": [
    "#Plot the top 30 words ranked by their percentage\n",
    "sns.set(rc = {'figure.figsize':(12,10)})\n",
    "sns.barplot(x=\"Percentage\", y=\"Word\", data = disaster_df[:30], color = \"teal\")\n",
    "plt.title(\"Top 30 Words By Percentage in Disaster Tweets\")"
   ]
  },
  {
   "cell_type": "markdown",
   "id": "4af69fc0",
   "metadata": {},
   "source": [
    "We see that the top few words for both safe and disaster tweets tend to be the same. However, they drastically change into words we'd expect to find in a disaster tweet and a safe tweet. "
   ]
  },
  {
   "cell_type": "markdown",
   "id": "76b02f48",
   "metadata": {},
   "source": [
    "## Analyze Tweet Length"
   ]
  },
  {
   "cell_type": "code",
   "execution_count": 39,
   "id": "c3c53015",
   "metadata": {},
   "outputs": [
    {
     "data": {
      "text/html": [
       "<div>\n",
       "<style scoped>\n",
       "    .dataframe tbody tr th:only-of-type {\n",
       "        vertical-align: middle;\n",
       "    }\n",
       "\n",
       "    .dataframe tbody tr th {\n",
       "        vertical-align: top;\n",
       "    }\n",
       "\n",
       "    .dataframe thead th {\n",
       "        text-align: right;\n",
       "    }\n",
       "</style>\n",
       "<table border=\"1\" class=\"dataframe\">\n",
       "  <thead>\n",
       "    <tr style=\"text-align: right;\">\n",
       "      <th></th>\n",
       "      <th>mean</th>\n",
       "      <th>std</th>\n",
       "    </tr>\n",
       "    <tr>\n",
       "      <th>Tweet</th>\n",
       "      <th></th>\n",
       "      <th></th>\n",
       "    </tr>\n",
       "  </thead>\n",
       "  <tbody>\n",
       "    <tr>\n",
       "      <th>Disaster</th>\n",
       "      <td>8.376338</td>\n",
       "      <td>3.134289</td>\n",
       "    </tr>\n",
       "    <tr>\n",
       "      <th>Safe</th>\n",
       "      <td>7.655983</td>\n",
       "      <td>3.575643</td>\n",
       "    </tr>\n",
       "  </tbody>\n",
       "</table>\n",
       "</div>"
      ],
      "text/plain": [
       "              mean       std\n",
       "Tweet                       \n",
       "Disaster  8.376338  3.134289\n",
       "Safe      7.655983  3.575643"
      ]
     },
     "execution_count": 39,
     "metadata": {},
     "output_type": "execute_result"
    }
   ],
   "source": [
    "twt_grp = tweets.groupby(\"Tweet\")[\"Count\"].aggregate([\"mean\", \"std\"]).sort_values(by=\"mean\", ascending=False)\n",
    "twt_grp"
   ]
  },
  {
   "cell_type": "code",
   "execution_count": 34,
   "id": "23254a29",
   "metadata": {},
   "outputs": [
    {
     "data": {
      "text/plain": [
       "Text(0.5, 1.0, 'Length of Tweet By Tweet Type')"
      ]
     },
     "execution_count": 34,
     "metadata": {},
     "output_type": "execute_result"
    },
    {
     "data": {
      "image/png": "[encoded data removed]",
      "text/plain": [
       "<Figure size 864x720 with 1 Axes>"
      ]
     },
     "metadata": {},
     "output_type": "display_data"
    }
   ],
   "source": [
    "#Make a smoothed histogram showing the distribution of the number of words per tweet by tweet type\n",
    "sns.set(rc = {'figure.figsize':(12,10)})\n",
    "sns.kdeplot(tweets.loc[tweets[\"target\"] == 0, \"Count\"], shade=True, color = 'blue')\n",
    "sns.kdeplot(tweets.loc[tweets[\"target\"] == 1, \"Count\"], shade=True, color = 'red')\n",
    "plt.legend([\"Safe\", \"Disaster\"], frameon=False, fontsize='small')\n",
    "plt.xlabel(\"Length of Tweet\")\n",
    "plt.title(\"Length of Tweet By Tweet Type\")"
   ]
  },
  {
   "cell_type": "markdown",
   "id": "37a7b220",
   "metadata": {},
   "source": [
    "We can see that on average, disaster tweets use more words per tweet than safe tweets. "
   ]
  },
  {
   "cell_type": "markdown",
   "id": "091164a0",
   "metadata": {},
   "source": [
    "## Analyze Tweet Parts of Speech"
   ]
  },
  {
   "cell_type": "markdown",
   "id": "8b2dd445",
   "metadata": {},
   "source": [
    "To analyze the POS in each tweet, we'll look at the proportion by tweet. Therefore, we'll get an understanding on the POS structure for safe and disaster tweets. "
   ]
  },
  {
   "cell_type": "markdown",
   "id": "096ffe49",
   "metadata": {},
   "source": [
    "### Nouns"
   ]
  },
  {
   "cell_type": "code",
   "execution_count": 41,
   "id": "fd4e7ee0",
   "metadata": {},
   "outputs": [
    {
     "data": {
      "text/html": [
       "<div>\n",
       "<style scoped>\n",
       "    .dataframe tbody tr th:only-of-type {\n",
       "        vertical-align: middle;\n",
       "    }\n",
       "\n",
       "    .dataframe tbody tr th {\n",
       "        vertical-align: top;\n",
       "    }\n",
       "\n",
       "    .dataframe thead th {\n",
       "        text-align: right;\n",
       "    }\n",
       "</style>\n",
       "<table border=\"1\" class=\"dataframe\">\n",
       "  <thead>\n",
       "    <tr style=\"text-align: right;\">\n",
       "      <th></th>\n",
       "      <th>mean</th>\n",
       "      <th>std</th>\n",
       "    </tr>\n",
       "    <tr>\n",
       "      <th>Tweet</th>\n",
       "      <th></th>\n",
       "      <th></th>\n",
       "    </tr>\n",
       "  </thead>\n",
       "  <tbody>\n",
       "    <tr>\n",
       "      <th>Disaster</th>\n",
       "      <td>0.596703</td>\n",
       "      <td>0.191103</td>\n",
       "    </tr>\n",
       "    <tr>\n",
       "      <th>Safe</th>\n",
       "      <td>0.498370</td>\n",
       "      <td>0.236846</td>\n",
       "    </tr>\n",
       "  </tbody>\n",
       "</table>\n",
       "</div>"
      ],
      "text/plain": [
       "              mean       std\n",
       "Tweet                       \n",
       "Disaster  0.596703  0.191103\n",
       "Safe      0.498370  0.236846"
      ]
     },
     "execution_count": 41,
     "metadata": {},
     "output_type": "execute_result"
    }
   ],
   "source": [
    "twt_noun_grp = tweets.groupby(\"Tweet\")[\"NOUN_prop\"].aggregate([\"mean\", \"std\"]).sort_values(by=\"mean\", ascending=False)\n",
    "twt_noun_grp"
   ]
  },
  {
   "cell_type": "code",
   "execution_count": 42,
   "id": "ed795950",
   "metadata": {},
   "outputs": [
    {
     "data": {
      "text/plain": [
       "Text(0.5, 1.0, 'Proportion of Nouns By Tweet Type')"
      ]
     },
     "execution_count": 42,
     "metadata": {},
     "output_type": "execute_result"
    },
    {
     "data": {
      "image/png": "[encoded data removed]",
      "text/plain": [
       "<Figure size 864x720 with 1 Axes>"
      ]
     },
     "metadata": {},
     "output_type": "display_data"
    }
   ],
   "source": [
    "#Make a smoothed histogram showing the distribution of the number of words per tweet by tweet type\n",
    "sns.set(rc = {'figure.figsize':(12,10)})\n",
    "sns.kdeplot(tweets.loc[tweets[\"target\"] == 0, \"NOUN_prop\"], shade=True, color = 'blue')\n",
    "sns.kdeplot(tweets.loc[tweets[\"target\"] == 1, \"NOUN_prop\"], shade=True, color = 'red')\n",
    "plt.legend([\"Safe\", \"Disaster\"], frameon=False, fontsize='small')\n",
    "plt.xlabel(\"Proportion of Nouns\")\n",
    "plt.title(\"Proportion of Nouns By Tweet Type\")"
   ]
  },
  {
   "cell_type": "markdown",
   "id": "0142e6da",
   "metadata": {},
   "source": [
    "### Verbs"
   ]
  },
  {
   "cell_type": "code",
   "execution_count": 43,
   "id": "8b32713b",
   "metadata": {},
   "outputs": [
    {
     "data": {
      "text/html": [
       "<div>\n",
       "<style scoped>\n",
       "    .dataframe tbody tr th:only-of-type {\n",
       "        vertical-align: middle;\n",
       "    }\n",
       "\n",
       "    .dataframe tbody tr th {\n",
       "        vertical-align: top;\n",
       "    }\n",
       "\n",
       "    .dataframe thead th {\n",
       "        text-align: right;\n",
       "    }\n",
       "</style>\n",
       "<table border=\"1\" class=\"dataframe\">\n",
       "  <thead>\n",
       "    <tr style=\"text-align: right;\">\n",
       "      <th></th>\n",
       "      <th>mean</th>\n",
       "      <th>std</th>\n",
       "    </tr>\n",
       "    <tr>\n",
       "      <th>Tweet</th>\n",
       "      <th></th>\n",
       "      <th></th>\n",
       "    </tr>\n",
       "  </thead>\n",
       "  <tbody>\n",
       "    <tr>\n",
       "      <th>Safe</th>\n",
       "      <td>0.200302</td>\n",
       "      <td>0.169855</td>\n",
       "    </tr>\n",
       "    <tr>\n",
       "      <th>Disaster</th>\n",
       "      <td>0.153447</td>\n",
       "      <td>0.127291</td>\n",
       "    </tr>\n",
       "  </tbody>\n",
       "</table>\n",
       "</div>"
      ],
      "text/plain": [
       "              mean       std\n",
       "Tweet                       \n",
       "Safe      0.200302  0.169855\n",
       "Disaster  0.153447  0.127291"
      ]
     },
     "execution_count": 43,
     "metadata": {},
     "output_type": "execute_result"
    }
   ],
   "source": [
    "twt_verb_grp = tweets.groupby(\"Tweet\")[\"VERB_prop\"].aggregate([\"mean\", \"std\"]).sort_values(by=\"mean\", ascending=False)\n",
    "twt_verb_grp"
   ]
  },
  {
   "cell_type": "code",
   "execution_count": 44,
   "id": "20f55c06",
   "metadata": {},
   "outputs": [
    {
     "data": {
      "text/plain": [
       "Text(0.5, 1.0, 'Proportion of Verbs By Tweet Type')"
      ]
     },
     "execution_count": 44,
     "metadata": {},
     "output_type": "execute_result"
    },
    {
     "data": {
      "image/png": "[encoded data removed]",
      "text/plain": [
       "<Figure size 864x720 with 1 Axes>"
      ]
     },
     "metadata": {},
     "output_type": "display_data"
    }
   ],
   "source": [
    "#Make a smoothed histogram showing the distribution of the number of words per tweet by tweet type\n",
    "sns.set(rc = {'figure.figsize':(12,10)})\n",
    "sns.kdeplot(tweets.loc[tweets[\"target\"] == 0, \"VERB_prop\"], shade=True, color = 'blue')\n",
    "sns.kdeplot(tweets.loc[tweets[\"target\"] == 1, \"VERB_prop\"], shade=True, color = 'red')\n",
    "plt.legend([\"Safe\", \"Disaster\"], frameon=False, fontsize='small')\n",
    "plt.xlabel(\"Proportion of Verbs\")\n",
    "plt.title(\"Proportion of Verbs By Tweet Type\")"
   ]
  },
  {
   "cell_type": "markdown",
   "id": "e2fd0caa",
   "metadata": {},
   "source": [
    "### Adjectives"
   ]
  },
  {
   "cell_type": "code",
   "execution_count": 45,
   "id": "00541453",
   "metadata": {},
   "outputs": [
    {
     "data": {
      "text/html": [
       "<div>\n",
       "<style scoped>\n",
       "    .dataframe tbody tr th:only-of-type {\n",
       "        vertical-align: middle;\n",
       "    }\n",
       "\n",
       "    .dataframe tbody tr th {\n",
       "        vertical-align: top;\n",
       "    }\n",
       "\n",
       "    .dataframe thead th {\n",
       "        text-align: right;\n",
       "    }\n",
       "</style>\n",
       "<table border=\"1\" class=\"dataframe\">\n",
       "  <thead>\n",
       "    <tr style=\"text-align: right;\">\n",
       "      <th></th>\n",
       "      <th>mean</th>\n",
       "      <th>std</th>\n",
       "    </tr>\n",
       "    <tr>\n",
       "      <th>Tweet</th>\n",
       "      <th></th>\n",
       "      <th></th>\n",
       "    </tr>\n",
       "  </thead>\n",
       "  <tbody>\n",
       "    <tr>\n",
       "      <th>Disaster</th>\n",
       "      <td>0.144536</td>\n",
       "      <td>0.130065</td>\n",
       "    </tr>\n",
       "    <tr>\n",
       "      <th>Safe</th>\n",
       "      <td>0.132262</td>\n",
       "      <td>0.143336</td>\n",
       "    </tr>\n",
       "  </tbody>\n",
       "</table>\n",
       "</div>"
      ],
      "text/plain": [
       "              mean       std\n",
       "Tweet                       \n",
       "Disaster  0.144536  0.130065\n",
       "Safe      0.132262  0.143336"
      ]
     },
     "execution_count": 45,
     "metadata": {},
     "output_type": "execute_result"
    }
   ],
   "source": [
    "twt_verb_grp = tweets.groupby(\"Tweet\")[\"ADJ_prop\"].aggregate([\"mean\", \"std\"]).sort_values(by=\"mean\", ascending=False)\n",
    "twt_verb_grp"
   ]
  },
  {
   "cell_type": "code",
   "execution_count": 46,
   "id": "797b66d9",
   "metadata": {},
   "outputs": [
    {
     "data": {
      "text/plain": [
       "Text(0.5, 1.0, 'Proportion of Adjective By Tweet Type')"
      ]
     },
     "execution_count": 46,
     "metadata": {},
     "output_type": "execute_result"
    },
    {
     "data": {
      "image/png": "[encoded data removed]",
      "text/plain": [
       "<Figure size 864x720 with 1 Axes>"
      ]
     },
     "metadata": {},
     "output_type": "display_data"
    }
   ],
   "source": [
    "#Make a smoothed histogram showing the distribution of the number of words per tweet by tweet type\n",
    "sns.set(rc = {'figure.figsize':(12,10)})\n",
    "sns.kdeplot(tweets.loc[tweets[\"target\"] == 0, \"ADJ_prop\"], shade=True, color = 'blue')\n",
    "sns.kdeplot(tweets.loc[tweets[\"target\"] == 1, \"ADJ_prop\"], shade=True, color = 'red')\n",
    "plt.legend([\"Safe\", \"Disaster\"], frameon=False, fontsize='small')\n",
    "plt.xlabel(\"Proportion of Adjectives\")\n",
    "plt.title(\"Proportion of Adjective By Tweet Type\")"
   ]
  },
  {
   "cell_type": "markdown",
   "id": "cc062300",
   "metadata": {},
   "source": [
    "### Adverbs"
   ]
  },
  {
   "cell_type": "code",
   "execution_count": 47,
   "id": "e0be9f43",
   "metadata": {},
   "outputs": [
    {
     "data": {
      "text/html": [
       "<div>\n",
       "<style scoped>\n",
       "    .dataframe tbody tr th:only-of-type {\n",
       "        vertical-align: middle;\n",
       "    }\n",
       "\n",
       "    .dataframe tbody tr th {\n",
       "        vertical-align: top;\n",
       "    }\n",
       "\n",
       "    .dataframe thead th {\n",
       "        text-align: right;\n",
       "    }\n",
       "</style>\n",
       "<table border=\"1\" class=\"dataframe\">\n",
       "  <thead>\n",
       "    <tr style=\"text-align: right;\">\n",
       "      <th></th>\n",
       "      <th>mean</th>\n",
       "      <th>std</th>\n",
       "    </tr>\n",
       "    <tr>\n",
       "      <th>Tweet</th>\n",
       "      <th></th>\n",
       "      <th></th>\n",
       "    </tr>\n",
       "  </thead>\n",
       "  <tbody>\n",
       "    <tr>\n",
       "      <th>Safe</th>\n",
       "      <td>0.041772</td>\n",
       "      <td>0.083561</td>\n",
       "    </tr>\n",
       "    <tr>\n",
       "      <th>Disaster</th>\n",
       "      <td>0.028132</td>\n",
       "      <td>0.065534</td>\n",
       "    </tr>\n",
       "  </tbody>\n",
       "</table>\n",
       "</div>"
      ],
      "text/plain": [
       "              mean       std\n",
       "Tweet                       \n",
       "Safe      0.041772  0.083561\n",
       "Disaster  0.028132  0.065534"
      ]
     },
     "execution_count": 47,
     "metadata": {},
     "output_type": "execute_result"
    }
   ],
   "source": [
    "twt_verb_grp = tweets.groupby(\"Tweet\")[\"ADV_prop\"].aggregate([\"mean\", \"std\"]).sort_values(by=\"mean\", ascending=False)\n",
    "twt_verb_grp"
   ]
  },
  {
   "cell_type": "code",
   "execution_count": 49,
   "id": "1be1e87c",
   "metadata": {},
   "outputs": [
    {
     "data": {
      "text/plain": [
       "Text(0.5, 1.0, 'Proportion of Adverbs By Tweet Type')"
      ]
     },
     "execution_count": 49,
     "metadata": {},
     "output_type": "execute_result"
    },
    {
     "data": {
      "image/png": "[encoded data removed]",
      "text/plain": [
       "<Figure size 864x720 with 1 Axes>"
      ]
     },
     "metadata": {},
     "output_type": "display_data"
    }
   ],
   "source": [
    "#Make a smoothed histogram showing the distribution of the number of words per tweet by tweet type\n",
    "sns.set(rc = {'figure.figsize':(12,10)})\n",
    "sns.kdeplot(tweets.loc[tweets[\"target\"] == 0, \"ADV_prop\"], shade=True, color = 'blue')\n",
    "sns.kdeplot(tweets.loc[tweets[\"target\"] == 1, \"ADV_prop\"], shade=True, color = 'red')\n",
    "plt.legend([\"Safe\", \"Disaster\"], frameon=False, fontsize='small')\n",
    "plt.xlabel(\"Proportion of Adverbs\")\n",
    "plt.title(\"Proportion of Adverbs By Tweet Type\")"
   ]
  },
  {
   "cell_type": "markdown",
   "id": "a3ae0d70",
   "metadata": {},
   "source": [
    "### POS Comments"
   ]
  },
  {
   "cell_type": "markdown",
   "id": "10c1a1a0",
   "metadata": {},
   "source": [
    "We see that safe and disaster tweets differ in the proportion of nouns and verbs that make up their tweets. Disaster tweets tend to have more nouns. Intuitively, this makes sense as disasters are typically things that take place at a location occur to some object. On the other hand, safe tweets are made up of slightly more verbs and have twice as many adverbs than disaster tweets. Finally, both tweets tend to have the same amount of adjectives. "
   ]
  }
 ],
 "metadata": {
  "kernelspec": {
   "display_name": "Python 3",
   "language": "python",
   "name": "python3"
  },
  "language_info": {
   "codemirror_mode": {
    "name": "ipython",
    "version": 3
   },
   "file_extension": ".py",
   "mimetype": "text/x-python",
   "name": "python",
   "nbconvert_exporter": "python",
   "pygments_lexer": "ipython3",
   "version": "3.8.8"
  }
 },
 "nbformat": 4,
 "nbformat_minor": 5
}
