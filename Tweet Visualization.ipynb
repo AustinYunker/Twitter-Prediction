{
 "cells": [
  {
   "cell_type": "markdown",
   "id": "1faa065c",
   "metadata": {},
   "source": [
    "# Setup and Imports"
   ]
  },
  {
   "cell_type": "code",
   "execution_count": 64,
   "id": "c45e743e",
   "metadata": {},
   "outputs": [],
   "source": [
    "import pandas as pd\n",
    "import numpy as np\n",
    "from matplotlib import pyplot as plt\n",
    "%matplotlib inline\n",
    "import seaborn as sns\n",
    "sns.set\n",
    "import spacy\n",
    "import nltk\n",
    "\n",
    "import Tweet_Normalizer as tn"
   ]
  },
  {
   "cell_type": "markdown",
   "id": "92508e1d",
   "metadata": {},
   "source": [
    "# Load the Data"
   ]
  },
  {
   "cell_type": "code",
   "execution_count": 2,
   "id": "736dce0b",
   "metadata": {},
   "outputs": [],
   "source": [
    "tweets = pd.read_csv(\"data/train.csv\")"
   ]
  },
  {
   "cell_type": "code",
   "execution_count": 4,
   "id": "4814c49b",
   "metadata": {},
   "outputs": [],
   "source": [
    "#Drop unnecessary columns\n",
    "tweets.drop([\"id\", \"keyword\", \"location\"], axis = 1, inplace=True)"
   ]
  },
  {
   "cell_type": "code",
   "execution_count": 8,
   "id": "f834fc1e",
   "metadata": {},
   "outputs": [
    {
     "data": {
      "text/html": [
       "<div>\n",
       "<style scoped>\n",
       "    .dataframe tbody tr th:only-of-type {\n",
       "        vertical-align: middle;\n",
       "    }\n",
       "\n",
       "    .dataframe tbody tr th {\n",
       "        vertical-align: top;\n",
       "    }\n",
       "\n",
       "    .dataframe thead th {\n",
       "        text-align: right;\n",
       "    }\n",
       "</style>\n",
       "<table border=\"1\" class=\"dataframe\">\n",
       "  <thead>\n",
       "    <tr style=\"text-align: right;\">\n",
       "      <th></th>\n",
       "      <th>text</th>\n",
       "      <th>target</th>\n",
       "    </tr>\n",
       "  </thead>\n",
       "  <tbody>\n",
       "    <tr>\n",
       "      <th>0</th>\n",
       "      <td>Our Deeds are the Reason of this #earthquake M...</td>\n",
       "      <td>1</td>\n",
       "    </tr>\n",
       "    <tr>\n",
       "      <th>1</th>\n",
       "      <td>Forest fire near La Ronge Sask. Canada</td>\n",
       "      <td>1</td>\n",
       "    </tr>\n",
       "    <tr>\n",
       "      <th>2</th>\n",
       "      <td>All residents asked to 'shelter in place' are ...</td>\n",
       "      <td>1</td>\n",
       "    </tr>\n",
       "    <tr>\n",
       "      <th>3</th>\n",
       "      <td>13,000 people receive #wildfires evacuation or...</td>\n",
       "      <td>1</td>\n",
       "    </tr>\n",
       "    <tr>\n",
       "      <th>4</th>\n",
       "      <td>Just got sent this photo from Ruby #Alaska as ...</td>\n",
       "      <td>1</td>\n",
       "    </tr>\n",
       "  </tbody>\n",
       "</table>\n",
       "</div>"
      ],
      "text/plain": [
       "                                                text  target\n",
       "0  Our Deeds are the Reason of this #earthquake M...       1\n",
       "1             Forest fire near La Ronge Sask. Canada       1\n",
       "2  All residents asked to 'shelter in place' are ...       1\n",
       "3  13,000 people receive #wildfires evacuation or...       1\n",
       "4  Just got sent this photo from Ruby #Alaska as ...       1"
      ]
     },
     "execution_count": 8,
     "metadata": {},
     "output_type": "execute_result"
    }
   ],
   "source": [
    "#View first few rows\n",
    "tweets.head()"
   ]
  },
  {
   "cell_type": "markdown",
   "id": "482157dd",
   "metadata": {},
   "source": [
    "# Clean and Normalize Tweets"
   ]
  },
  {
   "cell_type": "code",
   "execution_count": 10,
   "id": "9b6c2e27",
   "metadata": {},
   "outputs": [
    {
     "name": "stdout",
     "output_type": "stream",
     "text": [
      "Wall time: 1min 32s\n"
     ]
    }
   ],
   "source": [
    "%%time\n",
    "tweets[\"Clean Tweets\"] = np.array(tn.normalize_corpus(tweets[\"text\"]))"
   ]
  },
  {
   "cell_type": "code",
   "execution_count": 12,
   "id": "bb32007d",
   "metadata": {
    "scrolled": false
   },
   "outputs": [
    {
     "data": {
      "text/html": [
       "<div>\n",
       "<style scoped>\n",
       "    .dataframe tbody tr th:only-of-type {\n",
       "        vertical-align: middle;\n",
       "    }\n",
       "\n",
       "    .dataframe tbody tr th {\n",
       "        vertical-align: top;\n",
       "    }\n",
       "\n",
       "    .dataframe thead th {\n",
       "        text-align: right;\n",
       "    }\n",
       "</style>\n",
       "<table border=\"1\" class=\"dataframe\">\n",
       "  <thead>\n",
       "    <tr style=\"text-align: right;\">\n",
       "      <th></th>\n",
       "      <th>text</th>\n",
       "      <th>target</th>\n",
       "      <th>Clean Tweets</th>\n",
       "    </tr>\n",
       "  </thead>\n",
       "  <tbody>\n",
       "    <tr>\n",
       "      <th>7603</th>\n",
       "      <td>Officials say a quarantine is in place at an Alabama home over a possible Ebola case after developing symptoms... http://t.co/rqKK15uhEY</td>\n",
       "      <td>1</td>\n",
       "      <td>official say quarantine place alabama home possible ebola case develop symptom httpt corqkkuhey</td>\n",
       "    </tr>\n",
       "    <tr>\n",
       "      <th>7604</th>\n",
       "      <td>#WorldNews Fallen powerlines on G:link tram: UPDATE: FIRE crews have evacuated up to 30 passengers who were tr... http://t.co/EYSVvzA7Qm</td>\n",
       "      <td>1</td>\n",
       "      <td>worldnews fall powerline g link tram update fire crew evacuate passenger tr httpt coeysvvzaqm</td>\n",
       "    </tr>\n",
       "    <tr>\n",
       "      <th>7605</th>\n",
       "      <td>on the flip side I'm at Walmart and there is a bomb and everyone had to evacuate so stay tuned if I blow up or not</td>\n",
       "      <td>1</td>\n",
       "      <td>flip side I walmart bomb everyone evacuate stay tune I blow</td>\n",
       "    </tr>\n",
       "    <tr>\n",
       "      <th>7606</th>\n",
       "      <td>Suicide bomber kills 15 in Saudi security site mosque - Reuters via World - Google News - Wall ... http://t.co/nF4IculOje</td>\n",
       "      <td>1</td>\n",
       "      <td>suicide bomber kill saudi security site mosque reuter via world google news wall httpt conficuloje</td>\n",
       "    </tr>\n",
       "    <tr>\n",
       "      <th>7607</th>\n",
       "      <td>#stormchase Violent Record Breaking EF-5 El Reno Oklahoma Tornado Nearly Runs Over ... - http://t.co/3SICroAaNz http://t.co/I27Oa0HISp</td>\n",
       "      <td>1</td>\n",
       "      <td>stormchase violent record break ef el reno oklahoma tornado nearly run httpt cosicroaanz httpt coioahisp</td>\n",
       "    </tr>\n",
       "    <tr>\n",
       "      <th>7608</th>\n",
       "      <td>Two giant cranes holding a bridge collapse into nearby homes http://t.co/STfMbbZFB5</td>\n",
       "      <td>1</td>\n",
       "      <td>two giant crane hold bridge collapse nearby home httpt costfmbbzfb</td>\n",
       "    </tr>\n",
       "    <tr>\n",
       "      <th>7609</th>\n",
       "      <td>@aria_ahrary @TheTawniest The out of control wild fires in California even in the Northern part of the state. Very troubling.</td>\n",
       "      <td>1</td>\n",
       "      <td>aria_ahrary thetawni control wild fire california even northern part state troubling</td>\n",
       "    </tr>\n",
       "    <tr>\n",
       "      <th>7610</th>\n",
       "      <td>M1.94 [01:04 UTC]?5km S of Volcano Hawaii. http://t.co/zDtoyd8EbJ</td>\n",
       "      <td>1</td>\n",
       "      <td>[ utc ] km volcano hawaii httpt cozdtoydebj</td>\n",
       "    </tr>\n",
       "    <tr>\n",
       "      <th>7611</th>\n",
       "      <td>Police investigating after an e-bike collided with a car in Little Portugal. E-bike rider suffered serious non-life threatening injuries.</td>\n",
       "      <td>1</td>\n",
       "      <td>police investigate e bike collide car little portugal e bike rider suffer serious non life threaten injury</td>\n",
       "    </tr>\n",
       "    <tr>\n",
       "      <th>7612</th>\n",
       "      <td>The Latest: More Homes Razed by Northern California Wildfire - ABC News http://t.co/YmY4rSkQ3d</td>\n",
       "      <td>1</td>\n",
       "      <td>late home raze northern california wildfire abc news httpt coymyrskqd</td>\n",
       "    </tr>\n",
       "  </tbody>\n",
       "</table>\n",
       "</div>"
      ],
      "text/plain": [
       "                                                                                                                                           text  \\\n",
       "7603  Officials say a quarantine is in place at an Alabama home over a possible Ebola case after developing symptoms... http://t.co/rqKK15uhEY    \n",
       "7604  #WorldNews Fallen powerlines on G:link tram: UPDATE: FIRE crews have evacuated up to 30 passengers who were tr... http://t.co/EYSVvzA7Qm    \n",
       "7605  on the flip side I'm at Walmart and there is a bomb and everyone had to evacuate so stay tuned if I blow up or not                          \n",
       "7606  Suicide bomber kills 15 in Saudi security site mosque - Reuters via World - Google News - Wall ... http://t.co/nF4IculOje                   \n",
       "7607  #stormchase Violent Record Breaking EF-5 El Reno Oklahoma Tornado Nearly Runs Over ... - http://t.co/3SICroAaNz http://t.co/I27Oa0HISp      \n",
       "7608  Two giant cranes holding a bridge collapse into nearby homes http://t.co/STfMbbZFB5                                                         \n",
       "7609  @aria_ahrary @TheTawniest The out of control wild fires in California even in the Northern part of the state. Very troubling.               \n",
       "7610  M1.94 [01:04 UTC]?5km S of Volcano Hawaii. http://t.co/zDtoyd8EbJ                                                                           \n",
       "7611  Police investigating after an e-bike collided with a car in Little Portugal. E-bike rider suffered serious non-life threatening injuries.   \n",
       "7612  The Latest: More Homes Razed by Northern California Wildfire - ABC News http://t.co/YmY4rSkQ3d                                              \n",
       "\n",
       "      target  \\\n",
       "7603  1        \n",
       "7604  1        \n",
       "7605  1        \n",
       "7606  1        \n",
       "7607  1        \n",
       "7608  1        \n",
       "7609  1        \n",
       "7610  1        \n",
       "7611  1        \n",
       "7612  1        \n",
       "\n",
       "                                                                                                    Clean Tweets  \n",
       "7603  official say quarantine place alabama home possible ebola case develop symptom httpt corqkkuhey             \n",
       "7604  worldnews fall powerline g link tram update fire crew evacuate passenger tr httpt coeysvvzaqm               \n",
       "7605  flip side I walmart bomb everyone evacuate stay tune I blow                                                 \n",
       "7606  suicide bomber kill saudi security site mosque reuter via world google news wall httpt conficuloje          \n",
       "7607  stormchase violent record break ef el reno oklahoma tornado nearly run httpt cosicroaanz httpt coioahisp    \n",
       "7608  two giant crane hold bridge collapse nearby home httpt costfmbbzfb                                          \n",
       "7609  aria_ahrary thetawni control wild fire california even northern part state troubling                        \n",
       "7610  [ utc ] km volcano hawaii httpt cozdtoydebj                                                                 \n",
       "7611  police investigate e bike collide car little portugal e bike rider suffer serious non life threaten injury  \n",
       "7612  late home raze northern california wildfire abc news httpt coymyrskqd                                       "
      ]
     },
     "execution_count": 12,
     "metadata": {},
     "output_type": "execute_result"
    }
   ],
   "source": [
    "pd.set_option('display.max_colwidth', 2)\n",
    "tweets.tail(n=10)"
   ]
  },
  {
   "cell_type": "markdown",
   "id": "14fbc2e6",
   "metadata": {},
   "source": [
    "# Create Functions to Examine Tweet Details"
   ]
  },
  {
   "cell_type": "code",
   "execution_count": 21,
   "id": "4f5afd4c",
   "metadata": {},
   "outputs": [],
   "source": [
    "def word_count(text):\n",
    "    \"\"\"\n",
    "    This function counts the total words in the cleaned tweet\n",
    "    \n",
    "    test: String containing the text\n",
    "    \n",
    "    returns: Length of the text as an int\n",
    "\n",
    "    \"\"\"\n",
    "    \n",
    "    text = tn.word_tokenizer(text)\n",
    "    \n",
    "    return len(text)"
   ]
  },
  {
   "cell_type": "code",
   "execution_count": 25,
   "id": "62774dcf",
   "metadata": {},
   "outputs": [],
   "source": [
    "nlp = spacy.load('en_core_web_sm')\n",
    "def POS_counter(text, POS):\n",
    "    \"\"\"\n",
    "    This function counts the POS tags in the text corpus and returns the total count\n",
    "    \n",
    "    text: String corpus\n",
    "    \n",
    "    returns: Number of POS in the tweet as int\n",
    "\n",
    "    \"\"\"\n",
    "    text = nlp(text)\n",
    "    POS_Count = 0\n",
    "    \n",
    "    \n",
    "    for word in text:\n",
    "        if word.pos_ == POS:\n",
    "            POS_Count += 1\n",
    "            \n",
    "    return POS_Count"
   ]
  },
  {
   "cell_type": "code",
   "execution_count": 46,
   "id": "eeb5a279",
   "metadata": {},
   "outputs": [],
   "source": [
    "#Get the length of the clean tweets\n",
    "tweets[\"Count\"] = tweets[\"Clean Tweets\"].apply(word_count)"
   ]
  },
  {
   "cell_type": "code",
   "execution_count": 44,
   "id": "2069d7d1",
   "metadata": {},
   "outputs": [
    {
     "name": "stdout",
     "output_type": "stream",
     "text": [
      "Wall time: 4min 36s\n"
     ]
    }
   ],
   "source": [
    "%%time\n",
    "#Get the count and proportion of the four main parts of speech (POS)\n",
    "POS_lst = [\"NOUN\", \"VERB\", \"ADJ\", \"ADV\"]\n",
    "\n",
    "for pos in POS_lst:\n",
    "    tweets[pos] = tweets[\"Clean Tweets\"].apply(POS_counter, POS = pos)\n",
    "    pos_prop = pos + \"prop\"\n",
    "    tweets[pos_prop] = tweets[pos] / tweets[\"Word Count\"]"
   ]
  },
  {
   "cell_type": "code",
   "execution_count": 70,
   "id": "018d72b2",
   "metadata": {},
   "outputs": [],
   "source": [
    "Tweet = [\"Safe\" if tweet == 0 else \"Disaster\" for tweet in tweets['target']]\n",
    "#Add a new column based on target\n",
    "tweets[\"Tweet\"] = Tweet"
   ]
  },
  {
   "cell_type": "code",
   "execution_count": 71,
   "id": "8dd28188",
   "metadata": {},
   "outputs": [
    {
     "data": {
      "text/html": [
       "<div>\n",
       "<style scoped>\n",
       "    .dataframe tbody tr th:only-of-type {\n",
       "        vertical-align: middle;\n",
       "    }\n",
       "\n",
       "    .dataframe tbody tr th {\n",
       "        vertical-align: top;\n",
       "    }\n",
       "\n",
       "    .dataframe thead th {\n",
       "        text-align: right;\n",
       "    }\n",
       "</style>\n",
       "<table border=\"1\" class=\"dataframe\">\n",
       "  <thead>\n",
       "    <tr style=\"text-align: right;\">\n",
       "      <th></th>\n",
       "      <th>text</th>\n",
       "      <th>target</th>\n",
       "      <th>Clean Tweets</th>\n",
       "      <th>Word Count</th>\n",
       "      <th>NOUN</th>\n",
       "      <th>VERB</th>\n",
       "      <th>ADJ</th>\n",
       "      <th>ADV</th>\n",
       "      <th>NOUNprop</th>\n",
       "      <th>VERBprop</th>\n",
       "      <th>ADJprop</th>\n",
       "      <th>ADVprop</th>\n",
       "      <th>Count</th>\n",
       "      <th>Tweet</th>\n",
       "    </tr>\n",
       "  </thead>\n",
       "  <tbody>\n",
       "    <tr>\n",
       "      <th>0</th>\n",
       "      <td>Our Deeds are the Reason of this #earthquake May ALLAH Forgive us all</td>\n",
       "      <td>1</td>\n",
       "      <td>deed reason earthquake may allah forgive</td>\n",
       "      <td>6</td>\n",
       "      <td>2</td>\n",
       "      <td>3</td>\n",
       "      <td>0</td>\n",
       "      <td>0</td>\n",
       "      <td>0.333333</td>\n",
       "      <td>0.500000</td>\n",
       "      <td>0.000000</td>\n",
       "      <td>0.0</td>\n",
       "      <td>6</td>\n",
       "      <td>Disaster</td>\n",
       "    </tr>\n",
       "    <tr>\n",
       "      <th>1</th>\n",
       "      <td>Forest fire near La Ronge Sask. Canada</td>\n",
       "      <td>1</td>\n",
       "      <td>forest fire near la ronge sask canada</td>\n",
       "      <td>7</td>\n",
       "      <td>5</td>\n",
       "      <td>0</td>\n",
       "      <td>1</td>\n",
       "      <td>0</td>\n",
       "      <td>0.714286</td>\n",
       "      <td>0.000000</td>\n",
       "      <td>0.142857</td>\n",
       "      <td>0.0</td>\n",
       "      <td>7</td>\n",
       "      <td>Disaster</td>\n",
       "    </tr>\n",
       "    <tr>\n",
       "      <th>2</th>\n",
       "      <td>All residents asked to 'shelter in place' are being notified by officers. No other evacuation or shelter in place orders are expected</td>\n",
       "      <td>1</td>\n",
       "      <td>resident ask shelter place notify officer evacuation shelter place order expect</td>\n",
       "      <td>11</td>\n",
       "      <td>8</td>\n",
       "      <td>2</td>\n",
       "      <td>1</td>\n",
       "      <td>0</td>\n",
       "      <td>0.727273</td>\n",
       "      <td>0.181818</td>\n",
       "      <td>0.090909</td>\n",
       "      <td>0.0</td>\n",
       "      <td>11</td>\n",
       "      <td>Disaster</td>\n",
       "    </tr>\n",
       "    <tr>\n",
       "      <th>3</th>\n",
       "      <td>13,000 people receive #wildfires evacuation orders in California</td>\n",
       "      <td>1</td>\n",
       "      <td>people receive wildfire evacuation order california</td>\n",
       "      <td>6</td>\n",
       "      <td>5</td>\n",
       "      <td>1</td>\n",
       "      <td>0</td>\n",
       "      <td>0</td>\n",
       "      <td>0.833333</td>\n",
       "      <td>0.166667</td>\n",
       "      <td>0.000000</td>\n",
       "      <td>0.0</td>\n",
       "      <td>6</td>\n",
       "      <td>Disaster</td>\n",
       "    </tr>\n",
       "    <tr>\n",
       "      <th>4</th>\n",
       "      <td>Just got sent this photo from Ruby #Alaska as smoke from #wildfires pours into a school</td>\n",
       "      <td>1</td>\n",
       "      <td>got send photo ruby alaska smoke wildfire pour school</td>\n",
       "      <td>9</td>\n",
       "      <td>6</td>\n",
       "      <td>2</td>\n",
       "      <td>0</td>\n",
       "      <td>0</td>\n",
       "      <td>0.666667</td>\n",
       "      <td>0.222222</td>\n",
       "      <td>0.000000</td>\n",
       "      <td>0.0</td>\n",
       "      <td>9</td>\n",
       "      <td>Disaster</td>\n",
       "    </tr>\n",
       "  </tbody>\n",
       "</table>\n",
       "</div>"
      ],
      "text/plain": [
       "                                                                                                                                    text  \\\n",
       "0  Our Deeds are the Reason of this #earthquake May ALLAH Forgive us all                                                                   \n",
       "1  Forest fire near La Ronge Sask. Canada                                                                                                  \n",
       "2  All residents asked to 'shelter in place' are being notified by officers. No other evacuation or shelter in place orders are expected   \n",
       "3  13,000 people receive #wildfires evacuation orders in California                                                                        \n",
       "4  Just got sent this photo from Ruby #Alaska as smoke from #wildfires pours into a school                                                 \n",
       "\n",
       "   target  \\\n",
       "0  1        \n",
       "1  1        \n",
       "2  1        \n",
       "3  1        \n",
       "4  1        \n",
       "\n",
       "                                                                      Clean Tweets  \\\n",
       "0  deed reason earthquake may allah forgive                                          \n",
       "1  forest fire near la ronge sask canada                                             \n",
       "2  resident ask shelter place notify officer evacuation shelter place order expect   \n",
       "3  people receive wildfire evacuation order california                               \n",
       "4  got send photo ruby alaska smoke wildfire pour school                             \n",
       "\n",
       "   Word Count  NOUN  VERB  ADJ  ADV  NOUNprop  VERBprop   ADJprop  ADVprop  \\\n",
       "0  6           2     3     0    0    0.333333  0.500000  0.000000  0.0       \n",
       "1  7           5     0     1    0    0.714286  0.000000  0.142857  0.0       \n",
       "2  11          8     2     1    0    0.727273  0.181818  0.090909  0.0       \n",
       "3  6           5     1     0    0    0.833333  0.166667  0.000000  0.0       \n",
       "4  9           6     2     0    0    0.666667  0.222222  0.000000  0.0       \n",
       "\n",
       "   Count     Tweet  \n",
       "0  6      Disaster  \n",
       "1  7      Disaster  \n",
       "2  11     Disaster  \n",
       "3  6      Disaster  \n",
       "4  9      Disaster  "
      ]
     },
     "execution_count": 71,
     "metadata": {},
     "output_type": "execute_result"
    }
   ],
   "source": [
    "tweets.head()"
   ]
  },
  {
   "cell_type": "markdown",
   "id": "327f00fa",
   "metadata": {},
   "source": [
    "# Data Visualizations"
   ]
  },
  {
   "cell_type": "code",
   "execution_count": 58,
   "id": "49a591b7",
   "metadata": {},
   "outputs": [
    {
     "data": {
      "text/html": [
       "<div>\n",
       "<style scoped>\n",
       "    .dataframe tbody tr th:only-of-type {\n",
       "        vertical-align: middle;\n",
       "    }\n",
       "\n",
       "    .dataframe tbody tr th {\n",
       "        vertical-align: top;\n",
       "    }\n",
       "\n",
       "    .dataframe thead th {\n",
       "        text-align: right;\n",
       "    }\n",
       "</style>\n",
       "<table border=\"1\" class=\"dataframe\">\n",
       "  <thead>\n",
       "    <tr style=\"text-align: right;\">\n",
       "      <th></th>\n",
       "      <th>Tweet</th>\n",
       "      <th>Percentage</th>\n",
       "    </tr>\n",
       "  </thead>\n",
       "  <tbody>\n",
       "    <tr>\n",
       "      <th>0</th>\n",
       "      <td>Safe</td>\n",
       "      <td>0.57034</td>\n",
       "    </tr>\n",
       "    <tr>\n",
       "      <th>1</th>\n",
       "      <td>Disaster</td>\n",
       "      <td>0.42966</td>\n",
       "    </tr>\n",
       "  </tbody>\n",
       "</table>\n",
       "</div>"
      ],
      "text/plain": [
       "      Tweet  Percentage\n",
       "0  Safe      0.57034   \n",
       "1  Disaster  0.42966   "
      ]
     },
     "execution_count": 58,
     "metadata": {},
     "output_type": "execute_result"
    }
   ],
   "source": [
    "twt_df = pd.DataFrame(tweets[\"Tweet\"].value_counts() / tweets.shape[0]).reset_index().rename(columns={\"index\": \"Tweet\", \"Tweet\": \"Percentage\"})\n",
    "twt_df"
   ]
  },
  {
   "cell_type": "code",
   "execution_count": 69,
   "id": "786be0e4",
   "metadata": {},
   "outputs": [
    {
     "data": {
      "text/plain": [
       "Text(0.5, 0, 'Tweet Type')"
      ]
     },
     "execution_count": 69,
     "metadata": {},
     "output_type": "execute_result"
    },
    {
     "data": {
      "image/png": "[encoded data removed]",
      "text/plain": [
       "<Figure size 720x720 with 1 Axes>"
      ]
     },
     "metadata": {},
     "output_type": "display_data"
    }
   ],
   "source": [
    "sns.set(rc = {'figure.figsize':(10,10)})\n",
    "sns.barplot(x=\"Tweet\", y = \"Percentage\", data = twt_df, color = \"teal\")\n",
    "plt.title(\"Tweet Type Percentage\")\n",
    "plt.ylabel(\"Percentage\")\n",
    "plt.xlabel(\"Tweet Type\")"
   ]
  }
 ],
 "metadata": {
  "kernelspec": {
   "display_name": "Python 3",
   "language": "python",
   "name": "python3"
  },
  "language_info": {
   "codemirror_mode": {
    "name": "ipython",
    "version": 3
   },
   "file_extension": ".py",
   "mimetype": "text/x-python",
   "name": "python",
   "nbconvert_exporter": "python",
   "pygments_lexer": "ipython3",
   "version": "3.8.8"
  }
 },
 "nbformat": 4,
 "nbformat_minor": 5
}
