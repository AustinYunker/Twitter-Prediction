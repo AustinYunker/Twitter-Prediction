{
 "cells": [
  {
   "cell_type": "markdown",
   "id": "860b6308",
   "metadata": {},
   "source": [
    "# Setups and Imports"
   ]
  },
  {
   "cell_type": "code",
   "execution_count": 124,
   "id": "7d2510b8",
   "metadata": {},
   "outputs": [],
   "source": [
    "import pandas as pd\n",
    "import numpy as np\n",
    "from matplotlib import pyplot as plt\n",
    "%matplotlib inline\n",
    "import seaborn as sns\n",
    "import re\n",
    "sns.set\n",
    "import spacy\n",
    "import nltk\n",
    "from nltk.corpus import brown\n",
    "from nltk.corpus import wordnet\n",
    "from collections import Counter\n",
    "import Tweet_Normalizer as tn\n",
    "from bs4 import BeautifulSoup\n",
    "import requests\n",
    "import spacy\n",
    "import scipy\n",
    "import gensim\n",
    "from sklearn.model_selection import train_test_split\n",
    "from nltk.tokenize.toktok import ToktokTokenizer\n",
    "from sklearn.linear_model import LogisticRegression\n",
    "from sklearn.model_selection import cross_val_score\n",
    "from sklearn.model_selection import cross_val_predict\n",
    "from sklearn.svm import LinearSVC\n",
    "from sklearn.ensemble import RandomForestClassifier\n",
    "from sklearn.naive_bayes import GaussianNB\n",
    "import xgboost\n",
    "from sklearn.metrics import accuracy_score\n",
    "from sklearn.metrics import confusion_matrix\n",
    "from sklearn.metrics import f1_score\n",
    "import csv\n",
    "import math\n",
    "from scipy.stats import uniform\n",
    "from scipy.stats import reciprocal\n",
    "from sklearn.model_selection import RandomizedSearchCV\n",
    "from sklearn.model_selection import ParameterSampler\n",
    "import tensorflow as tf\n",
    "from tensorflow import keras\n",
    "import pickle"
   ]
  },
  {
   "cell_type": "markdown",
   "id": "92508e1d",
   "metadata": {},
   "source": [
    "# Load the Data"
   ]
  },
  {
   "cell_type": "code",
   "execution_count": 2,
   "id": "3a7ccfe1",
   "metadata": {},
   "outputs": [],
   "source": [
    "tweets = pd.read_csv(\"data/train.csv\")"
   ]
  },
  {
   "cell_type": "markdown",
   "id": "482157dd",
   "metadata": {},
   "source": [
    "# Clean and Normalize Tweets"
   ]
  },
  {
   "cell_type": "code",
   "execution_count": 3,
   "id": "278cf45a",
   "metadata": {},
   "outputs": [
    {
     "name": "stdout",
     "output_type": "stream",
     "text": [
      "Running tweet scrubber...\n",
      "\n",
      "Dropping unnecessary columns\n",
      "Successfully dropped columns!\n",
      "\n",
      "Normalizing the tweets\n",
      "Successfully normalized tweets!\n",
      "\n",
      "Removing invalid and mispelled words\n",
      "Successfully removed invalid and mispelled words!\n",
      "\n",
      "Successfully scrubbed tweets!\n",
      "\n",
      "Wall time: 4min 41s\n"
     ]
    }
   ],
   "source": [
    "%%time\n",
    "#USe tweet scrubber function to clean the data\n",
    "tweets = tn.tweet_scrubber(tweets, verbose = True)"
   ]
  },
  {
   "cell_type": "code",
   "execution_count": 4,
   "id": "71089573",
   "metadata": {},
   "outputs": [],
   "source": [
    "#Check for blank rows after cleaning. We expect 5\n",
    "tweets = tweets.replace(r'^(\\s)+$', np.nan, regex = True)\n",
    "#Drop the empty rows\n",
    "tweets.dropna(subset=[\"Clean Tweets\"], inplace = True)\n",
    "#Reset the index in place\n",
    "tweets.reset_index(drop = True, inplace = True)"
   ]
  },
  {
   "cell_type": "code",
   "execution_count": 5,
   "id": "8119f4a8",
   "metadata": {},
   "outputs": [
    {
     "data": {
      "text/html": [
       "<div>\n",
       "<style scoped>\n",
       "    .dataframe tbody tr th:only-of-type {\n",
       "        vertical-align: middle;\n",
       "    }\n",
       "\n",
       "    .dataframe tbody tr th {\n",
       "        vertical-align: top;\n",
       "    }\n",
       "\n",
       "    .dataframe thead th {\n",
       "        text-align: right;\n",
       "    }\n",
       "</style>\n",
       "<table border=\"1\" class=\"dataframe\">\n",
       "  <thead>\n",
       "    <tr style=\"text-align: right;\">\n",
       "      <th></th>\n",
       "      <th>text</th>\n",
       "      <th>target</th>\n",
       "      <th>Clean Tweets</th>\n",
       "    </tr>\n",
       "  </thead>\n",
       "  <tbody>\n",
       "    <tr>\n",
       "      <th>7593</th>\n",
       "      <td>Father-of-three Lost Control of Car After Overtaking and Collided #BathAndNorthEastSomerset http://t.co/fa3FcnlN86</td>\n",
       "      <td>1</td>\n",
       "      <td>father three lose control car overtake collide</td>\n",
       "    </tr>\n",
       "    <tr>\n",
       "      <th>7594</th>\n",
       "      <td>1.3 #Earthquake in 9Km Ssw Of Anza California #iPhone users download the Earthquake app for more information http://t.co/V3aZWOAmzK</td>\n",
       "      <td>1</td>\n",
       "      <td>earthquake km ssw  california  user download earthquake  information</td>\n",
       "    </tr>\n",
       "    <tr>\n",
       "      <th>7595</th>\n",
       "      <td>Evacuation order lifted for town of Roosevelt: http://t.co/EDyfo6E2PU http://t.co/M5KxLPKFA1</td>\n",
       "      <td>1</td>\n",
       "      <td>evacuation order lift town roosevelt</td>\n",
       "    </tr>\n",
       "    <tr>\n",
       "      <th>7596</th>\n",
       "      <td>#breaking #LA Refugio oil spill may have been costlier bigger than projected http://t.co/5ueCmcv2Pk</td>\n",
       "      <td>1</td>\n",
       "      <td>break la  oil spill may costlier big project</td>\n",
       "    </tr>\n",
       "    <tr>\n",
       "      <th>7597</th>\n",
       "      <td>a siren just went off and it wasn't the Forney tornado warning ??</td>\n",
       "      <td>1</td>\n",
       "      <td>siren go not  tornado warning</td>\n",
       "    </tr>\n",
       "    <tr>\n",
       "      <th>7598</th>\n",
       "      <td>Officials say a quarantine is in place at an Alabama home over a possible Ebola case after developing symptoms... http://t.co/rqKK15uhEY</td>\n",
       "      <td>1</td>\n",
       "      <td>official say quarantine place alabama home possible ebola case develop symptom</td>\n",
       "    </tr>\n",
       "    <tr>\n",
       "      <th>7599</th>\n",
       "      <td>#WorldNews Fallen powerlines on G:link tram: UPDATE: FIRE crews have evacuated up to 30 passengers who were tr... http://t.co/EYSVvzA7Qm</td>\n",
       "      <td>1</td>\n",
       "      <td>fall  g link tram update fire crew evacuate passenger</td>\n",
       "    </tr>\n",
       "    <tr>\n",
       "      <th>7600</th>\n",
       "      <td>on the flip side I'm at Walmart and there is a bomb and everyone had to evacuate so stay tuned if I blow up or not</td>\n",
       "      <td>1</td>\n",
       "      <td>flip side I  bomb  evacuate stay tune I blow not</td>\n",
       "    </tr>\n",
       "    <tr>\n",
       "      <th>7601</th>\n",
       "      <td>Suicide bomber kills 15 in Saudi security site mosque - Reuters via World - Google News - Wall ... http://t.co/nF4IculOje</td>\n",
       "      <td>1</td>\n",
       "      <td>suicide bomber kill saudi security site mosque   world google news wall</td>\n",
       "    </tr>\n",
       "    <tr>\n",
       "      <th>7602</th>\n",
       "      <td>#stormchase Violent Record Breaking EF-5 El Reno Oklahoma Tornado Nearly Runs Over ... - http://t.co/3SICroAaNz http://t.co/I27Oa0HISp</td>\n",
       "      <td>1</td>\n",
       "      <td>violent record break  el reno oklahoma tornado nearly run</td>\n",
       "    </tr>\n",
       "    <tr>\n",
       "      <th>7603</th>\n",
       "      <td>Two giant cranes holding a bridge collapse into nearby homes http://t.co/STfMbbZFB5</td>\n",
       "      <td>1</td>\n",
       "      <td>two giant crane hold bridge collapse nearby home</td>\n",
       "    </tr>\n",
       "    <tr>\n",
       "      <th>7604</th>\n",
       "      <td>@aria_ahrary @TheTawniest The out of control wild fires in California even in the Northern part of the state. Very troubling.</td>\n",
       "      <td>1</td>\n",
       "      <td>control wild fire california even northern part state troubling</td>\n",
       "    </tr>\n",
       "    <tr>\n",
       "      <th>7605</th>\n",
       "      <td>M1.94 [01:04 UTC]?5km S of Volcano Hawaii. http://t.co/zDtoyd8EbJ</td>\n",
       "      <td>1</td>\n",
       "      <td>[ utc ] km volcano hawaii</td>\n",
       "    </tr>\n",
       "    <tr>\n",
       "      <th>7606</th>\n",
       "      <td>Police investigating after an e-bike collided with a car in Little Portugal. E-bike rider suffered serious non-life threatening injuries.</td>\n",
       "      <td>1</td>\n",
       "      <td>police investigate e bike collide car little portugal e bike rider suffer serious non life threaten injury</td>\n",
       "    </tr>\n",
       "    <tr>\n",
       "      <th>7607</th>\n",
       "      <td>The Latest: More Homes Razed by Northern California Wildfire - ABC News http://t.co/YmY4rSkQ3d</td>\n",
       "      <td>1</td>\n",
       "      <td>late home raze northern california wildfire abc news</td>\n",
       "    </tr>\n",
       "  </tbody>\n",
       "</table>\n",
       "</div>"
      ],
      "text/plain": [
       "                                                                                                                                           text  \\\n",
       "7593  Father-of-three Lost Control of Car After Overtaking and Collided #BathAndNorthEastSomerset http://t.co/fa3FcnlN86                          \n",
       "7594  1.3 #Earthquake in 9Km Ssw Of Anza California #iPhone users download the Earthquake app for more information http://t.co/V3aZWOAmzK         \n",
       "7595  Evacuation order lifted for town of Roosevelt: http://t.co/EDyfo6E2PU http://t.co/M5KxLPKFA1                                                \n",
       "7596  #breaking #LA Refugio oil spill may have been costlier bigger than projected http://t.co/5ueCmcv2Pk                                         \n",
       "7597  a siren just went off and it wasn't the Forney tornado warning ??                                                                           \n",
       "7598  Officials say a quarantine is in place at an Alabama home over a possible Ebola case after developing symptoms... http://t.co/rqKK15uhEY    \n",
       "7599  #WorldNews Fallen powerlines on G:link tram: UPDATE: FIRE crews have evacuated up to 30 passengers who were tr... http://t.co/EYSVvzA7Qm    \n",
       "7600  on the flip side I'm at Walmart and there is a bomb and everyone had to evacuate so stay tuned if I blow up or not                          \n",
       "7601  Suicide bomber kills 15 in Saudi security site mosque - Reuters via World - Google News - Wall ... http://t.co/nF4IculOje                   \n",
       "7602  #stormchase Violent Record Breaking EF-5 El Reno Oklahoma Tornado Nearly Runs Over ... - http://t.co/3SICroAaNz http://t.co/I27Oa0HISp      \n",
       "7603  Two giant cranes holding a bridge collapse into nearby homes http://t.co/STfMbbZFB5                                                         \n",
       "7604  @aria_ahrary @TheTawniest The out of control wild fires in California even in the Northern part of the state. Very troubling.               \n",
       "7605  M1.94 [01:04 UTC]?5km S of Volcano Hawaii. http://t.co/zDtoyd8EbJ                                                                           \n",
       "7606  Police investigating after an e-bike collided with a car in Little Portugal. E-bike rider suffered serious non-life threatening injuries.   \n",
       "7607  The Latest: More Homes Razed by Northern California Wildfire - ABC News http://t.co/YmY4rSkQ3d                                              \n",
       "\n",
       "      target  \\\n",
       "7593  1        \n",
       "7594  1        \n",
       "7595  1        \n",
       "7596  1        \n",
       "7597  1        \n",
       "7598  1        \n",
       "7599  1        \n",
       "7600  1        \n",
       "7601  1        \n",
       "7602  1        \n",
       "7603  1        \n",
       "7604  1        \n",
       "7605  1        \n",
       "7606  1        \n",
       "7607  1        \n",
       "\n",
       "                                                                                                    Clean Tweets  \n",
       "7593  father three lose control car overtake collide                                                              \n",
       "7594  earthquake km ssw  california  user download earthquake  information                                        \n",
       "7595  evacuation order lift town roosevelt                                                                        \n",
       "7596  break la  oil spill may costlier big project                                                                \n",
       "7597  siren go not  tornado warning                                                                               \n",
       "7598  official say quarantine place alabama home possible ebola case develop symptom                              \n",
       "7599   fall  g link tram update fire crew evacuate passenger                                                      \n",
       "7600  flip side I  bomb  evacuate stay tune I blow not                                                            \n",
       "7601  suicide bomber kill saudi security site mosque   world google news wall                                     \n",
       "7602   violent record break  el reno oklahoma tornado nearly run                                                  \n",
       "7603  two giant crane hold bridge collapse nearby home                                                            \n",
       "7604    control wild fire california even northern part state troubling                                           \n",
       "7605  [ utc ] km volcano hawaii                                                                                   \n",
       "7606  police investigate e bike collide car little portugal e bike rider suffer serious non life threaten injury  \n",
       "7607  late home raze northern california wildfire abc news                                                        "
      ]
     },
     "execution_count": 5,
     "metadata": {},
     "output_type": "execute_result"
    }
   ],
   "source": [
    "#Take a look at the last few rows of the data\n",
    "pd.set_option('display.max_colwidth', 2)\n",
    "tweets.tail(n=15)"
   ]
  },
  {
   "cell_type": "markdown",
   "id": "873afa0f",
   "metadata": {},
   "source": [
    "# Split the Data intro Training and Validation Sets"
   ]
  },
  {
   "cell_type": "code",
   "execution_count": 6,
   "id": "067e59a0",
   "metadata": {},
   "outputs": [],
   "source": [
    "train_corpus, val_corpus, y_train, y_val = train_test_split(tweets[\"Clean Tweets\"], np.array(tweets[\"target\"]), \n",
    "                                                  test_size=.15, random_state=42, stratify=np.array(tweets[\"target\"]))"
   ]
  },
  {
   "cell_type": "markdown",
   "id": "ac14ad17",
   "metadata": {},
   "source": [
    "### Function to prepare the dense word embeddings"
   ]
  },
  {
   "cell_type": "code",
   "execution_count": 7,
   "id": "8a0994fc",
   "metadata": {},
   "outputs": [],
   "source": [
    "def document_vectorizer(corpus, model, num_features):\n",
    "    \"\"\"\n",
    "    This averages all the word embeddings in the tweet. \n",
    "    This function averages all the word embeddings in the tweet.\n",
    "    \n",
    "    corpus: String text corpus\n",
    "    Model: Model to use\n",
    "    num_features: Int, the number of features to use\n",
    "    \n",
    "    \"\"\"\n",
    "    vocabulary = set(model.wv.index_to_key)\n",
    "    \n",
    "    def average_word_vectors(words, model, vocabulary, num_features):\n",
    "        feature_vector = np.zeros((num_features,), dtype=\"float64\")\n",
    "        nwords = 0.\n",
    "        \n",
    "        for word in words:\n",
    "            if word in vocabulary:\n",
    "                nwords += 1\n",
    "                feature_vector = np.add(feature_vector, model.wv[word])\n",
    "        if nwords:\n",
    "            feature_vector = np.divide(feature_vector, nwords)\n",
    "            \n",
    "        return feature_vector\n",
    "    \n",
    "    features = [average_word_vectors(tokenized_sentence, model, vocabulary, num_features)\n",
    "                for tokenized_sentence in corpus]\n",
    "    \n",
    "    return np.array(features)"
   ]
  },
  {
   "cell_type": "code",
   "execution_count": 8,
   "id": "20dcedbb",
   "metadata": {},
   "outputs": [],
   "source": [
    "#Tokenize the training and validation set\n",
    "tokenizer = ToktokTokenizer()\n",
    "tokenized_train = [tokenizer.tokenize(text) for text in train_corpus]\n",
    "tokenized_val = [tokenizer.tokenize(text) for text in val_corpus]"
   ]
  },
  {
   "cell_type": "code",
   "execution_count": 9,
   "id": "952d371b",
   "metadata": {},
   "outputs": [],
   "source": [
    "#Number of features to use\n",
    "w2v_num_features = 300\n",
    "#Create the Word2Vec model\n",
    "w2v_model = gensim.models.Word2Vec(tokenized_train, vector_size=w2v_num_features,\n",
    "                                   window = 250, epochs=100, min_count=0, sample=1e-3,\n",
    "                                   sg=1, workers=10)\n",
    "#Creat the training data\n",
    "X_train = document_vectorizer(corpus=train_corpus, model=w2v_model, \n",
    "                                            num_features=w2v_num_features)\n",
    "\n",
    "#Create the validation data\n",
    "X_val = document_vectorizer(corpus=val_corpus, model=w2v_model, \n",
    "                                            num_features=w2v_num_features)"
   ]
  },
  {
   "cell_type": "code",
   "execution_count": 10,
   "id": "22865d19",
   "metadata": {},
   "outputs": [
    {
     "name": "stdout",
     "output_type": "stream",
     "text": [
      "(6466, 300)\n",
      "(1142, 300)\n",
      "(6466,)\n",
      "(1142,)\n"
     ]
    }
   ],
   "source": [
    "#Check the shapes\n",
    "print(X_train.shape)\n",
    "print(X_val.shape)\n",
    "print(y_train.shape)\n",
    "print(y_val.shape)"
   ]
  },
  {
   "cell_type": "markdown",
   "id": "a68111c6",
   "metadata": {},
   "source": [
    "# Baseline Scores"
   ]
  },
  {
   "cell_type": "markdown",
   "id": "c0df3ecc",
   "metadata": {},
   "source": [
    "### Logistic Regression"
   ]
  },
  {
   "cell_type": "code",
   "execution_count": 38,
   "id": "bcfb3028",
   "metadata": {},
   "outputs": [],
   "source": [
    "lr_clf = LogisticRegression(max_iter=10000)"
   ]
  },
  {
   "cell_type": "code",
   "execution_count": 45,
   "id": "a07554af",
   "metadata": {},
   "outputs": [
    {
     "name": "stdout",
     "output_type": "stream",
     "text": [
      "Logistic Regression Baseline Accuracy: 60.16\n",
      "Logistic Regression Baseline F1-Score: 45.10\n",
      "Wall time: 3.34 s\n"
     ]
    }
   ],
   "source": [
    "%%time\n",
    "y_train_pred = cross_val_predict(lr_clf, X_train, y_train, cv = 5)\n",
    "lr_base_acc = accuracy_score(y_train, y_train_pred) * 100\n",
    "lr_base_f1 = f1_score(y_train, y_train_pred) * 100\n",
    "print(f\"Logistic Regression Baseline Accuracy: {lr_base_acc:.2f}\")\n",
    "print(f\"Logistic Regression Baseline F1-Score: {lr_base_f1:.2f}\")"
   ]
  },
  {
   "cell_type": "code",
   "execution_count": 40,
   "id": "39859b49",
   "metadata": {},
   "outputs": [
    {
     "data": {
      "text/plain": [
       "array([[2842,  844],\n",
       "       [1719, 1061]], dtype=int64)"
      ]
     },
     "execution_count": 40,
     "metadata": {},
     "output_type": "execute_result"
    }
   ],
   "source": [
    "confusion_matrix(y_train, y_train_pred)"
   ]
  },
  {
   "cell_type": "markdown",
   "id": "739520af",
   "metadata": {},
   "source": [
    "### Naive Bayes"
   ]
  },
  {
   "cell_type": "code",
   "execution_count": 42,
   "id": "7b1462de",
   "metadata": {},
   "outputs": [],
   "source": [
    "nb_clf = GaussianNB()"
   ]
  },
  {
   "cell_type": "code",
   "execution_count": 46,
   "id": "3be18d6b",
   "metadata": {},
   "outputs": [
    {
     "name": "stdout",
     "output_type": "stream",
     "text": [
      "Naive Bayes Baseline Accuracy: 57.72\n",
      "Naive Bayes Baseline F1-Score: 60.88\n",
      "Wall time: 367 ms\n"
     ]
    }
   ],
   "source": [
    "%%time\n",
    "y_train_pred = cross_val_predict(nb_clf, X_train, y_train, cv = 5)\n",
    "nb_base_acc = accuracy_score(y_train, y_train_pred) * 100\n",
    "nb_base_f1 = f1_score(y_train, y_train_pred) * 100\n",
    "print(f\"Naive Bayes Baseline Accuracy: {nb_base_acc:.2f}\")\n",
    "print(f\"Naive Bayes Baseline F1-Score: {nb_base_f1:.2f}\")"
   ]
  },
  {
   "cell_type": "code",
   "execution_count": 47,
   "id": "91e3b633",
   "metadata": {},
   "outputs": [
    {
     "data": {
      "text/plain": [
       "array([[1605, 2081],\n",
       "       [ 653, 2127]], dtype=int64)"
      ]
     },
     "execution_count": 47,
     "metadata": {},
     "output_type": "execute_result"
    }
   ],
   "source": [
    "confusion_matrix(y_train, y_train_pred)"
   ]
  },
  {
   "cell_type": "markdown",
   "id": "603dfff5",
   "metadata": {},
   "source": [
    "### Random Forest"
   ]
  },
  {
   "cell_type": "code",
   "execution_count": 48,
   "id": "a44b1c35",
   "metadata": {},
   "outputs": [],
   "source": [
    "rf_clf = RandomForestClassifier()"
   ]
  },
  {
   "cell_type": "code",
   "execution_count": 49,
   "id": "1e748478",
   "metadata": {},
   "outputs": [
    {
     "name": "stdout",
     "output_type": "stream",
     "text": [
      "Random Forest Baseline Accuracy: 68.82\n",
      "Random Forest Baseline F1-Score: 58.47\n",
      "Wall time: 46.2 s\n"
     ]
    }
   ],
   "source": [
    "%%time\n",
    "y_train_pred = cross_val_predict(rf_clf, X_train, y_train, cv = 5)\n",
    "rf_base_acc = accuracy_score(y_train, y_train_pred) * 100\n",
    "rf_base_f1 = f1_score(y_train, y_train_pred) * 100\n",
    "print(f\"Random Forest Baseline Accuracy: {rf_base_acc:.2f}\")\n",
    "print(f\"Random Forest Baseline F1-Score: {rf_base_f1:.2f}\")"
   ]
  },
  {
   "cell_type": "code",
   "execution_count": 50,
   "id": "8fd9b1f3",
   "metadata": {},
   "outputs": [
    {
     "data": {
      "text/plain": [
       "array([[3031,  655],\n",
       "       [1361, 1419]], dtype=int64)"
      ]
     },
     "execution_count": 50,
     "metadata": {},
     "output_type": "execute_result"
    }
   ],
   "source": [
    "confusion_matrix(y_train, y_train_pred)"
   ]
  },
  {
   "cell_type": "markdown",
   "id": "9360bb28",
   "metadata": {},
   "source": [
    "### XGBoost"
   ]
  },
  {
   "cell_type": "code",
   "execution_count": 52,
   "id": "7a73d109",
   "metadata": {},
   "outputs": [],
   "source": [
    "xgb_clf = xgboost.XGBClassifier(use_label_encoder=False, objective = \"binary:logistic\")"
   ]
  },
  {
   "cell_type": "code",
   "execution_count": 53,
   "id": "7ee05f69",
   "metadata": {},
   "outputs": [
    {
     "name": "stdout",
     "output_type": "stream",
     "text": [
      "[21:20:38] WARNING: C:/Users/Administrator/workspace/xgboost-win64_release_1.5.1/src/learner.cc:1115: Starting in XGBoost 1.3.0, the default evaluation metric used with the objective 'binary:logistic' was changed from 'error' to 'logloss'. Explicitly set eval_metric if you'd like to restore the old behavior.\n",
      "[21:20:48] WARNING: C:/Users/Administrator/workspace/xgboost-win64_release_1.5.1/src/learner.cc:1115: Starting in XGBoost 1.3.0, the default evaluation metric used with the objective 'binary:logistic' was changed from 'error' to 'logloss'. Explicitly set eval_metric if you'd like to restore the old behavior.\n",
      "[21:20:59] WARNING: C:/Users/Administrator/workspace/xgboost-win64_release_1.5.1/src/learner.cc:1115: Starting in XGBoost 1.3.0, the default evaluation metric used with the objective 'binary:logistic' was changed from 'error' to 'logloss'. Explicitly set eval_metric if you'd like to restore the old behavior.\n",
      "[21:21:10] WARNING: C:/Users/Administrator/workspace/xgboost-win64_release_1.5.1/src/learner.cc:1115: Starting in XGBoost 1.3.0, the default evaluation metric used with the objective 'binary:logistic' was changed from 'error' to 'logloss'. Explicitly set eval_metric if you'd like to restore the old behavior.\n",
      "[21:21:23] WARNING: C:/Users/Administrator/workspace/xgboost-win64_release_1.5.1/src/learner.cc:1115: Starting in XGBoost 1.3.0, the default evaluation metric used with the objective 'binary:logistic' was changed from 'error' to 'logloss'. Explicitly set eval_metric if you'd like to restore the old behavior.\n",
      "XGBoost Baseline Accuracy: 66.73\n",
      "XGBoost Baseline F1-Score: 59.21\n",
      "Wall time: 56.9 s\n"
     ]
    }
   ],
   "source": [
    "%%time\n",
    "y_train_pred = cross_val_predict(xgb_clf, X_train, y_train, cv = 5)\n",
    "xgb_base_acc = accuracy_score(y_train, y_train_pred) * 100\n",
    "xgb_base_f1 = f1_score(y_train, y_train_pred) * 100\n",
    "print(f\"\\nXGBoost Baseline Accuracy: {xgb_base_acc:.2f}\")\n",
    "print(f\"XGBoost Baseline F1-Score: {xgb_base_f1:.2f}\")"
   ]
  },
  {
   "cell_type": "code",
   "execution_count": 54,
   "id": "3547670f",
   "metadata": {},
   "outputs": [
    {
     "data": {
      "text/plain": [
       "array([[2754,  932],\n",
       "       [1219, 1561]], dtype=int64)"
      ]
     },
     "execution_count": 54,
     "metadata": {},
     "output_type": "execute_result"
    }
   ],
   "source": [
    "confusion_matrix(y_train, y_train_pred)"
   ]
  },
  {
   "cell_type": "markdown",
   "id": "4012e4ca",
   "metadata": {},
   "source": [
    "### Deep Learning"
   ]
  },
  {
   "cell_type": "code",
   "execution_count": 89,
   "id": "b20bb294",
   "metadata": {},
   "outputs": [],
   "source": [
    "input_ = keras.layers.Input(X_train.shape[1:])\n",
    "hidden1 = keras.layers.Dense(25, activation = \"relu\")(input_)\n",
    "hidden2 = keras.layers.Dense(25, activation = \"relu\")(hidden1)\n",
    "output = keras.layers.Dense(1, activation=\"sigmoid\")(hidden2)\n",
    "baseline_model = keras.Model(inputs=input_, outputs = output)\n",
    "baseline_model.compile(loss = \"binary_crossentropy\", optimizer=\"adam\", metrics = [\"accuracy\"])"
   ]
  },
  {
   "cell_type": "code",
   "execution_count": 90,
   "id": "9fdf3213",
   "metadata": {},
   "outputs": [
    {
     "name": "stdout",
     "output_type": "stream",
     "text": [
      "Model: \"model_6\"\n",
      "_________________________________________________________________\n",
      "Layer (type)                 Output Shape              Param #   \n",
      "=================================================================\n",
      "input_9 (InputLayer)         [(None, 300)]             0         \n",
      "_________________________________________________________________\n",
      "dense_84 (Dense)             (None, 25)                7525      \n",
      "_________________________________________________________________\n",
      "dense_85 (Dense)             (None, 25)                650       \n",
      "_________________________________________________________________\n",
      "dense_86 (Dense)             (None, 1)                 26        \n",
      "=================================================================\n",
      "Total params: 8,201\n",
      "Trainable params: 8,201\n",
      "Non-trainable params: 0\n",
      "_________________________________________________________________\n",
      "None\n"
     ]
    }
   ],
   "source": [
    "#Model architecture\n",
    "print(baseline_model.summary())"
   ]
  },
  {
   "cell_type": "code",
   "execution_count": 91,
   "id": "4fe271d5",
   "metadata": {},
   "outputs": [
    {
     "name": "stdout",
     "output_type": "stream",
     "text": [
      "Restoring model weights from the end of the best epoch.\n",
      "Epoch 00070: early stopping\n",
      "Wall time: 14.5 s\n"
     ]
    }
   ],
   "source": [
    "%%time\n",
    "early = keras.callbacks.EarlyStopping(monitor='val_loss', mode='min', verbose=1, patience = 20, restore_best_weights=True)\n",
    "\n",
    "history = baseline_model.fit(X_train, y_train, validation_split=.2, epochs=100, batch_size=32, verbose=0, callbacks = [early])"
   ]
  },
  {
   "cell_type": "code",
   "execution_count": 92,
   "id": "554d738d",
   "metadata": {},
   "outputs": [
    {
     "data": {
      "image/png": "[encoded data removed]",
      "text/plain": [
       "<Figure size 864x576 with 1 Axes>"
      ]
     },
     "metadata": {
      "needs_background": "light"
     },
     "output_type": "display_data"
    }
   ],
   "source": [
    "plt.figure(figsize = (12,8))\n",
    "plt.plot(history.history['loss'], label='train')\n",
    "plt.plot(history.history['val_loss'], label='val')\n",
    "plt.grid(True)\n",
    "plt.xlabel(\"Epoch\")\n",
    "plt.ylabel(\"Loss\")\n",
    "plt.title(\"Train and Validation Loss During Training with Early Stoppping\")\n",
    "plt.legend()\n",
    "plt.show()"
   ]
  },
  {
   "cell_type": "code",
   "execution_count": 93,
   "id": "8a9fe3e0",
   "metadata": {},
   "outputs": [
    {
     "name": "stdout",
     "output_type": "stream",
     "text": [
      "Model Baseline Accuracy Score: 66.46%\n",
      "Model Baseline F1-Score: 56.23%\n"
     ]
    }
   ],
   "source": [
    "#Baseline Accuracy and F1 Scores\n",
    "y_pred = baseline_model.predict(X_val)\n",
    "#Change the prediction to form expected for accuracy and f1-score functions\n",
    "y_pred = np.round(y_pred.reshape((y_pred.shape[0])))\n",
    "#Change the validation targets \n",
    "y_val = y_val.astype(np.int)\n",
    "model_base_acc = np.round(accuracy_score(y_pred, y_val), 4) * 100\n",
    "model_base_f1 = np.round(f1_score(y_pred, y_val), 4) * 100\n",
    "print(f\"Model Baseline Accuracy Score: {model_base_acc:.2f}%\")\n",
    "print(f\"Model Baseline F1-Score: {model_base_f1:.2f}%\")"
   ]
  },
  {
   "cell_type": "code",
   "execution_count": 94,
   "id": "8c6e1342",
   "metadata": {},
   "outputs": [
    {
     "data": {
      "text/plain": [
       "array([[513, 245],\n",
       "       [138, 246]], dtype=int64)"
      ]
     },
     "execution_count": 94,
     "metadata": {},
     "output_type": "execute_result"
    }
   ],
   "source": [
    "#Confusion matrix\n",
    "confusion_matrix(y_pred, y_val)"
   ]
  },
  {
   "cell_type": "markdown",
   "id": "d478313a",
   "metadata": {},
   "source": [
    "# Hyperparameter Tuning"
   ]
  },
  {
   "cell_type": "markdown",
   "id": "6ed4e2ab",
   "metadata": {},
   "source": [
    "### Logistic Regression"
   ]
  },
  {
   "cell_type": "code",
   "execution_count": 16,
   "id": "14c6b3e0",
   "metadata": {},
   "outputs": [
    {
     "name": "stdout",
     "output_type": "stream",
     "text": [
      "{'C': 19.189918991899187}\n",
      "0.46437162331959575\n",
      "Wall time: 34 s\n"
     ]
    }
   ],
   "source": [
    "%%time\n",
    "#Randomly search through the hyperparameter space\n",
    "param_distribs = {\n",
    "    \"C\" : np.linspace(0, 30, 10000),\n",
    "    }\n",
    "lr_clf = LogisticRegression(penalty = \"l2\", solver = \"lbfgs\", max_iter=10000)\n",
    "\n",
    "lr_rnd_search_cv = RandomizedSearchCV(lr_clf, param_distribs, n_iter = 50,\n",
    "                                   cv=2 ,scoring = 'f1', random_state=42, n_jobs = -1)\n",
    "\n",
    "lr_rnd_search_cv.fit(X_train, y_train)\n",
    "\n",
    "print(lr_rnd_search_cv.best_params_)\n",
    "print(lr_rnd_search_cv.best_score_)"
   ]
  },
  {
   "cell_type": "code",
   "execution_count": 17,
   "id": "b27a7a8a",
   "metadata": {},
   "outputs": [
    {
     "data": {
      "text/html": [
       "<div>\n",
       "<style scoped>\n",
       "    .dataframe tbody tr th:only-of-type {\n",
       "        vertical-align: middle;\n",
       "    }\n",
       "\n",
       "    .dataframe tbody tr th {\n",
       "        vertical-align: top;\n",
       "    }\n",
       "\n",
       "    .dataframe thead th {\n",
       "        text-align: right;\n",
       "    }\n",
       "</style>\n",
       "<table border=\"1\" class=\"dataframe\">\n",
       "  <thead>\n",
       "    <tr style=\"text-align: right;\">\n",
       "      <th></th>\n",
       "      <th>param_C</th>\n",
       "      <th>mean_test_score</th>\n",
       "    </tr>\n",
       "  </thead>\n",
       "  <tbody>\n",
       "    <tr>\n",
       "      <th>20</th>\n",
       "      <td>19.189919</td>\n",
       "      <td>0.464372</td>\n",
       "    </tr>\n",
       "    <tr>\n",
       "      <th>8</th>\n",
       "      <td>16.735674</td>\n",
       "      <td>0.464276</td>\n",
       "    </tr>\n",
       "    <tr>\n",
       "      <th>34</th>\n",
       "      <td>23.20432</td>\n",
       "      <td>0.464181</td>\n",
       "    </tr>\n",
       "    <tr>\n",
       "      <th>43</th>\n",
       "      <td>22.541254</td>\n",
       "      <td>0.464181</td>\n",
       "    </tr>\n",
       "    <tr>\n",
       "      <th>0</th>\n",
       "      <td>21.812181</td>\n",
       "      <td>0.464086</td>\n",
       "    </tr>\n",
       "  </tbody>\n",
       "</table>\n",
       "</div>"
      ],
      "text/plain": [
       "      param_C  mean_test_score\n",
       "20  19.189919  0.464372       \n",
       "8   16.735674  0.464276       \n",
       "34  23.20432   0.464181       \n",
       "43  22.541254  0.464181       \n",
       "0   21.812181  0.464086       "
      ]
     },
     "execution_count": 17,
     "metadata": {},
     "output_type": "execute_result"
    }
   ],
   "source": [
    "#Save the results in a dataframe\n",
    "lr_rnd_search_df = pd.DataFrame(lr_rnd_search_cv.cv_results_)\n",
    "#Rank the results by score\n",
    "lr_rnd_search_df[[\"param_C\", \"mean_test_score\"]].sort_values(by = \"mean_test_score\", ascending = False).head()"
   ]
  },
  {
   "cell_type": "markdown",
   "id": "f1edadbf",
   "metadata": {},
   "source": [
    "### Random Forest"
   ]
  },
  {
   "cell_type": "code",
   "execution_count": 24,
   "id": "c8f69f93",
   "metadata": {},
   "outputs": [
    {
     "name": "stdout",
     "output_type": "stream",
     "text": [
      "{'n_estimators': 147}\n",
      "0.5651394614567966\n",
      "Wall time: 16min 28s\n"
     ]
    }
   ],
   "source": [
    "%%time\n",
    "#Randomly search through the hyperparameter space\n",
    "param_distribs = {\n",
    "    \"n_estimators\": np.arange(50, 300)\n",
    "    }\n",
    "rf_clf = RandomForestClassifier()\n",
    "\n",
    "rf_rnd_search_cv = RandomizedSearchCV(rf_clf, param_distribs, n_iter = 30,\n",
    "                                   cv=2 ,scoring = 'f1', random_state=42)\n",
    "\n",
    "rf_rnd_search_cv.fit(X_train, y_train)\n",
    "\n",
    "print(rf_rnd_search_cv.best_params_)\n",
    "print(rf_rnd_search_cv.best_score_)"
   ]
  },
  {
   "cell_type": "code",
   "execution_count": 25,
   "id": "a6b77c90",
   "metadata": {},
   "outputs": [
    {
     "data": {
      "text/html": [
       "<div>\n",
       "<style scoped>\n",
       "    .dataframe tbody tr th:only-of-type {\n",
       "        vertical-align: middle;\n",
       "    }\n",
       "\n",
       "    .dataframe tbody tr th {\n",
       "        vertical-align: top;\n",
       "    }\n",
       "\n",
       "    .dataframe thead th {\n",
       "        text-align: right;\n",
       "    }\n",
       "</style>\n",
       "<table border=\"1\" class=\"dataframe\">\n",
       "  <thead>\n",
       "    <tr style=\"text-align: right;\">\n",
       "      <th></th>\n",
       "      <th>param_n_estimators</th>\n",
       "      <th>mean_test_score</th>\n",
       "    </tr>\n",
       "  </thead>\n",
       "  <tbody>\n",
       "    <tr>\n",
       "      <th>2</th>\n",
       "      <td>147</td>\n",
       "      <td>0.565139</td>\n",
       "    </tr>\n",
       "    <tr>\n",
       "      <th>3</th>\n",
       "      <td>110</td>\n",
       "      <td>0.564364</td>\n",
       "    </tr>\n",
       "    <tr>\n",
       "      <th>26</th>\n",
       "      <td>105</td>\n",
       "      <td>0.562870</td>\n",
       "    </tr>\n",
       "    <tr>\n",
       "      <th>11</th>\n",
       "      <td>266</td>\n",
       "      <td>0.560511</td>\n",
       "    </tr>\n",
       "    <tr>\n",
       "      <th>9</th>\n",
       "      <td>154</td>\n",
       "      <td>0.560488</td>\n",
       "    </tr>\n",
       "  </tbody>\n",
       "</table>\n",
       "</div>"
      ],
      "text/plain": [
       "   param_n_estimators  mean_test_score\n",
       "2   147                0.565139       \n",
       "3   110                0.564364       \n",
       "26  105                0.562870       \n",
       "11  266                0.560511       \n",
       "9   154                0.560488       "
      ]
     },
     "execution_count": 25,
     "metadata": {},
     "output_type": "execute_result"
    }
   ],
   "source": [
    "#Save the results\n",
    "rf_rnd_search_df = pd.DataFrame(rf_rnd_search_cv.cv_results_)\n",
    "tuned_params = [\"param_n_estimators\", \"mean_test_score\"]\n",
    "#Rank by score\n",
    "rf_rnd_search_df[tuned_params].sort_values(by = \"mean_test_score\", ascending = False).head()"
   ]
  },
  {
   "cell_type": "markdown",
   "id": "8fa51ae6",
   "metadata": {},
   "source": [
    "### XGBoost"
   ]
  },
  {
   "cell_type": "code",
   "execution_count": 34,
   "id": "5578b0da",
   "metadata": {},
   "outputs": [],
   "source": [
    "#Randomly search through the hyperparameter space\n",
    "param_distribs = {\n",
    "    \"max_depth\": [2,3,4,5,6,7],\n",
    "    \"gamma\": uniform(loc = 0.0, scale = 3),\n",
    "    \"min_child_weight\": list(range(20,51)),\n",
    "    \"colsample_bytree\": uniform(loc = 0.1, scale = 0.9),\n",
    "    \"learning_rate\": uniform(loc = 0.01, scale = 0.5),\n",
    "    \"subsample\": uniform(loc = 0.5, scale = 0.5),\n",
    "    \"reg_lambda\": uniform(loc = 0.01, scale = 3)\n",
    "    }\n",
    "rng = np.random.RandomState(42)\n",
    "n_iter = 100\n",
    "param_list = list(ParameterSampler(param_distribs, n_iter = n_iter, random_state=rng))"
   ]
  },
  {
   "cell_type": "code",
   "execution_count": 35,
   "id": "3c97f720",
   "metadata": {},
   "outputs": [
    {
     "name": "stdout",
     "output_type": "stream",
     "text": [
      "Done with 10 of 100\n",
      "Done with 20 of 100\n",
      "Done with 30 of 100\n",
      "Done with 40 of 100\n",
      "Done with 50 of 100\n",
      "Done with 60 of 100\n",
      "Done with 70 of 100\n",
      "Done with 80 of 100\n",
      "Done with 90 of 100\n",
      "Done with 100 of 100\n",
      "Wall time: 14min 46s\n"
     ]
    }
   ],
   "source": [
    "%%time\n",
    "#Create an evaluation set\n",
    "eval_set = [(X_train, y_train), (X_val, y_val)]\n",
    "val_f1_score = []\n",
    "n_est = []\n",
    "counter = 1\n",
    "xgb_cf = xgboost.XGBClassifier(n_estimators = 1000, use_label_encoder=False, objective = \"binary:logistic\")\n",
    "\n",
    "for params in param_list:\n",
    "    xgb_cf.set_params(**params)\n",
    "    xgb_cf.fit(X_train, y_train, eval_set=eval_set, eval_metric = \"auc\", verbose = False, early_stopping_rounds = 30)\n",
    "    val_set_preds = xgb_cf.predict(X_val)\n",
    "    val_f1_score.append(f1_score(y_val, val_set_preds))\n",
    "    n_est.append(int(xgb_cf.get_booster().attributes()[\"best_ntree_limit\"]))\n",
    "    if counter % 10 == 0:\n",
    "        print(f'Done with {counter} of {n_iter}')\n",
    "    counter += 1"
   ]
  },
  {
   "cell_type": "code",
   "execution_count": 36,
   "id": "77a6b7fa",
   "metadata": {},
   "outputs": [
    {
     "data": {
      "text/html": [
       "<div>\n",
       "<style scoped>\n",
       "    .dataframe tbody tr th:only-of-type {\n",
       "        vertical-align: middle;\n",
       "    }\n",
       "\n",
       "    .dataframe tbody tr th {\n",
       "        vertical-align: top;\n",
       "    }\n",
       "\n",
       "    .dataframe thead th {\n",
       "        text-align: right;\n",
       "    }\n",
       "</style>\n",
       "<table border=\"1\" class=\"dataframe\">\n",
       "  <thead>\n",
       "    <tr style=\"text-align: right;\">\n",
       "      <th></th>\n",
       "      <th>colsample_bytree</th>\n",
       "      <th>gamma</th>\n",
       "      <th>learning_rate</th>\n",
       "      <th>max_depth</th>\n",
       "      <th>min_child_weight</th>\n",
       "      <th>reg_lambda</th>\n",
       "      <th>subsample</th>\n",
       "      <th>Validation F1-Score</th>\n",
       "      <th>N Estimators</th>\n",
       "    </tr>\n",
       "  </thead>\n",
       "  <tbody>\n",
       "    <tr>\n",
       "      <th>58</th>\n",
       "      <td>0.678959</td>\n",
       "      <td>1.374759</td>\n",
       "      <td>0.282808</td>\n",
       "      <td>6</td>\n",
       "      <td>31</td>\n",
       "      <td>1.168308</td>\n",
       "      <td>0.980595</td>\n",
       "      <td>0.620690</td>\n",
       "      <td>60</td>\n",
       "    </tr>\n",
       "    <tr>\n",
       "      <th>59</th>\n",
       "      <td>0.914816</td>\n",
       "      <td>0.587373</td>\n",
       "      <td>0.044681</td>\n",
       "      <td>7</td>\n",
       "      <td>21</td>\n",
       "      <td>0.126889</td>\n",
       "      <td>0.809127</td>\n",
       "      <td>0.619256</td>\n",
       "      <td>112</td>\n",
       "    </tr>\n",
       "    <tr>\n",
       "      <th>35</th>\n",
       "      <td>0.544504</td>\n",
       "      <td>0.536468</td>\n",
       "      <td>0.193234</td>\n",
       "      <td>4</td>\n",
       "      <td>36</td>\n",
       "      <td>0.934182</td>\n",
       "      <td>0.771270</td>\n",
       "      <td>0.618997</td>\n",
       "      <td>137</td>\n",
       "    </tr>\n",
       "    <tr>\n",
       "      <th>70</th>\n",
       "      <td>0.456986</td>\n",
       "      <td>2.675691</td>\n",
       "      <td>0.083302</td>\n",
       "      <td>6</td>\n",
       "      <td>24</td>\n",
       "      <td>0.709684</td>\n",
       "      <td>0.790653</td>\n",
       "      <td>0.617420</td>\n",
       "      <td>94</td>\n",
       "    </tr>\n",
       "    <tr>\n",
       "      <th>15</th>\n",
       "      <td>0.864022</td>\n",
       "      <td>2.165189</td>\n",
       "      <td>0.127992</td>\n",
       "      <td>7</td>\n",
       "      <td>26</td>\n",
       "      <td>0.131301</td>\n",
       "      <td>0.855331</td>\n",
       "      <td>0.615385</td>\n",
       "      <td>45</td>\n",
       "    </tr>\n",
       "  </tbody>\n",
       "</table>\n",
       "</div>"
      ],
      "text/plain": [
       "    colsample_bytree     gamma  learning_rate  max_depth  min_child_weight  \\\n",
       "58  0.678959          1.374759  0.282808       6          31                 \n",
       "59  0.914816          0.587373  0.044681       7          21                 \n",
       "35  0.544504          0.536468  0.193234       4          36                 \n",
       "70  0.456986          2.675691  0.083302       6          24                 \n",
       "15  0.864022          2.165189  0.127992       7          26                 \n",
       "\n",
       "    reg_lambda  subsample  Validation F1-Score  N Estimators  \n",
       "58  1.168308    0.980595   0.620690             60            \n",
       "59  0.126889    0.809127   0.619256             112           \n",
       "35  0.934182    0.771270   0.618997             137           \n",
       "70  0.709684    0.790653   0.617420             94            \n",
       "15  0.131301    0.855331   0.615385             45            "
      ]
     },
     "execution_count": 36,
     "metadata": {},
     "output_type": "execute_result"
    }
   ],
   "source": [
    "#Save the results\n",
    "xgb_param_search_df = pd.DataFrame(param_list)\n",
    "xgb_param_search_df[\"Validation F1-Score\"] = val_f1_score\n",
    "xgb_param_search_df[\"N Estimators\"] = n_est\n",
    "#Rank by score\n",
    "xgb_param_search_df.sort_values(by=\"Validation F1-Score\", ascending = False).head()"
   ]
  },
  {
   "cell_type": "markdown",
   "id": "aebbee68",
   "metadata": {},
   "source": [
    "### Deep Learning"
   ]
  },
  {
   "cell_type": "code",
   "execution_count": 45,
   "id": "051bb89e",
   "metadata": {},
   "outputs": [],
   "source": [
    "def build_model(n_hidden=1, n_neurons=5, lr_rate=3e-2, activation = \"relu\",\n",
    "                drop_rate=.2, kernel = True, kernel_initializer = \"he_normal\", optimizer=\"Adam\", \n",
    "                momentum = .9, nesterov = False):\n",
    "    \"\"\"\n",
    "    This function creates a deep learning model with default parameters. This function is used to tune the hyperparameters. \n",
    "    \n",
    "    returns: functional style keras model\n",
    "    \n",
    "    \"\"\"\n",
    "    input_ = keras.layers.Input(X_train.shape[1:])\n",
    "    \n",
    "    for layer in range(n_hidden):\n",
    "        if layer == 0:\n",
    "            hidden = keras.layers.Dense(n_neurons, activation = activation, kernel_initializer=kernel_initializer)(input_)\n",
    "            hidden = keras.layers.Dropout(rate = drop_rate)(hidden)\n",
    "                \n",
    "        else:       \n",
    "            hidden = keras.layers.Dense(n_neurons, activation = activation, kernel_initializer=kernel_initializer)(hidden)\n",
    "            hidden = keras.layers.Dropout(rate = drop_rate)(hidden)\n",
    "    \n",
    "    output = keras.layers.Dense(1, activation = \"sigmoid\")(hidden)    \n",
    "    model = keras.Model(inputs = input_, outputs = output)\n",
    "\n",
    "    if optimizer == \"SGD\":\n",
    "        optimizer = keras.optimizers.SGD(learning_rate=lr_rate, momentum=momentum, nesterov=nesterov)\n",
    "    elif optimizer == \"Adam\":\n",
    "        optimizer = keras.optimizers.Adam(learning_rate=lr_rate)\n",
    "    else:\n",
    "        optimizer = keras.optimizers.RMSprop(learning_rate=lr_rate, momentum = momentum)\n",
    "\n",
    "    model.compile(loss=\"binary_crossentropy\", optimizer=optimizer, metrics = [\"accuracy\"])\n",
    "\n",
    "    return model"
   ]
  },
  {
   "cell_type": "code",
   "execution_count": 49,
   "id": "3809827e",
   "metadata": {},
   "outputs": [],
   "source": [
    "#Grid of hyperparameters to search through\n",
    "param_distribs = {\n",
    "    \"n_hidden\": np.arange(5, 20),\n",
    "    \"n_neurons\": np.arange(50, 100),\n",
    "    \"drop_rate\" : [0.20, 0.225, 0.25, 0.275, 0.30],\n",
    "    \"lr_rate\" : [.005, .0075, 0.09, .01, 0.02, .025, .05, .075, .1 ],\n",
    "    \"activation\": [\"relu\", \"elu\", \"selu\"],\n",
    "    \"kernel_initializer\" : [\"glorot_normal\", \"he_normal\", \"lecun_normal\"],\n",
    "    \"optimizer\" : [\"SGD\", \"Adam\",\"RMSprop\"],\n",
    "    \"momentum\" : [0.95, 0.99, 0.999, 0.9999],\n",
    "    \"nesterov\" : [True, False]\n",
    "    }\n",
    "\n",
    "#Number of models to consider\n",
    "num_models = 100\n",
    "param_list = list(ParameterSampler(param_distribs, n_iter = num_models))"
   ]
  },
  {
   "cell_type": "code",
   "execution_count": 50,
   "id": "cd2eff3f",
   "metadata": {},
   "outputs": [
    {
     "name": "stdout",
     "output_type": "stream",
     "text": [
      "Done with 10 of 100\n",
      "Done with 20 of 100\n",
      "Done with 30 of 100\n",
      "Done with 40 of 100\n",
      "Done with 50 of 100\n",
      "Done with 60 of 100\n",
      "Done with 70 of 100\n",
      "Done with 80 of 100\n",
      "Done with 90 of 100\n",
      "Done with 100 of 100\n",
      "Wall time: 11min 7s\n"
     ]
    }
   ],
   "source": [
    "%%time\n",
    "\n",
    "val_acc_score = []\n",
    "batch = []\n",
    "count = 1\n",
    "early = keras.callbacks.EarlyStopping(monitor='val_loss', mode='min', verbose=0, patience = 5)\n",
    "\n",
    "for params in param_list:\n",
    "    model = build_model(**params)\n",
    "    batch_size = np.random.choice([32, 64])\n",
    "    history = model.fit(X_train, y_train, validation_split=.2, epochs=50, batch_size=batch_size, verbose=0, callbacks = [early])\n",
    "    batch.append(batch_size)\n",
    "    min_val_index = np.argmax(history.history[\"val_accuracy\"])\n",
    "    min_val = history.history[\"val_accuracy\"][min_val_index]\n",
    "    val_acc_score.append(min_val)\n",
    "    if count % 10 == 0:\n",
    "        print(f\"Done with {count} of {num_models}\")\n",
    "    count += 1\n",
    "    "
   ]
  },
  {
   "cell_type": "code",
   "execution_count": 51,
   "id": "37bb52c9",
   "metadata": {},
   "outputs": [
    {
     "data": {
      "text/html": [
       "<div>\n",
       "<style scoped>\n",
       "    .dataframe tbody tr th:only-of-type {\n",
       "        vertical-align: middle;\n",
       "    }\n",
       "\n",
       "    .dataframe tbody tr th {\n",
       "        vertical-align: top;\n",
       "    }\n",
       "\n",
       "    .dataframe thead th {\n",
       "        text-align: right;\n",
       "    }\n",
       "</style>\n",
       "<table border=\"1\" class=\"dataframe\">\n",
       "  <thead>\n",
       "    <tr style=\"text-align: right;\">\n",
       "      <th></th>\n",
       "      <th>optimizer</th>\n",
       "      <th>nesterov</th>\n",
       "      <th>n_neurons</th>\n",
       "      <th>n_hidden</th>\n",
       "      <th>momentum</th>\n",
       "      <th>lr_rate</th>\n",
       "      <th>kernel_initializer</th>\n",
       "      <th>drop_rate</th>\n",
       "      <th>activation</th>\n",
       "      <th>Batch Size</th>\n",
       "      <th>Validation Accuracy</th>\n",
       "    </tr>\n",
       "  </thead>\n",
       "  <tbody>\n",
       "    <tr>\n",
       "      <th>20</th>\n",
       "      <td>Adam</td>\n",
       "      <td>False</td>\n",
       "      <td>50</td>\n",
       "      <td>5</td>\n",
       "      <td>0.990</td>\n",
       "      <td>0.0050</td>\n",
       "      <td>lecun_normal</td>\n",
       "      <td>0.225</td>\n",
       "      <td>elu</td>\n",
       "      <td>64</td>\n",
       "      <td>0.656878</td>\n",
       "    </tr>\n",
       "    <tr>\n",
       "      <th>21</th>\n",
       "      <td>SGD</td>\n",
       "      <td>False</td>\n",
       "      <td>91</td>\n",
       "      <td>8</td>\n",
       "      <td>0.950</td>\n",
       "      <td>0.0075</td>\n",
       "      <td>lecun_normal</td>\n",
       "      <td>0.300</td>\n",
       "      <td>relu</td>\n",
       "      <td>32</td>\n",
       "      <td>0.642195</td>\n",
       "    </tr>\n",
       "    <tr>\n",
       "      <th>18</th>\n",
       "      <td>Adam</td>\n",
       "      <td>False</td>\n",
       "      <td>73</td>\n",
       "      <td>7</td>\n",
       "      <td>0.990</td>\n",
       "      <td>0.0075</td>\n",
       "      <td>glorot_normal</td>\n",
       "      <td>0.225</td>\n",
       "      <td>selu</td>\n",
       "      <td>64</td>\n",
       "      <td>0.641422</td>\n",
       "    </tr>\n",
       "    <tr>\n",
       "      <th>33</th>\n",
       "      <td>Adam</td>\n",
       "      <td>False</td>\n",
       "      <td>87</td>\n",
       "      <td>6</td>\n",
       "      <td>0.999</td>\n",
       "      <td>0.0075</td>\n",
       "      <td>lecun_normal</td>\n",
       "      <td>0.225</td>\n",
       "      <td>relu</td>\n",
       "      <td>64</td>\n",
       "      <td>0.635240</td>\n",
       "    </tr>\n",
       "    <tr>\n",
       "      <th>37</th>\n",
       "      <td>Adam</td>\n",
       "      <td>False</td>\n",
       "      <td>89</td>\n",
       "      <td>5</td>\n",
       "      <td>0.999</td>\n",
       "      <td>0.0075</td>\n",
       "      <td>glorot_normal</td>\n",
       "      <td>0.225</td>\n",
       "      <td>relu</td>\n",
       "      <td>64</td>\n",
       "      <td>0.632148</td>\n",
       "    </tr>\n",
       "    <tr>\n",
       "      <th>...</th>\n",
       "      <td>...</td>\n",
       "      <td>...</td>\n",
       "      <td>...</td>\n",
       "      <td>...</td>\n",
       "      <td>...</td>\n",
       "      <td>...</td>\n",
       "      <td>...</td>\n",
       "      <td>...</td>\n",
       "      <td>...</td>\n",
       "      <td>...</td>\n",
       "      <td>...</td>\n",
       "    </tr>\n",
       "    <tr>\n",
       "      <th>32</th>\n",
       "      <td>SGD</td>\n",
       "      <td>False</td>\n",
       "      <td>82</td>\n",
       "      <td>15</td>\n",
       "      <td>0.999</td>\n",
       "      <td>0.0500</td>\n",
       "      <td>he_normal</td>\n",
       "      <td>0.300</td>\n",
       "      <td>selu</td>\n",
       "      <td>32</td>\n",
       "      <td>0.566461</td>\n",
       "    </tr>\n",
       "    <tr>\n",
       "      <th>31</th>\n",
       "      <td>Adam</td>\n",
       "      <td>True</td>\n",
       "      <td>61</td>\n",
       "      <td>10</td>\n",
       "      <td>0.990</td>\n",
       "      <td>0.0500</td>\n",
       "      <td>glorot_normal</td>\n",
       "      <td>0.300</td>\n",
       "      <td>selu</td>\n",
       "      <td>32</td>\n",
       "      <td>0.566461</td>\n",
       "    </tr>\n",
       "    <tr>\n",
       "      <th>30</th>\n",
       "      <td>RMSprop</td>\n",
       "      <td>False</td>\n",
       "      <td>85</td>\n",
       "      <td>8</td>\n",
       "      <td>0.990</td>\n",
       "      <td>0.0250</td>\n",
       "      <td>he_normal</td>\n",
       "      <td>0.225</td>\n",
       "      <td>elu</td>\n",
       "      <td>32</td>\n",
       "      <td>0.566461</td>\n",
       "    </tr>\n",
       "    <tr>\n",
       "      <th>29</th>\n",
       "      <td>Adam</td>\n",
       "      <td>False</td>\n",
       "      <td>50</td>\n",
       "      <td>10</td>\n",
       "      <td>0.999</td>\n",
       "      <td>0.0250</td>\n",
       "      <td>lecun_normal</td>\n",
       "      <td>0.300</td>\n",
       "      <td>selu</td>\n",
       "      <td>32</td>\n",
       "      <td>0.566461</td>\n",
       "    </tr>\n",
       "    <tr>\n",
       "      <th>99</th>\n",
       "      <td>RMSprop</td>\n",
       "      <td>True</td>\n",
       "      <td>52</td>\n",
       "      <td>19</td>\n",
       "      <td>0.990</td>\n",
       "      <td>0.0200</td>\n",
       "      <td>glorot_normal</td>\n",
       "      <td>0.300</td>\n",
       "      <td>relu</td>\n",
       "      <td>64</td>\n",
       "      <td>0.566461</td>\n",
       "    </tr>\n",
       "  </tbody>\n",
       "</table>\n",
       "<p>100 rows × 11 columns</p>\n",
       "</div>"
      ],
      "text/plain": [
       "   optimizer  nesterov  n_neurons  n_hidden  momentum  lr_rate  \\\n",
       "20  Adam      False     50         5         0.990     0.0050    \n",
       "21  SGD       False     91         8         0.950     0.0075    \n",
       "18  Adam      False     73         7         0.990     0.0075    \n",
       "33  Adam      False     87         6         0.999     0.0075    \n",
       "37  Adam      False     89         5         0.999     0.0075    \n",
       "..   ...        ...     ..        ..           ...        ...    \n",
       "32  SGD       False     82         15        0.999     0.0500    \n",
       "31  Adam      True      61         10        0.990     0.0500    \n",
       "30  RMSprop   False     85         8         0.990     0.0250    \n",
       "29  Adam      False     50         10        0.999     0.0250    \n",
       "99  RMSprop   True      52         19        0.990     0.0200    \n",
       "\n",
       "   kernel_initializer  drop_rate activation  Batch Size  Validation Accuracy  \n",
       "20  lecun_normal       0.225      elu        64          0.656878             \n",
       "21  lecun_normal       0.300      relu       32          0.642195             \n",
       "18  glorot_normal      0.225      selu       64          0.641422             \n",
       "33  lecun_normal       0.225      relu       64          0.635240             \n",
       "37  glorot_normal      0.225      relu       64          0.632148             \n",
       "..            ...        ...       ...       ..               ...             \n",
       "32  he_normal          0.300      selu       32          0.566461             \n",
       "31  glorot_normal      0.300      selu       32          0.566461             \n",
       "30  he_normal          0.225      elu        32          0.566461             \n",
       "29  lecun_normal       0.300      selu       32          0.566461             \n",
       "99  glorot_normal      0.300      relu       64          0.566461             \n",
       "\n",
       "[100 rows x 11 columns]"
      ]
     },
     "execution_count": 51,
     "metadata": {},
     "output_type": "execute_result"
    }
   ],
   "source": [
    "#Save the results in a dataframe\n",
    "model_param_df = pd.DataFrame(param_list)\n",
    "model_param_df[\"Batch Size\"] = batch\n",
    "model_param_df[\"Validation Accuracy\"] = val_acc_score\n",
    "#Rank the results by the validation accuracy\n",
    "model_param_df.sort_values(by=\"Validation Accuracy\", ascending = False)"
   ]
  },
  {
   "cell_type": "markdown",
   "id": "68cfe247",
   "metadata": {},
   "source": [
    "# Validation Scores"
   ]
  },
  {
   "cell_type": "markdown",
   "id": "f6d2aa84",
   "metadata": {},
   "source": [
    "### Logistic Regression"
   ]
  },
  {
   "cell_type": "code",
   "execution_count": 53,
   "id": "62ac2dc5",
   "metadata": {},
   "outputs": [],
   "source": [
    "#Get the best hyperparameters\n",
    "max_lr_f1 = lr_rnd_search_df[\"mean_test_score\"].argmax()\n",
    "best_C = lr_rnd_search_df.loc[max_lr_f1, \"param_C\"]\n",
    "\n",
    "lr_clf = LogisticRegression(penalty=\"l2\", C = best_C, random_state = 42, max_iter=10000)"
   ]
  },
  {
   "cell_type": "code",
   "execution_count": 71,
   "id": "ea1c84ae",
   "metadata": {},
   "outputs": [
    {
     "name": "stdout",
     "output_type": "stream",
     "text": [
      "Wall time: 1.04 s\n"
     ]
    },
    {
     "data": {
      "text/plain": [
       "LogisticRegression(C=19.189918991899187, max_iter=10000, random_state=42)"
      ]
     },
     "execution_count": 71,
     "metadata": {},
     "output_type": "execute_result"
    }
   ],
   "source": [
    "%%time\n",
    "lr_clf.fit(X_train, y_train)"
   ]
  },
  {
   "cell_type": "code",
   "execution_count": 60,
   "id": "7141f41d",
   "metadata": {},
   "outputs": [
    {
     "name": "stdout",
     "output_type": "stream",
     "text": [
      "Logistic Regression Validation Accuracy Score: 59.55%\n",
      "Logistic Regression Validation F1-Score: 44.74%\n"
     ]
    }
   ],
   "source": [
    "#Validation results\n",
    "y_pred = lr_clf.predict(X_val)\n",
    "lr_val_f1 = np.round(f1_score(y_pred, y_val), 5) * 100\n",
    "lr_val_acc = np.round(accuracy_score(y_pred, y_val), 5) * 100\n",
    "print(f'Logistic Regression Validation Accuracy Score: {lr_val_acc:.2f}%')\n",
    "print(f'Logistic Regression Validation F1-Score: {lr_val_f1:.2f}%')"
   ]
  },
  {
   "cell_type": "code",
   "execution_count": 59,
   "id": "ec8017ae",
   "metadata": {},
   "outputs": [
    {
     "data": {
      "text/plain": [
       "array([[493, 304],\n",
       "       [158, 187]], dtype=int64)"
      ]
     },
     "execution_count": 59,
     "metadata": {},
     "output_type": "execute_result"
    }
   ],
   "source": [
    "confusion_matrix(y_pred, y_val)"
   ]
  },
  {
   "cell_type": "markdown",
   "id": "eba287e1",
   "metadata": {},
   "source": [
    "### Naive Bayes"
   ]
  },
  {
   "cell_type": "code",
   "execution_count": 61,
   "id": "b9c33b8a",
   "metadata": {},
   "outputs": [],
   "source": [
    "nb_clf = GaussianNB()"
   ]
  },
  {
   "cell_type": "code",
   "execution_count": 72,
   "id": "2c7cb1ec",
   "metadata": {},
   "outputs": [
    {
     "name": "stdout",
     "output_type": "stream",
     "text": [
      "Wall time: 50.9 ms\n"
     ]
    },
    {
     "data": {
      "text/plain": [
       "GaussianNB()"
      ]
     },
     "execution_count": 72,
     "metadata": {},
     "output_type": "execute_result"
    }
   ],
   "source": [
    "%%time\n",
    "nb_clf.fit(X_train, y_train)"
   ]
  },
  {
   "cell_type": "code",
   "execution_count": 63,
   "id": "0daeaebf",
   "metadata": {},
   "outputs": [
    {
     "name": "stdout",
     "output_type": "stream",
     "text": [
      "Naive Bayes Validation Accuracy Score: 58.32%\n",
      "Naive Bayes Validation F1-Score: 61.30%\n"
     ]
    }
   ],
   "source": [
    "#Validation Results\n",
    "y_pred = nb_clf.predict(X_val)\n",
    "nb_val_f1 = np.round(f1_score(y_pred, y_val), 5) * 100\n",
    "nb_val_acc = np.round(accuracy_score(y_pred, y_val), 5) * 100\n",
    "print(f'Naive Bayes Validation Accuracy Score: {nb_val_acc:.2f}%')\n",
    "print(f'Naive Bayes Validation F1-Score: {nb_val_f1:.2f}%')"
   ]
  },
  {
   "cell_type": "code",
   "execution_count": 64,
   "id": "bb064c32",
   "metadata": {},
   "outputs": [
    {
     "data": {
      "text/plain": [
       "array([[289, 114],\n",
       "       [362, 377]], dtype=int64)"
      ]
     },
     "execution_count": 64,
     "metadata": {},
     "output_type": "execute_result"
    }
   ],
   "source": [
    "confusion_matrix(y_pred, y_val)"
   ]
  },
  {
   "cell_type": "markdown",
   "id": "da6777f3",
   "metadata": {},
   "source": [
    "### Random Forest"
   ]
  },
  {
   "cell_type": "code",
   "execution_count": 66,
   "id": "422a3976",
   "metadata": {},
   "outputs": [],
   "source": [
    "#Get the best hyperparameters\n",
    "max_rf_f1 = rf_rnd_search_df[\"mean_test_score\"].argmax()\n",
    "best_n_est = rf_rnd_search_df.loc[max_rf_f1, \"param_n_estimators\"]"
   ]
  },
  {
   "cell_type": "code",
   "execution_count": 67,
   "id": "29f2b6b4",
   "metadata": {},
   "outputs": [],
   "source": [
    "rf_clf = RandomForestClassifier(n_estimators=best_n_est, random_state=42)"
   ]
  },
  {
   "cell_type": "code",
   "execution_count": 73,
   "id": "ef77d559",
   "metadata": {},
   "outputs": [
    {
     "name": "stdout",
     "output_type": "stream",
     "text": [
      "Wall time: 13.1 s\n"
     ]
    },
    {
     "data": {
      "text/plain": [
       "RandomForestClassifier(n_estimators=147, random_state=42)"
      ]
     },
     "execution_count": 73,
     "metadata": {},
     "output_type": "execute_result"
    }
   ],
   "source": [
    "%%time\n",
    "rf_clf.fit(X_train, y_train)"
   ]
  },
  {
   "cell_type": "code",
   "execution_count": 77,
   "id": "a7945e01",
   "metadata": {},
   "outputs": [
    {
     "name": "stdout",
     "output_type": "stream",
     "text": [
      "Random Forest Validation Accuracy Score: 67.51%\n",
      "Random Forest Validation F1-Score: 56.51%\n"
     ]
    }
   ],
   "source": [
    "#Validation Results\n",
    "y_pred = rf_clf.predict(X_val)\n",
    "rf_val_f1 = np.round(f1_score(y_pred, y_val), 5) * 100\n",
    "rf_val_acc = np.round(accuracy_score(y_pred, y_val), 5) * 100\n",
    "print(f'Random Forest Validation Accuracy Score: {rf_val_acc:.2f}%')\n",
    "print(f'Random Forest Validation F1-Score: {rf_val_f1:.2f}%')"
   ]
  },
  {
   "cell_type": "code",
   "execution_count": 70,
   "id": "5042bfbc",
   "metadata": {},
   "outputs": [
    {
     "data": {
      "text/plain": [
       "array([[530, 250],\n",
       "       [121, 241]], dtype=int64)"
      ]
     },
     "execution_count": 70,
     "metadata": {},
     "output_type": "execute_result"
    }
   ],
   "source": [
    "confusion_matrix(y_pred, y_val)"
   ]
  },
  {
   "cell_type": "markdown",
   "id": "fdf28ce9",
   "metadata": {},
   "source": [
    "### XGBoost"
   ]
  },
  {
   "cell_type": "code",
   "execution_count": 75,
   "id": "096efbc3",
   "metadata": {},
   "outputs": [],
   "source": [
    "#Get the best hyperparameters\n",
    "max_xgb_f1 = xgb_param_search_df[\"Validation F1-Score\"].argmax()\n",
    "best_colsample = xgb_param_search_df.loc[max_xgb_f1, \"colsample_bytree\"]\n",
    "best_gamma = xgb_param_search_df.loc[max_xgb_f1, \"gamma\"]\n",
    "best_lr = xgb_param_search_df.loc[max_xgb_f1, \"learning_rate\"]\n",
    "best_max_depth = xgb_param_search_df.loc[max_xgb_f1, \"max_depth\"]\n",
    "best_min_child = xgb_param_search_df.loc[max_xgb_f1, \"min_child_weight\"]\n",
    "best_reg_lambda = xgb_param_search_df.loc[max_xgb_f1, \"reg_lambda\"]\n",
    "best_subsample = xgb_param_search_df.loc[max_xgb_f1, \"subsample\"]\n",
    "best_n_est = xgb_param_search_df.loc[max_xgb_f1, \"N Estimators\"]\n",
    "\n",
    "xgb_clf = xgboost.XGBClassifier(n_estimators=best_n_est, colsample_bytree = best_colsample, gamma = best_gamma, \n",
    "                                learning_rate=best_lr, max_depth = best_max_depth, min_child_weight=best_min_child,\n",
    "                                reg_lambda=best_reg_lambda, subsample=best_subsample,\n",
    "                                use_label_encoder=False, objective = \"binary:logistic\")"
   ]
  },
  {
   "cell_type": "code",
   "execution_count": 76,
   "id": "840cf344",
   "metadata": {},
   "outputs": [
    {
     "name": "stdout",
     "output_type": "stream",
     "text": [
      "[14:39:06] WARNING: C:/Users/Administrator/workspace/xgboost-win64_release_1.5.1/src/learner.cc:1115: Starting in XGBoost 1.3.0, the default evaluation metric used with the objective 'binary:logistic' was changed from 'error' to 'logloss'. Explicitly set eval_metric if you'd like to restore the old behavior.\n",
      "Wall time: 3.98 s\n"
     ]
    },
    {
     "data": {
      "text/plain": [
       "XGBClassifier(base_score=0.5, booster='gbtree', colsample_bylevel=1,\n",
       "              colsample_bynode=1, colsample_bytree=0.6789593965981179,\n",
       "              enable_categorical=False, gamma=1.3747586714745499, gpu_id=-1,\n",
       "              importance_type=None, interaction_constraints='',\n",
       "              learning_rate=0.2828083946579675, max_delta_step=0, max_depth=6,\n",
       "              min_child_weight=31, missing=nan, monotone_constraints='()',\n",
       "              n_estimators=60, n_jobs=8, num_parallel_tree=1, predictor='auto',\n",
       "              random_state=0, reg_alpha=0, reg_lambda=1.1683079134023229,\n",
       "              scale_pos_weight=1, subsample=0.9805952819119571,\n",
       "              tree_method='exact', use_label_encoder=False,\n",
       "              validate_parameters=1, verbosity=None)"
      ]
     },
     "execution_count": 76,
     "metadata": {},
     "output_type": "execute_result"
    }
   ],
   "source": [
    "%%time\n",
    "xgb_clf.fit(X_train, y_train)"
   ]
  },
  {
   "cell_type": "code",
   "execution_count": 78,
   "id": "05649468",
   "metadata": {},
   "outputs": [
    {
     "name": "stdout",
     "output_type": "stream",
     "text": [
      "XGBoost Validation Accuracy Score: 69.18%\n",
      "XGBoost Validation F1-Score: 62.07%\n"
     ]
    }
   ],
   "source": [
    "#Validation Results\n",
    "y_pred = xgb_clf.predict(X_val)\n",
    "xgb_val_f1 = np.round(f1_score(y_pred, y_val), 5) * 100\n",
    "xgb_val_acc = np.round(accuracy_score(y_pred, y_val), 5) * 100\n",
    "print(f'XGBoost Validation Accuracy Score: {xgb_val_acc:.2f}%')\n",
    "print(f'XGBoost Validation F1-Score: {xgb_val_f1:.2f}%')"
   ]
  },
  {
   "cell_type": "code",
   "execution_count": 79,
   "id": "1d2ecd3e",
   "metadata": {},
   "outputs": [
    {
     "data": {
      "text/plain": [
       "array([[502, 203],\n",
       "       [149, 288]], dtype=int64)"
      ]
     },
     "execution_count": 79,
     "metadata": {},
     "output_type": "execute_result"
    }
   ],
   "source": [
    "confusion_matrix(y_pred, y_val)"
   ]
  },
  {
   "cell_type": "markdown",
   "id": "bd1d2321",
   "metadata": {},
   "source": [
    "### Deep Learning"
   ]
  },
  {
   "cell_type": "code",
   "execution_count": 100,
   "id": "f21b12c5",
   "metadata": {},
   "outputs": [],
   "source": [
    "#Get the best hyperparameters\n",
    "max_f1 = model_param_df[\"Validation Accuracy\"].argmax()\n",
    "best_n_neurons = model_param_df.loc[max_f1, \"n_neurons\"]\n",
    "best_n_hidden = model_param_df.loc[max_f1, \"n_hidden\"]\n",
    "best_lr_rate = model_param_df.loc[max_f1, \"lr_rate\"]\n",
    "best_momentum = model_param_df.loc[max_f1, \"momentum\"]\n",
    "best_init = model_param_df.loc[max_f1, \"kernel_initializer\"]\n",
    "best_drop_rate = model_param_df.loc[max_f1, \"drop_rate\"]\n",
    "best_act_func = model_param_df.loc[max_f1, \"activation\"]\n",
    "best_opt = model_param_df.loc[max_f1, \"optimizer\"]\n",
    "use_nesterov = model_param_df.loc[max_f1, \"nesterov\"]\n",
    "best_batch_size = model_param_df.loc[max_f1, \"Batch Size\"]\n",
    "\n",
    "#Initialize the model\n",
    "model = build_model(n_hidden=best_n_hidden, n_neurons=best_n_neurons, lr_rate=best_lr_rate, \n",
    "                    activation = best_act_func, drop_rate=best_drop_rate, kernel = True, kernel_initializer = best_init, \n",
    "                    optimizer=best_opt, momentum = best_momentum, nesterov = use_nesterov)"
   ]
  },
  {
   "cell_type": "code",
   "execution_count": 101,
   "id": "14473cf4",
   "metadata": {},
   "outputs": [
    {
     "name": "stdout",
     "output_type": "stream",
     "text": [
      "Restoring model weights from the end of the best epoch.\n",
      "Epoch 00144: early stopping\n",
      "Wall time: 34.6 s\n"
     ]
    }
   ],
   "source": [
    "%%time\n",
    "early = keras.callbacks.EarlyStopping(monitor = 'val_loss', mode = 'min', verbose = 1, patience = 100, restore_best_weights=True)\n",
    "\n",
    "history = model.fit(X_train, y_train, validation_split = .1, epochs = 500, batch_size = best_batch_size, verbose = 0, callbacks=[early])"
   ]
  },
  {
   "cell_type": "code",
   "execution_count": 102,
   "id": "64cebd3d",
   "metadata": {},
   "outputs": [
    {
     "data": {
      "image/png": "[encoded data removed]",
      "text/plain": [
       "<Figure size 864x576 with 1 Axes>"
      ]
     },
     "metadata": {
      "needs_background": "light"
     },
     "output_type": "display_data"
    }
   ],
   "source": [
    "plt.figure(figsize = (12,8))\n",
    "plt.plot(history.history['loss'], label='train')\n",
    "plt.plot(history.history['val_loss'], label='val')\n",
    "plt.grid(True)\n",
    "plt.xlabel(\"Epoch\")\n",
    "plt.ylabel(\"Loss\")\n",
    "plt.title(\"Tuned Model Train and Validation Loss During Training with Early Stoppping\")\n",
    "plt.legend()\n",
    "plt.show()"
   ]
  },
  {
   "cell_type": "code",
   "execution_count": 104,
   "id": "508b88a8",
   "metadata": {},
   "outputs": [
    {
     "name": "stdout",
     "output_type": "stream",
     "text": [
      "Deep Learning Validation Accuracy Score: 64.36%\n",
      "Deep Learning Validation F1-Score: 58.93%\n"
     ]
    }
   ],
   "source": [
    "# Validation Results\n",
    "y_pred = model.predict(X_val)\n",
    "#Change the prediction to form expected for accuracy and f1-score functions\n",
    "y_pred = np.round(y_pred.reshape((y_pred.shape[0])))\n",
    "#Change the validation targets \n",
    "y_val = y_val.astype(np.int)\n",
    "model_val_acc = np.round(accuracy_score(y_pred, y_val), 4) * 100\n",
    "model_val_f1 = np.round(f1_score(y_pred, y_val), 4) * 100\n",
    "print(f\"Deep Learning Validation Accuracy Score: {model_val_acc:.2f}%\")\n",
    "print(f\"Deep Learning Validation F1-Score: {model_val_f1:.2f}%\")"
   ]
  },
  {
   "cell_type": "code",
   "execution_count": 105,
   "id": "5a104725",
   "metadata": {},
   "outputs": [
    {
     "data": {
      "text/plain": [
       "array([[443, 199],\n",
       "       [208, 292]], dtype=int64)"
      ]
     },
     "execution_count": 105,
     "metadata": {},
     "output_type": "execute_result"
    }
   ],
   "source": [
    "confusion_matrix(y_pred, y_val)"
   ]
  },
  {
   "cell_type": "markdown",
   "id": "06ba508a",
   "metadata": {},
   "source": [
    "# Results"
   ]
  },
  {
   "cell_type": "markdown",
   "id": "251be31d",
   "metadata": {},
   "source": [
    "### F1-Score"
   ]
  },
  {
   "cell_type": "code",
   "execution_count": 107,
   "id": "cdea65b6",
   "metadata": {},
   "outputs": [],
   "source": [
    "Models = [\"Logistic Regression\", \"Naive Bayes\", \"Random Forest\", \"XGBoost\", \"Deep Learning\"]\n",
    "F1_Val_Scores = [lr_val_f1, nb_val_f1, rf_val_f1, xgb_val_f1, model_val_f1]\n",
    "Accuracy_Val_Scores = [lr_val_acc, nb_val_acc, rf_val_acc, xgb_val_acc, model_val_acc]\n",
    "\n",
    "#Create a data frame with the results\n",
    "val_results = pd.DataFrame({\"Model\": Models, \"F1\": F1_Val_Scores, \"Accuracy\" : Accuracy_Val_Scores})"
   ]
  },
  {
   "cell_type": "code",
   "execution_count": 108,
   "id": "be179b43",
   "metadata": {},
   "outputs": [
    {
     "data": {
      "text/html": [
       "<div>\n",
       "<style scoped>\n",
       "    .dataframe tbody tr th:only-of-type {\n",
       "        vertical-align: middle;\n",
       "    }\n",
       "\n",
       "    .dataframe tbody tr th {\n",
       "        vertical-align: top;\n",
       "    }\n",
       "\n",
       "    .dataframe thead th {\n",
       "        text-align: right;\n",
       "    }\n",
       "</style>\n",
       "<table border=\"1\" class=\"dataframe\">\n",
       "  <thead>\n",
       "    <tr style=\"text-align: right;\">\n",
       "      <th></th>\n",
       "      <th>Model</th>\n",
       "      <th>F1</th>\n",
       "      <th>Accuracy</th>\n",
       "    </tr>\n",
       "  </thead>\n",
       "  <tbody>\n",
       "    <tr>\n",
       "      <th>3</th>\n",
       "      <td>XGBoost</td>\n",
       "      <td>62.069</td>\n",
       "      <td>69.177</td>\n",
       "    </tr>\n",
       "    <tr>\n",
       "      <th>1</th>\n",
       "      <td>Naive Bayes</td>\n",
       "      <td>61.301</td>\n",
       "      <td>58.319</td>\n",
       "    </tr>\n",
       "    <tr>\n",
       "      <th>4</th>\n",
       "      <td>Deep Learning</td>\n",
       "      <td>58.930</td>\n",
       "      <td>64.360</td>\n",
       "    </tr>\n",
       "    <tr>\n",
       "      <th>2</th>\n",
       "      <td>Random Forest</td>\n",
       "      <td>56.506</td>\n",
       "      <td>67.513</td>\n",
       "    </tr>\n",
       "    <tr>\n",
       "      <th>0</th>\n",
       "      <td>Logistic Regression</td>\n",
       "      <td>44.737</td>\n",
       "      <td>59.545</td>\n",
       "    </tr>\n",
       "  </tbody>\n",
       "</table>\n",
       "</div>"
      ],
      "text/plain": [
       "                 Model      F1  Accuracy\n",
       "3  XGBoost              62.069  69.177  \n",
       "1  Naive Bayes          61.301  58.319  \n",
       "4  Deep Learning        58.930  64.360  \n",
       "2  Random Forest        56.506  67.513  \n",
       "0  Logistic Regression  44.737  59.545  "
      ]
     },
     "execution_count": 108,
     "metadata": {},
     "output_type": "execute_result"
    }
   ],
   "source": [
    "val_results.sort_values(by=\"F1\", ascending = False, inplace = True)\n",
    "val_results"
   ]
  },
  {
   "cell_type": "code",
   "execution_count": 110,
   "id": "be2f61d6",
   "metadata": {},
   "outputs": [
    {
     "data": {
      "text/plain": [
       "Text(0.5, 0, 'Models')"
      ]
     },
     "execution_count": 110,
     "metadata": {},
     "output_type": "execute_result"
    },
    {
     "data": {
      "image/png": "[encoded data removed]",
      "text/plain": [
       "<Figure size 1080x720 with 1 Axes>"
      ]
     },
     "metadata": {},
     "output_type": "display_data"
    }
   ],
   "source": [
    "#Bar chart of the results\n",
    "sns.set(rc = {'figure.figsize':(15,10)})\n",
    "sns.barplot(x=\"Model\", y = \"F1\", order = val_results[\"Model\"] \\\n",
    "                                            , data = val_results, color = \"blue\")\n",
    "plt.title(\"Validation F1-Scores\")\n",
    "plt.ylabel(\"F1-Score\")\n",
    "plt.xlabel(\"Models\")"
   ]
  },
  {
   "cell_type": "markdown",
   "id": "8c3e671b",
   "metadata": {},
   "source": [
    "### Accuracy"
   ]
  },
  {
   "cell_type": "code",
   "execution_count": 111,
   "id": "b9afc44b",
   "metadata": {},
   "outputs": [
    {
     "data": {
      "text/html": [
       "<div>\n",
       "<style scoped>\n",
       "    .dataframe tbody tr th:only-of-type {\n",
       "        vertical-align: middle;\n",
       "    }\n",
       "\n",
       "    .dataframe tbody tr th {\n",
       "        vertical-align: top;\n",
       "    }\n",
       "\n",
       "    .dataframe thead th {\n",
       "        text-align: right;\n",
       "    }\n",
       "</style>\n",
       "<table border=\"1\" class=\"dataframe\">\n",
       "  <thead>\n",
       "    <tr style=\"text-align: right;\">\n",
       "      <th></th>\n",
       "      <th>Model</th>\n",
       "      <th>F1</th>\n",
       "      <th>Accuracy</th>\n",
       "    </tr>\n",
       "  </thead>\n",
       "  <tbody>\n",
       "    <tr>\n",
       "      <th>3</th>\n",
       "      <td>XGBoost</td>\n",
       "      <td>62.069</td>\n",
       "      <td>69.177</td>\n",
       "    </tr>\n",
       "    <tr>\n",
       "      <th>2</th>\n",
       "      <td>Random Forest</td>\n",
       "      <td>56.506</td>\n",
       "      <td>67.513</td>\n",
       "    </tr>\n",
       "    <tr>\n",
       "      <th>4</th>\n",
       "      <td>Deep Learning</td>\n",
       "      <td>58.930</td>\n",
       "      <td>64.360</td>\n",
       "    </tr>\n",
       "    <tr>\n",
       "      <th>0</th>\n",
       "      <td>Logistic Regression</td>\n",
       "      <td>44.737</td>\n",
       "      <td>59.545</td>\n",
       "    </tr>\n",
       "    <tr>\n",
       "      <th>1</th>\n",
       "      <td>Naive Bayes</td>\n",
       "      <td>61.301</td>\n",
       "      <td>58.319</td>\n",
       "    </tr>\n",
       "  </tbody>\n",
       "</table>\n",
       "</div>"
      ],
      "text/plain": [
       "                 Model      F1  Accuracy\n",
       "3  XGBoost              62.069  69.177  \n",
       "2  Random Forest        56.506  67.513  \n",
       "4  Deep Learning        58.930  64.360  \n",
       "0  Logistic Regression  44.737  59.545  \n",
       "1  Naive Bayes          61.301  58.319  "
      ]
     },
     "execution_count": 111,
     "metadata": {},
     "output_type": "execute_result"
    }
   ],
   "source": [
    "val_results.sort_values(by=\"Accuracy\", ascending = False, inplace = True)\n",
    "val_results"
   ]
  },
  {
   "cell_type": "code",
   "execution_count": 113,
   "id": "89d076e7",
   "metadata": {
    "scrolled": false
   },
   "outputs": [
    {
     "data": {
      "text/plain": [
       "Text(0.5, 0, 'Models')"
      ]
     },
     "execution_count": 113,
     "metadata": {},
     "output_type": "execute_result"
    },
    {
     "data": {
      "image/png": "[encoded data removed]",
      "text/plain": [
       "<Figure size 1080x720 with 1 Axes>"
      ]
     },
     "metadata": {},
     "output_type": "display_data"
    }
   ],
   "source": [
    "#Bar chart of the results\n",
    "sns.set(rc = {'figure.figsize':(15,10)})\n",
    "sns.barplot(x=\"Model\", y = \"Accuracy\", order = val_results[\"Model\"] \\\n",
    "                                            , data = val_results, color = \"blue\")\n",
    "plt.title(\"Validation F1-Scores\")\n",
    "plt.ylabel(\"Accuracy\")\n",
    "plt.xlabel(\"Models\")"
   ]
  },
  {
   "cell_type": "markdown",
   "id": "9eda690f",
   "metadata": {},
   "source": [
    "# Save the Best Model"
   ]
  },
  {
   "cell_type": "markdown",
   "id": "6e111411",
   "metadata": {},
   "source": [
    "### Create the dense embedding with all the training tweets"
   ]
  },
  {
   "cell_type": "code",
   "execution_count": 120,
   "id": "009f2f9d",
   "metadata": {},
   "outputs": [],
   "source": [
    "tokenized_corpus = [tokenizer.tokenize(text) for text in tweets[\"Clean Tweets\"]]\n",
    "\n",
    "#Number of features to use\n",
    "w2v_num_features = 300\n",
    "#Create the Word2Vec model\n",
    "w2v_model = gensim.models.Word2Vec(tokenized_corpus, vector_size=w2v_num_features,\n",
    "                                   window = 250, epochs=100, min_count=0, sample=1e-3,\n",
    "                                   sg=1, workers=10)\n",
    "#Creat the training data\n",
    "X = document_vectorizer(corpus=tokenized_corpus, model=w2v_model, \n",
    "                                            num_features=w2v_num_features)\n",
    "\n",
    "y = tweets[\"target\"]"
   ]
  },
  {
   "cell_type": "code",
   "execution_count": 121,
   "id": "3a469525",
   "metadata": {},
   "outputs": [
    {
     "name": "stdout",
     "output_type": "stream",
     "text": [
      "(7608, 300)\n",
      "(7608,)\n"
     ]
    }
   ],
   "source": [
    "#Check the shape\n",
    "print(X.shape)\n",
    "print(y.shape)"
   ]
  },
  {
   "cell_type": "code",
   "execution_count": 122,
   "id": "dadb88b6",
   "metadata": {},
   "outputs": [],
   "source": [
    "#Reinitialize XGBoost model\n",
    "xgb_clf = xgboost.XGBClassifier(n_estimators=best_n_est, colsample_bytree = best_colsample, gamma = best_gamma, \n",
    "                                learning_rate=best_lr, max_depth = best_max_depth, min_child_weight=best_min_child,\n",
    "                                reg_lambda=best_reg_lambda, subsample=best_subsample,\n",
    "                                use_label_encoder=False, objective = \"binary:logistic\")"
   ]
  },
  {
   "cell_type": "code",
   "execution_count": 123,
   "id": "bd27c96f",
   "metadata": {},
   "outputs": [
    {
     "name": "stdout",
     "output_type": "stream",
     "text": [
      "[15:02:42] WARNING: C:/Users/Administrator/workspace/xgboost-win64_release_1.5.1/src/learner.cc:1115: Starting in XGBoost 1.3.0, the default evaluation metric used with the objective 'binary:logistic' was changed from 'error' to 'logloss'. Explicitly set eval_metric if you'd like to restore the old behavior.\n",
      "Wall time: 6 s\n"
     ]
    },
    {
     "data": {
      "text/plain": [
       "XGBClassifier(base_score=0.5, booster='gbtree', colsample_bylevel=1,\n",
       "              colsample_bynode=1, colsample_bytree=0.6789593965981179,\n",
       "              enable_categorical=False, gamma=1.3747586714745499, gpu_id=-1,\n",
       "              importance_type=None, interaction_constraints='',\n",
       "              learning_rate=0.2828083946579675, max_delta_step=0, max_depth=6,\n",
       "              min_child_weight=31, missing=nan, monotone_constraints='()',\n",
       "              n_estimators=60, n_jobs=8, num_parallel_tree=1, predictor='auto',\n",
       "              random_state=0, reg_alpha=0, reg_lambda=1.1683079134023229,\n",
       "              scale_pos_weight=1, subsample=0.9805952819119571,\n",
       "              tree_method='exact', use_label_encoder=False,\n",
       "              validate_parameters=1, verbosity=None)"
      ]
     },
     "execution_count": 123,
     "metadata": {},
     "output_type": "execute_result"
    }
   ],
   "source": [
    "%%time\n",
    "#Fit on all training instances\n",
    "xgb_clf.fit(X, y)"
   ]
  },
  {
   "cell_type": "code",
   "execution_count": 125,
   "id": "6546a2b1",
   "metadata": {},
   "outputs": [],
   "source": [
    "#Save the model\n",
    "pickle.dump(xgb_clf, open(\"best_w2v_model.sav\",'wb'))"
   ]
  }
 ],
 "metadata": {
  "kernelspec": {
   "display_name": "Python 3",
   "language": "python",
   "name": "python3"
  },
  "language_info": {
   "codemirror_mode": {
    "name": "ipython",
    "version": 3
   },
   "file_extension": ".py",
   "mimetype": "text/x-python",
   "name": "python",
   "nbconvert_exporter": "python",
   "pygments_lexer": "ipython3",
   "version": "3.8.8"
  }
 },
 "nbformat": 4,
 "nbformat_minor": 5
}
